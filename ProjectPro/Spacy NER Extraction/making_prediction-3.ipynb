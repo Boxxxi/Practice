{
 "cells": [
  {
   "cell_type": "markdown",
   "metadata": {},
   "source": [
    "#### Import all the necessary modules."
   ]
  },
  {
   "cell_type": "code",
   "execution_count": 1,
   "metadata": {},
   "outputs": [],
   "source": [
    "import matplotlib.pyplot as plt\n",
    "import spacy\n",
    "# from spacy.training.example import Example\n",
    "import random\n",
    "from tqdm import tqdm\n",
    "\n",
    "import pandas as pd\n",
    "import boto3\n",
    "from sqlalchemy import create_engine\n",
    "import time\n",
    "\n",
    "import seaborn as sns\n",
    "import matplotlib.pyplot as plt\n",
    "\n",
    "from requests.exceptions import ReadTimeout\n",
    "import time\n",
    "from tqdm import tqdm\n",
    "\n",
    "from datetime import date, timedelta\n",
    "import numpy as np\n",
    "import re\n",
    "import json\n",
    "import string\n",
    "import pysftp\n",
    "from botocore.exceptions import ClientError\n",
    "cnopts = pysftp.CnOpts()\n",
    "cnopts.hostkeys = None\n",
    "\n",
    "today = date.today()\n",
    "yesterday = today - timedelta(days=1)\n",
    "start_date = str(yesterday)\n",
    "\n",
    "\n",
    "from sklearn.model_selection import train_test_split"
   ]
  },
  {
   "cell_type": "markdown",
   "metadata": {},
   "source": [
    "#### For Running Query using Redash Tables."
   ]
  },
  {
   "cell_type": "code",
   "execution_count": 2,
   "metadata": {},
   "outputs": [],
   "source": [
    "def get_engine_client_dashboard():\n",
    "    import boto3\n",
    "    from sqlalchemy import create_engine\n",
    "    ssm_keys = ['prod_client_dashboard_postgres_host', 'prod_client_dashboard_postgres_name', 'prod_client_dashboard_postgres_ro_user', 'prod_client_dashboard_postgres_ro_pwd']\n",
    "    ssm_parameters = boto3.client('ssm', region_name='ap-south-1').get_parameters(Names=ssm_keys, WithDecryption=True)['Parameters']\n",
    "    ssm_secrets = dict()\n",
    "    for ssm_parameter in ssm_parameters:\n",
    "        ssm_secrets[ssm_parameter['Name']] = ssm_parameter['Value']\n",
    "    username = ssm_secrets.get('prod_client_dashboard_postgres_ro_user')\n",
    "    password = ssm_secrets.get('prod_client_dashboard_postgres_ro_pwd')\n",
    "    hostname = ssm_secrets.get('prod_client_dashboard_postgres_host')\n",
    "    databasename = ssm_secrets.get('prod_client_dashboard_postgres_name')\n",
    "    engine_link = 'postgresql+psycopg2://{}:{}@{}/{}'.format(username, password, hostname, databasename)\n",
    "    engine = create_engine(engine_link)\n",
    "    return engine\n",
    "engine_client_dashboard = get_engine_client_dashboard()"
   ]
  },
  {
   "cell_type": "code",
   "execution_count": 3,
   "metadata": {},
   "outputs": [],
   "source": [
    "def get_aws_creds(database):\n",
    "    \"\"\"Get Redshift credentials from AWS Systems Manager (SSM)\"\"\"\n",
    "    ssm_keys = ['prod_redshift_host', 'prod_redshift_ro_password', 'prod_redshift_port', 'prod_redshift_ro_user',\n",
    "                'lending_readonly_host', 'lending_readonly_pass', 'lending_readonly_port', 'lending_readonly_user',\n",
    "                database]\n",
    "    ssm_parameters = boto3.client('ssm', region_name='ap-south-1').get_parameters(Names=ssm_keys, WithDecryption=True)['Parameters']\n",
    "    ssm_secrets = dict()\n",
    "    for ssm_parameter in ssm_parameters:\n",
    "        ssm_secrets[ssm_parameter['Name']] = ssm_parameter['Value']\n",
    "    return ssm_secrets\n",
    "def get_engine(database):\n",
    "    ssm_secrets = get_aws_creds(database)\n",
    "    if database == 'prod_redshift_name':\n",
    "        username = ssm_secrets.get('prod_redshift_ro_user')\n",
    "        password = ssm_secrets.get('prod_redshift_ro_password')\n",
    "        hostname = ssm_secrets.get('prod_redshift_host')\n",
    "        port_number = ssm_secrets.get('prod_redshift_port')\n",
    "        databasename = ssm_secrets.get(database)\n",
    "        engine_link = 'postgresql+psycopg2://{}:{}@{}:{}/{}'.format(username, password, hostname, port_number, databasename)\n",
    "        engine = create_engine(engine_link)\n",
    "    elif database == 'lending_readonly_dbname':\n",
    "        username = ssm_secrets.get('lending_readonly_user')\n",
    "        password = ssm_secrets.get('lending_readonly_pass')\n",
    "        hostname = ssm_secrets.get('lending_readonly_host')\n",
    "        port_number = ssm_secrets.get('lending_readonly_port')\n",
    "        databasename = ssm_secrets.get(database)\n",
    "        engine_link = 'postgresql+psycopg2://{}:{}@{}:{}/{}'.format(username, password, hostname, port_number, databasename)\n",
    "        engine = create_engine(engine_link)\n",
    "    elif database == 'UNIFIED_READ_ONLY_DB':\n",
    "        username = ssm_secrets.get('UNIFIED_READ_ONLY_USER')\n",
    "        password = ssm_secrets.get('UNIFIED_READ_ONLY_PASSWORD')\n",
    "        hostname = ssm_secrets.get('UNIFIED_READ_ONLY_HOST')\n",
    "        port_number = ssm_secrets.get('UNIFIED_READ_ONLY_PORT')\n",
    "        databasename = ssm_secrets.get(database)\n",
    "        engine_link = 'postgresql+psycopg2://{}:{}@{}:{}/{}'.format(username, password, hostname, port_number, databasename)\n",
    "        engine = create_engine(engine_link)\n",
    "    return engine\n",
    "\n",
    "\n",
    "def get_engine_unified(database):\n",
    "    ssm_keys = ['UNIFIED_READ_ONLY_USER','UNIFIED_READ_ONLY_PASSWORD','UNIFIED_READ_ONLY_HOST','UNIFIED_READ_ONLY_PORT',\n",
    "                database]\n",
    "    ssm_parameters = boto3.client('ssm', region_name='ap-south-1').get_parameters(Names=ssm_keys, WithDecryption=True)['Parameters']\n",
    "    ssm_secrets = dict()\n",
    "    for ssm_parameter in ssm_parameters:\n",
    "        ssm_secrets[ssm_parameter['Name']] = ssm_parameter['Value']\n",
    "    username = ssm_secrets.get('UNIFIED_READ_ONLY_USER')\n",
    "    password = ssm_secrets.get('UNIFIED_READ_ONLY_PASSWORD')\n",
    "    hostname = ssm_secrets.get('UNIFIED_READ_ONLY_HOST')\n",
    "    port_number = ssm_secrets.get('UNIFIED_READ_ONLY_PORT')\n",
    "    databasename = ssm_secrets.get(database)\n",
    "    engine_link = 'postgresql+psycopg2://{}:{}@{}:{}/{}'.format(username, password, hostname, port_number, databasename)\n",
    "    engine = create_engine(engine_link)\n",
    "    return engine\n",
    "\n",
    "def get_engine_banking(database):\n",
    "    ssm_keys = ['PORTAL_READONLY_USER','PORTAL_READONLY_HOST','PORTAL_READONLY_PASSWORD']\n",
    "    ssm_parameters = boto3.client('ssm', region_name='ap-south-1').get_parameters(Names=ssm_keys, WithDecryption=True)['Parameters']\n",
    "    ssm_secrets = dict()\n",
    "    for ssm_parameter in ssm_parameters:\n",
    "        ssm_secrets[ssm_parameter['Name']] = ssm_parameter['Value']\n",
    "    username = ssm_secrets.get('PORTAL_READONLY_USER')\n",
    "    password = ssm_secrets.get('PORTAL_READONLY_PASSWORD')\n",
    "    hostname = ssm_secrets.get('PORTAL_READONLY_HOST')\n",
    "    databasename = database\n",
    "    engine_link = 'postgresql+psycopg2://{}:{}@{}/{}'.format(username, password, hostname, databasename)\n",
    "    engine = create_engine(engine_link)\n",
    "    return engine\n",
    "\n",
    "\n",
    "engine_dw2 = get_engine('prod_redshift_name')\n",
    "engine_lending = get_engine('lending_readonly_dbname')\n",
    "engine_unified = get_engine_unified('UNIFIED_READ_ONLY_DB')\n",
    "engine_bank_connect = get_engine_banking('finbox_dashboard')\n",
    "engine_client_dashboard = get_engine_client_dashboard()"
   ]
  },
  {
   "cell_type": "code",
   "execution_count": 4,
   "metadata": {},
   "outputs": [],
   "source": [
    "# !pip show spacy"
   ]
  },
  {
   "cell_type": "code",
   "execution_count": 5,
   "metadata": {},
   "outputs": [],
   "source": [
    "# working_df_orig = pd.read_sql(\"\"\"with CTE1 as\n",
    "# (SELECT distinct smsbody, smstype, row_number() over(partition by smstype order by rand()) as rn1\n",
    "# from extractedlive_v2 \n",
    "# where dt = '2024-06-18')\n",
    "\n",
    "# select smsbody, smstype from CTE1 where rn1<= 50000;\"\"\", engine_dw2)"
   ]
  },
  {
   "cell_type": "markdown",
   "metadata": {},
   "source": [
    "#### For Running Query using Athena Tables."
   ]
  },
  {
   "cell_type": "code",
   "execution_count": 6,
   "metadata": {},
   "outputs": [],
   "source": [
    "# aws setup\n",
    "import pandas as pd\n",
    "import boto3\n",
    "import time\n",
    "import io\n",
    "import botocore"
   ]
  },
  {
   "cell_type": "code",
   "execution_count": 7,
   "metadata": {},
   "outputs": [],
   "source": [
    "database = 'redshiftdump'\n",
    "# s3_input = 's3://' + self.bucket + '/my_folder_input'\n",
    "bucket_name = 'aws-athena-query-results-661900564209-ap-south-1'\n",
    "folder_name = 'Featurisation/'\n",
    "s3_output =  's3://'+bucket_name+ '/' + folder_name\n",
    "region_name = 'ap-south-1'\n",
    "# aws_access_key_id = \"xyz\"\n",
    "# aws_secret_access_key = \"xyz\"\n",
    "\n",
    "def load_conf(q):\n",
    "    client = boto3.client('athena',\n",
    "                      region_name = region_name\n",
    "                      #     ,\n",
    "                      # aws_access_key_id = aws_access_key_id,\n",
    "                      # aws_secret_access_key= aws_secret_access_key\n",
    "    )\n",
    "    response = client.start_query_execution(\n",
    "        QueryString = q,\n",
    "            QueryExecutionContext={\n",
    "            'Database': database\n",
    "            },\n",
    "            ResultConfiguration={\n",
    "            'OutputLocation': s3_output,\n",
    "            },\n",
    "            WorkGroup='restricted'\n",
    " \n",
    "    )\n",
    "    filename = response['QueryExecutionId']\n",
    "    print('Execution ID: ' + response['QueryExecutionId'])\n",
    "    return filename\n",
    " \n",
    "def get_id_data(id):\n",
    " \n",
    "    client = boto3.client('athena',\n",
    "                          region_name=region_name\n",
    "                          # ,\n",
    "                          # aws_access_key_id=aws_access_key_id,\n",
    "                          # aws_secret_access_key=aws_secret_access_key\n",
    "                          )\n",
    " \n",
    " \n",
    "    try_count = 0\n",
    "    state = 'RUNNING'\n",
    "    while (state in ['RUNNING','QUEUED']) :\n",
    "        try_count +=1\n",
    "        try:\n",
    "            response = client.batch_get_query_execution(QueryExecutionIds=[id])\n",
    "            state = response['QueryExecutions'][0]['Status']['State']\n",
    "        except:\n",
    "            pass\n",
    " \n",
    "    if state =='SUCCEEDED':\n",
    "        data  = obtain_data(id)\n",
    "        return data\n",
    " \n",
    "    elif state =='FAILED':\n",
    "        raise  ValueError(str(response['QueryExecutions'][0]['Status']['StateChangeReason']))\n",
    " \n",
    "    elif state =='CANCELLED':\n",
    "        raise ValueError('\\nQuery Cancelled.')\n",
    "    else:\n",
    "        raise ValueError('\\nSome unknown Error occured.')\n",
    " \n",
    " \n",
    "def obtain_data(execution_id, max_try_count =40,initial_sleep = 3,loop_sleep_time = 5, format = '.csv'):\n",
    "    time.sleep(initial_sleep)\n",
    "    try_count = 0\n",
    "    while(try_count<max_try_count):\n",
    "        try:\n",
    "            resource = boto3.resource('s3',\n",
    "                                  region_name = region_name\n",
    "                                  #     ,\n",
    "                                  # aws_access_key_id = aws_access_key_id,\n",
    "                                  # aws_secret_access_key= aws_secret_access_key\n",
    "                                      )\n",
    "            response = resource \\\n",
    "            .Bucket(bucket_name) \\\n",
    "            .Object(key= folder_name + execution_id + format) \\\n",
    "            .get()\n",
    "            return pd.read_csv(io.BytesIO(response['Body'].read()), encoding='utf8')\n",
    "        except botocore.exceptions.ClientError as e:\n",
    "            if e.response['Error']['Code'] == \"404\":\n",
    "                try_count += 1\n",
    "                time.sleep(loop_sleep_time)\n",
    "            else:\n",
    "                return \"No data found in \",max_try_count, \" tries.\\n Error: \",e\n",
    " \n",
    " \n",
    "def run_athena_query(query):\n",
    "    id = load_conf(query)\n",
    " \n",
    "    query_result = get_id_data(id)\n",
    "    return query_result\n",
    " \n",
    "def get_id_status(id):\n",
    "    client = boto3.client('athena',\n",
    "                          region_name=region_name\n",
    "                          # ,\n",
    "                          # aws_access_key_id=aws_access_key_id,\n",
    "                          # aws_secret_access_key=aws_secret_access_key\n",
    "                          )\n",
    "    response = client.batch_get_query_execution(QueryExecutionIds=[id])\n",
    "    state = response['QueryExecutions'][0]['Status']['State']\n",
    "    return state"
   ]
  },
  {
   "cell_type": "code",
   "execution_count": 8,
   "metadata": {},
   "outputs": [],
   "source": [
    "# idn_users_df = run_athena_query(\"\"\"select subusername, hash, sdk_timestamp, client_id, user_hash, dt, sim_carrier_name_1, sim_carrier_name_2,\n",
    "# sim_country_iso_1, sim_country_iso_2, sim_data_roaming_1, sim_data_roaming_2, sim_slot_index_1, sim_slot_index_2,\n",
    "# sim_number_1, sim_number_2, sim_id, display_country\n",
    "# from public_device_data\n",
    "# where client_id = '1' and (lower(sim_country_iso_1) = 'id' or lower(sim_country_iso_2) = 'id');\"\"\")"
   ]
  },
  {
   "cell_type": "markdown",
   "metadata": {},
   "source": [
    "#### Check versions."
   ]
  },
  {
   "cell_type": "code",
   "execution_count": 9,
   "metadata": {},
   "outputs": [
    {
     "data": {
      "text/plain": [
       "'3.7.5'"
      ]
     },
     "execution_count": 9,
     "metadata": {},
     "output_type": "execute_result"
    }
   ],
   "source": [
    "spacy.__version__"
   ]
  },
  {
   "cell_type": "code",
   "execution_count": 10,
   "metadata": {},
   "outputs": [
    {
     "name": "stdout",
     "output_type": "stream",
     "text": [
      "Python 3.7.6\r\n"
     ]
    }
   ],
   "source": [
    "!python --version"
   ]
  },
  {
   "cell_type": "markdown",
   "metadata": {},
   "source": [
    "#### For running query using click house tables."
   ]
  },
  {
   "cell_type": "code",
   "execution_count": 11,
   "metadata": {},
   "outputs": [],
   "source": [
    "# import time\n",
    "# import pandas as pd\n",
    "# import boto3\n",
    "# import clickhouse_connect\n",
    "\n",
    "# def get_ssm_parameters(parameters: list):\n",
    "#     ssm_parameters = boto3.client('ssm', region_name='ap-south-1').get_parameters(Names=parameters, WithDecryption=True)['Parameters']\n",
    "#     ssm_secrets = dict()\n",
    "#     for ssm_parameter in ssm_parameters:\n",
    "#         ssm_secrets[ssm_parameter['Name']] = ssm_parameter['Value']\n",
    "#     return ssm_secrets\n",
    "\n",
    "# class CHConnection:\n",
    "#     def __init__(self, host: str, database: str, user: str, password: str, port: int=9000):\n",
    "#         self.ch_client = clickhouse_connect.get_client(host=host,port=port,user=user,password=password,database=database)\n",
    "\n",
    "#     def execute_query(self, query: str) -> list:\n",
    "#         result = self.ch_client.query(query)\n",
    "#         columns = result.column_names\n",
    "#         data = [dict(zip(columns, row)) for row in result.result_rows]\n",
    "#         return data\n",
    "\n",
    "# def create_ch_engine(product: str) -> CHConnection:\n",
    "#     parameter_prefix = product.upper()\n",
    "#     db_param = f'{parameter_prefix}_CLICKHOUSE_DB'\n",
    "#     host_param = f'{parameter_prefix}_CLICKHOUSE_HOST'\n",
    "#     password_param = f'{parameter_prefix}_CLICKHOUSE_PASSWORD'\n",
    "#     port_param = f'{parameter_prefix}_CLICKHOUSE_PORT'\n",
    "#     user_param = f'{parameter_prefix}_CLICKHOUSE_USER'\n",
    "\n",
    "#     parameters = [db_param, host_param, password_param, port_param, user_param]\n",
    "#     credentials = get_ssm_parameters(parameters=parameters)\n",
    "\n",
    "#     ch_connector = CHConnection(host=credentials[host_param], database=credentials[db_param],user=credentials[user_param],\n",
    "#         password=credentials[password_param],port=int(credentials[port_param]))\n",
    "#     return ch_connector\n",
    "\n",
    "# def execute_ch_query(product, query):\n",
    "#     engine = create_ch_engine(product=product)\n",
    "#     df = pd.DataFrame()\n",
    "#     i=0\n",
    "#     while((i<15) and len(df)==0):\n",
    "#         try:\n",
    "#             if (i>0):\n",
    "#                 print('Fetching...')\n",
    "#             df = pd.DataFrame(engine.execute_query(query))\n",
    "#             i = i+1            \n",
    "#         except Exception as e:\n",
    "#             i = i+1\n",
    "#             print(e)\n",
    "#             print('--- CH Data Fetching failed {} time---'.format(i))\n",
    "#             time.sleep(1)\n",
    "#     return df\n",
    "\n",
    "# dc_ch_engine = create_ch_engine(product='dc_mirrored')\n",
    "\n",
    "# # dc_df = execute_ch_query(product='dc_mirrored', query='sdfvsdv')\n",
    "# # lending_df = execute_ch_query(product='lending', query='sdfvsdv')\n",
    "# sentinel_df = execute_ch_query(product='sentinel', query='sdfvsdv')"
   ]
  },
  {
   "cell_type": "code",
   "execution_count": 12,
   "metadata": {},
   "outputs": [],
   "source": [
    "# !pip install clickhouse-connect"
   ]
  },
  {
   "cell_type": "code",
   "execution_count": 13,
   "metadata": {},
   "outputs": [],
   "source": [
    "# sms_query = '''select * from device_connect_mirror.raw_sms limit 100 '''"
   ]
  },
  {
   "cell_type": "code",
   "execution_count": 14,
   "metadata": {},
   "outputs": [],
   "source": [
    "# sms_data = pd.DataFrame(dc_ch_engine.execute_query(sms_query))"
   ]
  },
  {
   "cell_type": "code",
   "execution_count": 15,
   "metadata": {},
   "outputs": [],
   "source": [
    "# sms`_data.head()"
   ]
  },
  {
   "cell_type": "markdown",
   "metadata": {},
   "source": [
    "#### Prepare test data for testing the trained model."
   ]
  },
  {
   "cell_type": "code",
   "execution_count": 16,
   "metadata": {},
   "outputs": [],
   "source": [
    "templates_used_for_training = tuple(['74d4e4dcffd6f0838739568ee0f070d7',\n",
    "                    '8329648f7951ad7c16bf24daf43d14f0',\n",
    "                    '73f468b47e7570a476884f9878b61d24',\n",
    "                    '8e758449c9752f4ccb419cf053f16d37',\n",
    "                    '8b2e91c03550330bf60e9fbd50c0553b'])"
   ]
  },
  {
   "cell_type": "code",
   "execution_count": 17,
   "metadata": {},
   "outputs": [],
   "source": [
    "# Test sample"
   ]
  },
  {
   "cell_type": "code",
   "execution_count": 18,
   "metadata": {},
   "outputs": [
    {
     "name": "stdout",
     "output_type": "stream",
     "text": [
      "Execution ID: 416e8e41-0918-49a9-970b-4555eaadd806\n"
     ]
    }
   ],
   "source": [
    "# test_data_df = run_athena_query(f\"\"\"with CTE1 as\n",
    "# (SELECT smsbody, templatehash, hash, smstype, amount, balance, pan, date,row_number() over(partition by templatehash order by rand()) as rn\n",
    "# from extractedlive_v2\n",
    "# where dt between '2024-05-01' and '2024-05-25'\n",
    "# and smstype in ('credit-transaction', 'debit-transaction')\n",
    "# and accounttype in ('bank')\n",
    "# and templatehash not in {templates_used_for_training}\n",
    "# limit 100000\n",
    "# )\n",
    "\n",
    "# select smsbody, templatehash, hash, smstype, amount, balance, pan, date\n",
    "# from CTE1 where rn<= 100;\"\"\")\n",
    "\n",
    "\n",
    "test_data_df = run_athena_query(f\"\"\"with CTE1 as\n",
    "(SELECT smsbody, templatehash, hash, smstype, amount, balance, pan, date,row_number() over(partition by templatehash order by rand()) as rn\n",
    "from extractedlive_v2\n",
    "where dt = '2024-05-01'\n",
    "and smstype in ('credit-transaction', 'debit-transaction')\n",
    "limit 1000000\n",
    ")\n",
    "\n",
    "select smsbody, templatehash, hash, smstype, amount, balance, pan, date\n",
    "from CTE1 where rn<= 1000;\"\"\")"
   ]
  },
  {
   "cell_type": "code",
   "execution_count": 19,
   "metadata": {},
   "outputs": [
    {
     "data": {
      "text/plain": [
       "((194606, 8), 182332, 363)"
      ]
     },
     "execution_count": 19,
     "metadata": {},
     "output_type": "execute_result"
    }
   ],
   "source": [
    "test_data_df.shape, test_data_df['hash'].nunique(), test_data_df['templatehash'].nunique()"
   ]
  },
  {
   "cell_type": "code",
   "execution_count": 20,
   "metadata": {},
   "outputs": [
    {
     "data": {
      "text/html": [
       "<div>\n",
       "<style scoped>\n",
       "    .dataframe tbody tr th:only-of-type {\n",
       "        vertical-align: middle;\n",
       "    }\n",
       "\n",
       "    .dataframe tbody tr th {\n",
       "        vertical-align: top;\n",
       "    }\n",
       "\n",
       "    .dataframe thead th {\n",
       "        text-align: right;\n",
       "    }\n",
       "</style>\n",
       "<table border=\"1\" class=\"dataframe\">\n",
       "  <thead>\n",
       "    <tr style=\"text-align: right;\">\n",
       "      <th></th>\n",
       "      <th>smsbody</th>\n",
       "      <th>templatehash</th>\n",
       "      <th>hash</th>\n",
       "      <th>smstype</th>\n",
       "      <th>amount</th>\n",
       "      <th>balance</th>\n",
       "      <th>pan</th>\n",
       "      <th>date</th>\n",
       "    </tr>\n",
       "  </thead>\n",
       "  <tbody>\n",
       "    <tr>\n",
       "      <th>0</th>\n",
       "      <td>DBGB: Ac XXXXXXXX003338 Debited with Rs.158.00...</td>\n",
       "      <td>4bb988f625ed5311465b87a3b42984cd</td>\n",
       "      <td>1a2329fdadea93a4e0f929a321fd9e54</td>\n",
       "      <td>debit-transaction</td>\n",
       "      <td>158.00</td>\n",
       "      <td>5111.00</td>\n",
       "      <td>XXXXXXXX003338</td>\n",
       "      <td>02-11-2022</td>\n",
       "    </tr>\n",
       "    <tr>\n",
       "      <th>1</th>\n",
       "      <td>DBGB: Ac XXXXXXXX509006 Debited with Rs.17.70,...</td>\n",
       "      <td>4bb988f625ed5311465b87a3b42984cd</td>\n",
       "      <td>02d29bf975b65db3c0122bd302b6b780</td>\n",
       "      <td>debit-transaction</td>\n",
       "      <td>17.69</td>\n",
       "      <td>152.59</td>\n",
       "      <td>XXXXXXXX509006</td>\n",
       "      <td>27-06-2024</td>\n",
       "    </tr>\n",
       "  </tbody>\n",
       "</table>\n",
       "</div>"
      ],
      "text/plain": [
       "                                             smsbody  \\\n",
       "0  DBGB: Ac XXXXXXXX003338 Debited with Rs.158.00...   \n",
       "1  DBGB: Ac XXXXXXXX509006 Debited with Rs.17.70,...   \n",
       "\n",
       "                       templatehash                              hash  \\\n",
       "0  4bb988f625ed5311465b87a3b42984cd  1a2329fdadea93a4e0f929a321fd9e54   \n",
       "1  4bb988f625ed5311465b87a3b42984cd  02d29bf975b65db3c0122bd302b6b780   \n",
       "\n",
       "             smstype  amount  balance             pan        date  \n",
       "0  debit-transaction  158.00  5111.00  XXXXXXXX003338  02-11-2022  \n",
       "1  debit-transaction   17.69   152.59  XXXXXXXX509006  27-06-2024  "
      ]
     },
     "execution_count": 20,
     "metadata": {},
     "output_type": "execute_result"
    }
   ],
   "source": [
    "test_data_df.head(2)"
   ]
  },
  {
   "cell_type": "code",
   "execution_count": 21,
   "metadata": {},
   "outputs": [],
   "source": [
    "test_data_df = test_data_df.drop_duplicates(subset = ['hash'], ignore_index = True)"
   ]
  },
  {
   "cell_type": "code",
   "execution_count": 22,
   "metadata": {},
   "outputs": [
    {
     "data": {
      "text/plain": [
       "((182332, 8), 363, 182332)"
      ]
     },
     "execution_count": 22,
     "metadata": {},
     "output_type": "execute_result"
    }
   ],
   "source": [
    "test_data_df.shape, test_data_df['templatehash'].nunique(), test_data_df['hash'].nunique()"
   ]
  },
  {
   "cell_type": "code",
   "execution_count": 23,
   "metadata": {},
   "outputs": [
    {
     "name": "stdout",
     "output_type": "stream",
     "text": [
      "<class 'pandas.core.frame.DataFrame'>\n",
      "RangeIndex: 182332 entries, 0 to 182331\n",
      "Data columns (total 8 columns):\n",
      " #   Column        Non-Null Count   Dtype  \n",
      "---  ------        --------------   -----  \n",
      " 0   smsbody       182332 non-null  object \n",
      " 1   templatehash  182332 non-null  object \n",
      " 2   hash          182332 non-null  object \n",
      " 3   smstype       182332 non-null  object \n",
      " 4   amount        182332 non-null  float64\n",
      " 5   balance       182332 non-null  float64\n",
      " 6   pan           182332 non-null  object \n",
      " 7   date          182332 non-null  object \n",
      "dtypes: float64(2), object(6)\n",
      "memory usage: 11.1+ MB\n"
     ]
    }
   ],
   "source": [
    "test_data_df.info()"
   ]
  },
  {
   "cell_type": "code",
   "execution_count": 24,
   "metadata": {},
   "outputs": [
    {
     "data": {
      "text/plain": [
       "1e3fd94860b6ed8bb42897105d3d3fdd    1000\n",
       "1a07d5aa88a641e3658516653bdf0cff    1000\n",
       "21210289b440b1fdd65b8830657e46aa    1000\n",
       "73e1909fcee893118b581bec704b9621     998\n",
       "9a2915937ca0fca9c13730f3caf247f9     998\n",
       "                                    ... \n",
       "2552be17ee2b5d23a129cc2521d4da76       1\n",
       "83be6098ed031a23d1bba02665f43756       1\n",
       "2520ceb8cbfb900d05bec17b5e5da9e5       1\n",
       "1945d04ff4350a1da7787dfcf138bdcc       1\n",
       "2c0c30c7eda8b79f1893027696fd6ef8       1\n",
       "Name: templatehash, Length: 363, dtype: int64"
      ]
     },
     "execution_count": 24,
     "metadata": {},
     "output_type": "execute_result"
    }
   ],
   "source": [
    "test_data_df['templatehash'].value_counts()"
   ]
  },
  {
   "cell_type": "code",
   "execution_count": 25,
   "metadata": {},
   "outputs": [],
   "source": [
    "# test_data = test_data_df[test_data_df['templatehash'] == 'f8f6bb17cc6195c7dbe07dd295e06c74'].copy()\n",
    "test_data = test_data_df.copy()"
   ]
  },
  {
   "cell_type": "code",
   "execution_count": 26,
   "metadata": {},
   "outputs": [
    {
     "data": {
      "text/html": [
       "<div>\n",
       "<style scoped>\n",
       "    .dataframe tbody tr th:only-of-type {\n",
       "        vertical-align: middle;\n",
       "    }\n",
       "\n",
       "    .dataframe tbody tr th {\n",
       "        vertical-align: top;\n",
       "    }\n",
       "\n",
       "    .dataframe thead th {\n",
       "        text-align: right;\n",
       "    }\n",
       "</style>\n",
       "<table border=\"1\" class=\"dataframe\">\n",
       "  <thead>\n",
       "    <tr style=\"text-align: right;\">\n",
       "      <th></th>\n",
       "      <th>smsbody</th>\n",
       "      <th>templatehash</th>\n",
       "      <th>hash</th>\n",
       "      <th>smstype</th>\n",
       "      <th>amount</th>\n",
       "      <th>balance</th>\n",
       "      <th>pan</th>\n",
       "      <th>date</th>\n",
       "    </tr>\n",
       "  </thead>\n",
       "  <tbody>\n",
       "    <tr>\n",
       "      <th>0</th>\n",
       "      <td>DBGB: Ac XXXXXXXX003338 Debited with Rs.158.00...</td>\n",
       "      <td>4bb988f625ed5311465b87a3b42984cd</td>\n",
       "      <td>1a2329fdadea93a4e0f929a321fd9e54</td>\n",
       "      <td>debit-transaction</td>\n",
       "      <td>158.00</td>\n",
       "      <td>5111.00</td>\n",
       "      <td>XXXXXXXX003338</td>\n",
       "      <td>02-11-2022</td>\n",
       "    </tr>\n",
       "    <tr>\n",
       "      <th>1</th>\n",
       "      <td>DBGB: Ac XXXXXXXX509006 Debited with Rs.17.70,...</td>\n",
       "      <td>4bb988f625ed5311465b87a3b42984cd</td>\n",
       "      <td>02d29bf975b65db3c0122bd302b6b780</td>\n",
       "      <td>debit-transaction</td>\n",
       "      <td>17.69</td>\n",
       "      <td>152.59</td>\n",
       "      <td>XXXXXXXX509006</td>\n",
       "      <td>27-06-2024</td>\n",
       "    </tr>\n",
       "    <tr>\n",
       "      <th>2</th>\n",
       "      <td>DBGB: Ac XXXXXXXX059544 Debited with Rs.4000.0...</td>\n",
       "      <td>4bb988f625ed5311465b87a3b42984cd</td>\n",
       "      <td>b531316c9d60e0991dd956b708a36ea3</td>\n",
       "      <td>debit-transaction</td>\n",
       "      <td>4000.00</td>\n",
       "      <td>1128.72</td>\n",
       "      <td>XXXXXXXX059544</td>\n",
       "      <td>02-02-2023</td>\n",
       "    </tr>\n",
       "    <tr>\n",
       "      <th>3</th>\n",
       "      <td>DBGB: Ac XXXXXXXX001873 Debited with Rs.2000.0...</td>\n",
       "      <td>4bb988f625ed5311465b87a3b42984cd</td>\n",
       "      <td>8c8d613712f4aa88c5e668f1fdaf84c2</td>\n",
       "      <td>debit-transaction</td>\n",
       "      <td>2000.00</td>\n",
       "      <td>1670.00</td>\n",
       "      <td>XXXXXXXX001873</td>\n",
       "      <td>08-03-2024</td>\n",
       "    </tr>\n",
       "    <tr>\n",
       "      <th>4</th>\n",
       "      <td>DBGB: Ac XXXXXXXX003338 Debited with Rs.604.00...</td>\n",
       "      <td>4bb988f625ed5311465b87a3b42984cd</td>\n",
       "      <td>783242c5c17bb90260433db8c046a6fe</td>\n",
       "      <td>debit-transaction</td>\n",
       "      <td>604.00</td>\n",
       "      <td>4579.00</td>\n",
       "      <td>XXXXXXXX003338</td>\n",
       "      <td>11-11-2022</td>\n",
       "    </tr>\n",
       "  </tbody>\n",
       "</table>\n",
       "</div>"
      ],
      "text/plain": [
       "                                             smsbody  \\\n",
       "0  DBGB: Ac XXXXXXXX003338 Debited with Rs.158.00...   \n",
       "1  DBGB: Ac XXXXXXXX509006 Debited with Rs.17.70,...   \n",
       "2  DBGB: Ac XXXXXXXX059544 Debited with Rs.4000.0...   \n",
       "3  DBGB: Ac XXXXXXXX001873 Debited with Rs.2000.0...   \n",
       "4  DBGB: Ac XXXXXXXX003338 Debited with Rs.604.00...   \n",
       "\n",
       "                       templatehash                              hash  \\\n",
       "0  4bb988f625ed5311465b87a3b42984cd  1a2329fdadea93a4e0f929a321fd9e54   \n",
       "1  4bb988f625ed5311465b87a3b42984cd  02d29bf975b65db3c0122bd302b6b780   \n",
       "2  4bb988f625ed5311465b87a3b42984cd  b531316c9d60e0991dd956b708a36ea3   \n",
       "3  4bb988f625ed5311465b87a3b42984cd  8c8d613712f4aa88c5e668f1fdaf84c2   \n",
       "4  4bb988f625ed5311465b87a3b42984cd  783242c5c17bb90260433db8c046a6fe   \n",
       "\n",
       "             smstype   amount  balance             pan        date  \n",
       "0  debit-transaction   158.00  5111.00  XXXXXXXX003338  02-11-2022  \n",
       "1  debit-transaction    17.69   152.59  XXXXXXXX509006  27-06-2024  \n",
       "2  debit-transaction  4000.00  1128.72  XXXXXXXX059544  02-02-2023  \n",
       "3  debit-transaction  2000.00  1670.00  XXXXXXXX001873  08-03-2024  \n",
       "4  debit-transaction   604.00  4579.00  XXXXXXXX003338  11-11-2022  "
      ]
     },
     "execution_count": 26,
     "metadata": {},
     "output_type": "execute_result"
    }
   ],
   "source": [
    "test_data.head()"
   ]
  },
  {
   "cell_type": "code",
   "execution_count": 27,
   "metadata": {},
   "outputs": [
    {
     "data": {
      "text/plain": [
       "(182332, 8)"
      ]
     },
     "execution_count": 27,
     "metadata": {},
     "output_type": "execute_result"
    }
   ],
   "source": [
    "test_data.shape"
   ]
  },
  {
   "cell_type": "markdown",
   "metadata": {},
   "source": [
    "### Preprocessing the text:\n",
    "\n",
    "#### Strip the values to remove leading and trailing spaces."
   ]
  },
  {
   "cell_type": "code",
   "execution_count": 28,
   "metadata": {
    "tags": []
   },
   "outputs": [],
   "source": [
    "def strip_text(value):\n",
    "    if pd.isna(value):\n",
    "        return np.nan  # Keep NaN values as NaN\n",
    "    # Strip spaces and convert to string\n",
    "    value_str = str(value).strip()\n",
    "    return value_str"
   ]
  },
  {
   "cell_type": "code",
   "execution_count": 29,
   "metadata": {
    "tags": []
   },
   "outputs": [],
   "source": [
    "test_data['pan'] = test_data['pan'].apply(lambda x : strip_text(x))\n",
    "test_data['amount'] = test_data['amount'].apply(lambda x : strip_text(x))\n",
    "test_data['date'] = test_data['date'].apply(lambda x : strip_text(x))\n",
    "test_data['balance'] = test_data['balance'].apply(lambda x : strip_text(x))"
   ]
  },
  {
   "cell_type": "code",
   "execution_count": 30,
   "metadata": {
    "tags": []
   },
   "outputs": [
    {
     "name": "stdout",
     "output_type": "stream",
     "text": [
      "<class 'pandas.core.frame.DataFrame'>\n",
      "RangeIndex: 182332 entries, 0 to 182331\n",
      "Data columns (total 8 columns):\n",
      " #   Column        Non-Null Count   Dtype \n",
      "---  ------        --------------   ----- \n",
      " 0   smsbody       182332 non-null  object\n",
      " 1   templatehash  182332 non-null  object\n",
      " 2   hash          182332 non-null  object\n",
      " 3   smstype       182332 non-null  object\n",
      " 4   amount        182332 non-null  object\n",
      " 5   balance       182332 non-null  object\n",
      " 6   pan           182332 non-null  object\n",
      " 7   date          182332 non-null  object\n",
      "dtypes: object(8)\n",
      "memory usage: 11.1+ MB\n"
     ]
    }
   ],
   "source": [
    "test_data.info()"
   ]
  },
  {
   "cell_type": "code",
   "execution_count": 31,
   "metadata": {
    "tags": []
   },
   "outputs": [
    {
     "data": {
      "text/html": [
       "<div>\n",
       "<style scoped>\n",
       "    .dataframe tbody tr th:only-of-type {\n",
       "        vertical-align: middle;\n",
       "    }\n",
       "\n",
       "    .dataframe tbody tr th {\n",
       "        vertical-align: top;\n",
       "    }\n",
       "\n",
       "    .dataframe thead th {\n",
       "        text-align: right;\n",
       "    }\n",
       "</style>\n",
       "<table border=\"1\" class=\"dataframe\">\n",
       "  <thead>\n",
       "    <tr style=\"text-align: right;\">\n",
       "      <th></th>\n",
       "      <th>smsbody</th>\n",
       "      <th>templatehash</th>\n",
       "      <th>hash</th>\n",
       "      <th>smstype</th>\n",
       "      <th>amount</th>\n",
       "      <th>balance</th>\n",
       "      <th>pan</th>\n",
       "      <th>date</th>\n",
       "    </tr>\n",
       "  </thead>\n",
       "  <tbody>\n",
       "    <tr>\n",
       "      <th>0</th>\n",
       "      <td>DBGB: Ac XXXXXXXX003338 Debited with Rs.158.00,02-11-2022 17:36:11. Aval Bal Rs.5111.00 CR. Helpline 18001807777</td>\n",
       "      <td>4bb988f625ed5311465b87a3b42984cd</td>\n",
       "      <td>1a2329fdadea93a4e0f929a321fd9e54</td>\n",
       "      <td>debit-transaction</td>\n",
       "      <td>158.0</td>\n",
       "      <td>5111.0</td>\n",
       "      <td>XXXXXXXX003338</td>\n",
       "      <td>02-11-2022</td>\n",
       "    </tr>\n",
       "    <tr>\n",
       "      <th>1</th>\n",
       "      <td>DBGB: Ac XXXXXXXX509006 Debited with Rs.17.70,27-06-2024 20:30:29. Aval Bal Rs.152.60 CR. Helpline 18001807777</td>\n",
       "      <td>4bb988f625ed5311465b87a3b42984cd</td>\n",
       "      <td>02d29bf975b65db3c0122bd302b6b780</td>\n",
       "      <td>debit-transaction</td>\n",
       "      <td>17.69</td>\n",
       "      <td>152.59</td>\n",
       "      <td>XXXXXXXX509006</td>\n",
       "      <td>27-06-2024</td>\n",
       "    </tr>\n",
       "  </tbody>\n",
       "</table>\n",
       "</div>"
      ],
      "text/plain": [
       "                                                                                                            smsbody  \\\n",
       "0  DBGB: Ac XXXXXXXX003338 Debited with Rs.158.00,02-11-2022 17:36:11. Aval Bal Rs.5111.00 CR. Helpline 18001807777   \n",
       "1    DBGB: Ac XXXXXXXX509006 Debited with Rs.17.70,27-06-2024 20:30:29. Aval Bal Rs.152.60 CR. Helpline 18001807777   \n",
       "\n",
       "                       templatehash                              hash  \\\n",
       "0  4bb988f625ed5311465b87a3b42984cd  1a2329fdadea93a4e0f929a321fd9e54   \n",
       "1  4bb988f625ed5311465b87a3b42984cd  02d29bf975b65db3c0122bd302b6b780   \n",
       "\n",
       "             smstype amount balance             pan        date  \n",
       "0  debit-transaction  158.0  5111.0  XXXXXXXX003338  02-11-2022  \n",
       "1  debit-transaction  17.69  152.59  XXXXXXXX509006  27-06-2024  "
      ]
     },
     "execution_count": 31,
     "metadata": {},
     "output_type": "execute_result"
    }
   ],
   "source": [
    "pd.set_option('display.max_colwidth', None)\n",
    "test_data.head(2)"
   ]
  },
  {
   "cell_type": "code",
   "execution_count": 32,
   "metadata": {
    "tags": []
   },
   "outputs": [
    {
     "data": {
      "text/html": [
       "<div>\n",
       "<style scoped>\n",
       "    .dataframe tbody tr th:only-of-type {\n",
       "        vertical-align: middle;\n",
       "    }\n",
       "\n",
       "    .dataframe tbody tr th {\n",
       "        vertical-align: top;\n",
       "    }\n",
       "\n",
       "    .dataframe thead th {\n",
       "        text-align: right;\n",
       "    }\n",
       "</style>\n",
       "<table border=\"1\" class=\"dataframe\">\n",
       "  <thead>\n",
       "    <tr style=\"text-align: right;\">\n",
       "      <th></th>\n",
       "      <th>smsbody</th>\n",
       "      <th>templatehash</th>\n",
       "      <th>hash</th>\n",
       "      <th>smstype</th>\n",
       "      <th>amount</th>\n",
       "      <th>balance</th>\n",
       "      <th>pan</th>\n",
       "      <th>date</th>\n",
       "    </tr>\n",
       "  </thead>\n",
       "  <tbody>\n",
       "    <tr>\n",
       "      <th>182330</th>\n",
       "      <td>ICICI Bank Acc XX670 debited Rs. 10,000.00 on 28-APR-24 NFS*CASH WDL*. Avb Bal Rs. 46,406.85. To dispute Call 18002662 or SMS BLOCK 670 to 9215676766 .</td>\n",
       "      <td>f4b0f336ff0669fd8fdedad3f9b0ea82</td>\n",
       "      <td>6cfb289b5e85f3f1e8e656408aeb2377</td>\n",
       "      <td>debit-transaction</td>\n",
       "      <td>10000.0</td>\n",
       "      <td>46406.84</td>\n",
       "      <td>XX670</td>\n",
       "      <td>28-APR-24</td>\n",
       "    </tr>\n",
       "    <tr>\n",
       "      <th>182331</th>\n",
       "      <td>ICICI Bank Acc XX291 debited Rs. 1,500.00 on 01-Jan-24 NFS*CASH WDL*. Avb Bal Rs. 171.74. To dispute Call 18002662 or SMS BLOCK 291 to 9215676766 .</td>\n",
       "      <td>f4b0f336ff0669fd8fdedad3f9b0ea82</td>\n",
       "      <td>c85e16dc0536d16138a6b413f143cc12</td>\n",
       "      <td>debit-transaction</td>\n",
       "      <td>1500.0</td>\n",
       "      <td>171.74</td>\n",
       "      <td>XX291</td>\n",
       "      <td>01-Jan-24</td>\n",
       "    </tr>\n",
       "  </tbody>\n",
       "</table>\n",
       "</div>"
      ],
      "text/plain": [
       "                                                                                                                                                        smsbody  \\\n",
       "182330  ICICI Bank Acc XX670 debited Rs. 10,000.00 on 28-APR-24 NFS*CASH WDL*. Avb Bal Rs. 46,406.85. To dispute Call 18002662 or SMS BLOCK 670 to 9215676766 .   \n",
       "182331      ICICI Bank Acc XX291 debited Rs. 1,500.00 on 01-Jan-24 NFS*CASH WDL*. Avb Bal Rs. 171.74. To dispute Call 18002662 or SMS BLOCK 291 to 9215676766 .   \n",
       "\n",
       "                            templatehash                              hash  \\\n",
       "182330  f4b0f336ff0669fd8fdedad3f9b0ea82  6cfb289b5e85f3f1e8e656408aeb2377   \n",
       "182331  f4b0f336ff0669fd8fdedad3f9b0ea82  c85e16dc0536d16138a6b413f143cc12   \n",
       "\n",
       "                  smstype   amount   balance    pan       date  \n",
       "182330  debit-transaction  10000.0  46406.84  XX670  28-APR-24  \n",
       "182331  debit-transaction   1500.0    171.74  XX291  01-Jan-24  "
      ]
     },
     "execution_count": 32,
     "metadata": {},
     "output_type": "execute_result"
    }
   ],
   "source": [
    "test_data.tail(2)"
   ]
  },
  {
   "cell_type": "markdown",
   "metadata": {},
   "source": [
    "####  Add space before and after currency symbol."
   ]
  },
  {
   "cell_type": "code",
   "execution_count": 33,
   "metadata": {},
   "outputs": [],
   "source": [
    "def preprocess_sms1(text):\n",
    "    # Add a space after 'Rs.' or 'INR' followed by numbers\n",
    "    pattern = r'(Rs\\.|Rs:|INR\\.|INR:|Rs|INR|I@NR|:|\\(|\\))'\n",
    "    # Substituting by adding a space after the decimal number\n",
    "    processed_sms = re.sub(pattern, r' \\1 ', text)\n",
    "    return processed_sms"
   ]
  },
  {
   "cell_type": "code",
   "execution_count": 34,
   "metadata": {},
   "outputs": [],
   "source": [
    "test_data['smsbody_1'] = test_data['smsbody'].apply(lambda x : preprocess_sms1(x))"
   ]
  },
  {
   "cell_type": "code",
   "execution_count": 35,
   "metadata": {},
   "outputs": [],
   "source": [
    "# test_data.head(3)"
   ]
  },
  {
   "cell_type": "markdown",
   "metadata": {},
   "source": [
    "#### Handle 'A/c no. XX109016-12-23 00 : 06 : 51,'"
   ]
  },
  {
   "cell_type": "code",
   "execution_count": 36,
   "metadata": {},
   "outputs": [],
   "source": [
    "# text5 = 'Debit INR 20000.00 Acc num XX*10901232416-12-24 00 : 06 : 51 ISTIMPS/P2A/335000170409/AbhiBal INR 60316.47 SMS BLOCKALL Cust ID to 919951860002, if not you - Axis Bank'"
   ]
  },
  {
   "cell_type": "code",
   "execution_count": 37,
   "metadata": {},
   "outputs": [],
   "source": [
    "def preprocess_sms2(text):\n",
    "    # Add a space after 'Rs.' or 'INR' followed by numbers\n",
    "    pattern = r'(?i)(account|acc\\.|ac\\.|acct\\.|a/c\\.|account\\.|acc|ac|acct|a/c)(\\s*)(no\\.:|number\\.:|num\\.:|no\\.|number\\.|numbr\\.|num\\.|no:|number:|num:|No|number|numbr|num)(\\s*)([X\\d\\*]+)(\\d{2}-\\d{2}-\\d{2})'\n",
    "    # Substituting by adding a space after the decimal number\n",
    "    processed_sms = re.sub(pattern, r'\\1\\2\\3\\4 \\5 \\6', text)\n",
    "    return processed_sms"
   ]
  },
  {
   "cell_type": "code",
   "execution_count": 38,
   "metadata": {},
   "outputs": [],
   "source": [
    "test_data['smsbody_2'] = test_data['smsbody_1'].apply(lambda x : preprocess_sms2(x))"
   ]
  },
  {
   "cell_type": "markdown",
   "metadata": {},
   "source": [
    "#### Handle 'INR  9800013-07-24 16 : 37 : 57RAZ*GREENPAAvl'"
   ]
  },
  {
   "cell_type": "code",
   "execution_count": 39,
   "metadata": {},
   "outputs": [],
   "source": [
    "def preprocess_sms3(text):\n",
    "    # Add a space after 'Rs.' or 'INR' followed by numbers\n",
    "    pattern = r'(?i)(Rs\\.|Rs:|INR\\.|INR:|Rs|INR|I@NR)(\\s+)([\\d\\.\\,]+)(\\d{2}-\\d{2}-\\d{2})'\n",
    "    # Substituting by adding a space after the decimal number\n",
    "    processed_sms = re.sub(pattern, r'\\1\\2\\3 \\4', text)\n",
    "    return processed_sms"
   ]
  },
  {
   "cell_type": "code",
   "execution_count": 40,
   "metadata": {},
   "outputs": [],
   "source": [
    "test_data['smsbody_3'] = test_data['smsbody_2'].apply(lambda x : preprocess_sms3(x))"
   ]
  },
  {
   "cell_type": "markdown",
   "metadata": {},
   "source": [
    "#### Handle 'Rs. 10,000.00,28-05-2024 20 : 32 : 19'"
   ]
  },
  {
   "cell_type": "code",
   "execution_count": 41,
   "metadata": {},
   "outputs": [],
   "source": [
    "# text3 = 'Chq.344115, Rs. 10,00.25 , fvg. BISHAN DAS AND SONS debited from A/C XXXXXXXX00000359 , thru clg.-avail Bal Rs. 5901.37.Helpline 18001802222-PNB INR 4399.-Kotak INR 44,918.52.-SBI Rs. 6024.24- Federal A/c XX9869 debited with Rs. 10,000.00,28-05-2024 20 : 32 : 19,RRN414920031702 thru card XX0742.'"
   ]
  },
  {
   "cell_type": "code",
   "execution_count": 42,
   "metadata": {},
   "outputs": [],
   "source": [
    "def preprocess_sms4(text):\n",
    "    # Add a space after 'Rs.' or 'INR' followed by numbers\n",
    "    pattern = r'(?i)(Rs\\.|Rs:|INR\\.|INR:|Rs|INR|I@NR)(\\s+)([\\d\\.\\,]+)(\\,)(\\d{2}-\\d{2}-\\d{2,4})'\n",
    "    # Substituting by adding a space after the decimal number\n",
    "    processed_sms = re.sub(pattern, r'\\1\\2\\3 \\4 \\5', text)\n",
    "    return processed_sms"
   ]
  },
  {
   "cell_type": "code",
   "execution_count": 43,
   "metadata": {},
   "outputs": [],
   "source": [
    "test_data['smsbody_4'] = test_data['smsbody_3'].apply(lambda x : preprocess_sms4(x))"
   ]
  },
  {
   "cell_type": "markdown",
   "metadata": {},
   "source": [
    "#### handle 'Rs. 5901.37.Helpline'"
   ]
  },
  {
   "cell_type": "code",
   "execution_count": 44,
   "metadata": {},
   "outputs": [],
   "source": [
    "# text2 = 'Chq.344115, Rs. 10,00.25 , fvg. BISHAN DAS AND SONS debited from A/C XXXXXXXX00000359 , thru clg.-avail Bal Rs. 5901.37.Helpline 18001802222-PNB INR 4399.-Kotak INR 44,918.52.-SBI Rs. 6024.24- Federal'"
   ]
  },
  {
   "cell_type": "code",
   "execution_count": 45,
   "metadata": {},
   "outputs": [],
   "source": [
    "def preprocess_sms5(text):\n",
    "    # Add a space after 'Rs.' or 'INR' followed by numbers\n",
    "    pattern = r'(?i)(Rs\\.|Rs:|INR\\.|INR:|Rs|INR|I@NR)(\\s+)([\\d\\.\\,]+)(\\.|\\,)([A-z]|-)'\n",
    "    # Substituting by adding a space after the decimal number\n",
    "    processed_sms = re.sub(pattern, r'\\1\\2\\3 \\4 \\5', text)\n",
    "    return processed_sms"
   ]
  },
  {
   "cell_type": "code",
   "execution_count": 46,
   "metadata": {},
   "outputs": [],
   "source": [
    "test_data['smsbody_5'] = test_data['smsbody_4'].apply(lambda x : preprocess_sms5(x))"
   ]
  },
  {
   "cell_type": "markdown",
   "metadata": {},
   "source": [
    "#### Handle 'Rs. 216.65CR.'"
   ]
  },
  {
   "cell_type": "code",
   "execution_count": 47,
   "metadata": {},
   "outputs": [],
   "source": [
    "def preprocess_sms6(text):\n",
    "    # Add a space after 'Rs.' or 'INR' followed by numbers\n",
    "    pattern = r'(?i)(Rs\\.|Rs:|INR\\.|INR:|Rs|INR|I@NR)(\\s+)([\\d\\.\\,]+)([A-z])'\n",
    "    # Substituting by adding a space after the decimal number\n",
    "    processed_sms = re.sub(pattern, r'\\1\\2\\3 \\4', text)\n",
    "    return processed_sms"
   ]
  },
  {
   "cell_type": "code",
   "execution_count": 48,
   "metadata": {},
   "outputs": [],
   "source": [
    "test_data['smsbody_6'] = test_data['smsbody_5'].apply(lambda x : preprocess_sms6(x))"
   ]
  },
  {
   "cell_type": "markdown",
   "metadata": {},
   "source": [
    "####  Split the text on space and then join to remove leading and trailing spaces."
   ]
  },
  {
   "cell_type": "code",
   "execution_count": 49,
   "metadata": {},
   "outputs": [],
   "source": [
    "test_data['final_smsbody'] = test_data['smsbody_6'].apply(lambda x: ' '.join(x.split()))"
   ]
  },
  {
   "cell_type": "code",
   "execution_count": 50,
   "metadata": {
    "scrolled": true
   },
   "outputs": [
    {
     "data": {
      "text/html": [
       "<div>\n",
       "<style scoped>\n",
       "    .dataframe tbody tr th:only-of-type {\n",
       "        vertical-align: middle;\n",
       "    }\n",
       "\n",
       "    .dataframe tbody tr th {\n",
       "        vertical-align: top;\n",
       "    }\n",
       "\n",
       "    .dataframe thead th {\n",
       "        text-align: right;\n",
       "    }\n",
       "</style>\n",
       "<table border=\"1\" class=\"dataframe\">\n",
       "  <thead>\n",
       "    <tr style=\"text-align: right;\">\n",
       "      <th></th>\n",
       "      <th>smsbody</th>\n",
       "      <th>templatehash</th>\n",
       "      <th>hash</th>\n",
       "      <th>smstype</th>\n",
       "      <th>amount</th>\n",
       "      <th>balance</th>\n",
       "      <th>pan</th>\n",
       "      <th>date</th>\n",
       "      <th>smsbody_1</th>\n",
       "      <th>smsbody_2</th>\n",
       "      <th>smsbody_3</th>\n",
       "      <th>smsbody_4</th>\n",
       "      <th>smsbody_5</th>\n",
       "      <th>smsbody_6</th>\n",
       "      <th>final_smsbody</th>\n",
       "    </tr>\n",
       "  </thead>\n",
       "  <tbody>\n",
       "    <tr>\n",
       "      <th>0</th>\n",
       "      <td>DBGB: Ac XXXXXXXX003338 Debited with Rs.158.00,02-11-2022 17:36:11. Aval Bal Rs.5111.00 CR. Helpline 18001807777</td>\n",
       "      <td>4bb988f625ed5311465b87a3b42984cd</td>\n",
       "      <td>1a2329fdadea93a4e0f929a321fd9e54</td>\n",
       "      <td>debit-transaction</td>\n",
       "      <td>158.0</td>\n",
       "      <td>5111.0</td>\n",
       "      <td>XXXXXXXX003338</td>\n",
       "      <td>02-11-2022</td>\n",
       "      <td>DBGB :  Ac XXXXXXXX003338 Debited with  Rs. 158.00,02-11-2022 17 : 36 : 11. Aval Bal  Rs. 5111.00 CR. Helpline 18001807777</td>\n",
       "      <td>DBGB :  Ac XXXXXXXX003338 Debited with  Rs. 158.00,02-11-2022 17 : 36 : 11. Aval Bal  Rs. 5111.00 CR. Helpline 18001807777</td>\n",
       "      <td>DBGB :  Ac XXXXXXXX003338 Debited with  Rs. 158.00, 02-11-2022 17 : 36 : 11. Aval Bal  Rs. 5111.00 CR. Helpline 18001807777</td>\n",
       "      <td>DBGB :  Ac XXXXXXXX003338 Debited with  Rs. 158.00, 02-11-2022 17 : 36 : 11. Aval Bal  Rs. 5111.00 CR. Helpline 18001807777</td>\n",
       "      <td>DBGB :  Ac XXXXXXXX003338 Debited with  Rs. 158.00, 02-11-2022 17 : 36 : 11. Aval Bal  Rs. 5111.00 CR. Helpline 18001807777</td>\n",
       "      <td>DBGB :  Ac XXXXXXXX003338 Debited with  Rs. 158.00, 02-11-2022 17 : 36 : 11. Aval Bal  Rs. 5111.00 CR. Helpline 18001807777</td>\n",
       "      <td>DBGB : Ac XXXXXXXX003338 Debited with Rs. 158.00, 02-11-2022 17 : 36 : 11. Aval Bal Rs. 5111.00 CR. Helpline 18001807777</td>\n",
       "    </tr>\n",
       "    <tr>\n",
       "      <th>1</th>\n",
       "      <td>DBGB: Ac XXXXXXXX509006 Debited with Rs.17.70,27-06-2024 20:30:29. Aval Bal Rs.152.60 CR. Helpline 18001807777</td>\n",
       "      <td>4bb988f625ed5311465b87a3b42984cd</td>\n",
       "      <td>02d29bf975b65db3c0122bd302b6b780</td>\n",
       "      <td>debit-transaction</td>\n",
       "      <td>17.69</td>\n",
       "      <td>152.59</td>\n",
       "      <td>XXXXXXXX509006</td>\n",
       "      <td>27-06-2024</td>\n",
       "      <td>DBGB :  Ac XXXXXXXX509006 Debited with  Rs. 17.70,27-06-2024 20 : 30 : 29. Aval Bal  Rs. 152.60 CR. Helpline 18001807777</td>\n",
       "      <td>DBGB :  Ac XXXXXXXX509006 Debited with  Rs. 17.70,27-06-2024 20 : 30 : 29. Aval Bal  Rs. 152.60 CR. Helpline 18001807777</td>\n",
       "      <td>DBGB :  Ac XXXXXXXX509006 Debited with  Rs. 17.70, 27-06-2024 20 : 30 : 29. Aval Bal  Rs. 152.60 CR. Helpline 18001807777</td>\n",
       "      <td>DBGB :  Ac XXXXXXXX509006 Debited with  Rs. 17.70, 27-06-2024 20 : 30 : 29. Aval Bal  Rs. 152.60 CR. Helpline 18001807777</td>\n",
       "      <td>DBGB :  Ac XXXXXXXX509006 Debited with  Rs. 17.70, 27-06-2024 20 : 30 : 29. Aval Bal  Rs. 152.60 CR. Helpline 18001807777</td>\n",
       "      <td>DBGB :  Ac XXXXXXXX509006 Debited with  Rs. 17.70, 27-06-2024 20 : 30 : 29. Aval Bal  Rs. 152.60 CR. Helpline 18001807777</td>\n",
       "      <td>DBGB : Ac XXXXXXXX509006 Debited with Rs. 17.70, 27-06-2024 20 : 30 : 29. Aval Bal Rs. 152.60 CR. Helpline 18001807777</td>\n",
       "    </tr>\n",
       "    <tr>\n",
       "      <th>2</th>\n",
       "      <td>DBGB: Ac XXXXXXXX059544 Debited with Rs.4000.00,02-02-2023 12:08:39. Aval Bal Rs.1128.72 CR. Helpline 18001807777</td>\n",
       "      <td>4bb988f625ed5311465b87a3b42984cd</td>\n",
       "      <td>b531316c9d60e0991dd956b708a36ea3</td>\n",
       "      <td>debit-transaction</td>\n",
       "      <td>4000.0</td>\n",
       "      <td>1128.72</td>\n",
       "      <td>XXXXXXXX059544</td>\n",
       "      <td>02-02-2023</td>\n",
       "      <td>DBGB :  Ac XXXXXXXX059544 Debited with  Rs. 4000.00,02-02-2023 12 : 08 : 39. Aval Bal  Rs. 1128.72 CR. Helpline 18001807777</td>\n",
       "      <td>DBGB :  Ac XXXXXXXX059544 Debited with  Rs. 4000.00,02-02-2023 12 : 08 : 39. Aval Bal  Rs. 1128.72 CR. Helpline 18001807777</td>\n",
       "      <td>DBGB :  Ac XXXXXXXX059544 Debited with  Rs. 4000.00, 02-02-2023 12 : 08 : 39. Aval Bal  Rs. 1128.72 CR. Helpline 18001807777</td>\n",
       "      <td>DBGB :  Ac XXXXXXXX059544 Debited with  Rs. 4000.00, 02-02-2023 12 : 08 : 39. Aval Bal  Rs. 1128.72 CR. Helpline 18001807777</td>\n",
       "      <td>DBGB :  Ac XXXXXXXX059544 Debited with  Rs. 4000.00, 02-02-2023 12 : 08 : 39. Aval Bal  Rs. 1128.72 CR. Helpline 18001807777</td>\n",
       "      <td>DBGB :  Ac XXXXXXXX059544 Debited with  Rs. 4000.00, 02-02-2023 12 : 08 : 39. Aval Bal  Rs. 1128.72 CR. Helpline 18001807777</td>\n",
       "      <td>DBGB : Ac XXXXXXXX059544 Debited with Rs. 4000.00, 02-02-2023 12 : 08 : 39. Aval Bal Rs. 1128.72 CR. Helpline 18001807777</td>\n",
       "    </tr>\n",
       "  </tbody>\n",
       "</table>\n",
       "</div>"
      ],
      "text/plain": [
       "                                                                                                             smsbody  \\\n",
       "0   DBGB: Ac XXXXXXXX003338 Debited with Rs.158.00,02-11-2022 17:36:11. Aval Bal Rs.5111.00 CR. Helpline 18001807777   \n",
       "1     DBGB: Ac XXXXXXXX509006 Debited with Rs.17.70,27-06-2024 20:30:29. Aval Bal Rs.152.60 CR. Helpline 18001807777   \n",
       "2  DBGB: Ac XXXXXXXX059544 Debited with Rs.4000.00,02-02-2023 12:08:39. Aval Bal Rs.1128.72 CR. Helpline 18001807777   \n",
       "\n",
       "                       templatehash                              hash  \\\n",
       "0  4bb988f625ed5311465b87a3b42984cd  1a2329fdadea93a4e0f929a321fd9e54   \n",
       "1  4bb988f625ed5311465b87a3b42984cd  02d29bf975b65db3c0122bd302b6b780   \n",
       "2  4bb988f625ed5311465b87a3b42984cd  b531316c9d60e0991dd956b708a36ea3   \n",
       "\n",
       "             smstype  amount  balance             pan        date  \\\n",
       "0  debit-transaction   158.0   5111.0  XXXXXXXX003338  02-11-2022   \n",
       "1  debit-transaction   17.69   152.59  XXXXXXXX509006  27-06-2024   \n",
       "2  debit-transaction  4000.0  1128.72  XXXXXXXX059544  02-02-2023   \n",
       "\n",
       "                                                                                                                     smsbody_1  \\\n",
       "0   DBGB :  Ac XXXXXXXX003338 Debited with  Rs. 158.00,02-11-2022 17 : 36 : 11. Aval Bal  Rs. 5111.00 CR. Helpline 18001807777   \n",
       "1     DBGB :  Ac XXXXXXXX509006 Debited with  Rs. 17.70,27-06-2024 20 : 30 : 29. Aval Bal  Rs. 152.60 CR. Helpline 18001807777   \n",
       "2  DBGB :  Ac XXXXXXXX059544 Debited with  Rs. 4000.00,02-02-2023 12 : 08 : 39. Aval Bal  Rs. 1128.72 CR. Helpline 18001807777   \n",
       "\n",
       "                                                                                                                     smsbody_2  \\\n",
       "0   DBGB :  Ac XXXXXXXX003338 Debited with  Rs. 158.00,02-11-2022 17 : 36 : 11. Aval Bal  Rs. 5111.00 CR. Helpline 18001807777   \n",
       "1     DBGB :  Ac XXXXXXXX509006 Debited with  Rs. 17.70,27-06-2024 20 : 30 : 29. Aval Bal  Rs. 152.60 CR. Helpline 18001807777   \n",
       "2  DBGB :  Ac XXXXXXXX059544 Debited with  Rs. 4000.00,02-02-2023 12 : 08 : 39. Aval Bal  Rs. 1128.72 CR. Helpline 18001807777   \n",
       "\n",
       "                                                                                                                      smsbody_3  \\\n",
       "0   DBGB :  Ac XXXXXXXX003338 Debited with  Rs. 158.00, 02-11-2022 17 : 36 : 11. Aval Bal  Rs. 5111.00 CR. Helpline 18001807777   \n",
       "1     DBGB :  Ac XXXXXXXX509006 Debited with  Rs. 17.70, 27-06-2024 20 : 30 : 29. Aval Bal  Rs. 152.60 CR. Helpline 18001807777   \n",
       "2  DBGB :  Ac XXXXXXXX059544 Debited with  Rs. 4000.00, 02-02-2023 12 : 08 : 39. Aval Bal  Rs. 1128.72 CR. Helpline 18001807777   \n",
       "\n",
       "                                                                                                                      smsbody_4  \\\n",
       "0   DBGB :  Ac XXXXXXXX003338 Debited with  Rs. 158.00, 02-11-2022 17 : 36 : 11. Aval Bal  Rs. 5111.00 CR. Helpline 18001807777   \n",
       "1     DBGB :  Ac XXXXXXXX509006 Debited with  Rs. 17.70, 27-06-2024 20 : 30 : 29. Aval Bal  Rs. 152.60 CR. Helpline 18001807777   \n",
       "2  DBGB :  Ac XXXXXXXX059544 Debited with  Rs. 4000.00, 02-02-2023 12 : 08 : 39. Aval Bal  Rs. 1128.72 CR. Helpline 18001807777   \n",
       "\n",
       "                                                                                                                      smsbody_5  \\\n",
       "0   DBGB :  Ac XXXXXXXX003338 Debited with  Rs. 158.00, 02-11-2022 17 : 36 : 11. Aval Bal  Rs. 5111.00 CR. Helpline 18001807777   \n",
       "1     DBGB :  Ac XXXXXXXX509006 Debited with  Rs. 17.70, 27-06-2024 20 : 30 : 29. Aval Bal  Rs. 152.60 CR. Helpline 18001807777   \n",
       "2  DBGB :  Ac XXXXXXXX059544 Debited with  Rs. 4000.00, 02-02-2023 12 : 08 : 39. Aval Bal  Rs. 1128.72 CR. Helpline 18001807777   \n",
       "\n",
       "                                                                                                                      smsbody_6  \\\n",
       "0   DBGB :  Ac XXXXXXXX003338 Debited with  Rs. 158.00, 02-11-2022 17 : 36 : 11. Aval Bal  Rs. 5111.00 CR. Helpline 18001807777   \n",
       "1     DBGB :  Ac XXXXXXXX509006 Debited with  Rs. 17.70, 27-06-2024 20 : 30 : 29. Aval Bal  Rs. 152.60 CR. Helpline 18001807777   \n",
       "2  DBGB :  Ac XXXXXXXX059544 Debited with  Rs. 4000.00, 02-02-2023 12 : 08 : 39. Aval Bal  Rs. 1128.72 CR. Helpline 18001807777   \n",
       "\n",
       "                                                                                                               final_smsbody  \n",
       "0   DBGB : Ac XXXXXXXX003338 Debited with Rs. 158.00, 02-11-2022 17 : 36 : 11. Aval Bal Rs. 5111.00 CR. Helpline 18001807777  \n",
       "1     DBGB : Ac XXXXXXXX509006 Debited with Rs. 17.70, 27-06-2024 20 : 30 : 29. Aval Bal Rs. 152.60 CR. Helpline 18001807777  \n",
       "2  DBGB : Ac XXXXXXXX059544 Debited with Rs. 4000.00, 02-02-2023 12 : 08 : 39. Aval Bal Rs. 1128.72 CR. Helpline 18001807777  "
      ]
     },
     "execution_count": 50,
     "metadata": {},
     "output_type": "execute_result"
    }
   ],
   "source": [
    "test_data.head(3)"
   ]
  },
  {
   "cell_type": "code",
   "execution_count": 51,
   "metadata": {},
   "outputs": [
    {
     "data": {
      "text/plain": [
       "((182332, 15), 363)"
      ]
     },
     "execution_count": 51,
     "metadata": {},
     "output_type": "execute_result"
    }
   ],
   "source": [
    "test_data.shape, test_data['templatehash'].nunique()"
   ]
  },
  {
   "cell_type": "markdown",
   "metadata": {},
   "source": [
    "\n",
    "\n",
    "#### 2. Function to remove extra spaces"
   ]
  },
  {
   "cell_type": "code",
   "execution_count": 52,
   "metadata": {},
   "outputs": [],
   "source": [
    "# test_data['smsbody_1'] = test_data['smsbody'].apply(lambda x: ' '.join(x.split()))"
   ]
  },
  {
   "cell_type": "code",
   "execution_count": 53,
   "metadata": {},
   "outputs": [],
   "source": [
    "# test_data.shape, test_data['templatehash'].nunique()"
   ]
  },
  {
   "cell_type": "code",
   "execution_count": 54,
   "metadata": {},
   "outputs": [],
   "source": [
    "# test_data.head(2)"
   ]
  },
  {
   "cell_type": "markdown",
   "metadata": {},
   "source": [
    "#### 3. Impute space after amount / balance decimal values if there is no space."
   ]
  },
  {
   "cell_type": "code",
   "execution_count": 55,
   "metadata": {},
   "outputs": [],
   "source": [
    "# import re\n",
    "\n",
    "# # Example SMS\n",
    "# sms = \"\"\"Your Ac No. 023/XXXXX249 has been credited by INR.9856.07On 05-JAN-2024 by Transfer rs.10.Info- NEFT PHONEPE PRIVATE LIMITED PAYMENT AG 922020004688715 UTIB0001506 AX. Your net available balance is Rs. 195918.08GPPSB.\"\"\""
   ]
  },
  {
   "cell_type": "code",
   "execution_count": 56,
   "metadata": {},
   "outputs": [],
   "source": [
    "# # # Pattern to match 'Rs.' or 'INR' followed by a number with decimal points\n",
    "# # # Ensure it only matches if there's no space right after the number\n",
    "\n",
    "# def preprocess_sms1(text):\n",
    "#     # Add a space after 'Rs.' or 'INR' followed by numbers\n",
    "#     pattern = r'(Rs\\.|INR\\.|Rs|INR)(\\s*)(\\d+\\.\\d{2})(?!\\s)'\n",
    "#     # Substituting by adding a space after the decimal number\n",
    "#     processed_sms = re.sub(pattern, r'\\1\\2\\3 ', text)\n",
    "#     return processed_sms\n",
    "\n",
    "# # import re\n",
    "\n",
    "# # def preprocess_sms1(text):\n",
    "# #     # Pattern to match amounts preceded by Rs. or INR with or without space, and ensure space follows\n",
    "# #     pattern = r'((Rs\\.|INR\\.|Rs|INR)\\s*(\\d+\\.\\d{2})(?!\\s))|((Rs\\.|INR\\.|Rs|INR)\\s*(\\d+)(?!\\s))'  \n",
    "# #     # Substituting by adding a space after the matched amounts\n",
    "# #     processed_sms = re.sub(pattern, lambda match: match.group(0) + ' ', text)\n",
    "# #     return processed_sms\n"
   ]
  },
  {
   "cell_type": "code",
   "execution_count": 57,
   "metadata": {},
   "outputs": [],
   "source": [
    "# # Process the SMS\n",
    "# processed_sms = preprocess_sms1(sms)\n",
    "# print(processed_sms)"
   ]
  },
  {
   "cell_type": "code",
   "execution_count": 58,
   "metadata": {},
   "outputs": [],
   "source": [
    "# test_data['smsbody_2'] = test_data['smsbody_1'].apply(lambda x : preprocess_sms1(x))"
   ]
  },
  {
   "cell_type": "code",
   "execution_count": 59,
   "metadata": {},
   "outputs": [],
   "source": [
    "# test_data.tail(2)"
   ]
  },
  {
   "cell_type": "markdown",
   "metadata": {},
   "source": [
    "#### 4. Impute space before amount / balance decimal values and the currency symbol if there is no space."
   ]
  },
  {
   "cell_type": "code",
   "execution_count": 60,
   "metadata": {},
   "outputs": [],
   "source": [
    "# import re\n",
    "\n",
    "# def preprocess_sms2(text):\n",
    "#     # Add a space after 'Rs.' or 'INR' followed by numbers\n",
    "#     pattern = r'(Rs\\.|INR\\.|Rs|INR)(\\d)'\n",
    "#     text = re.sub(pattern, r'\\1 \\2', text)\n",
    "#     return text"
   ]
  },
  {
   "cell_type": "code",
   "execution_count": 61,
   "metadata": {},
   "outputs": [],
   "source": [
    "# # Example SMS\n",
    "# sms = \"Your Ac No. 018/XXXXX254 has been credited by Rs.4388.On 29-MAY-2019 by Cash Info- CASH DEPOSIT . Your net available balance is Rs.4443.01\"\n",
    "# processed_sms = preprocess_sms(sms)\n",
    "# print(processed_sms)  # Output: \"NEFT txn for Rs. 50000.00 from A/c XXXX8147...\""
   ]
  },
  {
   "cell_type": "code",
   "execution_count": 62,
   "metadata": {},
   "outputs": [],
   "source": [
    "# # Example SMS\n",
    "# processed_sms1 = preprocess_sms(processed_sms)\n",
    "# print(processed_sms1)  # Output: \"NEFT txn for Rs. 50000.00 from A/c XXXX8147...\""
   ]
  },
  {
   "cell_type": "code",
   "execution_count": 63,
   "metadata": {},
   "outputs": [],
   "source": [
    "# test_data['smsbody_3'] = test_data['smsbody_2'].apply(lambda x : preprocess_sms2(x))"
   ]
  },
  {
   "cell_type": "code",
   "execution_count": 64,
   "metadata": {},
   "outputs": [],
   "source": [
    "# test_data.tail(2)"
   ]
  },
  {
   "cell_type": "code",
   "execution_count": 65,
   "metadata": {},
   "outputs": [],
   "source": [
    "# test_data.tail(2)"
   ]
  },
  {
   "cell_type": "code",
   "execution_count": 66,
   "metadata": {},
   "outputs": [],
   "source": [
    "# test_data.to_csv('temp_data_1.csv', index = False)"
   ]
  },
  {
   "cell_type": "markdown",
   "metadata": {},
   "source": [
    "#### Make prediction on test data."
   ]
  },
  {
   "cell_type": "code",
   "execution_count": 67,
   "metadata": {},
   "outputs": [],
   "source": [
    "# Load the saved model\n",
    "# nlp = spacy.load(\"path_to_model\")\n",
    "# path = '/home/jupyter-nikhil_singh/anduril/Rahul_Sir/Extraction_model/Final_model_8'\n",
    "path = '/home/jupyter-nikhil_singh/anduril/Rahul_Sir/Extraction_model/Resume_training_of_Final_model_8'\n",
    "model_name = 'custom_ner_model'"
   ]
  },
  {
   "cell_type": "code",
   "execution_count": 68,
   "metadata": {},
   "outputs": [],
   "source": [
    "nlp = spacy.load(path + '/' + model_name)"
   ]
  },
  {
   "cell_type": "code",
   "execution_count": 69,
   "metadata": {},
   "outputs": [],
   "source": [
    "# Function to process text and extract entities\n",
    "def extract_entities(text):\n",
    "    doc = nlp(text)\n",
    "    entities = [(ent.text, ent.label_) for ent in doc.ents]\n",
    "    return entities"
   ]
  },
  {
   "cell_type": "code",
   "execution_count": 70,
   "metadata": {},
   "outputs": [
    {
     "name": "stdout",
     "output_type": "stream",
     "text": [
      "latency : 887.8072054386139\n"
     ]
    }
   ],
   "source": [
    "# Apply the function to each row in the DataFrame\n",
    "import time\n",
    "start_time = time.time()\n",
    "test_data['predicted_entities'] = test_data['final_smsbody'].apply(extract_entities)\n",
    "end_time = time.time()\n",
    "latency = end_time - start_time\n",
    "print(f\"latency : {latency}\")"
   ]
  },
  {
   "cell_type": "code",
   "execution_count": 71,
   "metadata": {},
   "outputs": [
    {
     "data": {
      "text/html": [
       "<div>\n",
       "<style scoped>\n",
       "    .dataframe tbody tr th:only-of-type {\n",
       "        vertical-align: middle;\n",
       "    }\n",
       "\n",
       "    .dataframe tbody tr th {\n",
       "        vertical-align: top;\n",
       "    }\n",
       "\n",
       "    .dataframe thead th {\n",
       "        text-align: right;\n",
       "    }\n",
       "</style>\n",
       "<table border=\"1\" class=\"dataframe\">\n",
       "  <thead>\n",
       "    <tr style=\"text-align: right;\">\n",
       "      <th></th>\n",
       "      <th>smsbody</th>\n",
       "      <th>templatehash</th>\n",
       "      <th>hash</th>\n",
       "      <th>smstype</th>\n",
       "      <th>amount</th>\n",
       "      <th>balance</th>\n",
       "      <th>pan</th>\n",
       "      <th>date</th>\n",
       "      <th>smsbody_1</th>\n",
       "      <th>smsbody_2</th>\n",
       "      <th>smsbody_3</th>\n",
       "      <th>smsbody_4</th>\n",
       "      <th>smsbody_5</th>\n",
       "      <th>smsbody_6</th>\n",
       "      <th>final_smsbody</th>\n",
       "      <th>predicted_entities</th>\n",
       "    </tr>\n",
       "  </thead>\n",
       "  <tbody>\n",
       "    <tr>\n",
       "      <th>0</th>\n",
       "      <td>DBGB: Ac XXXXXXXX003338 Debited with Rs.158.00,02-11-2022 17:36:11. Aval Bal Rs.5111.00 CR. Helpline 18001807777</td>\n",
       "      <td>4bb988f625ed5311465b87a3b42984cd</td>\n",
       "      <td>1a2329fdadea93a4e0f929a321fd9e54</td>\n",
       "      <td>debit-transaction</td>\n",
       "      <td>158.0</td>\n",
       "      <td>5111.0</td>\n",
       "      <td>XXXXXXXX003338</td>\n",
       "      <td>02-11-2022</td>\n",
       "      <td>DBGB :  Ac XXXXXXXX003338 Debited with  Rs. 158.00,02-11-2022 17 : 36 : 11. Aval Bal  Rs. 5111.00 CR. Helpline 18001807777</td>\n",
       "      <td>DBGB :  Ac XXXXXXXX003338 Debited with  Rs. 158.00,02-11-2022 17 : 36 : 11. Aval Bal  Rs. 5111.00 CR. Helpline 18001807777</td>\n",
       "      <td>DBGB :  Ac XXXXXXXX003338 Debited with  Rs. 158.00, 02-11-2022 17 : 36 : 11. Aval Bal  Rs. 5111.00 CR. Helpline 18001807777</td>\n",
       "      <td>DBGB :  Ac XXXXXXXX003338 Debited with  Rs. 158.00, 02-11-2022 17 : 36 : 11. Aval Bal  Rs. 5111.00 CR. Helpline 18001807777</td>\n",
       "      <td>DBGB :  Ac XXXXXXXX003338 Debited with  Rs. 158.00, 02-11-2022 17 : 36 : 11. Aval Bal  Rs. 5111.00 CR. Helpline 18001807777</td>\n",
       "      <td>DBGB :  Ac XXXXXXXX003338 Debited with  Rs. 158.00, 02-11-2022 17 : 36 : 11. Aval Bal  Rs. 5111.00 CR. Helpline 18001807777</td>\n",
       "      <td>DBGB : Ac XXXXXXXX003338 Debited with Rs. 158.00, 02-11-2022 17 : 36 : 11. Aval Bal Rs. 5111.00 CR. Helpline 18001807777</td>\n",
       "      <td>[(XXXXXXXX003338, PAN), (158.00, AMOUNT), (02-11-2022, DATE), (5111.00, BALANCE)]</td>\n",
       "    </tr>\n",
       "    <tr>\n",
       "      <th>1</th>\n",
       "      <td>DBGB: Ac XXXXXXXX509006 Debited with Rs.17.70,27-06-2024 20:30:29. Aval Bal Rs.152.60 CR. Helpline 18001807777</td>\n",
       "      <td>4bb988f625ed5311465b87a3b42984cd</td>\n",
       "      <td>02d29bf975b65db3c0122bd302b6b780</td>\n",
       "      <td>debit-transaction</td>\n",
       "      <td>17.69</td>\n",
       "      <td>152.59</td>\n",
       "      <td>XXXXXXXX509006</td>\n",
       "      <td>27-06-2024</td>\n",
       "      <td>DBGB :  Ac XXXXXXXX509006 Debited with  Rs. 17.70,27-06-2024 20 : 30 : 29. Aval Bal  Rs. 152.60 CR. Helpline 18001807777</td>\n",
       "      <td>DBGB :  Ac XXXXXXXX509006 Debited with  Rs. 17.70,27-06-2024 20 : 30 : 29. Aval Bal  Rs. 152.60 CR. Helpline 18001807777</td>\n",
       "      <td>DBGB :  Ac XXXXXXXX509006 Debited with  Rs. 17.70, 27-06-2024 20 : 30 : 29. Aval Bal  Rs. 152.60 CR. Helpline 18001807777</td>\n",
       "      <td>DBGB :  Ac XXXXXXXX509006 Debited with  Rs. 17.70, 27-06-2024 20 : 30 : 29. Aval Bal  Rs. 152.60 CR. Helpline 18001807777</td>\n",
       "      <td>DBGB :  Ac XXXXXXXX509006 Debited with  Rs. 17.70, 27-06-2024 20 : 30 : 29. Aval Bal  Rs. 152.60 CR. Helpline 18001807777</td>\n",
       "      <td>DBGB :  Ac XXXXXXXX509006 Debited with  Rs. 17.70, 27-06-2024 20 : 30 : 29. Aval Bal  Rs. 152.60 CR. Helpline 18001807777</td>\n",
       "      <td>DBGB : Ac XXXXXXXX509006 Debited with Rs. 17.70, 27-06-2024 20 : 30 : 29. Aval Bal Rs. 152.60 CR. Helpline 18001807777</td>\n",
       "      <td>[(XXXXXXXX509006, PAN), (17.70, AMOUNT), (27-06-2024, DATE), (152.60, BALANCE)]</td>\n",
       "    </tr>\n",
       "    <tr>\n",
       "      <th>2</th>\n",
       "      <td>DBGB: Ac XXXXXXXX059544 Debited with Rs.4000.00,02-02-2023 12:08:39. Aval Bal Rs.1128.72 CR. Helpline 18001807777</td>\n",
       "      <td>4bb988f625ed5311465b87a3b42984cd</td>\n",
       "      <td>b531316c9d60e0991dd956b708a36ea3</td>\n",
       "      <td>debit-transaction</td>\n",
       "      <td>4000.0</td>\n",
       "      <td>1128.72</td>\n",
       "      <td>XXXXXXXX059544</td>\n",
       "      <td>02-02-2023</td>\n",
       "      <td>DBGB :  Ac XXXXXXXX059544 Debited with  Rs. 4000.00,02-02-2023 12 : 08 : 39. Aval Bal  Rs. 1128.72 CR. Helpline 18001807777</td>\n",
       "      <td>DBGB :  Ac XXXXXXXX059544 Debited with  Rs. 4000.00,02-02-2023 12 : 08 : 39. Aval Bal  Rs. 1128.72 CR. Helpline 18001807777</td>\n",
       "      <td>DBGB :  Ac XXXXXXXX059544 Debited with  Rs. 4000.00, 02-02-2023 12 : 08 : 39. Aval Bal  Rs. 1128.72 CR. Helpline 18001807777</td>\n",
       "      <td>DBGB :  Ac XXXXXXXX059544 Debited with  Rs. 4000.00, 02-02-2023 12 : 08 : 39. Aval Bal  Rs. 1128.72 CR. Helpline 18001807777</td>\n",
       "      <td>DBGB :  Ac XXXXXXXX059544 Debited with  Rs. 4000.00, 02-02-2023 12 : 08 : 39. Aval Bal  Rs. 1128.72 CR. Helpline 18001807777</td>\n",
       "      <td>DBGB :  Ac XXXXXXXX059544 Debited with  Rs. 4000.00, 02-02-2023 12 : 08 : 39. Aval Bal  Rs. 1128.72 CR. Helpline 18001807777</td>\n",
       "      <td>DBGB : Ac XXXXXXXX059544 Debited with Rs. 4000.00, 02-02-2023 12 : 08 : 39. Aval Bal Rs. 1128.72 CR. Helpline 18001807777</td>\n",
       "      <td>[(XXXXXXXX059544, PAN), (4000.00, AMOUNT), (02-02-2023, DATE), (1128.72, BALANCE)]</td>\n",
       "    </tr>\n",
       "    <tr>\n",
       "      <th>3</th>\n",
       "      <td>DBGB: Ac XXXXXXXX001873 Debited with Rs.2000.00,08-03-2024 14:05:33. Aval Bal Rs.1670.00 CR. Helpline 18001807777</td>\n",
       "      <td>4bb988f625ed5311465b87a3b42984cd</td>\n",
       "      <td>8c8d613712f4aa88c5e668f1fdaf84c2</td>\n",
       "      <td>debit-transaction</td>\n",
       "      <td>2000.0</td>\n",
       "      <td>1670.0</td>\n",
       "      <td>XXXXXXXX001873</td>\n",
       "      <td>08-03-2024</td>\n",
       "      <td>DBGB :  Ac XXXXXXXX001873 Debited with  Rs. 2000.00,08-03-2024 14 : 05 : 33. Aval Bal  Rs. 1670.00 CR. Helpline 18001807777</td>\n",
       "      <td>DBGB :  Ac XXXXXXXX001873 Debited with  Rs. 2000.00,08-03-2024 14 : 05 : 33. Aval Bal  Rs. 1670.00 CR. Helpline 18001807777</td>\n",
       "      <td>DBGB :  Ac XXXXXXXX001873 Debited with  Rs. 2000.00, 08-03-2024 14 : 05 : 33. Aval Bal  Rs. 1670.00 CR. Helpline 18001807777</td>\n",
       "      <td>DBGB :  Ac XXXXXXXX001873 Debited with  Rs. 2000.00, 08-03-2024 14 : 05 : 33. Aval Bal  Rs. 1670.00 CR. Helpline 18001807777</td>\n",
       "      <td>DBGB :  Ac XXXXXXXX001873 Debited with  Rs. 2000.00, 08-03-2024 14 : 05 : 33. Aval Bal  Rs. 1670.00 CR. Helpline 18001807777</td>\n",
       "      <td>DBGB :  Ac XXXXXXXX001873 Debited with  Rs. 2000.00, 08-03-2024 14 : 05 : 33. Aval Bal  Rs. 1670.00 CR. Helpline 18001807777</td>\n",
       "      <td>DBGB : Ac XXXXXXXX001873 Debited with Rs. 2000.00, 08-03-2024 14 : 05 : 33. Aval Bal Rs. 1670.00 CR. Helpline 18001807777</td>\n",
       "      <td>[(XXXXXXXX001873, PAN), (2000.00, AMOUNT), (08-03-2024, DATE), (1670.00, BALANCE)]</td>\n",
       "    </tr>\n",
       "    <tr>\n",
       "      <th>4</th>\n",
       "      <td>DBGB: Ac XXXXXXXX003338 Debited with Rs.604.00,11-11-2022 16:45:26. Aval Bal Rs.4579.00 CR. Helpline 18001807777</td>\n",
       "      <td>4bb988f625ed5311465b87a3b42984cd</td>\n",
       "      <td>783242c5c17bb90260433db8c046a6fe</td>\n",
       "      <td>debit-transaction</td>\n",
       "      <td>604.0</td>\n",
       "      <td>4579.0</td>\n",
       "      <td>XXXXXXXX003338</td>\n",
       "      <td>11-11-2022</td>\n",
       "      <td>DBGB :  Ac XXXXXXXX003338 Debited with  Rs. 604.00,11-11-2022 16 : 45 : 26. Aval Bal  Rs. 4579.00 CR. Helpline 18001807777</td>\n",
       "      <td>DBGB :  Ac XXXXXXXX003338 Debited with  Rs. 604.00,11-11-2022 16 : 45 : 26. Aval Bal  Rs. 4579.00 CR. Helpline 18001807777</td>\n",
       "      <td>DBGB :  Ac XXXXXXXX003338 Debited with  Rs. 604.00, 11-11-2022 16 : 45 : 26. Aval Bal  Rs. 4579.00 CR. Helpline 18001807777</td>\n",
       "      <td>DBGB :  Ac XXXXXXXX003338 Debited with  Rs. 604.00, 11-11-2022 16 : 45 : 26. Aval Bal  Rs. 4579.00 CR. Helpline 18001807777</td>\n",
       "      <td>DBGB :  Ac XXXXXXXX003338 Debited with  Rs. 604.00, 11-11-2022 16 : 45 : 26. Aval Bal  Rs. 4579.00 CR. Helpline 18001807777</td>\n",
       "      <td>DBGB :  Ac XXXXXXXX003338 Debited with  Rs. 604.00, 11-11-2022 16 : 45 : 26. Aval Bal  Rs. 4579.00 CR. Helpline 18001807777</td>\n",
       "      <td>DBGB : Ac XXXXXXXX003338 Debited with Rs. 604.00, 11-11-2022 16 : 45 : 26. Aval Bal Rs. 4579.00 CR. Helpline 18001807777</td>\n",
       "      <td>[(XXXXXXXX003338, PAN), (604.00, AMOUNT), (11-11-2022, DATE), (4579.00, BALANCE)]</td>\n",
       "    </tr>\n",
       "    <tr>\n",
       "      <th>...</th>\n",
       "      <td>...</td>\n",
       "      <td>...</td>\n",
       "      <td>...</td>\n",
       "      <td>...</td>\n",
       "      <td>...</td>\n",
       "      <td>...</td>\n",
       "      <td>...</td>\n",
       "      <td>...</td>\n",
       "      <td>...</td>\n",
       "      <td>...</td>\n",
       "      <td>...</td>\n",
       "      <td>...</td>\n",
       "      <td>...</td>\n",
       "      <td>...</td>\n",
       "      <td>...</td>\n",
       "      <td>...</td>\n",
       "    </tr>\n",
       "    <tr>\n",
       "      <th>145</th>\n",
       "      <td>DBGB: Ac XXXXXXXX000891 Debited with Rs.776.00,27-02-2024 22:26:56. Aval Bal Rs.29564.30 . Helpline 18001807777</td>\n",
       "      <td>4bb988f625ed5311465b87a3b42984cd</td>\n",
       "      <td>657745e98e0f4688668e167ebe27ba6a</td>\n",
       "      <td>debit-transaction</td>\n",
       "      <td>776.0</td>\n",
       "      <td>29564.29</td>\n",
       "      <td>XXXXXXXX000891</td>\n",
       "      <td>27-02-2024</td>\n",
       "      <td>DBGB :  Ac XXXXXXXX000891 Debited with  Rs. 776.00,27-02-2024 22 : 26 : 56. Aval Bal  Rs. 29564.30 . Helpline 18001807777</td>\n",
       "      <td>DBGB :  Ac XXXXXXXX000891 Debited with  Rs. 776.00,27-02-2024 22 : 26 : 56. Aval Bal  Rs. 29564.30 . Helpline 18001807777</td>\n",
       "      <td>DBGB :  Ac XXXXXXXX000891 Debited with  Rs. 776.00, 27-02-2024 22 : 26 : 56. Aval Bal  Rs. 29564.30 . Helpline 18001807777</td>\n",
       "      <td>DBGB :  Ac XXXXXXXX000891 Debited with  Rs. 776.00, 27-02-2024 22 : 26 : 56. Aval Bal  Rs. 29564.30 . Helpline 18001807777</td>\n",
       "      <td>DBGB :  Ac XXXXXXXX000891 Debited with  Rs. 776.00, 27-02-2024 22 : 26 : 56. Aval Bal  Rs. 29564.30 . Helpline 18001807777</td>\n",
       "      <td>DBGB :  Ac XXXXXXXX000891 Debited with  Rs. 776.00, 27-02-2024 22 : 26 : 56. Aval Bal  Rs. 29564.30 . Helpline 18001807777</td>\n",
       "      <td>DBGB : Ac XXXXXXXX000891 Debited with Rs. 776.00, 27-02-2024 22 : 26 : 56. Aval Bal Rs. 29564.30 . Helpline 18001807777</td>\n",
       "      <td>[(XXXXXXXX000891, PAN), (776.00, AMOUNT), (27-02-2024, DATE), (29564.30, BALANCE)]</td>\n",
       "    </tr>\n",
       "    <tr>\n",
       "      <th>146</th>\n",
       "      <td>DBGB: Ac XXXXXXXX002654 Debited with Rs.4600.00,05-05-2023 15:51:04. Aval Bal Rs.0.36 CR. Helpline 18001807777</td>\n",
       "      <td>4bb988f625ed5311465b87a3b42984cd</td>\n",
       "      <td>fd1d5a277b4a9107c99ee768ec719bf4</td>\n",
       "      <td>debit-transaction</td>\n",
       "      <td>4600.0</td>\n",
       "      <td>0.35</td>\n",
       "      <td>XXXXXXXX002654</td>\n",
       "      <td>05-05-2023</td>\n",
       "      <td>DBGB :  Ac XXXXXXXX002654 Debited with  Rs. 4600.00,05-05-2023 15 : 51 : 04. Aval Bal  Rs. 0.36 CR. Helpline 18001807777</td>\n",
       "      <td>DBGB :  Ac XXXXXXXX002654 Debited with  Rs. 4600.00,05-05-2023 15 : 51 : 04. Aval Bal  Rs. 0.36 CR. Helpline 18001807777</td>\n",
       "      <td>DBGB :  Ac XXXXXXXX002654 Debited with  Rs. 4600.00, 05-05-2023 15 : 51 : 04. Aval Bal  Rs. 0.36 CR. Helpline 18001807777</td>\n",
       "      <td>DBGB :  Ac XXXXXXXX002654 Debited with  Rs. 4600.00, 05-05-2023 15 : 51 : 04. Aval Bal  Rs. 0.36 CR. Helpline 18001807777</td>\n",
       "      <td>DBGB :  Ac XXXXXXXX002654 Debited with  Rs. 4600.00, 05-05-2023 15 : 51 : 04. Aval Bal  Rs. 0.36 CR. Helpline 18001807777</td>\n",
       "      <td>DBGB :  Ac XXXXXXXX002654 Debited with  Rs. 4600.00, 05-05-2023 15 : 51 : 04. Aval Bal  Rs. 0.36 CR. Helpline 18001807777</td>\n",
       "      <td>DBGB : Ac XXXXXXXX002654 Debited with Rs. 4600.00, 05-05-2023 15 : 51 : 04. Aval Bal Rs. 0.36 CR. Helpline 18001807777</td>\n",
       "      <td>[(XXXXXXXX002654, PAN), (4600.00, AMOUNT), (05-05-2023, DATE), (0.36, BALANCE)]</td>\n",
       "    </tr>\n",
       "    <tr>\n",
       "      <th>147</th>\n",
       "      <td>DBGB: Ac XXXXXXXX000659 Debited with Rs.100.00,24-01-2024 20:13:22. Aval Bal Rs.3665.30 CR. Helpline 18001807777</td>\n",
       "      <td>4bb988f625ed5311465b87a3b42984cd</td>\n",
       "      <td>8b58b3f924952e3b50b08bc3421fc0bc</td>\n",
       "      <td>debit-transaction</td>\n",
       "      <td>100.0</td>\n",
       "      <td>3665.3</td>\n",
       "      <td>XXXXXXXX000659</td>\n",
       "      <td>24-01-2024</td>\n",
       "      <td>DBGB :  Ac XXXXXXXX000659 Debited with  Rs. 100.00,24-01-2024 20 : 13 : 22. Aval Bal  Rs. 3665.30 CR. Helpline 18001807777</td>\n",
       "      <td>DBGB :  Ac XXXXXXXX000659 Debited with  Rs. 100.00,24-01-2024 20 : 13 : 22. Aval Bal  Rs. 3665.30 CR. Helpline 18001807777</td>\n",
       "      <td>DBGB :  Ac XXXXXXXX000659 Debited with  Rs. 100.00, 24-01-2024 20 : 13 : 22. Aval Bal  Rs. 3665.30 CR. Helpline 18001807777</td>\n",
       "      <td>DBGB :  Ac XXXXXXXX000659 Debited with  Rs. 100.00, 24-01-2024 20 : 13 : 22. Aval Bal  Rs. 3665.30 CR. Helpline 18001807777</td>\n",
       "      <td>DBGB :  Ac XXXXXXXX000659 Debited with  Rs. 100.00, 24-01-2024 20 : 13 : 22. Aval Bal  Rs. 3665.30 CR. Helpline 18001807777</td>\n",
       "      <td>DBGB :  Ac XXXXXXXX000659 Debited with  Rs. 100.00, 24-01-2024 20 : 13 : 22. Aval Bal  Rs. 3665.30 CR. Helpline 18001807777</td>\n",
       "      <td>DBGB : Ac XXXXXXXX000659 Debited with Rs. 100.00, 24-01-2024 20 : 13 : 22. Aval Bal Rs. 3665.30 CR. Helpline 18001807777</td>\n",
       "      <td>[(XXXXXXXX000659, PAN), (100.00, AMOUNT), (24-01-2024, DATE), (3665.30, BALANCE)]</td>\n",
       "    </tr>\n",
       "    <tr>\n",
       "      <th>148</th>\n",
       "      <td>DBGB: Ac XXXXXXXX014955 Debited with Rs.2000.00,19-05-2023 09:06:33. Aval Bal Rs.6.00 CR. Helpline 18001807777</td>\n",
       "      <td>4bb988f625ed5311465b87a3b42984cd</td>\n",
       "      <td>af5a228ca4db24bfa690e20a68b68808</td>\n",
       "      <td>debit-transaction</td>\n",
       "      <td>2000.0</td>\n",
       "      <td>6.0</td>\n",
       "      <td>XXXXXXXX014955</td>\n",
       "      <td>19-05-2023</td>\n",
       "      <td>DBGB :  Ac XXXXXXXX014955 Debited with  Rs. 2000.00,19-05-2023 09 : 06 : 33. Aval Bal  Rs. 6.00 CR. Helpline 18001807777</td>\n",
       "      <td>DBGB :  Ac XXXXXXXX014955 Debited with  Rs. 2000.00,19-05-2023 09 : 06 : 33. Aval Bal  Rs. 6.00 CR. Helpline 18001807777</td>\n",
       "      <td>DBGB :  Ac XXXXXXXX014955 Debited with  Rs. 2000.00, 19-05-2023 09 : 06 : 33. Aval Bal  Rs. 6.00 CR. Helpline 18001807777</td>\n",
       "      <td>DBGB :  Ac XXXXXXXX014955 Debited with  Rs. 2000.00, 19-05-2023 09 : 06 : 33. Aval Bal  Rs. 6.00 CR. Helpline 18001807777</td>\n",
       "      <td>DBGB :  Ac XXXXXXXX014955 Debited with  Rs. 2000.00, 19-05-2023 09 : 06 : 33. Aval Bal  Rs. 6.00 CR. Helpline 18001807777</td>\n",
       "      <td>DBGB :  Ac XXXXXXXX014955 Debited with  Rs. 2000.00, 19-05-2023 09 : 06 : 33. Aval Bal  Rs. 6.00 CR. Helpline 18001807777</td>\n",
       "      <td>DBGB : Ac XXXXXXXX014955 Debited with Rs. 2000.00, 19-05-2023 09 : 06 : 33. Aval Bal Rs. 6.00 CR. Helpline 18001807777</td>\n",
       "      <td>[(XXXXXXXX014955, PAN), (2000.00, AMOUNT), (19-05-2023, DATE), (6.00, BALANCE)]</td>\n",
       "    </tr>\n",
       "    <tr>\n",
       "      <th>149</th>\n",
       "      <td>DBGB: Ac XXXXXXXX391952 Debited with Rs.28.30,02-07-2024 20:24:05. Aval Bal Rs.0.00 CR. Helpline 18001807777</td>\n",
       "      <td>4bb988f625ed5311465b87a3b42984cd</td>\n",
       "      <td>c1cde8553e766282b4df980b0f7bce43</td>\n",
       "      <td>debit-transaction</td>\n",
       "      <td>28.3</td>\n",
       "      <td>0.0</td>\n",
       "      <td>XXXXXXXX391952</td>\n",
       "      <td>02-07-2024</td>\n",
       "      <td>DBGB :  Ac XXXXXXXX391952 Debited with  Rs. 28.30,02-07-2024 20 : 24 : 05. Aval Bal  Rs. 0.00 CR. Helpline 18001807777</td>\n",
       "      <td>DBGB :  Ac XXXXXXXX391952 Debited with  Rs. 28.30,02-07-2024 20 : 24 : 05. Aval Bal  Rs. 0.00 CR. Helpline 18001807777</td>\n",
       "      <td>DBGB :  Ac XXXXXXXX391952 Debited with  Rs. 28.30, 02-07-2024 20 : 24 : 05. Aval Bal  Rs. 0.00 CR. Helpline 18001807777</td>\n",
       "      <td>DBGB :  Ac XXXXXXXX391952 Debited with  Rs. 28.30, 02-07-2024 20 : 24 : 05. Aval Bal  Rs. 0.00 CR. Helpline 18001807777</td>\n",
       "      <td>DBGB :  Ac XXXXXXXX391952 Debited with  Rs. 28.30, 02-07-2024 20 : 24 : 05. Aval Bal  Rs. 0.00 CR. Helpline 18001807777</td>\n",
       "      <td>DBGB :  Ac XXXXXXXX391952 Debited with  Rs. 28.30, 02-07-2024 20 : 24 : 05. Aval Bal  Rs. 0.00 CR. Helpline 18001807777</td>\n",
       "      <td>DBGB : Ac XXXXXXXX391952 Debited with Rs. 28.30, 02-07-2024 20 : 24 : 05. Aval Bal Rs. 0.00 CR. Helpline 18001807777</td>\n",
       "      <td>[(XXXXXXXX391952, PAN), (28.30, AMOUNT), (02-07-2024, DATE), (0.00, BALANCE)]</td>\n",
       "    </tr>\n",
       "  </tbody>\n",
       "</table>\n",
       "<p>150 rows × 16 columns</p>\n",
       "</div>"
      ],
      "text/plain": [
       "                                                                                                               smsbody  \\\n",
       "0     DBGB: Ac XXXXXXXX003338 Debited with Rs.158.00,02-11-2022 17:36:11. Aval Bal Rs.5111.00 CR. Helpline 18001807777   \n",
       "1       DBGB: Ac XXXXXXXX509006 Debited with Rs.17.70,27-06-2024 20:30:29. Aval Bal Rs.152.60 CR. Helpline 18001807777   \n",
       "2    DBGB: Ac XXXXXXXX059544 Debited with Rs.4000.00,02-02-2023 12:08:39. Aval Bal Rs.1128.72 CR. Helpline 18001807777   \n",
       "3    DBGB: Ac XXXXXXXX001873 Debited with Rs.2000.00,08-03-2024 14:05:33. Aval Bal Rs.1670.00 CR. Helpline 18001807777   \n",
       "4     DBGB: Ac XXXXXXXX003338 Debited with Rs.604.00,11-11-2022 16:45:26. Aval Bal Rs.4579.00 CR. Helpline 18001807777   \n",
       "..                                                                                                                 ...   \n",
       "145    DBGB: Ac XXXXXXXX000891 Debited with Rs.776.00,27-02-2024 22:26:56. Aval Bal Rs.29564.30 . Helpline 18001807777   \n",
       "146     DBGB: Ac XXXXXXXX002654 Debited with Rs.4600.00,05-05-2023 15:51:04. Aval Bal Rs.0.36 CR. Helpline 18001807777   \n",
       "147   DBGB: Ac XXXXXXXX000659 Debited with Rs.100.00,24-01-2024 20:13:22. Aval Bal Rs.3665.30 CR. Helpline 18001807777   \n",
       "148     DBGB: Ac XXXXXXXX014955 Debited with Rs.2000.00,19-05-2023 09:06:33. Aval Bal Rs.6.00 CR. Helpline 18001807777   \n",
       "149       DBGB: Ac XXXXXXXX391952 Debited with Rs.28.30,02-07-2024 20:24:05. Aval Bal Rs.0.00 CR. Helpline 18001807777   \n",
       "\n",
       "                         templatehash                              hash  \\\n",
       "0    4bb988f625ed5311465b87a3b42984cd  1a2329fdadea93a4e0f929a321fd9e54   \n",
       "1    4bb988f625ed5311465b87a3b42984cd  02d29bf975b65db3c0122bd302b6b780   \n",
       "2    4bb988f625ed5311465b87a3b42984cd  b531316c9d60e0991dd956b708a36ea3   \n",
       "3    4bb988f625ed5311465b87a3b42984cd  8c8d613712f4aa88c5e668f1fdaf84c2   \n",
       "4    4bb988f625ed5311465b87a3b42984cd  783242c5c17bb90260433db8c046a6fe   \n",
       "..                                ...                               ...   \n",
       "145  4bb988f625ed5311465b87a3b42984cd  657745e98e0f4688668e167ebe27ba6a   \n",
       "146  4bb988f625ed5311465b87a3b42984cd  fd1d5a277b4a9107c99ee768ec719bf4   \n",
       "147  4bb988f625ed5311465b87a3b42984cd  8b58b3f924952e3b50b08bc3421fc0bc   \n",
       "148  4bb988f625ed5311465b87a3b42984cd  af5a228ca4db24bfa690e20a68b68808   \n",
       "149  4bb988f625ed5311465b87a3b42984cd  c1cde8553e766282b4df980b0f7bce43   \n",
       "\n",
       "               smstype  amount   balance             pan        date  \\\n",
       "0    debit-transaction   158.0    5111.0  XXXXXXXX003338  02-11-2022   \n",
       "1    debit-transaction   17.69    152.59  XXXXXXXX509006  27-06-2024   \n",
       "2    debit-transaction  4000.0   1128.72  XXXXXXXX059544  02-02-2023   \n",
       "3    debit-transaction  2000.0    1670.0  XXXXXXXX001873  08-03-2024   \n",
       "4    debit-transaction   604.0    4579.0  XXXXXXXX003338  11-11-2022   \n",
       "..                 ...     ...       ...             ...         ...   \n",
       "145  debit-transaction   776.0  29564.29  XXXXXXXX000891  27-02-2024   \n",
       "146  debit-transaction  4600.0      0.35  XXXXXXXX002654  05-05-2023   \n",
       "147  debit-transaction   100.0    3665.3  XXXXXXXX000659  24-01-2024   \n",
       "148  debit-transaction  2000.0       6.0  XXXXXXXX014955  19-05-2023   \n",
       "149  debit-transaction    28.3       0.0  XXXXXXXX391952  02-07-2024   \n",
       "\n",
       "                                                                                                                       smsbody_1  \\\n",
       "0     DBGB :  Ac XXXXXXXX003338 Debited with  Rs. 158.00,02-11-2022 17 : 36 : 11. Aval Bal  Rs. 5111.00 CR. Helpline 18001807777   \n",
       "1       DBGB :  Ac XXXXXXXX509006 Debited with  Rs. 17.70,27-06-2024 20 : 30 : 29. Aval Bal  Rs. 152.60 CR. Helpline 18001807777   \n",
       "2    DBGB :  Ac XXXXXXXX059544 Debited with  Rs. 4000.00,02-02-2023 12 : 08 : 39. Aval Bal  Rs. 1128.72 CR. Helpline 18001807777   \n",
       "3    DBGB :  Ac XXXXXXXX001873 Debited with  Rs. 2000.00,08-03-2024 14 : 05 : 33. Aval Bal  Rs. 1670.00 CR. Helpline 18001807777   \n",
       "4     DBGB :  Ac XXXXXXXX003338 Debited with  Rs. 604.00,11-11-2022 16 : 45 : 26. Aval Bal  Rs. 4579.00 CR. Helpline 18001807777   \n",
       "..                                                                                                                           ...   \n",
       "145    DBGB :  Ac XXXXXXXX000891 Debited with  Rs. 776.00,27-02-2024 22 : 26 : 56. Aval Bal  Rs. 29564.30 . Helpline 18001807777   \n",
       "146     DBGB :  Ac XXXXXXXX002654 Debited with  Rs. 4600.00,05-05-2023 15 : 51 : 04. Aval Bal  Rs. 0.36 CR. Helpline 18001807777   \n",
       "147   DBGB :  Ac XXXXXXXX000659 Debited with  Rs. 100.00,24-01-2024 20 : 13 : 22. Aval Bal  Rs. 3665.30 CR. Helpline 18001807777   \n",
       "148     DBGB :  Ac XXXXXXXX014955 Debited with  Rs. 2000.00,19-05-2023 09 : 06 : 33. Aval Bal  Rs. 6.00 CR. Helpline 18001807777   \n",
       "149       DBGB :  Ac XXXXXXXX391952 Debited with  Rs. 28.30,02-07-2024 20 : 24 : 05. Aval Bal  Rs. 0.00 CR. Helpline 18001807777   \n",
       "\n",
       "                                                                                                                       smsbody_2  \\\n",
       "0     DBGB :  Ac XXXXXXXX003338 Debited with  Rs. 158.00,02-11-2022 17 : 36 : 11. Aval Bal  Rs. 5111.00 CR. Helpline 18001807777   \n",
       "1       DBGB :  Ac XXXXXXXX509006 Debited with  Rs. 17.70,27-06-2024 20 : 30 : 29. Aval Bal  Rs. 152.60 CR. Helpline 18001807777   \n",
       "2    DBGB :  Ac XXXXXXXX059544 Debited with  Rs. 4000.00,02-02-2023 12 : 08 : 39. Aval Bal  Rs. 1128.72 CR. Helpline 18001807777   \n",
       "3    DBGB :  Ac XXXXXXXX001873 Debited with  Rs. 2000.00,08-03-2024 14 : 05 : 33. Aval Bal  Rs. 1670.00 CR. Helpline 18001807777   \n",
       "4     DBGB :  Ac XXXXXXXX003338 Debited with  Rs. 604.00,11-11-2022 16 : 45 : 26. Aval Bal  Rs. 4579.00 CR. Helpline 18001807777   \n",
       "..                                                                                                                           ...   \n",
       "145    DBGB :  Ac XXXXXXXX000891 Debited with  Rs. 776.00,27-02-2024 22 : 26 : 56. Aval Bal  Rs. 29564.30 . Helpline 18001807777   \n",
       "146     DBGB :  Ac XXXXXXXX002654 Debited with  Rs. 4600.00,05-05-2023 15 : 51 : 04. Aval Bal  Rs. 0.36 CR. Helpline 18001807777   \n",
       "147   DBGB :  Ac XXXXXXXX000659 Debited with  Rs. 100.00,24-01-2024 20 : 13 : 22. Aval Bal  Rs. 3665.30 CR. Helpline 18001807777   \n",
       "148     DBGB :  Ac XXXXXXXX014955 Debited with  Rs. 2000.00,19-05-2023 09 : 06 : 33. Aval Bal  Rs. 6.00 CR. Helpline 18001807777   \n",
       "149       DBGB :  Ac XXXXXXXX391952 Debited with  Rs. 28.30,02-07-2024 20 : 24 : 05. Aval Bal  Rs. 0.00 CR. Helpline 18001807777   \n",
       "\n",
       "                                                                                                                        smsbody_3  \\\n",
       "0     DBGB :  Ac XXXXXXXX003338 Debited with  Rs. 158.00, 02-11-2022 17 : 36 : 11. Aval Bal  Rs. 5111.00 CR. Helpline 18001807777   \n",
       "1       DBGB :  Ac XXXXXXXX509006 Debited with  Rs. 17.70, 27-06-2024 20 : 30 : 29. Aval Bal  Rs. 152.60 CR. Helpline 18001807777   \n",
       "2    DBGB :  Ac XXXXXXXX059544 Debited with  Rs. 4000.00, 02-02-2023 12 : 08 : 39. Aval Bal  Rs. 1128.72 CR. Helpline 18001807777   \n",
       "3    DBGB :  Ac XXXXXXXX001873 Debited with  Rs. 2000.00, 08-03-2024 14 : 05 : 33. Aval Bal  Rs. 1670.00 CR. Helpline 18001807777   \n",
       "4     DBGB :  Ac XXXXXXXX003338 Debited with  Rs. 604.00, 11-11-2022 16 : 45 : 26. Aval Bal  Rs. 4579.00 CR. Helpline 18001807777   \n",
       "..                                                                                                                            ...   \n",
       "145    DBGB :  Ac XXXXXXXX000891 Debited with  Rs. 776.00, 27-02-2024 22 : 26 : 56. Aval Bal  Rs. 29564.30 . Helpline 18001807777   \n",
       "146     DBGB :  Ac XXXXXXXX002654 Debited with  Rs. 4600.00, 05-05-2023 15 : 51 : 04. Aval Bal  Rs. 0.36 CR. Helpline 18001807777   \n",
       "147   DBGB :  Ac XXXXXXXX000659 Debited with  Rs. 100.00, 24-01-2024 20 : 13 : 22. Aval Bal  Rs. 3665.30 CR. Helpline 18001807777   \n",
       "148     DBGB :  Ac XXXXXXXX014955 Debited with  Rs. 2000.00, 19-05-2023 09 : 06 : 33. Aval Bal  Rs. 6.00 CR. Helpline 18001807777   \n",
       "149       DBGB :  Ac XXXXXXXX391952 Debited with  Rs. 28.30, 02-07-2024 20 : 24 : 05. Aval Bal  Rs. 0.00 CR. Helpline 18001807777   \n",
       "\n",
       "                                                                                                                        smsbody_4  \\\n",
       "0     DBGB :  Ac XXXXXXXX003338 Debited with  Rs. 158.00, 02-11-2022 17 : 36 : 11. Aval Bal  Rs. 5111.00 CR. Helpline 18001807777   \n",
       "1       DBGB :  Ac XXXXXXXX509006 Debited with  Rs. 17.70, 27-06-2024 20 : 30 : 29. Aval Bal  Rs. 152.60 CR. Helpline 18001807777   \n",
       "2    DBGB :  Ac XXXXXXXX059544 Debited with  Rs. 4000.00, 02-02-2023 12 : 08 : 39. Aval Bal  Rs. 1128.72 CR. Helpline 18001807777   \n",
       "3    DBGB :  Ac XXXXXXXX001873 Debited with  Rs. 2000.00, 08-03-2024 14 : 05 : 33. Aval Bal  Rs. 1670.00 CR. Helpline 18001807777   \n",
       "4     DBGB :  Ac XXXXXXXX003338 Debited with  Rs. 604.00, 11-11-2022 16 : 45 : 26. Aval Bal  Rs. 4579.00 CR. Helpline 18001807777   \n",
       "..                                                                                                                            ...   \n",
       "145    DBGB :  Ac XXXXXXXX000891 Debited with  Rs. 776.00, 27-02-2024 22 : 26 : 56. Aval Bal  Rs. 29564.30 . Helpline 18001807777   \n",
       "146     DBGB :  Ac XXXXXXXX002654 Debited with  Rs. 4600.00, 05-05-2023 15 : 51 : 04. Aval Bal  Rs. 0.36 CR. Helpline 18001807777   \n",
       "147   DBGB :  Ac XXXXXXXX000659 Debited with  Rs. 100.00, 24-01-2024 20 : 13 : 22. Aval Bal  Rs. 3665.30 CR. Helpline 18001807777   \n",
       "148     DBGB :  Ac XXXXXXXX014955 Debited with  Rs. 2000.00, 19-05-2023 09 : 06 : 33. Aval Bal  Rs. 6.00 CR. Helpline 18001807777   \n",
       "149       DBGB :  Ac XXXXXXXX391952 Debited with  Rs. 28.30, 02-07-2024 20 : 24 : 05. Aval Bal  Rs. 0.00 CR. Helpline 18001807777   \n",
       "\n",
       "                                                                                                                        smsbody_5  \\\n",
       "0     DBGB :  Ac XXXXXXXX003338 Debited with  Rs. 158.00, 02-11-2022 17 : 36 : 11. Aval Bal  Rs. 5111.00 CR. Helpline 18001807777   \n",
       "1       DBGB :  Ac XXXXXXXX509006 Debited with  Rs. 17.70, 27-06-2024 20 : 30 : 29. Aval Bal  Rs. 152.60 CR. Helpline 18001807777   \n",
       "2    DBGB :  Ac XXXXXXXX059544 Debited with  Rs. 4000.00, 02-02-2023 12 : 08 : 39. Aval Bal  Rs. 1128.72 CR. Helpline 18001807777   \n",
       "3    DBGB :  Ac XXXXXXXX001873 Debited with  Rs. 2000.00, 08-03-2024 14 : 05 : 33. Aval Bal  Rs. 1670.00 CR. Helpline 18001807777   \n",
       "4     DBGB :  Ac XXXXXXXX003338 Debited with  Rs. 604.00, 11-11-2022 16 : 45 : 26. Aval Bal  Rs. 4579.00 CR. Helpline 18001807777   \n",
       "..                                                                                                                            ...   \n",
       "145    DBGB :  Ac XXXXXXXX000891 Debited with  Rs. 776.00, 27-02-2024 22 : 26 : 56. Aval Bal  Rs. 29564.30 . Helpline 18001807777   \n",
       "146     DBGB :  Ac XXXXXXXX002654 Debited with  Rs. 4600.00, 05-05-2023 15 : 51 : 04. Aval Bal  Rs. 0.36 CR. Helpline 18001807777   \n",
       "147   DBGB :  Ac XXXXXXXX000659 Debited with  Rs. 100.00, 24-01-2024 20 : 13 : 22. Aval Bal  Rs. 3665.30 CR. Helpline 18001807777   \n",
       "148     DBGB :  Ac XXXXXXXX014955 Debited with  Rs. 2000.00, 19-05-2023 09 : 06 : 33. Aval Bal  Rs. 6.00 CR. Helpline 18001807777   \n",
       "149       DBGB :  Ac XXXXXXXX391952 Debited with  Rs. 28.30, 02-07-2024 20 : 24 : 05. Aval Bal  Rs. 0.00 CR. Helpline 18001807777   \n",
       "\n",
       "                                                                                                                        smsbody_6  \\\n",
       "0     DBGB :  Ac XXXXXXXX003338 Debited with  Rs. 158.00, 02-11-2022 17 : 36 : 11. Aval Bal  Rs. 5111.00 CR. Helpline 18001807777   \n",
       "1       DBGB :  Ac XXXXXXXX509006 Debited with  Rs. 17.70, 27-06-2024 20 : 30 : 29. Aval Bal  Rs. 152.60 CR. Helpline 18001807777   \n",
       "2    DBGB :  Ac XXXXXXXX059544 Debited with  Rs. 4000.00, 02-02-2023 12 : 08 : 39. Aval Bal  Rs. 1128.72 CR. Helpline 18001807777   \n",
       "3    DBGB :  Ac XXXXXXXX001873 Debited with  Rs. 2000.00, 08-03-2024 14 : 05 : 33. Aval Bal  Rs. 1670.00 CR. Helpline 18001807777   \n",
       "4     DBGB :  Ac XXXXXXXX003338 Debited with  Rs. 604.00, 11-11-2022 16 : 45 : 26. Aval Bal  Rs. 4579.00 CR. Helpline 18001807777   \n",
       "..                                                                                                                            ...   \n",
       "145    DBGB :  Ac XXXXXXXX000891 Debited with  Rs. 776.00, 27-02-2024 22 : 26 : 56. Aval Bal  Rs. 29564.30 . Helpline 18001807777   \n",
       "146     DBGB :  Ac XXXXXXXX002654 Debited with  Rs. 4600.00, 05-05-2023 15 : 51 : 04. Aval Bal  Rs. 0.36 CR. Helpline 18001807777   \n",
       "147   DBGB :  Ac XXXXXXXX000659 Debited with  Rs. 100.00, 24-01-2024 20 : 13 : 22. Aval Bal  Rs. 3665.30 CR. Helpline 18001807777   \n",
       "148     DBGB :  Ac XXXXXXXX014955 Debited with  Rs. 2000.00, 19-05-2023 09 : 06 : 33. Aval Bal  Rs. 6.00 CR. Helpline 18001807777   \n",
       "149       DBGB :  Ac XXXXXXXX391952 Debited with  Rs. 28.30, 02-07-2024 20 : 24 : 05. Aval Bal  Rs. 0.00 CR. Helpline 18001807777   \n",
       "\n",
       "                                                                                                                 final_smsbody  \\\n",
       "0     DBGB : Ac XXXXXXXX003338 Debited with Rs. 158.00, 02-11-2022 17 : 36 : 11. Aval Bal Rs. 5111.00 CR. Helpline 18001807777   \n",
       "1       DBGB : Ac XXXXXXXX509006 Debited with Rs. 17.70, 27-06-2024 20 : 30 : 29. Aval Bal Rs. 152.60 CR. Helpline 18001807777   \n",
       "2    DBGB : Ac XXXXXXXX059544 Debited with Rs. 4000.00, 02-02-2023 12 : 08 : 39. Aval Bal Rs. 1128.72 CR. Helpline 18001807777   \n",
       "3    DBGB : Ac XXXXXXXX001873 Debited with Rs. 2000.00, 08-03-2024 14 : 05 : 33. Aval Bal Rs. 1670.00 CR. Helpline 18001807777   \n",
       "4     DBGB : Ac XXXXXXXX003338 Debited with Rs. 604.00, 11-11-2022 16 : 45 : 26. Aval Bal Rs. 4579.00 CR. Helpline 18001807777   \n",
       "..                                                                                                                         ...   \n",
       "145    DBGB : Ac XXXXXXXX000891 Debited with Rs. 776.00, 27-02-2024 22 : 26 : 56. Aval Bal Rs. 29564.30 . Helpline 18001807777   \n",
       "146     DBGB : Ac XXXXXXXX002654 Debited with Rs. 4600.00, 05-05-2023 15 : 51 : 04. Aval Bal Rs. 0.36 CR. Helpline 18001807777   \n",
       "147   DBGB : Ac XXXXXXXX000659 Debited with Rs. 100.00, 24-01-2024 20 : 13 : 22. Aval Bal Rs. 3665.30 CR. Helpline 18001807777   \n",
       "148     DBGB : Ac XXXXXXXX014955 Debited with Rs. 2000.00, 19-05-2023 09 : 06 : 33. Aval Bal Rs. 6.00 CR. Helpline 18001807777   \n",
       "149       DBGB : Ac XXXXXXXX391952 Debited with Rs. 28.30, 02-07-2024 20 : 24 : 05. Aval Bal Rs. 0.00 CR. Helpline 18001807777   \n",
       "\n",
       "                                                                     predicted_entities  \n",
       "0     [(XXXXXXXX003338, PAN), (158.00, AMOUNT), (02-11-2022, DATE), (5111.00, BALANCE)]  \n",
       "1       [(XXXXXXXX509006, PAN), (17.70, AMOUNT), (27-06-2024, DATE), (152.60, BALANCE)]  \n",
       "2    [(XXXXXXXX059544, PAN), (4000.00, AMOUNT), (02-02-2023, DATE), (1128.72, BALANCE)]  \n",
       "3    [(XXXXXXXX001873, PAN), (2000.00, AMOUNT), (08-03-2024, DATE), (1670.00, BALANCE)]  \n",
       "4     [(XXXXXXXX003338, PAN), (604.00, AMOUNT), (11-11-2022, DATE), (4579.00, BALANCE)]  \n",
       "..                                                                                  ...  \n",
       "145  [(XXXXXXXX000891, PAN), (776.00, AMOUNT), (27-02-2024, DATE), (29564.30, BALANCE)]  \n",
       "146     [(XXXXXXXX002654, PAN), (4600.00, AMOUNT), (05-05-2023, DATE), (0.36, BALANCE)]  \n",
       "147   [(XXXXXXXX000659, PAN), (100.00, AMOUNT), (24-01-2024, DATE), (3665.30, BALANCE)]  \n",
       "148     [(XXXXXXXX014955, PAN), (2000.00, AMOUNT), (19-05-2023, DATE), (6.00, BALANCE)]  \n",
       "149       [(XXXXXXXX391952, PAN), (28.30, AMOUNT), (02-07-2024, DATE), (0.00, BALANCE)]  \n",
       "\n",
       "[150 rows x 16 columns]"
      ]
     },
     "execution_count": 71,
     "metadata": {},
     "output_type": "execute_result"
    }
   ],
   "source": [
    "# Print the results\n",
    "test_data.head(150)"
   ]
  },
  {
   "cell_type": "markdown",
   "metadata": {},
   "source": [
    "### Post processing of predictions."
   ]
  },
  {
   "cell_type": "markdown",
   "metadata": {},
   "source": [
    "#### Getting the length of the predictions."
   ]
  },
  {
   "cell_type": "code",
   "execution_count": 72,
   "metadata": {},
   "outputs": [],
   "source": [
    "test_data['length_of_predicted_entities'] = test_data['predicted_entities'].apply(lambda x : len(x))"
   ]
  },
  {
   "cell_type": "code",
   "execution_count": 73,
   "metadata": {},
   "outputs": [
    {
     "data": {
      "text/plain": [
       "4     81407\n",
       "3     55425\n",
       "2     27467\n",
       "1     10592\n",
       "5      6698\n",
       "0       631\n",
       "6        89\n",
       "7        13\n",
       "8         5\n",
       "9         3\n",
       "11        2\n",
       "Name: length_of_predicted_entities, dtype: int64"
      ]
     },
     "execution_count": 73,
     "metadata": {},
     "output_type": "execute_result"
    }
   ],
   "source": [
    "test_data['length_of_predicted_entities'].value_counts()"
   ]
  },
  {
   "cell_type": "markdown",
   "metadata": {},
   "source": [
    "#### Flag the entites which are predicted."
   ]
  },
  {
   "cell_type": "code",
   "execution_count": 74,
   "metadata": {},
   "outputs": [],
   "source": [
    "test_data['Predicted_amount_flag'] = test_data['predicted_entities'].apply(lambda x: 1 if any('AMOUNT' in item for item in x) else 0)\n",
    "test_data['Predicted_pan_flag'] = test_data['predicted_entities'].apply(lambda x: 1 if any('PAN' in item for item in x) else 0)\n",
    "test_data['Predicted_date_flag'] = test_data['predicted_entities'].apply(lambda x: 1 if any('DATE' in item for item in x) else 0)\n",
    "test_data['Predicted_balance_flag'] = test_data['predicted_entities'].apply(lambda x: 1 if any('BALANCE' in item for item in x) else 0)"
   ]
  },
  {
   "cell_type": "code",
   "execution_count": 75,
   "metadata": {},
   "outputs": [
    {
     "data": {
      "text/html": [
       "<div>\n",
       "<style scoped>\n",
       "    .dataframe tbody tr th:only-of-type {\n",
       "        vertical-align: middle;\n",
       "    }\n",
       "\n",
       "    .dataframe tbody tr th {\n",
       "        vertical-align: top;\n",
       "    }\n",
       "\n",
       "    .dataframe thead th {\n",
       "        text-align: right;\n",
       "    }\n",
       "</style>\n",
       "<table border=\"1\" class=\"dataframe\">\n",
       "  <thead>\n",
       "    <tr style=\"text-align: right;\">\n",
       "      <th></th>\n",
       "      <th>smsbody</th>\n",
       "      <th>templatehash</th>\n",
       "      <th>hash</th>\n",
       "      <th>smstype</th>\n",
       "      <th>amount</th>\n",
       "      <th>balance</th>\n",
       "      <th>pan</th>\n",
       "      <th>date</th>\n",
       "      <th>smsbody_1</th>\n",
       "      <th>smsbody_2</th>\n",
       "      <th>...</th>\n",
       "      <th>smsbody_4</th>\n",
       "      <th>smsbody_5</th>\n",
       "      <th>smsbody_6</th>\n",
       "      <th>final_smsbody</th>\n",
       "      <th>predicted_entities</th>\n",
       "      <th>length_of_predicted_entities</th>\n",
       "      <th>Predicted_amount_flag</th>\n",
       "      <th>Predicted_pan_flag</th>\n",
       "      <th>Predicted_date_flag</th>\n",
       "      <th>Predicted_balance_flag</th>\n",
       "    </tr>\n",
       "  </thead>\n",
       "  <tbody>\n",
       "    <tr>\n",
       "      <th>0</th>\n",
       "      <td>DBGB: Ac XXXXXXXX003338 Debited with Rs.158.00,02-11-2022 17:36:11. Aval Bal Rs.5111.00 CR. Helpline 18001807777</td>\n",
       "      <td>4bb988f625ed5311465b87a3b42984cd</td>\n",
       "      <td>1a2329fdadea93a4e0f929a321fd9e54</td>\n",
       "      <td>debit-transaction</td>\n",
       "      <td>158.0</td>\n",
       "      <td>5111.0</td>\n",
       "      <td>XXXXXXXX003338</td>\n",
       "      <td>02-11-2022</td>\n",
       "      <td>DBGB :  Ac XXXXXXXX003338 Debited with  Rs. 158.00,02-11-2022 17 : 36 : 11. Aval Bal  Rs. 5111.00 CR. Helpline 18001807777</td>\n",
       "      <td>DBGB :  Ac XXXXXXXX003338 Debited with  Rs. 158.00,02-11-2022 17 : 36 : 11. Aval Bal  Rs. 5111.00 CR. Helpline 18001807777</td>\n",
       "      <td>...</td>\n",
       "      <td>DBGB :  Ac XXXXXXXX003338 Debited with  Rs. 158.00, 02-11-2022 17 : 36 : 11. Aval Bal  Rs. 5111.00 CR. Helpline 18001807777</td>\n",
       "      <td>DBGB :  Ac XXXXXXXX003338 Debited with  Rs. 158.00, 02-11-2022 17 : 36 : 11. Aval Bal  Rs. 5111.00 CR. Helpline 18001807777</td>\n",
       "      <td>DBGB :  Ac XXXXXXXX003338 Debited with  Rs. 158.00, 02-11-2022 17 : 36 : 11. Aval Bal  Rs. 5111.00 CR. Helpline 18001807777</td>\n",
       "      <td>DBGB : Ac XXXXXXXX003338 Debited with Rs. 158.00, 02-11-2022 17 : 36 : 11. Aval Bal Rs. 5111.00 CR. Helpline 18001807777</td>\n",
       "      <td>[(XXXXXXXX003338, PAN), (158.00, AMOUNT), (02-11-2022, DATE), (5111.00, BALANCE)]</td>\n",
       "      <td>4</td>\n",
       "      <td>1</td>\n",
       "      <td>1</td>\n",
       "      <td>1</td>\n",
       "      <td>1</td>\n",
       "    </tr>\n",
       "    <tr>\n",
       "      <th>1</th>\n",
       "      <td>DBGB: Ac XXXXXXXX509006 Debited with Rs.17.70,27-06-2024 20:30:29. Aval Bal Rs.152.60 CR. Helpline 18001807777</td>\n",
       "      <td>4bb988f625ed5311465b87a3b42984cd</td>\n",
       "      <td>02d29bf975b65db3c0122bd302b6b780</td>\n",
       "      <td>debit-transaction</td>\n",
       "      <td>17.69</td>\n",
       "      <td>152.59</td>\n",
       "      <td>XXXXXXXX509006</td>\n",
       "      <td>27-06-2024</td>\n",
       "      <td>DBGB :  Ac XXXXXXXX509006 Debited with  Rs. 17.70,27-06-2024 20 : 30 : 29. Aval Bal  Rs. 152.60 CR. Helpline 18001807777</td>\n",
       "      <td>DBGB :  Ac XXXXXXXX509006 Debited with  Rs. 17.70,27-06-2024 20 : 30 : 29. Aval Bal  Rs. 152.60 CR. Helpline 18001807777</td>\n",
       "      <td>...</td>\n",
       "      <td>DBGB :  Ac XXXXXXXX509006 Debited with  Rs. 17.70, 27-06-2024 20 : 30 : 29. Aval Bal  Rs. 152.60 CR. Helpline 18001807777</td>\n",
       "      <td>DBGB :  Ac XXXXXXXX509006 Debited with  Rs. 17.70, 27-06-2024 20 : 30 : 29. Aval Bal  Rs. 152.60 CR. Helpline 18001807777</td>\n",
       "      <td>DBGB :  Ac XXXXXXXX509006 Debited with  Rs. 17.70, 27-06-2024 20 : 30 : 29. Aval Bal  Rs. 152.60 CR. Helpline 18001807777</td>\n",
       "      <td>DBGB : Ac XXXXXXXX509006 Debited with Rs. 17.70, 27-06-2024 20 : 30 : 29. Aval Bal Rs. 152.60 CR. Helpline 18001807777</td>\n",
       "      <td>[(XXXXXXXX509006, PAN), (17.70, AMOUNT), (27-06-2024, DATE), (152.60, BALANCE)]</td>\n",
       "      <td>4</td>\n",
       "      <td>1</td>\n",
       "      <td>1</td>\n",
       "      <td>1</td>\n",
       "      <td>1</td>\n",
       "    </tr>\n",
       "  </tbody>\n",
       "</table>\n",
       "<p>2 rows × 21 columns</p>\n",
       "</div>"
      ],
      "text/plain": [
       "                                                                                                            smsbody  \\\n",
       "0  DBGB: Ac XXXXXXXX003338 Debited with Rs.158.00,02-11-2022 17:36:11. Aval Bal Rs.5111.00 CR. Helpline 18001807777   \n",
       "1    DBGB: Ac XXXXXXXX509006 Debited with Rs.17.70,27-06-2024 20:30:29. Aval Bal Rs.152.60 CR. Helpline 18001807777   \n",
       "\n",
       "                       templatehash                              hash  \\\n",
       "0  4bb988f625ed5311465b87a3b42984cd  1a2329fdadea93a4e0f929a321fd9e54   \n",
       "1  4bb988f625ed5311465b87a3b42984cd  02d29bf975b65db3c0122bd302b6b780   \n",
       "\n",
       "             smstype amount balance             pan        date  \\\n",
       "0  debit-transaction  158.0  5111.0  XXXXXXXX003338  02-11-2022   \n",
       "1  debit-transaction  17.69  152.59  XXXXXXXX509006  27-06-2024   \n",
       "\n",
       "                                                                                                                    smsbody_1  \\\n",
       "0  DBGB :  Ac XXXXXXXX003338 Debited with  Rs. 158.00,02-11-2022 17 : 36 : 11. Aval Bal  Rs. 5111.00 CR. Helpline 18001807777   \n",
       "1    DBGB :  Ac XXXXXXXX509006 Debited with  Rs. 17.70,27-06-2024 20 : 30 : 29. Aval Bal  Rs. 152.60 CR. Helpline 18001807777   \n",
       "\n",
       "                                                                                                                    smsbody_2  \\\n",
       "0  DBGB :  Ac XXXXXXXX003338 Debited with  Rs. 158.00,02-11-2022 17 : 36 : 11. Aval Bal  Rs. 5111.00 CR. Helpline 18001807777   \n",
       "1    DBGB :  Ac XXXXXXXX509006 Debited with  Rs. 17.70,27-06-2024 20 : 30 : 29. Aval Bal  Rs. 152.60 CR. Helpline 18001807777   \n",
       "\n",
       "   ...  \\\n",
       "0  ...   \n",
       "1  ...   \n",
       "\n",
       "                                                                                                                     smsbody_4  \\\n",
       "0  DBGB :  Ac XXXXXXXX003338 Debited with  Rs. 158.00, 02-11-2022 17 : 36 : 11. Aval Bal  Rs. 5111.00 CR. Helpline 18001807777   \n",
       "1    DBGB :  Ac XXXXXXXX509006 Debited with  Rs. 17.70, 27-06-2024 20 : 30 : 29. Aval Bal  Rs. 152.60 CR. Helpline 18001807777   \n",
       "\n",
       "                                                                                                                     smsbody_5  \\\n",
       "0  DBGB :  Ac XXXXXXXX003338 Debited with  Rs. 158.00, 02-11-2022 17 : 36 : 11. Aval Bal  Rs. 5111.00 CR. Helpline 18001807777   \n",
       "1    DBGB :  Ac XXXXXXXX509006 Debited with  Rs. 17.70, 27-06-2024 20 : 30 : 29. Aval Bal  Rs. 152.60 CR. Helpline 18001807777   \n",
       "\n",
       "                                                                                                                     smsbody_6  \\\n",
       "0  DBGB :  Ac XXXXXXXX003338 Debited with  Rs. 158.00, 02-11-2022 17 : 36 : 11. Aval Bal  Rs. 5111.00 CR. Helpline 18001807777   \n",
       "1    DBGB :  Ac XXXXXXXX509006 Debited with  Rs. 17.70, 27-06-2024 20 : 30 : 29. Aval Bal  Rs. 152.60 CR. Helpline 18001807777   \n",
       "\n",
       "                                                                                                              final_smsbody  \\\n",
       "0  DBGB : Ac XXXXXXXX003338 Debited with Rs. 158.00, 02-11-2022 17 : 36 : 11. Aval Bal Rs. 5111.00 CR. Helpline 18001807777   \n",
       "1    DBGB : Ac XXXXXXXX509006 Debited with Rs. 17.70, 27-06-2024 20 : 30 : 29. Aval Bal Rs. 152.60 CR. Helpline 18001807777   \n",
       "\n",
       "                                                                  predicted_entities  \\\n",
       "0  [(XXXXXXXX003338, PAN), (158.00, AMOUNT), (02-11-2022, DATE), (5111.00, BALANCE)]   \n",
       "1    [(XXXXXXXX509006, PAN), (17.70, AMOUNT), (27-06-2024, DATE), (152.60, BALANCE)]   \n",
       "\n",
       "  length_of_predicted_entities  Predicted_amount_flag  Predicted_pan_flag  \\\n",
       "0                            4                      1                   1   \n",
       "1                            4                      1                   1   \n",
       "\n",
       "   Predicted_date_flag  Predicted_balance_flag  \n",
       "0                    1                       1  \n",
       "1                    1                       1  \n",
       "\n",
       "[2 rows x 21 columns]"
      ]
     },
     "execution_count": 75,
     "metadata": {},
     "output_type": "execute_result"
    }
   ],
   "source": [
    "test_data.head(2)"
   ]
  },
  {
   "cell_type": "markdown",
   "metadata": {},
   "source": [
    "#### Segrigate the predicted entities in columns for operation."
   ]
  },
  {
   "cell_type": "code",
   "execution_count": 76,
   "metadata": {},
   "outputs": [
    {
     "name": "stdout",
     "output_type": "stream",
     "text": [
      "<class 'pandas.core.frame.DataFrame'>\n",
      "RangeIndex: 182332 entries, 0 to 182331\n",
      "Data columns (total 21 columns):\n",
      " #   Column                        Non-Null Count   Dtype \n",
      "---  ------                        --------------   ----- \n",
      " 0   smsbody                       182332 non-null  object\n",
      " 1   templatehash                  182332 non-null  object\n",
      " 2   hash                          182332 non-null  object\n",
      " 3   smstype                       182332 non-null  object\n",
      " 4   amount                        182332 non-null  object\n",
      " 5   balance                       182332 non-null  object\n",
      " 6   pan                           182332 non-null  object\n",
      " 7   date                          182332 non-null  object\n",
      " 8   smsbody_1                     182332 non-null  object\n",
      " 9   smsbody_2                     182332 non-null  object\n",
      " 10  smsbody_3                     182332 non-null  object\n",
      " 11  smsbody_4                     182332 non-null  object\n",
      " 12  smsbody_5                     182332 non-null  object\n",
      " 13  smsbody_6                     182332 non-null  object\n",
      " 14  final_smsbody                 182332 non-null  object\n",
      " 15  predicted_entities            182332 non-null  object\n",
      " 16  length_of_predicted_entities  182332 non-null  int64 \n",
      " 17  Predicted_amount_flag         182332 non-null  int64 \n",
      " 18  Predicted_pan_flag            182332 non-null  int64 \n",
      " 19  Predicted_date_flag           182332 non-null  int64 \n",
      " 20  Predicted_balance_flag        182332 non-null  int64 \n",
      "dtypes: int64(5), object(16)\n",
      "memory usage: 29.2+ MB\n"
     ]
    }
   ],
   "source": [
    "test_data.info()"
   ]
  },
  {
   "cell_type": "code",
   "execution_count": 77,
   "metadata": {},
   "outputs": [],
   "source": [
    "# Define a function to extract 'AMOUNT', 'PAN', 'BALANCE', and 'DATE'\n",
    "def extract_entities(entities):\n",
    "    amount = None\n",
    "    pan = None\n",
    "    balance = None\n",
    "    date = None\n",
    "#     print(entities)\n",
    "    for value, entity_type in entities:\n",
    "#         print(value, entity_type)\n",
    "        if entity_type == 'AMOUNT' and amount is None:  # Store the first AMOUNT found\n",
    "#             print('inside amount')\n",
    "            amount = value\n",
    "        elif entity_type == 'PAN' and pan is None:\n",
    "#             print('inside pan')\n",
    "            pan = value\n",
    "        elif entity_type == 'BALANCE' and balance is None:\n",
    "#             print('inside balance')\n",
    "            balance = value\n",
    "        elif entity_type == 'DATE' and date is None:\n",
    "#             print('inside date')\n",
    "            date = value\n",
    "    \n",
    "    return pd.Series([amount, pan, balance, date])"
   ]
  },
  {
   "cell_type": "code",
   "execution_count": 78,
   "metadata": {},
   "outputs": [],
   "source": [
    "# test_data[test_data['hash'] == 'ec5f9344e134ae3ea9aa897079f8b8cf']['predicted_entities'].apply( lambda x : extract_entities(x))"
   ]
  },
  {
   "cell_type": "code",
   "execution_count": 79,
   "metadata": {},
   "outputs": [],
   "source": [
    "# Apply the function to the 'predicted_entity' column\n",
    "test_data[['predicted_amount', 'predicted_pan', 'predicted_balance', 'predicted_date']] = test_data['predicted_entities'].apply( lambda x : extract_entities(x))"
   ]
  },
  {
   "cell_type": "code",
   "execution_count": 80,
   "metadata": {},
   "outputs": [
    {
     "data": {
      "text/html": [
       "<div>\n",
       "<style scoped>\n",
       "    .dataframe tbody tr th:only-of-type {\n",
       "        vertical-align: middle;\n",
       "    }\n",
       "\n",
       "    .dataframe tbody tr th {\n",
       "        vertical-align: top;\n",
       "    }\n",
       "\n",
       "    .dataframe thead th {\n",
       "        text-align: right;\n",
       "    }\n",
       "</style>\n",
       "<table border=\"1\" class=\"dataframe\">\n",
       "  <thead>\n",
       "    <tr style=\"text-align: right;\">\n",
       "      <th></th>\n",
       "      <th>smsbody</th>\n",
       "      <th>templatehash</th>\n",
       "      <th>hash</th>\n",
       "      <th>smstype</th>\n",
       "      <th>amount</th>\n",
       "      <th>balance</th>\n",
       "      <th>pan</th>\n",
       "      <th>date</th>\n",
       "      <th>smsbody_1</th>\n",
       "      <th>smsbody_2</th>\n",
       "      <th>...</th>\n",
       "      <th>predicted_entities</th>\n",
       "      <th>length_of_predicted_entities</th>\n",
       "      <th>Predicted_amount_flag</th>\n",
       "      <th>Predicted_pan_flag</th>\n",
       "      <th>Predicted_date_flag</th>\n",
       "      <th>Predicted_balance_flag</th>\n",
       "      <th>predicted_amount</th>\n",
       "      <th>predicted_pan</th>\n",
       "      <th>predicted_balance</th>\n",
       "      <th>predicted_date</th>\n",
       "    </tr>\n",
       "  </thead>\n",
       "  <tbody>\n",
       "    <tr>\n",
       "      <th>182331</th>\n",
       "      <td>ICICI Bank Acc XX291 debited Rs. 1,500.00 on 01-Jan-24 NFS*CASH WDL*. Avb Bal Rs. 171.74. To dispute Call 18002662 or SMS BLOCK 291 to 9215676766 .</td>\n",
       "      <td>f4b0f336ff0669fd8fdedad3f9b0ea82</td>\n",
       "      <td>c85e16dc0536d16138a6b413f143cc12</td>\n",
       "      <td>debit-transaction</td>\n",
       "      <td>1500.0</td>\n",
       "      <td>171.74</td>\n",
       "      <td>XX291</td>\n",
       "      <td>01-Jan-24</td>\n",
       "      <td>ICICI Bank Acc XX291 debited  Rs.  1,500.00 on 01-Jan-24 NFS*CASH WDL*. Avb Bal  Rs.  171.74. To dispute Call 18002662 or SMS BLOCK 291 to 9215676766 .</td>\n",
       "      <td>ICICI Bank Acc XX291 debited  Rs.  1,500.00 on 01-Jan-24 NFS*CASH WDL*. Avb Bal  Rs.  171.74. To dispute Call 18002662 or SMS BLOCK 291 to 9215676766 .</td>\n",
       "      <td>...</td>\n",
       "      <td>[(XX291, PAN), (1,500.00, AMOUNT), (01-Jan-24, DATE), (171.74, BALANCE)]</td>\n",
       "      <td>4</td>\n",
       "      <td>1</td>\n",
       "      <td>1</td>\n",
       "      <td>1</td>\n",
       "      <td>1</td>\n",
       "      <td>1,500.00</td>\n",
       "      <td>XX291</td>\n",
       "      <td>171.74</td>\n",
       "      <td>01-Jan-24</td>\n",
       "    </tr>\n",
       "  </tbody>\n",
       "</table>\n",
       "<p>1 rows × 25 columns</p>\n",
       "</div>"
      ],
      "text/plain": [
       "                                                                                                                                                    smsbody  \\\n",
       "182331  ICICI Bank Acc XX291 debited Rs. 1,500.00 on 01-Jan-24 NFS*CASH WDL*. Avb Bal Rs. 171.74. To dispute Call 18002662 or SMS BLOCK 291 to 9215676766 .   \n",
       "\n",
       "                            templatehash                              hash  \\\n",
       "182331  f4b0f336ff0669fd8fdedad3f9b0ea82  c85e16dc0536d16138a6b413f143cc12   \n",
       "\n",
       "                  smstype  amount balance    pan       date  \\\n",
       "182331  debit-transaction  1500.0  171.74  XX291  01-Jan-24   \n",
       "\n",
       "                                                                                                                                                      smsbody_1  \\\n",
       "182331  ICICI Bank Acc XX291 debited  Rs.  1,500.00 on 01-Jan-24 NFS*CASH WDL*. Avb Bal  Rs.  171.74. To dispute Call 18002662 or SMS BLOCK 291 to 9215676766 .   \n",
       "\n",
       "                                                                                                                                                      smsbody_2  \\\n",
       "182331  ICICI Bank Acc XX291 debited  Rs.  1,500.00 on 01-Jan-24 NFS*CASH WDL*. Avb Bal  Rs.  171.74. To dispute Call 18002662 or SMS BLOCK 291 to 9215676766 .   \n",
       "\n",
       "        ...  \\\n",
       "182331  ...   \n",
       "\n",
       "                                                              predicted_entities  \\\n",
       "182331  [(XX291, PAN), (1,500.00, AMOUNT), (01-Jan-24, DATE), (171.74, BALANCE)]   \n",
       "\n",
       "       length_of_predicted_entities Predicted_amount_flag Predicted_pan_flag  \\\n",
       "182331                            4                     1                  1   \n",
       "\n",
       "       Predicted_date_flag Predicted_balance_flag  predicted_amount  \\\n",
       "182331                   1                      1          1,500.00   \n",
       "\n",
       "        predicted_pan  predicted_balance  predicted_date  \n",
       "182331          XX291             171.74       01-Jan-24  \n",
       "\n",
       "[1 rows x 25 columns]"
      ]
     },
     "execution_count": 80,
     "metadata": {},
     "output_type": "execute_result"
    }
   ],
   "source": [
    "test_data.tail(1)"
   ]
  },
  {
   "cell_type": "code",
   "execution_count": 81,
   "metadata": {},
   "outputs": [],
   "source": [
    "# test_data.to_csv('unseen_test_data_acctype_bank1.csv', index = False)"
   ]
  },
  {
   "cell_type": "markdown",
   "metadata": {},
   "source": [
    "#### Get the numeric part of the string captured in 'amount' and 'balance'."
   ]
  },
  {
   "cell_type": "code",
   "execution_count": 93,
   "metadata": {},
   "outputs": [],
   "source": [
    "# Define a function to extract the numeric part\n",
    "def extract_numeric(text):\n",
    "    # Find numeric values using regex, allowing spaces, commas (both standard and non-standard), and periods\n",
    "    match = re.search(r'(?<!\\d)[\\d,\\s，-]+(?:\\.\\d+)?', str(text))  # Captures numbers with spaces, commas, and decimals\n",
    "    if match:\n",
    "        # Clean up: replace non-standard commas and strip extra spaces\n",
    "        return match.group(0).replace('，', ',').replace(' ', '')\n",
    "    return None"
   ]
  },
  {
   "cell_type": "code",
   "execution_count": 99,
   "metadata": {},
   "outputs": [
    {
     "name": "stdout",
     "output_type": "stream",
     "text": [
      "-34478-\n"
     ]
    }
   ],
   "source": [
    "# Test with problematic input\n",
    "print(extract_numeric('-34478-'))  # Output: '59687.56'"
   ]
  },
  {
   "cell_type": "code",
   "execution_count": 96,
   "metadata": {},
   "outputs": [],
   "source": [
    "# Apply the function to the 'predicted_amount' column\n",
    "test_data['predicted_amount'] = test_data['predicted_amount'].apply(lambda x : extract_numeric(x))"
   ]
  },
  {
   "cell_type": "code",
   "execution_count": 100,
   "metadata": {},
   "outputs": [],
   "source": [
    "# Apply the function to the 'predicted_amount' column\n",
    "test_data['predicted_balance'] = test_data['predicted_balance'].apply(lambda x : extract_numeric(x))"
   ]
  },
  {
   "cell_type": "code",
   "execution_count": 101,
   "metadata": {},
   "outputs": [],
   "source": [
    "# test_data.to_csv('unseen_test_data_acctype_bank1.csv', index = False)"
   ]
  },
  {
   "cell_type": "code",
   "execution_count": 102,
   "metadata": {},
   "outputs": [
    {
     "data": {
      "text/html": [
       "<div>\n",
       "<style scoped>\n",
       "    .dataframe tbody tr th:only-of-type {\n",
       "        vertical-align: middle;\n",
       "    }\n",
       "\n",
       "    .dataframe tbody tr th {\n",
       "        vertical-align: top;\n",
       "    }\n",
       "\n",
       "    .dataframe thead th {\n",
       "        text-align: right;\n",
       "    }\n",
       "</style>\n",
       "<table border=\"1\" class=\"dataframe\">\n",
       "  <thead>\n",
       "    <tr style=\"text-align: right;\">\n",
       "      <th></th>\n",
       "      <th>smsbody</th>\n",
       "      <th>templatehash</th>\n",
       "      <th>hash</th>\n",
       "      <th>smstype</th>\n",
       "      <th>amount</th>\n",
       "      <th>balance</th>\n",
       "      <th>pan</th>\n",
       "      <th>date</th>\n",
       "      <th>smsbody_1</th>\n",
       "      <th>smsbody_2</th>\n",
       "      <th>...</th>\n",
       "      <th>predicted_entities</th>\n",
       "      <th>length_of_predicted_entities</th>\n",
       "      <th>Predicted_amount_flag</th>\n",
       "      <th>Predicted_pan_flag</th>\n",
       "      <th>Predicted_date_flag</th>\n",
       "      <th>Predicted_balance_flag</th>\n",
       "      <th>predicted_amount</th>\n",
       "      <th>predicted_pan</th>\n",
       "      <th>predicted_balance</th>\n",
       "      <th>predicted_date</th>\n",
       "    </tr>\n",
       "  </thead>\n",
       "  <tbody>\n",
       "    <tr>\n",
       "      <th>182331</th>\n",
       "      <td>ICICI Bank Acc XX291 debited Rs. 1,500.00 on 01-Jan-24 NFS*CASH WDL*. Avb Bal Rs. 171.74. To dispute Call 18002662 or SMS BLOCK 291 to 9215676766 .</td>\n",
       "      <td>f4b0f336ff0669fd8fdedad3f9b0ea82</td>\n",
       "      <td>c85e16dc0536d16138a6b413f143cc12</td>\n",
       "      <td>debit-transaction</td>\n",
       "      <td>1500.0</td>\n",
       "      <td>171.74</td>\n",
       "      <td>XX291</td>\n",
       "      <td>01-Jan-24</td>\n",
       "      <td>ICICI Bank Acc XX291 debited  Rs.  1,500.00 on 01-Jan-24 NFS*CASH WDL*. Avb Bal  Rs.  171.74. To dispute Call 18002662 or SMS BLOCK 291 to 9215676766 .</td>\n",
       "      <td>ICICI Bank Acc XX291 debited  Rs.  1,500.00 on 01-Jan-24 NFS*CASH WDL*. Avb Bal  Rs.  171.74. To dispute Call 18002662 or SMS BLOCK 291 to 9215676766 .</td>\n",
       "      <td>...</td>\n",
       "      <td>[(XX291, PAN), (1,500.00, AMOUNT), (01-Jan-24, DATE), (171.74, BALANCE)]</td>\n",
       "      <td>4</td>\n",
       "      <td>1</td>\n",
       "      <td>1</td>\n",
       "      <td>1</td>\n",
       "      <td>1</td>\n",
       "      <td>1,500.00</td>\n",
       "      <td>XX291</td>\n",
       "      <td>171.74</td>\n",
       "      <td>01-Jan-24</td>\n",
       "    </tr>\n",
       "  </tbody>\n",
       "</table>\n",
       "<p>1 rows × 25 columns</p>\n",
       "</div>"
      ],
      "text/plain": [
       "                                                                                                                                                    smsbody  \\\n",
       "182331  ICICI Bank Acc XX291 debited Rs. 1,500.00 on 01-Jan-24 NFS*CASH WDL*. Avb Bal Rs. 171.74. To dispute Call 18002662 or SMS BLOCK 291 to 9215676766 .   \n",
       "\n",
       "                            templatehash                              hash  \\\n",
       "182331  f4b0f336ff0669fd8fdedad3f9b0ea82  c85e16dc0536d16138a6b413f143cc12   \n",
       "\n",
       "                  smstype  amount balance    pan       date  \\\n",
       "182331  debit-transaction  1500.0  171.74  XX291  01-Jan-24   \n",
       "\n",
       "                                                                                                                                                      smsbody_1  \\\n",
       "182331  ICICI Bank Acc XX291 debited  Rs.  1,500.00 on 01-Jan-24 NFS*CASH WDL*. Avb Bal  Rs.  171.74. To dispute Call 18002662 or SMS BLOCK 291 to 9215676766 .   \n",
       "\n",
       "                                                                                                                                                      smsbody_2  \\\n",
       "182331  ICICI Bank Acc XX291 debited  Rs.  1,500.00 on 01-Jan-24 NFS*CASH WDL*. Avb Bal  Rs.  171.74. To dispute Call 18002662 or SMS BLOCK 291 to 9215676766 .   \n",
       "\n",
       "        ...  \\\n",
       "182331  ...   \n",
       "\n",
       "                                                              predicted_entities  \\\n",
       "182331  [(XX291, PAN), (1,500.00, AMOUNT), (01-Jan-24, DATE), (171.74, BALANCE)]   \n",
       "\n",
       "       length_of_predicted_entities Predicted_amount_flag Predicted_pan_flag  \\\n",
       "182331                            4                     1                  1   \n",
       "\n",
       "       Predicted_date_flag Predicted_balance_flag  predicted_amount  \\\n",
       "182331                   1                      1          1,500.00   \n",
       "\n",
       "        predicted_pan  predicted_balance  predicted_date  \n",
       "182331          XX291             171.74       01-Jan-24  \n",
       "\n",
       "[1 rows x 25 columns]"
      ]
     },
     "execution_count": 102,
     "metadata": {},
     "output_type": "execute_result"
    }
   ],
   "source": [
    "test_data.tail(1)"
   ]
  },
  {
   "cell_type": "markdown",
   "metadata": {},
   "source": [
    "#### Check the predicted values are numeric in 'amount' & 'balance'. "
   ]
  },
  {
   "cell_type": "code",
   "execution_count": 103,
   "metadata": {},
   "outputs": [],
   "source": [
    "# Function to check if a value is numeric after removing commas\n",
    "def check_numeric(val):\n",
    "    if val is None:  # Handle None values\n",
    "        return 0\n",
    "    try:\n",
    "        # Remove commas from the value\n",
    "        val = val.replace(',', '')\n",
    "        # Try converting to numeric\n",
    "        pd.to_numeric(val)\n",
    "        return 1\n",
    "    except ValueError:\n",
    "        return 0"
   ]
  },
  {
   "cell_type": "code",
   "execution_count": 106,
   "metadata": {},
   "outputs": [
    {
     "data": {
      "text/plain": [
       "0"
      ]
     },
     "execution_count": 106,
     "metadata": {},
     "output_type": "execute_result"
    }
   ],
   "source": [
    "check_numeric('-234,566-')"
   ]
  },
  {
   "cell_type": "code",
   "execution_count": 5,
   "metadata": {},
   "outputs": [
    {
     "ename": "NameError",
     "evalue": "name 'test_data' is not defined",
     "output_type": "error",
     "traceback": [
      "\u001b[0;31m---------------------------------------------------------------------------\u001b[0m",
      "\u001b[0;31mNameError\u001b[0m                                 Traceback (most recent call last)",
      "\u001b[0;32m<ipython-input-5-0ed1da0cae66>\u001b[0m in \u001b[0;36m<module>\u001b[0;34m\u001b[0m\n\u001b[0;32m----> 1\u001b[0;31m \u001b[0mtest_data\u001b[0m\u001b[0;34m.\u001b[0m\u001b[0mcolumns\u001b[0m\u001b[0;34m\u001b[0m\u001b[0;34m\u001b[0m\u001b[0m\n\u001b[0m",
      "\u001b[0;31mNameError\u001b[0m: name 'test_data' is not defined"
     ]
    }
   ],
   "source": [
    "test_data.columns"
   ]
  },
  {
   "cell_type": "code",
   "execution_count": 107,
   "metadata": {},
   "outputs": [],
   "source": [
    "# Apply the function to the 'amount' column and create a new 'is_numeric_flag' column\n",
    "test_data['is_predicted_amount_numeric_flag'] = test_data['predicted_amount'].apply(lambda x : check_numeric(x))"
   ]
  },
  {
   "cell_type": "code",
   "execution_count": 108,
   "metadata": {},
   "outputs": [],
   "source": [
    "# Apply the function to the 'balance' column and create a new 'is_numeric_flag' column\n",
    "test_data['is_Predicted_balance_numeric_flag'] = test_data['predicted_balance'].apply(lambda x : check_numeric(x))"
   ]
  },
  {
   "cell_type": "code",
   "execution_count": 109,
   "metadata": {},
   "outputs": [
    {
     "data": {
      "text/html": [
       "<div>\n",
       "<style scoped>\n",
       "    .dataframe tbody tr th:only-of-type {\n",
       "        vertical-align: middle;\n",
       "    }\n",
       "\n",
       "    .dataframe tbody tr th {\n",
       "        vertical-align: top;\n",
       "    }\n",
       "\n",
       "    .dataframe thead th {\n",
       "        text-align: right;\n",
       "    }\n",
       "</style>\n",
       "<table border=\"1\" class=\"dataframe\">\n",
       "  <thead>\n",
       "    <tr style=\"text-align: right;\">\n",
       "      <th></th>\n",
       "      <th>smsbody</th>\n",
       "      <th>templatehash</th>\n",
       "      <th>hash</th>\n",
       "      <th>smstype</th>\n",
       "      <th>amount</th>\n",
       "      <th>balance</th>\n",
       "      <th>pan</th>\n",
       "      <th>date</th>\n",
       "      <th>smsbody_1</th>\n",
       "      <th>smsbody_2</th>\n",
       "      <th>...</th>\n",
       "      <th>Predicted_amount_flag</th>\n",
       "      <th>Predicted_pan_flag</th>\n",
       "      <th>Predicted_date_flag</th>\n",
       "      <th>Predicted_balance_flag</th>\n",
       "      <th>predicted_amount</th>\n",
       "      <th>predicted_pan</th>\n",
       "      <th>predicted_balance</th>\n",
       "      <th>predicted_date</th>\n",
       "      <th>is_predicted_amount_numeric_flag</th>\n",
       "      <th>is_Predicted_balance_numeric_flag</th>\n",
       "    </tr>\n",
       "  </thead>\n",
       "  <tbody>\n",
       "    <tr>\n",
       "      <th>182331</th>\n",
       "      <td>ICICI Bank Acc XX291 debited Rs. 1,500.00 on 01-Jan-24 NFS*CASH WDL*. Avb Bal Rs. 171.74. To dispute Call 18002662 or SMS BLOCK 291 to 9215676766 .</td>\n",
       "      <td>f4b0f336ff0669fd8fdedad3f9b0ea82</td>\n",
       "      <td>c85e16dc0536d16138a6b413f143cc12</td>\n",
       "      <td>debit-transaction</td>\n",
       "      <td>1500.0</td>\n",
       "      <td>171.74</td>\n",
       "      <td>XX291</td>\n",
       "      <td>01-Jan-24</td>\n",
       "      <td>ICICI Bank Acc XX291 debited  Rs.  1,500.00 on 01-Jan-24 NFS*CASH WDL*. Avb Bal  Rs.  171.74. To dispute Call 18002662 or SMS BLOCK 291 to 9215676766 .</td>\n",
       "      <td>ICICI Bank Acc XX291 debited  Rs.  1,500.00 on 01-Jan-24 NFS*CASH WDL*. Avb Bal  Rs.  171.74. To dispute Call 18002662 or SMS BLOCK 291 to 9215676766 .</td>\n",
       "      <td>...</td>\n",
       "      <td>1</td>\n",
       "      <td>1</td>\n",
       "      <td>1</td>\n",
       "      <td>1</td>\n",
       "      <td>1,500.00</td>\n",
       "      <td>XX291</td>\n",
       "      <td>171.74</td>\n",
       "      <td>01-Jan-24</td>\n",
       "      <td>1</td>\n",
       "      <td>1</td>\n",
       "    </tr>\n",
       "  </tbody>\n",
       "</table>\n",
       "<p>1 rows × 27 columns</p>\n",
       "</div>"
      ],
      "text/plain": [
       "                                                                                                                                                    smsbody  \\\n",
       "182331  ICICI Bank Acc XX291 debited Rs. 1,500.00 on 01-Jan-24 NFS*CASH WDL*. Avb Bal Rs. 171.74. To dispute Call 18002662 or SMS BLOCK 291 to 9215676766 .   \n",
       "\n",
       "                            templatehash                              hash  \\\n",
       "182331  f4b0f336ff0669fd8fdedad3f9b0ea82  c85e16dc0536d16138a6b413f143cc12   \n",
       "\n",
       "                  smstype  amount balance    pan       date  \\\n",
       "182331  debit-transaction  1500.0  171.74  XX291  01-Jan-24   \n",
       "\n",
       "                                                                                                                                                      smsbody_1  \\\n",
       "182331  ICICI Bank Acc XX291 debited  Rs.  1,500.00 on 01-Jan-24 NFS*CASH WDL*. Avb Bal  Rs.  171.74. To dispute Call 18002662 or SMS BLOCK 291 to 9215676766 .   \n",
       "\n",
       "                                                                                                                                                      smsbody_2  \\\n",
       "182331  ICICI Bank Acc XX291 debited  Rs.  1,500.00 on 01-Jan-24 NFS*CASH WDL*. Avb Bal  Rs.  171.74. To dispute Call 18002662 or SMS BLOCK 291 to 9215676766 .   \n",
       "\n",
       "        ... Predicted_amount_flag Predicted_pan_flag Predicted_date_flag  \\\n",
       "182331  ...                     1                  1                   1   \n",
       "\n",
       "       Predicted_balance_flag predicted_amount predicted_pan  \\\n",
       "182331                      1         1,500.00         XX291   \n",
       "\n",
       "        predicted_balance  predicted_date  is_predicted_amount_numeric_flag  \\\n",
       "182331             171.74       01-Jan-24                                 1   \n",
       "\n",
       "        is_Predicted_balance_numeric_flag  \n",
       "182331                                  1  \n",
       "\n",
       "[1 rows x 27 columns]"
      ]
     },
     "execution_count": 109,
     "metadata": {},
     "output_type": "execute_result"
    }
   ],
   "source": [
    "test_data.tail(1)"
   ]
  },
  {
   "cell_type": "code",
   "execution_count": 380,
   "metadata": {},
   "outputs": [
    {
     "data": {
      "text/html": [
       "<div>\n",
       "<style scoped>\n",
       "    .dataframe tbody tr th:only-of-type {\n",
       "        vertical-align: middle;\n",
       "    }\n",
       "\n",
       "    .dataframe tbody tr th {\n",
       "        vertical-align: top;\n",
       "    }\n",
       "\n",
       "    .dataframe thead th {\n",
       "        text-align: right;\n",
       "    }\n",
       "</style>\n",
       "<table border=\"1\" class=\"dataframe\">\n",
       "  <thead>\n",
       "    <tr style=\"text-align: right;\">\n",
       "      <th></th>\n",
       "      <th>smsbody</th>\n",
       "      <th>templatehash</th>\n",
       "      <th>hash</th>\n",
       "      <th>smstype</th>\n",
       "      <th>amount</th>\n",
       "      <th>balance</th>\n",
       "      <th>pan</th>\n",
       "      <th>date</th>\n",
       "      <th>smsbody_1</th>\n",
       "      <th>smsbody_2</th>\n",
       "      <th>...</th>\n",
       "      <th>Predicted_amount_flag</th>\n",
       "      <th>Predicted_pan_flag</th>\n",
       "      <th>Predicted_date_flag</th>\n",
       "      <th>Predicted_balance_flag</th>\n",
       "      <th>predicted_amount</th>\n",
       "      <th>predicted_pan</th>\n",
       "      <th>predicted_balance</th>\n",
       "      <th>predicted_date</th>\n",
       "      <th>is_predicted_amount_numeric_flag</th>\n",
       "      <th>is_Predicted_balance_numeric_flag</th>\n",
       "    </tr>\n",
       "  </thead>\n",
       "  <tbody>\n",
       "    <tr>\n",
       "      <th>62632</th>\n",
       "      <td>राशि रु.200 TRTR/31881298786 से खाता सं 4998 में  जमा की गई. कुल शेष राशि रु...27CR. उपलब्ध शेष राशि रु. 200.27(07-07-2023 12:33:01).- बैंक ऑफ़ बड़ौदा</td>\n",
       "      <td>6e31ae81ed54ac024f157f4eb1ea9321</td>\n",
       "      <td>87c8740057c980461f77be09ae42ee51</td>\n",
       "      <td>credit-transaction</td>\n",
       "      <td>200.0</td>\n",
       "      <td>200.27</td>\n",
       "      <td>4998</td>\n",
       "      <td>07-07-2023</td>\n",
       "      <td>राशि रु.200 TRTR/31881298786 से खाता सं 4998 में  जमा की गई. कुल शेष राशि रु...27CR. उपलब्ध शेष राशि रु. 200.27 ( 07-07-2023 12 : 33 : 01 ) .- बैंक ऑफ़ बड़ौदा</td>\n",
       "      <td>राशि रु.200 TRTR/31881298786 से खाता सं 4998 में  जमा की गई. कुल शेष राशि रु...27CR. उपलब्ध शेष राशि रु. 200.27 ( 07-07-2023 12 : 33 : 01 ) .- बैंक ऑफ़ बड़ौदा</td>\n",
       "      <td>...</td>\n",
       "      <td>0</td>\n",
       "      <td>1</td>\n",
       "      <td>1</td>\n",
       "      <td>1</td>\n",
       "      <td>None</td>\n",
       "      <td>4998</td>\n",
       "      <td>None</td>\n",
       "      <td>07-07-2023</td>\n",
       "      <td>0</td>\n",
       "      <td>0</td>\n",
       "    </tr>\n",
       "    <tr>\n",
       "      <th>62664</th>\n",
       "      <td>राशि रु.8000 TRTR/33211360572 से खाता सं 1649 में  जमा की गई. कुल शेष राशि रु...09CR. उपलब्ध शेष राशि रु. 8000.09(17-11-2023 13:20:11).- बैंक ऑफ़ बड़ौदा</td>\n",
       "      <td>6e31ae81ed54ac024f157f4eb1ea9321</td>\n",
       "      <td>35d5862a4806c7cef506254d2238edf2</td>\n",
       "      <td>credit-transaction</td>\n",
       "      <td>8000.0</td>\n",
       "      <td>8000.09</td>\n",
       "      <td>1649</td>\n",
       "      <td>17-11-2023</td>\n",
       "      <td>राशि रु.8000 TRTR/33211360572 से खाता सं 1649 में  जमा की गई. कुल शेष राशि रु...09CR. उपलब्ध शेष राशि रु. 8000.09 ( 17-11-2023 13 : 20 : 11 ) .- बैंक ऑफ़ बड़ौदा</td>\n",
       "      <td>राशि रु.8000 TRTR/33211360572 से खाता सं 1649 में  जमा की गई. कुल शेष राशि रु...09CR. उपलब्ध शेष राशि रु. 8000.09 ( 17-11-2023 13 : 20 : 11 ) .- बैंक ऑफ़ बड़ौदा</td>\n",
       "      <td>...</td>\n",
       "      <td>0</td>\n",
       "      <td>1</td>\n",
       "      <td>1</td>\n",
       "      <td>1</td>\n",
       "      <td>None</td>\n",
       "      <td>1649</td>\n",
       "      <td>None</td>\n",
       "      <td>17-11-2023</td>\n",
       "      <td>0</td>\n",
       "      <td>0</td>\n",
       "    </tr>\n",
       "    <tr>\n",
       "      <th>62698</th>\n",
       "      <td>राशि रु.5400 TRTR/40311551876 से खाता सं 9629 में  जमा की गई. कुल शेष राशि रु...33CR. उपलब्ध शेष राशि रु. 5400.33(31-01-2024 15:05:23).- बैंक ऑफ़ बड़ौदा</td>\n",
       "      <td>6e31ae81ed54ac024f157f4eb1ea9321</td>\n",
       "      <td>6ba970f66bdf340883c469ac01d4768d</td>\n",
       "      <td>credit-transaction</td>\n",
       "      <td>5400.0</td>\n",
       "      <td>5400.32</td>\n",
       "      <td>9629</td>\n",
       "      <td>31-01-2024</td>\n",
       "      <td>राशि रु.5400 TRTR/40311551876 से खाता सं 9629 में  जमा की गई. कुल शेष राशि रु...33CR. उपलब्ध शेष राशि रु. 5400.33 ( 31-01-2024 15 : 05 : 23 ) .- बैंक ऑफ़ बड़ौदा</td>\n",
       "      <td>राशि रु.5400 TRTR/40311551876 से खाता सं 9629 में  जमा की गई. कुल शेष राशि रु...33CR. उपलब्ध शेष राशि रु. 5400.33 ( 31-01-2024 15 : 05 : 23 ) .- बैंक ऑफ़ बड़ौदा</td>\n",
       "      <td>...</td>\n",
       "      <td>0</td>\n",
       "      <td>1</td>\n",
       "      <td>1</td>\n",
       "      <td>1</td>\n",
       "      <td>None</td>\n",
       "      <td>9629</td>\n",
       "      <td>None</td>\n",
       "      <td>31-01-2024</td>\n",
       "      <td>0</td>\n",
       "      <td>0</td>\n",
       "    </tr>\n",
       "    <tr>\n",
       "      <th>63167</th>\n",
       "      <td>राशि रु.8000 TRTR/41841607267 से खाता सं 7813 में  जमा की गई. कुल शेष राशि रु...33CR. उपलब्ध शेष राशि रु. 10000.33(02-07-2024 16:50:20).- बैंक ऑफ़ बड़ौदा</td>\n",
       "      <td>6e31ae81ed54ac024f157f4eb1ea9321</td>\n",
       "      <td>12d0749dc007a5fc70a4c20db41066be</td>\n",
       "      <td>credit-transaction</td>\n",
       "      <td>8000.0</td>\n",
       "      <td>10000.33</td>\n",
       "      <td>7813</td>\n",
       "      <td>02-07-2024</td>\n",
       "      <td>राशि रु.8000 TRTR/41841607267 से खाता सं 7813 में  जमा की गई. कुल शेष राशि रु...33CR. उपलब्ध शेष राशि रु. 10000.33 ( 02-07-2024 16 : 50 : 20 ) .- बैंक ऑफ़ बड़ौदा</td>\n",
       "      <td>राशि रु.8000 TRTR/41841607267 से खाता सं 7813 में  जमा की गई. कुल शेष राशि रु...33CR. उपलब्ध शेष राशि रु. 10000.33 ( 02-07-2024 16 : 50 : 20 ) .- बैंक ऑफ़ बड़ौदा</td>\n",
       "      <td>...</td>\n",
       "      <td>0</td>\n",
       "      <td>1</td>\n",
       "      <td>1</td>\n",
       "      <td>1</td>\n",
       "      <td>None</td>\n",
       "      <td>7813</td>\n",
       "      <td>None</td>\n",
       "      <td>02-07-2024</td>\n",
       "      <td>0</td>\n",
       "      <td>0</td>\n",
       "    </tr>\n",
       "    <tr>\n",
       "      <th>63497</th>\n",
       "      <td>राशि रु.10000 TRTR/33181341815 से खाता सं 1649 में  जमा की गई. कुल शेष राशि रु...09CR. उपलब्ध शेष राशि रु. 10000.09(14-11-2023 13:00:38).- बैंक ऑफ़ बड़ौदा</td>\n",
       "      <td>6e31ae81ed54ac024f157f4eb1ea9321</td>\n",
       "      <td>5d0a688e00a40ec6dd4311e1b95669c1</td>\n",
       "      <td>credit-transaction</td>\n",
       "      <td>10000.0</td>\n",
       "      <td>10000.09</td>\n",
       "      <td>1649</td>\n",
       "      <td>14-11-2023</td>\n",
       "      <td>राशि रु.10000 TRTR/33181341815 से खाता सं 1649 में  जमा की गई. कुल शेष राशि रु...09CR. उपलब्ध शेष राशि रु. 10000.09 ( 14-11-2023 13 : 00 : 38 ) .- बैंक ऑफ़ बड़ौदा</td>\n",
       "      <td>राशि रु.10000 TRTR/33181341815 से खाता सं 1649 में  जमा की गई. कुल शेष राशि रु...09CR. उपलब्ध शेष राशि रु. 10000.09 ( 14-11-2023 13 : 00 : 38 ) .- बैंक ऑफ़ बड़ौदा</td>\n",
       "      <td>...</td>\n",
       "      <td>0</td>\n",
       "      <td>1</td>\n",
       "      <td>1</td>\n",
       "      <td>1</td>\n",
       "      <td>None</td>\n",
       "      <td>1649</td>\n",
       "      <td>None</td>\n",
       "      <td>14-11-2023</td>\n",
       "      <td>0</td>\n",
       "      <td>0</td>\n",
       "    </tr>\n",
       "    <tr>\n",
       "      <th>63579</th>\n",
       "      <td>राशि रु.3000 TRTR/42791850985 से खाता सं 7171 में  जमा की गई. कुल शेष राशि रु...5CR. उपलब्ध शेष राशि रु. 3000.5(05-10-2024 18:53:01).- बैंक ऑफ़ बड़ौदा</td>\n",
       "      <td>6e31ae81ed54ac024f157f4eb1ea9321</td>\n",
       "      <td>175cde0381c2bd67b63360fbeeda8dbc</td>\n",
       "      <td>credit-transaction</td>\n",
       "      <td>3000.0</td>\n",
       "      <td>3000.0</td>\n",
       "      <td>7171</td>\n",
       "      <td>05-10-2024</td>\n",
       "      <td>राशि रु.3000 TRTR/42791850985 से खाता सं 7171 में  जमा की गई. कुल शेष राशि रु...5CR. उपलब्ध शेष राशि रु. 3000.5 ( 05-10-2024 18 : 53 : 01 ) .- बैंक ऑफ़ बड़ौदा</td>\n",
       "      <td>राशि रु.3000 TRTR/42791850985 से खाता सं 7171 में  जमा की गई. कुल शेष राशि रु...5CR. उपलब्ध शेष राशि रु. 3000.5 ( 05-10-2024 18 : 53 : 01 ) .- बैंक ऑफ़ बड़ौदा</td>\n",
       "      <td>...</td>\n",
       "      <td>0</td>\n",
       "      <td>1</td>\n",
       "      <td>1</td>\n",
       "      <td>1</td>\n",
       "      <td>None</td>\n",
       "      <td>7171</td>\n",
       "      <td>None</td>\n",
       "      <td>05-10-2024</td>\n",
       "      <td>0</td>\n",
       "      <td>0</td>\n",
       "    </tr>\n",
       "    <tr>\n",
       "      <th>63619</th>\n",
       "      <td>राशि रु.10000 TRTR/41751641911 से खाता सं 4431 में  जमा की गई. कुल शेष राशि रु...2CR. उपलब्ध शेष राशि रु. 10000.2(23-06-2024 16:59:07).- बैंक ऑफ़ बड़ौदा</td>\n",
       "      <td>6e31ae81ed54ac024f157f4eb1ea9321</td>\n",
       "      <td>2e4dc350350b2ebfa3b1245ef3e44af4</td>\n",
       "      <td>credit-transaction</td>\n",
       "      <td>10000.0</td>\n",
       "      <td>10000.2</td>\n",
       "      <td>4431</td>\n",
       "      <td>23-06-2024</td>\n",
       "      <td>राशि रु.10000 TRTR/41751641911 से खाता सं 4431 में  जमा की गई. कुल शेष राशि रु...2CR. उपलब्ध शेष राशि रु. 10000.2 ( 23-06-2024 16 : 59 : 07 ) .- बैंक ऑफ़ बड़ौदा</td>\n",
       "      <td>राशि रु.10000 TRTR/41751641911 से खाता सं 4431 में  जमा की गई. कुल शेष राशि रु...2CR. उपलब्ध शेष राशि रु. 10000.2 ( 23-06-2024 16 : 59 : 07 ) .- बैंक ऑफ़ बड़ौदा</td>\n",
       "      <td>...</td>\n",
       "      <td>0</td>\n",
       "      <td>1</td>\n",
       "      <td>1</td>\n",
       "      <td>1</td>\n",
       "      <td>None</td>\n",
       "      <td>4431</td>\n",
       "      <td>None</td>\n",
       "      <td>23-06-2024</td>\n",
       "      <td>0</td>\n",
       "      <td>0</td>\n",
       "    </tr>\n",
       "    <tr>\n",
       "      <th>177707</th>\n",
       "      <td>Ac XXXXXXXX00204484 Credited with Rs.1500.00，07-11-2019 14:56:39 thru NEFT from TREASURY A/C JODHPUR RURAL. Aval Bal 3529.00 CR Helpline 18001802222</td>\n",
       "      <td>c40528cbe9cc2aa5d8b3a21c71067b78</td>\n",
       "      <td>2ada580e96cbdecb7338376669a5c972</td>\n",
       "      <td>credit-transaction</td>\n",
       "      <td>1500.0</td>\n",
       "      <td>3529.0</td>\n",
       "      <td>XXXXXXXX00204484</td>\n",
       "      <td>07-11-2019</td>\n",
       "      <td>Ac XXXXXXXX00204484 Credited with  Rs. 1500.00，07-11-2019 14 : 56 : 39 thru NEFT from TREASURY A/C JODHPUR RURAL. Aval Bal 3529.00 CR Helpline 18001802222</td>\n",
       "      <td>Ac XXXXXXXX00204484 Credited with  Rs. 1500.00，07-11-2019 14 : 56 : 39 thru NEFT from TREASURY A/C JODHPUR RURAL. Aval Bal 3529.00 CR Helpline 18001802222</td>\n",
       "      <td>...</td>\n",
       "      <td>1</td>\n",
       "      <td>1</td>\n",
       "      <td>0</td>\n",
       "      <td>1</td>\n",
       "      <td>1500.00</td>\n",
       "      <td>XXXXXXXX00204484</td>\n",
       "      <td>-</td>\n",
       "      <td>None</td>\n",
       "      <td>1</td>\n",
       "      <td>0</td>\n",
       "    </tr>\n",
       "    <tr>\n",
       "      <th>177744</th>\n",
       "      <td>Ac XXXXXXXX00204484 Credited with Rs.1500.00，07-11-2019 14:59:03 thru NEFT from TREASURY A/C JODHPUR RURAL. Aval Bal 5029.00 CR Helpline 18001802222</td>\n",
       "      <td>c40528cbe9cc2aa5d8b3a21c71067b78</td>\n",
       "      <td>60d8f7eae6794cc3b7f53546e7b43d83</td>\n",
       "      <td>credit-transaction</td>\n",
       "      <td>1500.0</td>\n",
       "      <td>5029.0</td>\n",
       "      <td>XXXXXXXX00204484</td>\n",
       "      <td>07-11-2019</td>\n",
       "      <td>Ac XXXXXXXX00204484 Credited with  Rs. 1500.00，07-11-2019 14 : 59 : 03 thru NEFT from TREASURY A/C JODHPUR RURAL. Aval Bal 5029.00 CR Helpline 18001802222</td>\n",
       "      <td>Ac XXXXXXXX00204484 Credited with  Rs. 1500.00，07-11-2019 14 : 59 : 03 thru NEFT from TREASURY A/C JODHPUR RURAL. Aval Bal 5029.00 CR Helpline 18001802222</td>\n",
       "      <td>...</td>\n",
       "      <td>1</td>\n",
       "      <td>1</td>\n",
       "      <td>0</td>\n",
       "      <td>1</td>\n",
       "      <td>1500.00</td>\n",
       "      <td>XXXXXXXX00204484</td>\n",
       "      <td>-</td>\n",
       "      <td>None</td>\n",
       "      <td>1</td>\n",
       "      <td>0</td>\n",
       "    </tr>\n",
       "  </tbody>\n",
       "</table>\n",
       "<p>9 rows × 27 columns</p>\n",
       "</div>"
      ],
      "text/plain": [
       "                                                                                                                                                         smsbody  \\\n",
       "62632       राशि रु.200 TRTR/31881298786 से खाता सं 4998 में  जमा की गई. कुल शेष राशि रु...27CR. उपलब्ध शेष राशि रु. 200.27(07-07-2023 12:33:01).- बैंक ऑफ़ बड़ौदा   \n",
       "62664     राशि रु.8000 TRTR/33211360572 से खाता सं 1649 में  जमा की गई. कुल शेष राशि रु...09CR. उपलब्ध शेष राशि रु. 8000.09(17-11-2023 13:20:11).- बैंक ऑफ़ बड़ौदा   \n",
       "62698     राशि रु.5400 TRTR/40311551876 से खाता सं 9629 में  जमा की गई. कुल शेष राशि रु...33CR. उपलब्ध शेष राशि रु. 5400.33(31-01-2024 15:05:23).- बैंक ऑफ़ बड़ौदा   \n",
       "63167    राशि रु.8000 TRTR/41841607267 से खाता सं 7813 में  जमा की गई. कुल शेष राशि रु...33CR. उपलब्ध शेष राशि रु. 10000.33(02-07-2024 16:50:20).- बैंक ऑफ़ बड़ौदा   \n",
       "63497   राशि रु.10000 TRTR/33181341815 से खाता सं 1649 में  जमा की गई. कुल शेष राशि रु...09CR. उपलब्ध शेष राशि रु. 10000.09(14-11-2023 13:00:38).- बैंक ऑफ़ बड़ौदा   \n",
       "63579       राशि रु.3000 TRTR/42791850985 से खाता सं 7171 में  जमा की गई. कुल शेष राशि रु...5CR. उपलब्ध शेष राशि रु. 3000.5(05-10-2024 18:53:01).- बैंक ऑफ़ बड़ौदा   \n",
       "63619     राशि रु.10000 TRTR/41751641911 से खाता सं 4431 में  जमा की गई. कुल शेष राशि रु...2CR. उपलब्ध शेष राशि रु. 10000.2(23-06-2024 16:59:07).- बैंक ऑफ़ बड़ौदा   \n",
       "177707      Ac XXXXXXXX00204484 Credited with Rs.1500.00，07-11-2019 14:56:39 thru NEFT from TREASURY A/C JODHPUR RURAL. Aval Bal 3529.00 CR Helpline 18001802222   \n",
       "177744      Ac XXXXXXXX00204484 Credited with Rs.1500.00，07-11-2019 14:59:03 thru NEFT from TREASURY A/C JODHPUR RURAL. Aval Bal 5029.00 CR Helpline 18001802222   \n",
       "\n",
       "                            templatehash                              hash  \\\n",
       "62632   6e31ae81ed54ac024f157f4eb1ea9321  87c8740057c980461f77be09ae42ee51   \n",
       "62664   6e31ae81ed54ac024f157f4eb1ea9321  35d5862a4806c7cef506254d2238edf2   \n",
       "62698   6e31ae81ed54ac024f157f4eb1ea9321  6ba970f66bdf340883c469ac01d4768d   \n",
       "63167   6e31ae81ed54ac024f157f4eb1ea9321  12d0749dc007a5fc70a4c20db41066be   \n",
       "63497   6e31ae81ed54ac024f157f4eb1ea9321  5d0a688e00a40ec6dd4311e1b95669c1   \n",
       "63579   6e31ae81ed54ac024f157f4eb1ea9321  175cde0381c2bd67b63360fbeeda8dbc   \n",
       "63619   6e31ae81ed54ac024f157f4eb1ea9321  2e4dc350350b2ebfa3b1245ef3e44af4   \n",
       "177707  c40528cbe9cc2aa5d8b3a21c71067b78  2ada580e96cbdecb7338376669a5c972   \n",
       "177744  c40528cbe9cc2aa5d8b3a21c71067b78  60d8f7eae6794cc3b7f53546e7b43d83   \n",
       "\n",
       "                   smstype   amount   balance               pan        date  \\\n",
       "62632   credit-transaction    200.0    200.27              4998  07-07-2023   \n",
       "62664   credit-transaction   8000.0   8000.09              1649  17-11-2023   \n",
       "62698   credit-transaction   5400.0   5400.32              9629  31-01-2024   \n",
       "63167   credit-transaction   8000.0  10000.33              7813  02-07-2024   \n",
       "63497   credit-transaction  10000.0  10000.09              1649  14-11-2023   \n",
       "63579   credit-transaction   3000.0    3000.0              7171  05-10-2024   \n",
       "63619   credit-transaction  10000.0   10000.2              4431  23-06-2024   \n",
       "177707  credit-transaction   1500.0    3529.0  XXXXXXXX00204484  07-11-2019   \n",
       "177744  credit-transaction   1500.0    5029.0  XXXXXXXX00204484  07-11-2019   \n",
       "\n",
       "                                                                                                                                                               smsbody_1  \\\n",
       "62632       राशि रु.200 TRTR/31881298786 से खाता सं 4998 में  जमा की गई. कुल शेष राशि रु...27CR. उपलब्ध शेष राशि रु. 200.27 ( 07-07-2023 12 : 33 : 01 ) .- बैंक ऑफ़ बड़ौदा   \n",
       "62664     राशि रु.8000 TRTR/33211360572 से खाता सं 1649 में  जमा की गई. कुल शेष राशि रु...09CR. उपलब्ध शेष राशि रु. 8000.09 ( 17-11-2023 13 : 20 : 11 ) .- बैंक ऑफ़ बड़ौदा   \n",
       "62698     राशि रु.5400 TRTR/40311551876 से खाता सं 9629 में  जमा की गई. कुल शेष राशि रु...33CR. उपलब्ध शेष राशि रु. 5400.33 ( 31-01-2024 15 : 05 : 23 ) .- बैंक ऑफ़ बड़ौदा   \n",
       "63167    राशि रु.8000 TRTR/41841607267 से खाता सं 7813 में  जमा की गई. कुल शेष राशि रु...33CR. उपलब्ध शेष राशि रु. 10000.33 ( 02-07-2024 16 : 50 : 20 ) .- बैंक ऑफ़ बड़ौदा   \n",
       "63497   राशि रु.10000 TRTR/33181341815 से खाता सं 1649 में  जमा की गई. कुल शेष राशि रु...09CR. उपलब्ध शेष राशि रु. 10000.09 ( 14-11-2023 13 : 00 : 38 ) .- बैंक ऑफ़ बड़ौदा   \n",
       "63579       राशि रु.3000 TRTR/42791850985 से खाता सं 7171 में  जमा की गई. कुल शेष राशि रु...5CR. उपलब्ध शेष राशि रु. 3000.5 ( 05-10-2024 18 : 53 : 01 ) .- बैंक ऑफ़ बड़ौदा   \n",
       "63619     राशि रु.10000 TRTR/41751641911 से खाता सं 4431 में  जमा की गई. कुल शेष राशि रु...2CR. उपलब्ध शेष राशि रु. 10000.2 ( 23-06-2024 16 : 59 : 07 ) .- बैंक ऑफ़ बड़ौदा   \n",
       "177707        Ac XXXXXXXX00204484 Credited with  Rs. 1500.00，07-11-2019 14 : 56 : 39 thru NEFT from TREASURY A/C JODHPUR RURAL. Aval Bal 3529.00 CR Helpline 18001802222   \n",
       "177744        Ac XXXXXXXX00204484 Credited with  Rs. 1500.00，07-11-2019 14 : 59 : 03 thru NEFT from TREASURY A/C JODHPUR RURAL. Aval Bal 5029.00 CR Helpline 18001802222   \n",
       "\n",
       "                                                                                                                                                               smsbody_2  \\\n",
       "62632       राशि रु.200 TRTR/31881298786 से खाता सं 4998 में  जमा की गई. कुल शेष राशि रु...27CR. उपलब्ध शेष राशि रु. 200.27 ( 07-07-2023 12 : 33 : 01 ) .- बैंक ऑफ़ बड़ौदा   \n",
       "62664     राशि रु.8000 TRTR/33211360572 से खाता सं 1649 में  जमा की गई. कुल शेष राशि रु...09CR. उपलब्ध शेष राशि रु. 8000.09 ( 17-11-2023 13 : 20 : 11 ) .- बैंक ऑफ़ बड़ौदा   \n",
       "62698     राशि रु.5400 TRTR/40311551876 से खाता सं 9629 में  जमा की गई. कुल शेष राशि रु...33CR. उपलब्ध शेष राशि रु. 5400.33 ( 31-01-2024 15 : 05 : 23 ) .- बैंक ऑफ़ बड़ौदा   \n",
       "63167    राशि रु.8000 TRTR/41841607267 से खाता सं 7813 में  जमा की गई. कुल शेष राशि रु...33CR. उपलब्ध शेष राशि रु. 10000.33 ( 02-07-2024 16 : 50 : 20 ) .- बैंक ऑफ़ बड़ौदा   \n",
       "63497   राशि रु.10000 TRTR/33181341815 से खाता सं 1649 में  जमा की गई. कुल शेष राशि रु...09CR. उपलब्ध शेष राशि रु. 10000.09 ( 14-11-2023 13 : 00 : 38 ) .- बैंक ऑफ़ बड़ौदा   \n",
       "63579       राशि रु.3000 TRTR/42791850985 से खाता सं 7171 में  जमा की गई. कुल शेष राशि रु...5CR. उपलब्ध शेष राशि रु. 3000.5 ( 05-10-2024 18 : 53 : 01 ) .- बैंक ऑफ़ बड़ौदा   \n",
       "63619     राशि रु.10000 TRTR/41751641911 से खाता सं 4431 में  जमा की गई. कुल शेष राशि रु...2CR. उपलब्ध शेष राशि रु. 10000.2 ( 23-06-2024 16 : 59 : 07 ) .- बैंक ऑफ़ बड़ौदा   \n",
       "177707        Ac XXXXXXXX00204484 Credited with  Rs. 1500.00，07-11-2019 14 : 56 : 39 thru NEFT from TREASURY A/C JODHPUR RURAL. Aval Bal 3529.00 CR Helpline 18001802222   \n",
       "177744        Ac XXXXXXXX00204484 Credited with  Rs. 1500.00，07-11-2019 14 : 59 : 03 thru NEFT from TREASURY A/C JODHPUR RURAL. Aval Bal 5029.00 CR Helpline 18001802222   \n",
       "\n",
       "        ... Predicted_amount_flag Predicted_pan_flag Predicted_date_flag  \\\n",
       "62632   ...                     0                  1                   1   \n",
       "62664   ...                     0                  1                   1   \n",
       "62698   ...                     0                  1                   1   \n",
       "63167   ...                     0                  1                   1   \n",
       "63497   ...                     0                  1                   1   \n",
       "63579   ...                     0                  1                   1   \n",
       "63619   ...                     0                  1                   1   \n",
       "177707  ...                     1                  1                   0   \n",
       "177744  ...                     1                  1                   0   \n",
       "\n",
       "       Predicted_balance_flag predicted_amount     predicted_pan  \\\n",
       "62632                       1             None              4998   \n",
       "62664                       1             None              1649   \n",
       "62698                       1             None              9629   \n",
       "63167                       1             None              7813   \n",
       "63497                       1             None              1649   \n",
       "63579                       1             None              7171   \n",
       "63619                       1             None              4431   \n",
       "177707                      1          1500.00  XXXXXXXX00204484   \n",
       "177744                      1          1500.00  XXXXXXXX00204484   \n",
       "\n",
       "        predicted_balance  predicted_date  is_predicted_amount_numeric_flag  \\\n",
       "62632                None      07-07-2023                                 0   \n",
       "62664                None      17-11-2023                                 0   \n",
       "62698                None      31-01-2024                                 0   \n",
       "63167                None      02-07-2024                                 0   \n",
       "63497                None      14-11-2023                                 0   \n",
       "63579                None      05-10-2024                                 0   \n",
       "63619                None      23-06-2024                                 0   \n",
       "177707                  -            None                                 1   \n",
       "177744                  -            None                                 1   \n",
       "\n",
       "        is_Predicted_balance_numeric_flag  \n",
       "62632                                   0  \n",
       "62664                                   0  \n",
       "62698                                   0  \n",
       "63167                                   0  \n",
       "63497                                   0  \n",
       "63579                                   0  \n",
       "63619                                   0  \n",
       "177707                                  0  \n",
       "177744                                  0  \n",
       "\n",
       "[9 rows x 27 columns]"
      ]
     },
     "execution_count": 380,
     "metadata": {},
     "output_type": "execute_result"
    }
   ],
   "source": [
    "test_data[(test_data['Predicted_balance_flag'] == 1) & (test_data['is_Predicted_balance_numeric_flag'] == 0)]"
   ]
  },
  {
   "cell_type": "markdown",
   "metadata": {},
   "source": [
    "#### Write the data generated above into S3 to analyse the templates containing errors."
   ]
  },
  {
   "cell_type": "code",
   "execution_count": 110,
   "metadata": {},
   "outputs": [],
   "source": [
    "# test_data.to_csv('prediction_done_on_test_data_2.csv', index = False)"
   ]
  },
  {
   "cell_type": "markdown",
   "metadata": {},
   "source": [
    "#### Get those templates where 'amount' and 'balance' got predicted by the model but they not numeric values."
   ]
  },
  {
   "cell_type": "code",
   "execution_count": 111,
   "metadata": {},
   "outputs": [
    {
     "data": {
      "text/plain": [
       "(12, 10)"
      ]
     },
     "execution_count": 111,
     "metadata": {},
     "output_type": "execute_result"
    }
   ],
   "source": [
    "test_data[(test_data['Predicted_amount_flag'] == 1) & (test_data['is_predicted_amount_numeric_flag'] == 0)][['templatehash', 'hash', 'smsbody', 'final_smsbody',\n",
    "'predicted_entities',\n",
    "'length_of_predicted_entities',\n",
    "'Predicted_amount_flag',  \n",
    "'Predicted_pan_flag',   \n",
    "'Predicted_date_flag',\n",
    "'Predicted_balance_flag']].shape"
   ]
  },
  {
   "cell_type": "code",
   "execution_count": 115,
   "metadata": {},
   "outputs": [
    {
     "data": {
      "text/plain": [
       "templatehash\n",
       "0d4664cd685d8114b56713711e139943     1\n",
       "51594b3e12f22c2b2e69963c462a2c94    11\n",
       "Name: hash, dtype: int64"
      ]
     },
     "execution_count": 115,
     "metadata": {},
     "output_type": "execute_result"
    }
   ],
   "source": [
    "test_data[(test_data['Predicted_amount_flag'] == 1) & (test_data['is_predicted_amount_numeric_flag'] == 0)].groupby(['templatehash'])['hash'].nunique()"
   ]
  },
  {
   "cell_type": "code",
   "execution_count": null,
   "metadata": {},
   "outputs": [],
   "source": [
    "test_data[(test_data['Predicted_balance_flag'] == 1) & (test_data['is_Predicted_balance_numeric_flag'] == 0)][['templatehash', 'hash', 'smsbody', 'final_smsbody',\n",
    "'predicted_entities',\n",
    "'length_of_predicted_entities',\n",
    "'Predicted_amount_flag',  \n",
    "'Predicted_pan_flag',   \n",
    "'Predicted_date_flag',\n",
    "'Predicted_balance_flag']].shape"
   ]
  },
  {
   "cell_type": "code",
   "execution_count": 116,
   "metadata": {},
   "outputs": [
    {
     "data": {
      "text/plain": [
       "templatehash\n",
       "6e31ae81ed54ac024f157f4eb1ea9321    7\n",
       "c40528cbe9cc2aa5d8b3a21c71067b78    2\n",
       "Name: hash, dtype: int64"
      ]
     },
     "execution_count": 116,
     "metadata": {},
     "output_type": "execute_result"
    }
   ],
   "source": [
    "test_data[(test_data['Predicted_balance_flag'] == 1) & (test_data['is_Predicted_balance_numeric_flag'] == 0)].groupby(['templatehash'])['hash'].nunique()"
   ]
  },
  {
   "cell_type": "markdown",
   "metadata": {},
   "source": [
    "### Calculate extraction report/metric with respect to extracted data."
   ]
  },
  {
   "cell_type": "markdown",
   "metadata": {},
   "source": [
    "#### 1. Extraction"
   ]
  },
  {
   "cell_type": "code",
   "execution_count": 359,
   "metadata": {},
   "outputs": [],
   "source": [
    "# Assuming the counts are already calculated\n",
    "actual_amt_cnt = test_data[~test_data['amount'].isin([-1, '-1', '-1.0', -1.0])]['hash'].nunique()\n",
    "predicted_amt_cnt = test_data[~test_data['amount'].isin([-1, '-1', '-1.0', -1.0])]['Predicted_amount_flag'].sum()"
   ]
  },
  {
   "cell_type": "code",
   "execution_count": 360,
   "metadata": {},
   "outputs": [],
   "source": [
    "actual_pan_cnt = test_data[~test_data['pan'].isin([-1, '-1', '-1.0', -1.0])]['hash'].nunique()\n",
    "predicted_pan_cnt = test_data[~test_data['pan'].isin([-1, '-1', '-1.0', -1.0])]['Predicted_pan_flag'].sum()"
   ]
  },
  {
   "cell_type": "code",
   "execution_count": 361,
   "metadata": {},
   "outputs": [],
   "source": [
    "actual_date_cnt = test_data[~test_data['date'].isin([-1, '-1', '-1.0', -1.0])]['hash'].nunique()\n",
    "predicted_date_cnt = test_data[~test_data['date'].isin([-1, '-1', '-1.0', -1.0])]['Predicted_date_flag'].sum()"
   ]
  },
  {
   "cell_type": "code",
   "execution_count": 362,
   "metadata": {},
   "outputs": [],
   "source": [
    "actual_balance_cnt = test_data[~test_data['balance'].isin([-1, '-1', '-1.0', -1.0])]['hash'].nunique()\n",
    "predicted_balance_cnt = test_data[~test_data['balance'].isin([-1, '-1', '-1.0', -1.0])]['Predicted_balance_flag'].sum()"
   ]
  },
  {
   "cell_type": "code",
   "execution_count": 363,
   "metadata": {},
   "outputs": [
    {
     "data": {
      "text/plain": [
       "101947"
      ]
     },
     "execution_count": 363,
     "metadata": {},
     "output_type": "execute_result"
    }
   ],
   "source": [
    "actual_balance_cnt"
   ]
  },
  {
   "cell_type": "code",
   "execution_count": 364,
   "metadata": {},
   "outputs": [],
   "source": [
    "# Create a dictionary for actual and predicted counts\n",
    "data = {\n",
    "    'Actual Count': [actual_amt_cnt, actual_pan_cnt, actual_date_cnt, actual_balance_cnt],\n",
    "    'Predicted Count': [predicted_amt_cnt, predicted_pan_cnt, predicted_date_cnt, predicted_balance_cnt]\n",
    "}"
   ]
  },
  {
   "cell_type": "code",
   "execution_count": 365,
   "metadata": {},
   "outputs": [],
   "source": [
    "# Create the DataFrame with appropriate labels\n",
    "metrics_df = pd.DataFrame(data, index=['Amount', 'PAN', 'Date', 'Balance'])"
   ]
  },
  {
   "cell_type": "code",
   "execution_count": 366,
   "metadata": {},
   "outputs": [],
   "source": [
    "# Display the matrix form of the results\n",
    "# Calculate accuracy percentage\n",
    "metrics_df['Unextracted Count'] = (metrics_df['Actual Count'] - metrics_df['Predicted Count'])\n",
    "metrics_df['Extraction_%'] = round((metrics_df['Predicted Count'] / metrics_df['Actual Count']) * 100, 2)"
   ]
  },
  {
   "cell_type": "code",
   "execution_count": 367,
   "metadata": {},
   "outputs": [
    {
     "data": {
      "text/html": [
       "<div>\n",
       "<style scoped>\n",
       "    .dataframe tbody tr th:only-of-type {\n",
       "        vertical-align: middle;\n",
       "    }\n",
       "\n",
       "    .dataframe tbody tr th {\n",
       "        vertical-align: top;\n",
       "    }\n",
       "\n",
       "    .dataframe thead th {\n",
       "        text-align: right;\n",
       "    }\n",
       "</style>\n",
       "<table border=\"1\" class=\"dataframe\">\n",
       "  <thead>\n",
       "    <tr style=\"text-align: right;\">\n",
       "      <th></th>\n",
       "      <th>Actual Count</th>\n",
       "      <th>Predicted Count</th>\n",
       "      <th>Unextracted Count</th>\n",
       "      <th>Extraction_%</th>\n",
       "    </tr>\n",
       "  </thead>\n",
       "  <tbody>\n",
       "    <tr>\n",
       "      <th>Amount</th>\n",
       "      <td>182261</td>\n",
       "      <td>176447</td>\n",
       "      <td>5814</td>\n",
       "      <td>96.81</td>\n",
       "    </tr>\n",
       "    <tr>\n",
       "      <th>PAN</th>\n",
       "      <td>159037</td>\n",
       "      <td>149684</td>\n",
       "      <td>9353</td>\n",
       "      <td>94.12</td>\n",
       "    </tr>\n",
       "    <tr>\n",
       "      <th>Date</th>\n",
       "      <td>149127</td>\n",
       "      <td>143087</td>\n",
       "      <td>6040</td>\n",
       "      <td>95.95</td>\n",
       "    </tr>\n",
       "    <tr>\n",
       "      <th>Balance</th>\n",
       "      <td>101947</td>\n",
       "      <td>90914</td>\n",
       "      <td>11033</td>\n",
       "      <td>89.18</td>\n",
       "    </tr>\n",
       "  </tbody>\n",
       "</table>\n",
       "</div>"
      ],
      "text/plain": [
       "         Actual Count  Predicted Count  Unextracted Count  Extraction_%\n",
       "Amount         182261           176447               5814         96.81\n",
       "PAN            159037           149684               9353         94.12\n",
       "Date           149127           143087               6040         95.95\n",
       "Balance        101947            90914              11033         89.18"
      ]
     },
     "execution_count": 367,
     "metadata": {},
     "output_type": "execute_result"
    }
   ],
   "source": [
    "# Display the updated metrics DataFrame\n",
    "metrics_df"
   ]
  },
  {
   "cell_type": "markdown",
   "metadata": {},
   "source": [
    "##### Get the missing / unextracted templates to anlayse."
   ]
  },
  {
   "cell_type": "markdown",
   "metadata": {},
   "source": [
    "##### Amt."
   ]
  },
  {
   "cell_type": "code",
   "execution_count": 368,
   "metadata": {},
   "outputs": [
    {
     "data": {
      "text/plain": [
       "(5814, 9)"
      ]
     },
     "execution_count": 368,
     "metadata": {},
     "output_type": "execute_result"
    }
   ],
   "source": [
    "test_data[(~test_data['amount'].isin([-1, '-1', '-1.0', -1.0])) &\n",
    "                        (test_data['Predicted_amount_flag'] == 0)][['templatehash', 'hash', 'smsbody', 'final_smsbody', 'amount',\n",
    "            'predicted_entities',\n",
    "            'predicted_amount',\n",
    "            'Predicted_amount_flag', 'is_predicted_amount_numeric_flag']].shape"
   ]
  },
  {
   "cell_type": "code",
   "execution_count": 249,
   "metadata": {},
   "outputs": [],
   "source": [
    "missing_amt = test_data[(~test_data['amount'].isin([-1, '-1', '-1.0', -1.0])) &\n",
    "                        (test_data['Predicted_amount_flag'] == 0)][['templatehash']]"
   ]
  },
  {
   "cell_type": "code",
   "execution_count": 250,
   "metadata": {},
   "outputs": [
    {
     "data": {
      "text/html": [
       "<div>\n",
       "<style scoped>\n",
       "    .dataframe tbody tr th:only-of-type {\n",
       "        vertical-align: middle;\n",
       "    }\n",
       "\n",
       "    .dataframe tbody tr th {\n",
       "        vertical-align: top;\n",
       "    }\n",
       "\n",
       "    .dataframe thead th {\n",
       "        text-align: right;\n",
       "    }\n",
       "</style>\n",
       "<table border=\"1\" class=\"dataframe\">\n",
       "  <thead>\n",
       "    <tr style=\"text-align: right;\">\n",
       "      <th></th>\n",
       "      <th>templatehash</th>\n",
       "    </tr>\n",
       "  </thead>\n",
       "  <tbody>\n",
       "    <tr>\n",
       "      <th>3502</th>\n",
       "      <td>87ef3be73ec13ce91ddd7ea26f1cf018</td>\n",
       "    </tr>\n",
       "    <tr>\n",
       "      <th>3503</th>\n",
       "      <td>87ef3be73ec13ce91ddd7ea26f1cf018</td>\n",
       "    </tr>\n",
       "    <tr>\n",
       "      <th>3504</th>\n",
       "      <td>87ef3be73ec13ce91ddd7ea26f1cf018</td>\n",
       "    </tr>\n",
       "    <tr>\n",
       "      <th>3505</th>\n",
       "      <td>87ef3be73ec13ce91ddd7ea26f1cf018</td>\n",
       "    </tr>\n",
       "    <tr>\n",
       "      <th>3506</th>\n",
       "      <td>87ef3be73ec13ce91ddd7ea26f1cf018</td>\n",
       "    </tr>\n",
       "    <tr>\n",
       "      <th>...</th>\n",
       "      <td>...</td>\n",
       "    </tr>\n",
       "    <tr>\n",
       "      <th>177763</th>\n",
       "      <td>c40528cbe9cc2aa5d8b3a21c71067b78</td>\n",
       "    </tr>\n",
       "    <tr>\n",
       "      <th>177767</th>\n",
       "      <td>c40528cbe9cc2aa5d8b3a21c71067b78</td>\n",
       "    </tr>\n",
       "    <tr>\n",
       "      <th>177769</th>\n",
       "      <td>c40528cbe9cc2aa5d8b3a21c71067b78</td>\n",
       "    </tr>\n",
       "    <tr>\n",
       "      <th>177770</th>\n",
       "      <td>c40528cbe9cc2aa5d8b3a21c71067b78</td>\n",
       "    </tr>\n",
       "    <tr>\n",
       "      <th>177774</th>\n",
       "      <td>c40528cbe9cc2aa5d8b3a21c71067b78</td>\n",
       "    </tr>\n",
       "  </tbody>\n",
       "</table>\n",
       "<p>5814 rows × 1 columns</p>\n",
       "</div>"
      ],
      "text/plain": [
       "                            templatehash\n",
       "3502    87ef3be73ec13ce91ddd7ea26f1cf018\n",
       "3503    87ef3be73ec13ce91ddd7ea26f1cf018\n",
       "3504    87ef3be73ec13ce91ddd7ea26f1cf018\n",
       "3505    87ef3be73ec13ce91ddd7ea26f1cf018\n",
       "3506    87ef3be73ec13ce91ddd7ea26f1cf018\n",
       "...                                  ...\n",
       "177763  c40528cbe9cc2aa5d8b3a21c71067b78\n",
       "177767  c40528cbe9cc2aa5d8b3a21c71067b78\n",
       "177769  c40528cbe9cc2aa5d8b3a21c71067b78\n",
       "177770  c40528cbe9cc2aa5d8b3a21c71067b78\n",
       "177774  c40528cbe9cc2aa5d8b3a21c71067b78\n",
       "\n",
       "[5814 rows x 1 columns]"
      ]
     },
     "execution_count": 250,
     "metadata": {},
     "output_type": "execute_result"
    }
   ],
   "source": [
    "missing_amt"
   ]
  },
  {
   "cell_type": "code",
   "execution_count": 251,
   "metadata": {},
   "outputs": [],
   "source": [
    "missing_amt['missing'] = 'Amt'"
   ]
  },
  {
   "cell_type": "code",
   "execution_count": 252,
   "metadata": {},
   "outputs": [],
   "source": [
    "missing_amt = missing_amt.drop_duplicates(subset=['templatehash'], ignore_index=True)"
   ]
  },
  {
   "cell_type": "code",
   "execution_count": 253,
   "metadata": {},
   "outputs": [
    {
     "data": {
      "text/plain": [
       "(39, 2)"
      ]
     },
     "execution_count": 253,
     "metadata": {},
     "output_type": "execute_result"
    }
   ],
   "source": [
    "missing_amt.shape"
   ]
  },
  {
   "cell_type": "code",
   "execution_count": 254,
   "metadata": {},
   "outputs": [
    {
     "data": {
      "text/html": [
       "<div>\n",
       "<style scoped>\n",
       "    .dataframe tbody tr th:only-of-type {\n",
       "        vertical-align: middle;\n",
       "    }\n",
       "\n",
       "    .dataframe tbody tr th {\n",
       "        vertical-align: top;\n",
       "    }\n",
       "\n",
       "    .dataframe thead th {\n",
       "        text-align: right;\n",
       "    }\n",
       "</style>\n",
       "<table border=\"1\" class=\"dataframe\">\n",
       "  <thead>\n",
       "    <tr style=\"text-align: right;\">\n",
       "      <th></th>\n",
       "      <th>templatehash</th>\n",
       "      <th>missing</th>\n",
       "    </tr>\n",
       "  </thead>\n",
       "  <tbody>\n",
       "    <tr>\n",
       "      <th>0</th>\n",
       "      <td>87ef3be73ec13ce91ddd7ea26f1cf018</td>\n",
       "      <td>Amt</td>\n",
       "    </tr>\n",
       "    <tr>\n",
       "      <th>1</th>\n",
       "      <td>65f3d395b13dd8f37838b0efe8da9dd8</td>\n",
       "      <td>Amt</td>\n",
       "    </tr>\n",
       "    <tr>\n",
       "      <th>2</th>\n",
       "      <td>a1e293ace83caef893a7d16fcac194b2</td>\n",
       "      <td>Amt</td>\n",
       "    </tr>\n",
       "    <tr>\n",
       "      <th>3</th>\n",
       "      <td>0d4664cd685d8114b56713711e139943</td>\n",
       "      <td>Amt</td>\n",
       "    </tr>\n",
       "    <tr>\n",
       "      <th>4</th>\n",
       "      <td>8fc7cc3ed91e141e34d85b8464e5b1cb</td>\n",
       "      <td>Amt</td>\n",
       "    </tr>\n",
       "  </tbody>\n",
       "</table>\n",
       "</div>"
      ],
      "text/plain": [
       "                       templatehash missing\n",
       "0  87ef3be73ec13ce91ddd7ea26f1cf018     Amt\n",
       "1  65f3d395b13dd8f37838b0efe8da9dd8     Amt\n",
       "2  a1e293ace83caef893a7d16fcac194b2     Amt\n",
       "3  0d4664cd685d8114b56713711e139943     Amt\n",
       "4  8fc7cc3ed91e141e34d85b8464e5b1cb     Amt"
      ]
     },
     "execution_count": 254,
     "metadata": {},
     "output_type": "execute_result"
    }
   ],
   "source": [
    "missing_amt.head()"
   ]
  },
  {
   "cell_type": "code",
   "execution_count": 255,
   "metadata": {},
   "outputs": [],
   "source": [
    "# missing_amt[missing_amt['templatehash'] == '1abbdfedd0cfec9b267e4c791a6eb7a9']"
   ]
  },
  {
   "cell_type": "markdown",
   "metadata": {},
   "source": [
    "##### Balance."
   ]
  },
  {
   "cell_type": "code",
   "execution_count": 369,
   "metadata": {},
   "outputs": [
    {
     "data": {
      "text/plain": [
       "(11033, 9)"
      ]
     },
     "execution_count": 369,
     "metadata": {},
     "output_type": "execute_result"
    }
   ],
   "source": [
    "test_data[(~test_data['balance'].isin([-1, '-1', '-1.0', -1.0])) &\n",
    "          (test_data['Predicted_balance_flag'] == 0)][['templatehash', 'hash', 'smsbody', 'final_smsbody', 'balance',\n",
    "            'predicted_entities',\n",
    "            'predicted_balance',\n",
    "            'Predicted_balance_flag', 'is_Predicted_balance_numeric_flag']].shape"
   ]
  },
  {
   "cell_type": "code",
   "execution_count": 259,
   "metadata": {},
   "outputs": [],
   "source": [
    "missing_bal = test_data[(~test_data['balance'].isin([-1, '-1', '-1.0', -1.0])) &\n",
    "                             (test_data['Predicted_balance_flag'] == 0)][['templatehash']]"
   ]
  },
  {
   "cell_type": "code",
   "execution_count": 260,
   "metadata": {},
   "outputs": [],
   "source": [
    "missing_bal['missing'] = 'Bal'"
   ]
  },
  {
   "cell_type": "code",
   "execution_count": 261,
   "metadata": {},
   "outputs": [],
   "source": [
    "missing_bal = missing_bal.drop_duplicates(subset=['templatehash'], ignore_index=True)"
   ]
  },
  {
   "cell_type": "code",
   "execution_count": 262,
   "metadata": {},
   "outputs": [
    {
     "data": {
      "text/plain": [
       "(65, 2)"
      ]
     },
     "execution_count": 262,
     "metadata": {},
     "output_type": "execute_result"
    }
   ],
   "source": [
    "missing_bal.shape"
   ]
  },
  {
   "cell_type": "code",
   "execution_count": 263,
   "metadata": {},
   "outputs": [
    {
     "data": {
      "text/html": [
       "<div>\n",
       "<style scoped>\n",
       "    .dataframe tbody tr th:only-of-type {\n",
       "        vertical-align: middle;\n",
       "    }\n",
       "\n",
       "    .dataframe tbody tr th {\n",
       "        vertical-align: top;\n",
       "    }\n",
       "\n",
       "    .dataframe thead th {\n",
       "        text-align: right;\n",
       "    }\n",
       "</style>\n",
       "<table border=\"1\" class=\"dataframe\">\n",
       "  <thead>\n",
       "    <tr style=\"text-align: right;\">\n",
       "      <th></th>\n",
       "      <th>templatehash</th>\n",
       "      <th>missing</th>\n",
       "    </tr>\n",
       "  </thead>\n",
       "  <tbody>\n",
       "    <tr>\n",
       "      <th>0</th>\n",
       "      <td>87ef3be73ec13ce91ddd7ea26f1cf018</td>\n",
       "      <td>Bal</td>\n",
       "    </tr>\n",
       "    <tr>\n",
       "      <th>1</th>\n",
       "      <td>bc781bfc086df3837e5d976f6c600b79</td>\n",
       "      <td>Bal</td>\n",
       "    </tr>\n",
       "    <tr>\n",
       "      <th>2</th>\n",
       "      <td>c6e7a7e27fa67190ef1784157d665d72</td>\n",
       "      <td>Bal</td>\n",
       "    </tr>\n",
       "    <tr>\n",
       "      <th>3</th>\n",
       "      <td>eff7090599a756dedd76bab106db75ad</td>\n",
       "      <td>Bal</td>\n",
       "    </tr>\n",
       "    <tr>\n",
       "      <th>4</th>\n",
       "      <td>3bcec7307f3e87edf842dfaa307c9354</td>\n",
       "      <td>Bal</td>\n",
       "    </tr>\n",
       "  </tbody>\n",
       "</table>\n",
       "</div>"
      ],
      "text/plain": [
       "                       templatehash missing\n",
       "0  87ef3be73ec13ce91ddd7ea26f1cf018     Bal\n",
       "1  bc781bfc086df3837e5d976f6c600b79     Bal\n",
       "2  c6e7a7e27fa67190ef1784157d665d72     Bal\n",
       "3  eff7090599a756dedd76bab106db75ad     Bal\n",
       "4  3bcec7307f3e87edf842dfaa307c9354     Bal"
      ]
     },
     "execution_count": 263,
     "metadata": {},
     "output_type": "execute_result"
    }
   ],
   "source": [
    "missing_bal.head()"
   ]
  },
  {
   "cell_type": "markdown",
   "metadata": {},
   "source": [
    "##### Pan."
   ]
  },
  {
   "cell_type": "code",
   "execution_count": 273,
   "metadata": {},
   "outputs": [
    {
     "data": {
      "text/plain": [
       "(9353, 27)"
      ]
     },
     "execution_count": 273,
     "metadata": {},
     "output_type": "execute_result"
    }
   ],
   "source": [
    "test_data[(~test_data['pan'].isin([-1, '-1', '-1.0', -1.0])) &\n",
    "                             (test_data['Predicted_pan_flag'] == 0)].shape"
   ]
  },
  {
   "cell_type": "code",
   "execution_count": 264,
   "metadata": {},
   "outputs": [],
   "source": [
    "missing_pan = test_data[(~test_data['pan'].isin([-1, '-1', '-1.0', -1.0])) &\n",
    "                             (test_data['Predicted_pan_flag'] == 0)][['templatehash']]"
   ]
  },
  {
   "cell_type": "code",
   "execution_count": 265,
   "metadata": {},
   "outputs": [],
   "source": [
    "missing_pan['missing'] = 'Pan'"
   ]
  },
  {
   "cell_type": "code",
   "execution_count": 266,
   "metadata": {},
   "outputs": [],
   "source": [
    "missing_pan = missing_pan.drop_duplicates(subset=['templatehash'], ignore_index=True)"
   ]
  },
  {
   "cell_type": "code",
   "execution_count": 267,
   "metadata": {},
   "outputs": [
    {
     "data": {
      "text/plain": [
       "(25, 2)"
      ]
     },
     "execution_count": 267,
     "metadata": {},
     "output_type": "execute_result"
    }
   ],
   "source": [
    "missing_pan.shape"
   ]
  },
  {
   "cell_type": "code",
   "execution_count": 268,
   "metadata": {},
   "outputs": [
    {
     "data": {
      "text/html": [
       "<div>\n",
       "<style scoped>\n",
       "    .dataframe tbody tr th:only-of-type {\n",
       "        vertical-align: middle;\n",
       "    }\n",
       "\n",
       "    .dataframe tbody tr th {\n",
       "        vertical-align: top;\n",
       "    }\n",
       "\n",
       "    .dataframe thead th {\n",
       "        text-align: right;\n",
       "    }\n",
       "</style>\n",
       "<table border=\"1\" class=\"dataframe\">\n",
       "  <thead>\n",
       "    <tr style=\"text-align: right;\">\n",
       "      <th></th>\n",
       "      <th>templatehash</th>\n",
       "      <th>missing</th>\n",
       "    </tr>\n",
       "  </thead>\n",
       "  <tbody>\n",
       "    <tr>\n",
       "      <th>0</th>\n",
       "      <td>57982c486804d4068efa86fca5991bae</td>\n",
       "      <td>Pan</td>\n",
       "    </tr>\n",
       "    <tr>\n",
       "      <th>1</th>\n",
       "      <td>eff7090599a756dedd76bab106db75ad</td>\n",
       "      <td>Pan</td>\n",
       "    </tr>\n",
       "    <tr>\n",
       "      <th>2</th>\n",
       "      <td>868f7aaf8b632326fc86a79d4a45b351</td>\n",
       "      <td>Pan</td>\n",
       "    </tr>\n",
       "    <tr>\n",
       "      <th>3</th>\n",
       "      <td>3c601a1c3609b188c765d4bd9aaf690a</td>\n",
       "      <td>Pan</td>\n",
       "    </tr>\n",
       "    <tr>\n",
       "      <th>4</th>\n",
       "      <td>f42e98998939e2f7e8b2fc7373514e9d</td>\n",
       "      <td>Pan</td>\n",
       "    </tr>\n",
       "  </tbody>\n",
       "</table>\n",
       "</div>"
      ],
      "text/plain": [
       "                       templatehash missing\n",
       "0  57982c486804d4068efa86fca5991bae     Pan\n",
       "1  eff7090599a756dedd76bab106db75ad     Pan\n",
       "2  868f7aaf8b632326fc86a79d4a45b351     Pan\n",
       "3  3c601a1c3609b188c765d4bd9aaf690a     Pan\n",
       "4  f42e98998939e2f7e8b2fc7373514e9d     Pan"
      ]
     },
     "execution_count": 268,
     "metadata": {},
     "output_type": "execute_result"
    }
   ],
   "source": [
    "missing_pan.head()"
   ]
  },
  {
   "cell_type": "markdown",
   "metadata": {},
   "source": [
    "##### Date."
   ]
  },
  {
   "cell_type": "code",
   "execution_count": 274,
   "metadata": {},
   "outputs": [
    {
     "data": {
      "text/plain": [
       "(6040, 27)"
      ]
     },
     "execution_count": 274,
     "metadata": {},
     "output_type": "execute_result"
    }
   ],
   "source": [
    "test_data[(~test_data['date'].isin([-1, '-1', '-1.0', -1.0])) &\n",
    "                             (test_data['Predicted_date_flag'] == 0)].shape"
   ]
  },
  {
   "cell_type": "code",
   "execution_count": 275,
   "metadata": {},
   "outputs": [],
   "source": [
    "missing_date = test_data[(~test_data['date'].isin([-1, '-1', '-1.0', -1.0])) &\n",
    "                             (test_data['Predicted_date_flag'] == 0)][['templatehash']]"
   ]
  },
  {
   "cell_type": "code",
   "execution_count": 276,
   "metadata": {},
   "outputs": [],
   "source": [
    "missing_date['missing'] = 'date'"
   ]
  },
  {
   "cell_type": "code",
   "execution_count": 277,
   "metadata": {},
   "outputs": [],
   "source": [
    "missing_date = missing_date.drop_duplicates(subset=['templatehash'], ignore_index=True)"
   ]
  },
  {
   "cell_type": "code",
   "execution_count": 278,
   "metadata": {},
   "outputs": [
    {
     "data": {
      "text/plain": [
       "(45, 2)"
      ]
     },
     "execution_count": 278,
     "metadata": {},
     "output_type": "execute_result"
    }
   ],
   "source": [
    "missing_date.shape"
   ]
  },
  {
   "cell_type": "code",
   "execution_count": 279,
   "metadata": {},
   "outputs": [
    {
     "data": {
      "text/html": [
       "<div>\n",
       "<style scoped>\n",
       "    .dataframe tbody tr th:only-of-type {\n",
       "        vertical-align: middle;\n",
       "    }\n",
       "\n",
       "    .dataframe tbody tr th {\n",
       "        vertical-align: top;\n",
       "    }\n",
       "\n",
       "    .dataframe thead th {\n",
       "        text-align: right;\n",
       "    }\n",
       "</style>\n",
       "<table border=\"1\" class=\"dataframe\">\n",
       "  <thead>\n",
       "    <tr style=\"text-align: right;\">\n",
       "      <th></th>\n",
       "      <th>templatehash</th>\n",
       "      <th>missing</th>\n",
       "    </tr>\n",
       "  </thead>\n",
       "  <tbody>\n",
       "    <tr>\n",
       "      <th>0</th>\n",
       "      <td>9f3e5a575d550be631cdcf29f920c769</td>\n",
       "      <td>date</td>\n",
       "    </tr>\n",
       "    <tr>\n",
       "      <th>1</th>\n",
       "      <td>94f9c43419738ab4a47fabcb7ee30eae</td>\n",
       "      <td>date</td>\n",
       "    </tr>\n",
       "    <tr>\n",
       "      <th>2</th>\n",
       "      <td>6ff735f39f99f2496c4740b604072ebe</td>\n",
       "      <td>date</td>\n",
       "    </tr>\n",
       "    <tr>\n",
       "      <th>3</th>\n",
       "      <td>2e71e66574aa77571114a3df2bc95853</td>\n",
       "      <td>date</td>\n",
       "    </tr>\n",
       "    <tr>\n",
       "      <th>4</th>\n",
       "      <td>20ead8b77d71e14ce29b2e011f1a1d54</td>\n",
       "      <td>date</td>\n",
       "    </tr>\n",
       "  </tbody>\n",
       "</table>\n",
       "</div>"
      ],
      "text/plain": [
       "                       templatehash missing\n",
       "0  9f3e5a575d550be631cdcf29f920c769    date\n",
       "1  94f9c43419738ab4a47fabcb7ee30eae    date\n",
       "2  6ff735f39f99f2496c4740b604072ebe    date\n",
       "3  2e71e66574aa77571114a3df2bc95853    date\n",
       "4  20ead8b77d71e14ce29b2e011f1a1d54    date"
      ]
     },
     "execution_count": 279,
     "metadata": {},
     "output_type": "execute_result"
    }
   ],
   "source": [
    "missing_date.head()"
   ]
  },
  {
   "cell_type": "markdown",
   "metadata": {},
   "source": [
    "##### Combining all the dataframes to create a collated erroneous templates data to analyse."
   ]
  },
  {
   "cell_type": "code",
   "execution_count": 280,
   "metadata": {},
   "outputs": [],
   "source": [
    "# Assuming you have a list of dataframes\n",
    "dataframes = [missing_amt, missing_bal, missing_pan, missing_date]  # Replace with your actual dataframe variables"
   ]
  },
  {
   "cell_type": "code",
   "execution_count": 281,
   "metadata": {},
   "outputs": [],
   "source": [
    "# Concatenate all dataframes\n",
    "combined_missing_df = pd.concat(dataframes)"
   ]
  },
  {
   "cell_type": "code",
   "execution_count": 282,
   "metadata": {},
   "outputs": [
    {
     "data": {
      "text/plain": [
       "(174, 2)"
      ]
     },
     "execution_count": 282,
     "metadata": {},
     "output_type": "execute_result"
    }
   ],
   "source": [
    "combined_missing_df.shape"
   ]
  },
  {
   "cell_type": "code",
   "execution_count": 381,
   "metadata": {},
   "outputs": [],
   "source": [
    "# combined_missing_df.to_csv('combined_missing_extraction_df.csv', index = False)"
   ]
  },
  {
   "cell_type": "code",
   "execution_count": 284,
   "metadata": {},
   "outputs": [
    {
     "data": {
      "text/plain": [
       "<pandas.core.groupby.generic.SeriesGroupBy object at 0x7fe836549a90>"
      ]
     },
     "execution_count": 284,
     "metadata": {},
     "output_type": "execute_result"
    }
   ],
   "source": [
    "combined_missing_df.groupby('templatehash')['missing']"
   ]
  },
  {
   "cell_type": "code",
   "execution_count": 285,
   "metadata": {},
   "outputs": [],
   "source": [
    "# Group by 'templates' and aggregate 'missing' values\n",
    "missing_templates_df = combined_missing_df.groupby('templatehash')['missing'].apply(lambda x: ', '.join(x)).reset_index()"
   ]
  },
  {
   "cell_type": "code",
   "execution_count": 286,
   "metadata": {},
   "outputs": [
    {
     "data": {
      "text/html": [
       "<div>\n",
       "<style scoped>\n",
       "    .dataframe tbody tr th:only-of-type {\n",
       "        vertical-align: middle;\n",
       "    }\n",
       "\n",
       "    .dataframe tbody tr th {\n",
       "        vertical-align: top;\n",
       "    }\n",
       "\n",
       "    .dataframe thead th {\n",
       "        text-align: right;\n",
       "    }\n",
       "</style>\n",
       "<table border=\"1\" class=\"dataframe\">\n",
       "  <thead>\n",
       "    <tr style=\"text-align: right;\">\n",
       "      <th></th>\n",
       "      <th>templatehash</th>\n",
       "      <th>missing</th>\n",
       "    </tr>\n",
       "  </thead>\n",
       "  <tbody>\n",
       "    <tr>\n",
       "      <th>0</th>\n",
       "      <td>02597a5b63c22eea0cc716f7ba0bb820</td>\n",
       "      <td>Amt</td>\n",
       "    </tr>\n",
       "    <tr>\n",
       "      <th>1</th>\n",
       "      <td>06f77e41d0d4dfc50956f870cfd28f7c</td>\n",
       "      <td>Pan</td>\n",
       "    </tr>\n",
       "    <tr>\n",
       "      <th>2</th>\n",
       "      <td>08769065948716ce74696f789b66a332</td>\n",
       "      <td>Amt, date</td>\n",
       "    </tr>\n",
       "    <tr>\n",
       "      <th>3</th>\n",
       "      <td>09dc221114aad241d5ddc945b8ec1ded</td>\n",
       "      <td>Bal</td>\n",
       "    </tr>\n",
       "    <tr>\n",
       "      <th>4</th>\n",
       "      <td>0a3431132fffed9366ad86b0d8e505a7</td>\n",
       "      <td>Pan</td>\n",
       "    </tr>\n",
       "    <tr>\n",
       "      <th>...</th>\n",
       "      <td>...</td>\n",
       "      <td>...</td>\n",
       "    </tr>\n",
       "    <tr>\n",
       "      <th>131</th>\n",
       "      <td>f3005925aacaa6305d6365ea64005b14</td>\n",
       "      <td>Amt, Bal</td>\n",
       "    </tr>\n",
       "    <tr>\n",
       "      <th>132</th>\n",
       "      <td>f42e98998939e2f7e8b2fc7373514e9d</td>\n",
       "      <td>Pan</td>\n",
       "    </tr>\n",
       "    <tr>\n",
       "      <th>133</th>\n",
       "      <td>f78551e95fab2b3827d5fae6781549cc</td>\n",
       "      <td>Pan</td>\n",
       "    </tr>\n",
       "    <tr>\n",
       "      <th>134</th>\n",
       "      <td>fc88e3e496158621bf9233c25f62d5b1</td>\n",
       "      <td>Bal</td>\n",
       "    </tr>\n",
       "    <tr>\n",
       "      <th>135</th>\n",
       "      <td>ff4762cc506314d7e725a04af3975581</td>\n",
       "      <td>Pan</td>\n",
       "    </tr>\n",
       "  </tbody>\n",
       "</table>\n",
       "<p>136 rows × 2 columns</p>\n",
       "</div>"
      ],
      "text/plain": [
       "                         templatehash    missing\n",
       "0    02597a5b63c22eea0cc716f7ba0bb820        Amt\n",
       "1    06f77e41d0d4dfc50956f870cfd28f7c        Pan\n",
       "2    08769065948716ce74696f789b66a332  Amt, date\n",
       "3    09dc221114aad241d5ddc945b8ec1ded        Bal\n",
       "4    0a3431132fffed9366ad86b0d8e505a7        Pan\n",
       "..                                ...        ...\n",
       "131  f3005925aacaa6305d6365ea64005b14   Amt, Bal\n",
       "132  f42e98998939e2f7e8b2fc7373514e9d        Pan\n",
       "133  f78551e95fab2b3827d5fae6781549cc        Pan\n",
       "134  fc88e3e496158621bf9233c25f62d5b1        Bal\n",
       "135  ff4762cc506314d7e725a04af3975581        Pan\n",
       "\n",
       "[136 rows x 2 columns]"
      ]
     },
     "execution_count": 286,
     "metadata": {},
     "output_type": "execute_result"
    }
   ],
   "source": [
    "# Display the result\n",
    "missing_templates_df"
   ]
  },
  {
   "cell_type": "code",
   "execution_count": 382,
   "metadata": {},
   "outputs": [],
   "source": [
    "# missing_templates_df.to_excel('unextracted_templates_with missing_reason.xlsx', index = False)"
   ]
  },
  {
   "cell_type": "markdown",
   "metadata": {},
   "source": [
    "### Calculate accuracy report/metric with respect to extracted data."
   ]
  },
  {
   "cell_type": "markdown",
   "metadata": {},
   "source": [
    "#### Calculate regression metrics for Amount."
   ]
  },
  {
   "cell_type": "code",
   "execution_count": 288,
   "metadata": {},
   "outputs": [
    {
     "data": {
      "text/plain": [
       "Index(['smsbody', 'templatehash', 'hash', 'smstype', 'amount', 'balance',\n",
       "       'pan', 'date', 'smsbody_1', 'smsbody_2', 'smsbody_3', 'smsbody_4',\n",
       "       'smsbody_5', 'smsbody_6', 'final_smsbody', 'predicted_entities',\n",
       "       'length_of_predicted_entities', 'Predicted_amount_flag',\n",
       "       'Predicted_pan_flag', 'Predicted_date_flag', 'Predicted_balance_flag',\n",
       "       'predicted_amount', 'predicted_pan', 'predicted_balance',\n",
       "       'predicted_date', 'is_predicted_amount_numeric_flag',\n",
       "       'is_Predicted_balance_numeric_flag'],\n",
       "      dtype='object')"
      ]
     },
     "execution_count": 288,
     "metadata": {},
     "output_type": "execute_result"
    }
   ],
   "source": [
    "test_data.columns"
   ]
  },
  {
   "cell_type": "code",
   "execution_count": 289,
   "metadata": {},
   "outputs": [
    {
     "name": "stdout",
     "output_type": "stream",
     "text": [
      "<class 'pandas.core.frame.DataFrame'>\n",
      "RangeIndex: 182332 entries, 0 to 182331\n",
      "Data columns (total 27 columns):\n",
      " #   Column                             Non-Null Count   Dtype \n",
      "---  ------                             --------------   ----- \n",
      " 0   smsbody                            182332 non-null  object\n",
      " 1   templatehash                       182332 non-null  object\n",
      " 2   hash                               182332 non-null  object\n",
      " 3   smstype                            182332 non-null  object\n",
      " 4   amount                             182332 non-null  object\n",
      " 5   balance                            182332 non-null  object\n",
      " 6   pan                                182332 non-null  object\n",
      " 7   date                               182332 non-null  object\n",
      " 8   smsbody_1                          182332 non-null  object\n",
      " 9   smsbody_2                          182332 non-null  object\n",
      " 10  smsbody_3                          182332 non-null  object\n",
      " 11  smsbody_4                          182332 non-null  object\n",
      " 12  smsbody_5                          182332 non-null  object\n",
      " 13  smsbody_6                          182332 non-null  object\n",
      " 14  final_smsbody                      182332 non-null  object\n",
      " 15  predicted_entities                 182332 non-null  object\n",
      " 16  length_of_predicted_entities       182332 non-null  int64 \n",
      " 17  Predicted_amount_flag              182332 non-null  int64 \n",
      " 18  Predicted_pan_flag                 182332 non-null  int64 \n",
      " 19  Predicted_date_flag                182332 non-null  int64 \n",
      " 20  Predicted_balance_flag             182332 non-null  int64 \n",
      " 21  predicted_amount                   176506 non-null  object\n",
      " 22  predicted_pan                      154076 non-null  object\n",
      " 23  predicted_balance                  97586 non-null   object\n",
      " 24  predicted_date                     143932 non-null  object\n",
      " 25  is_predicted_amount_numeric_flag   182332 non-null  int64 \n",
      " 26  is_Predicted_balance_numeric_flag  182332 non-null  int64 \n",
      "dtypes: int64(7), object(20)\n",
      "memory usage: 37.6+ MB\n"
     ]
    }
   ],
   "source": [
    "test_data.info()"
   ]
  },
  {
   "cell_type": "code",
   "execution_count": 290,
   "metadata": {},
   "outputs": [],
   "source": [
    "amt_df = test_data[\n",
    "                  (~test_data['amount'].isin([-1, -1.0, -2, -2.0, '-1', '-1.0', '-2', '-2.0'])) &\n",
    "                  (test_data['is_predicted_amount_numeric_flag'] == 1)\n",
    "                  ]"
   ]
  },
  {
   "cell_type": "code",
   "execution_count": 291,
   "metadata": {},
   "outputs": [
    {
     "data": {
      "text/plain": [
       "(176419, 27)"
      ]
     },
     "execution_count": 291,
     "metadata": {},
     "output_type": "execute_result"
    }
   ],
   "source": [
    "amt_df.shape"
   ]
  },
  {
   "cell_type": "code",
   "execution_count": 292,
   "metadata": {},
   "outputs": [
    {
     "data": {
      "text/plain": [
       "'0.0'"
      ]
     },
     "execution_count": 292,
     "metadata": {},
     "output_type": "execute_result"
    }
   ],
   "source": [
    "amt_df['amount'].min()"
   ]
  },
  {
   "cell_type": "code",
   "execution_count": 293,
   "metadata": {},
   "outputs": [
    {
     "data": {
      "text/html": [
       "<div>\n",
       "<style scoped>\n",
       "    .dataframe tbody tr th:only-of-type {\n",
       "        vertical-align: middle;\n",
       "    }\n",
       "\n",
       "    .dataframe tbody tr th {\n",
       "        vertical-align: top;\n",
       "    }\n",
       "\n",
       "    .dataframe thead th {\n",
       "        text-align: right;\n",
       "    }\n",
       "</style>\n",
       "<table border=\"1\" class=\"dataframe\">\n",
       "  <thead>\n",
       "    <tr style=\"text-align: right;\">\n",
       "      <th></th>\n",
       "      <th>smsbody</th>\n",
       "      <th>templatehash</th>\n",
       "      <th>hash</th>\n",
       "      <th>smstype</th>\n",
       "      <th>amount</th>\n",
       "      <th>balance</th>\n",
       "      <th>pan</th>\n",
       "      <th>date</th>\n",
       "      <th>smsbody_1</th>\n",
       "      <th>smsbody_2</th>\n",
       "      <th>...</th>\n",
       "      <th>Predicted_amount_flag</th>\n",
       "      <th>Predicted_pan_flag</th>\n",
       "      <th>Predicted_date_flag</th>\n",
       "      <th>Predicted_balance_flag</th>\n",
       "      <th>predicted_amount</th>\n",
       "      <th>predicted_pan</th>\n",
       "      <th>predicted_balance</th>\n",
       "      <th>predicted_date</th>\n",
       "      <th>is_predicted_amount_numeric_flag</th>\n",
       "      <th>is_Predicted_balance_numeric_flag</th>\n",
       "    </tr>\n",
       "  </thead>\n",
       "  <tbody>\n",
       "    <tr>\n",
       "      <th>0</th>\n",
       "      <td>DBGB: Ac XXXXXXXX003338 Debited with Rs.158.00,02-11-2022 17:36:11. Aval Bal Rs.5111.00 CR. Helpline 18001807777</td>\n",
       "      <td>4bb988f625ed5311465b87a3b42984cd</td>\n",
       "      <td>1a2329fdadea93a4e0f929a321fd9e54</td>\n",
       "      <td>debit-transaction</td>\n",
       "      <td>158.0</td>\n",
       "      <td>5111.0</td>\n",
       "      <td>XXXXXXXX003338</td>\n",
       "      <td>02-11-2022</td>\n",
       "      <td>DBGB :  Ac XXXXXXXX003338 Debited with  Rs. 158.00,02-11-2022 17 : 36 : 11. Aval Bal  Rs. 5111.00 CR. Helpline 18001807777</td>\n",
       "      <td>DBGB :  Ac XXXXXXXX003338 Debited with  Rs. 158.00,02-11-2022 17 : 36 : 11. Aval Bal  Rs. 5111.00 CR. Helpline 18001807777</td>\n",
       "      <td>...</td>\n",
       "      <td>1</td>\n",
       "      <td>1</td>\n",
       "      <td>1</td>\n",
       "      <td>1</td>\n",
       "      <td>158.00</td>\n",
       "      <td>XXXXXXXX003338</td>\n",
       "      <td>5111.00</td>\n",
       "      <td>02-11-2022</td>\n",
       "      <td>1</td>\n",
       "      <td>1</td>\n",
       "    </tr>\n",
       "    <tr>\n",
       "      <th>1</th>\n",
       "      <td>DBGB: Ac XXXXXXXX509006 Debited with Rs.17.70,27-06-2024 20:30:29. Aval Bal Rs.152.60 CR. Helpline 18001807777</td>\n",
       "      <td>4bb988f625ed5311465b87a3b42984cd</td>\n",
       "      <td>02d29bf975b65db3c0122bd302b6b780</td>\n",
       "      <td>debit-transaction</td>\n",
       "      <td>17.69</td>\n",
       "      <td>152.59</td>\n",
       "      <td>XXXXXXXX509006</td>\n",
       "      <td>27-06-2024</td>\n",
       "      <td>DBGB :  Ac XXXXXXXX509006 Debited with  Rs. 17.70,27-06-2024 20 : 30 : 29. Aval Bal  Rs. 152.60 CR. Helpline 18001807777</td>\n",
       "      <td>DBGB :  Ac XXXXXXXX509006 Debited with  Rs. 17.70,27-06-2024 20 : 30 : 29. Aval Bal  Rs. 152.60 CR. Helpline 18001807777</td>\n",
       "      <td>...</td>\n",
       "      <td>1</td>\n",
       "      <td>1</td>\n",
       "      <td>1</td>\n",
       "      <td>1</td>\n",
       "      <td>17.70</td>\n",
       "      <td>XXXXXXXX509006</td>\n",
       "      <td>152.60</td>\n",
       "      <td>27-06-2024</td>\n",
       "      <td>1</td>\n",
       "      <td>1</td>\n",
       "    </tr>\n",
       "  </tbody>\n",
       "</table>\n",
       "<p>2 rows × 27 columns</p>\n",
       "</div>"
      ],
      "text/plain": [
       "                                                                                                            smsbody  \\\n",
       "0  DBGB: Ac XXXXXXXX003338 Debited with Rs.158.00,02-11-2022 17:36:11. Aval Bal Rs.5111.00 CR. Helpline 18001807777   \n",
       "1    DBGB: Ac XXXXXXXX509006 Debited with Rs.17.70,27-06-2024 20:30:29. Aval Bal Rs.152.60 CR. Helpline 18001807777   \n",
       "\n",
       "                       templatehash                              hash  \\\n",
       "0  4bb988f625ed5311465b87a3b42984cd  1a2329fdadea93a4e0f929a321fd9e54   \n",
       "1  4bb988f625ed5311465b87a3b42984cd  02d29bf975b65db3c0122bd302b6b780   \n",
       "\n",
       "             smstype amount balance             pan        date  \\\n",
       "0  debit-transaction  158.0  5111.0  XXXXXXXX003338  02-11-2022   \n",
       "1  debit-transaction  17.69  152.59  XXXXXXXX509006  27-06-2024   \n",
       "\n",
       "                                                                                                                    smsbody_1  \\\n",
       "0  DBGB :  Ac XXXXXXXX003338 Debited with  Rs. 158.00,02-11-2022 17 : 36 : 11. Aval Bal  Rs. 5111.00 CR. Helpline 18001807777   \n",
       "1    DBGB :  Ac XXXXXXXX509006 Debited with  Rs. 17.70,27-06-2024 20 : 30 : 29. Aval Bal  Rs. 152.60 CR. Helpline 18001807777   \n",
       "\n",
       "                                                                                                                    smsbody_2  \\\n",
       "0  DBGB :  Ac XXXXXXXX003338 Debited with  Rs. 158.00,02-11-2022 17 : 36 : 11. Aval Bal  Rs. 5111.00 CR. Helpline 18001807777   \n",
       "1    DBGB :  Ac XXXXXXXX509006 Debited with  Rs. 17.70,27-06-2024 20 : 30 : 29. Aval Bal  Rs. 152.60 CR. Helpline 18001807777   \n",
       "\n",
       "   ... Predicted_amount_flag Predicted_pan_flag Predicted_date_flag  \\\n",
       "0  ...                     1                  1                   1   \n",
       "1  ...                     1                  1                   1   \n",
       "\n",
       "  Predicted_balance_flag predicted_amount   predicted_pan  predicted_balance  \\\n",
       "0                      1           158.00  XXXXXXXX003338            5111.00   \n",
       "1                      1            17.70  XXXXXXXX509006             152.60   \n",
       "\n",
       "   predicted_date  is_predicted_amount_numeric_flag  \\\n",
       "0      02-11-2022                                 1   \n",
       "1      27-06-2024                                 1   \n",
       "\n",
       "   is_Predicted_balance_numeric_flag  \n",
       "0                                  1  \n",
       "1                                  1  \n",
       "\n",
       "[2 rows x 27 columns]"
      ]
     },
     "execution_count": 293,
     "metadata": {},
     "output_type": "execute_result"
    }
   ],
   "source": [
    "amt_df.head(2)"
   ]
  },
  {
   "cell_type": "code",
   "execution_count": 294,
   "metadata": {},
   "outputs": [
    {
     "data": {
      "text/html": [
       "<div>\n",
       "<style scoped>\n",
       "    .dataframe tbody tr th:only-of-type {\n",
       "        vertical-align: middle;\n",
       "    }\n",
       "\n",
       "    .dataframe tbody tr th {\n",
       "        vertical-align: top;\n",
       "    }\n",
       "\n",
       "    .dataframe thead th {\n",
       "        text-align: right;\n",
       "    }\n",
       "</style>\n",
       "<table border=\"1\" class=\"dataframe\">\n",
       "  <thead>\n",
       "    <tr style=\"text-align: right;\">\n",
       "      <th></th>\n",
       "      <th>smsbody</th>\n",
       "      <th>templatehash</th>\n",
       "      <th>hash</th>\n",
       "      <th>smstype</th>\n",
       "      <th>amount</th>\n",
       "      <th>balance</th>\n",
       "      <th>pan</th>\n",
       "      <th>date</th>\n",
       "      <th>smsbody_1</th>\n",
       "      <th>smsbody_2</th>\n",
       "      <th>...</th>\n",
       "      <th>Predicted_amount_flag</th>\n",
       "      <th>Predicted_pan_flag</th>\n",
       "      <th>Predicted_date_flag</th>\n",
       "      <th>Predicted_balance_flag</th>\n",
       "      <th>predicted_amount</th>\n",
       "      <th>predicted_pan</th>\n",
       "      <th>predicted_balance</th>\n",
       "      <th>predicted_date</th>\n",
       "      <th>is_predicted_amount_numeric_flag</th>\n",
       "      <th>is_Predicted_balance_numeric_flag</th>\n",
       "    </tr>\n",
       "  </thead>\n",
       "  <tbody>\n",
       "  </tbody>\n",
       "</table>\n",
       "<p>0 rows × 27 columns</p>\n",
       "</div>"
      ],
      "text/plain": [
       "Empty DataFrame\n",
       "Columns: [smsbody, templatehash, hash, smstype, amount, balance, pan, date, smsbody_1, smsbody_2, smsbody_3, smsbody_4, smsbody_5, smsbody_6, final_smsbody, predicted_entities, length_of_predicted_entities, Predicted_amount_flag, Predicted_pan_flag, Predicted_date_flag, Predicted_balance_flag, predicted_amount, predicted_pan, predicted_balance, predicted_date, is_predicted_amount_numeric_flag, is_Predicted_balance_numeric_flag]\n",
       "Index: []\n",
       "\n",
       "[0 rows x 27 columns]"
      ]
     },
     "execution_count": 294,
     "metadata": {},
     "output_type": "execute_result"
    }
   ],
   "source": [
    "amt_df[amt_df['amount'].isin([-2, -2.0, '-2', '-2.0'])]"
   ]
  },
  {
   "cell_type": "code",
   "execution_count": 371,
   "metadata": {},
   "outputs": [
    {
     "name": "stdout",
     "output_type": "stream",
     "text": [
      "       amount_cleaned  predicted_amount_cleaned\n",
      "count       176419.00                 176419.00\n",
      "mean         14272.93                  14272.32\n",
      "std          91059.02                  91059.10\n",
      "min              0.00                      0.00\n",
      "1%               1.00                      1.00\n",
      "2%               1.00                      1.00\n",
      "3%               2.64                      3.00\n",
      "4%               7.99                      7.00\n",
      "5%              10.00                     10.00\n",
      "25%            185.00                    183.00\n",
      "50%           1020.00                   1020.00\n",
      "75%           7050.00                   7050.00\n",
      "95%          50000.00                  50000.00\n",
      "96%          60000.00                  60000.00\n",
      "97%          85000.00                  85000.00\n",
      "98%         110000.00                 110000.00\n",
      "99%         205000.00                 205000.00\n",
      "max        8290623.95                8290623.95\n",
      "Mean Absolute Error of Amount: 0.73\n"
     ]
    }
   ],
   "source": [
    "# Suppress any warnings.\n",
    "import warnings\n",
    "warnings.filterwarnings('ignore')\n",
    "\n",
    "# Convert all values to strings, remove commas, then convert to float, and handle missing values\n",
    "amt_df['amount_cleaned'] = amt_df['amount'].astype(str).str.replace(',', '').replace('None', np.nan).astype(float)\n",
    "amt_df['predicted_amount_cleaned'] = amt_df['predicted_amount'].astype(str).str.replace(',', '').replace('None', np.nan).astype(float)\n",
    "\n",
    "# mean_amount = amt_df['amount_cleaned'].mean()\n",
    "# mean_prdicted_amount = amt_df['predicted_amount_cleaned'].mean()\n",
    "\n",
    "# print(\"Mean of Actual amount:\", mean_amount)\n",
    "# print(\"Mean of Predicted amount:\", mean_prdicted_amount)\n",
    "\n",
    "pd.options.display.float_format = '{:.2f}'.format\n",
    "print(amt_df[['amount_cleaned', 'predicted_amount_cleaned']].describe(percentiles = [0.01, 0.02, 0.03, 0.04, 0.05, 0.25, 0.50, 0.75, 0.95, 0.96, 0.97, 0.98, 0.99]))\n",
    "\n",
    "# # Calculate Mean Squared Error, skipping rows with NaN values\n",
    "# mse = np.nanmean((amt_df['amount_cleaned'] - amt_df['predicted_amount_cleaned']) ** 2)\n",
    "# print(\"Mean Squared Error of Amount:\",round(mse, 2))\n",
    "\n",
    "# Calculate Mean Squared Error, skipping rows with NaN values\n",
    "mae = np.mean(np.abs(amt_df['amount_cleaned'] - amt_df['predicted_amount_cleaned']))\n",
    "print(\"Mean Absolute Error of Amount:\", round(mae, 2))"
   ]
  },
  {
   "cell_type": "markdown",
   "metadata": {},
   "source": [
    "##### Get the templates for which wrong prediction has been made."
   ]
  },
  {
   "cell_type": "markdown",
   "metadata": {},
   "source": [
    "##### For Amount"
   ]
  },
  {
   "cell_type": "code",
   "execution_count": 2,
   "metadata": {},
   "outputs": [],
   "source": [
    "# test_data[(~test_data['amount'].isin([-1, -1.0, -2, -2.0, '-1', '-1.0', '-2', '-2.0'])) &\n",
    "#           (test_data['Predicted_amount_flag'] == 1) &\n",
    "#           (test_data['is_predicted_amount_numeric_flag'] == 0)\n",
    "#          ][['templatehash', 'hash', 'smsbody', 'final_smsbody', 'amount',\n",
    "#             'predicted_entities',\n",
    "#             'predicted_balance',\n",
    "#             'length_of_predicted_entities',\n",
    "#             'Predicted_amount_flag', 'is_predicted_amount_numeric_flag']].groupby(['templatehash'])['hash'].nunique()"
   ]
  },
  {
   "cell_type": "markdown",
   "metadata": {},
   "source": [
    "#### Calculate regression metrics for Balance."
   ]
  },
  {
   "cell_type": "code",
   "execution_count": 297,
   "metadata": {},
   "outputs": [
    {
     "data": {
      "text/plain": [
       "Index(['smsbody', 'templatehash', 'hash', 'smstype', 'amount', 'balance',\n",
       "       'pan', 'date', 'smsbody_1', 'smsbody_2', 'smsbody_3', 'smsbody_4',\n",
       "       'smsbody_5', 'smsbody_6', 'final_smsbody', 'predicted_entities',\n",
       "       'length_of_predicted_entities', 'Predicted_amount_flag',\n",
       "       'Predicted_pan_flag', 'Predicted_date_flag', 'Predicted_balance_flag',\n",
       "       'predicted_amount', 'predicted_pan', 'predicted_balance',\n",
       "       'predicted_date', 'is_predicted_amount_numeric_flag',\n",
       "       'is_Predicted_balance_numeric_flag'],\n",
       "      dtype='object')"
      ]
     },
     "execution_count": 297,
     "metadata": {},
     "output_type": "execute_result"
    }
   ],
   "source": [
    "test_data.columns"
   ]
  },
  {
   "cell_type": "code",
   "execution_count": 298,
   "metadata": {},
   "outputs": [
    {
     "name": "stdout",
     "output_type": "stream",
     "text": [
      "<class 'pandas.core.frame.DataFrame'>\n",
      "RangeIndex: 182332 entries, 0 to 182331\n",
      "Data columns (total 27 columns):\n",
      " #   Column                             Non-Null Count   Dtype \n",
      "---  ------                             --------------   ----- \n",
      " 0   smsbody                            182332 non-null  object\n",
      " 1   templatehash                       182332 non-null  object\n",
      " 2   hash                               182332 non-null  object\n",
      " 3   smstype                            182332 non-null  object\n",
      " 4   amount                             182332 non-null  object\n",
      " 5   balance                            182332 non-null  object\n",
      " 6   pan                                182332 non-null  object\n",
      " 7   date                               182332 non-null  object\n",
      " 8   smsbody_1                          182332 non-null  object\n",
      " 9   smsbody_2                          182332 non-null  object\n",
      " 10  smsbody_3                          182332 non-null  object\n",
      " 11  smsbody_4                          182332 non-null  object\n",
      " 12  smsbody_5                          182332 non-null  object\n",
      " 13  smsbody_6                          182332 non-null  object\n",
      " 14  final_smsbody                      182332 non-null  object\n",
      " 15  predicted_entities                 182332 non-null  object\n",
      " 16  length_of_predicted_entities       182332 non-null  int64 \n",
      " 17  Predicted_amount_flag              182332 non-null  int64 \n",
      " 18  Predicted_pan_flag                 182332 non-null  int64 \n",
      " 19  Predicted_date_flag                182332 non-null  int64 \n",
      " 20  Predicted_balance_flag             182332 non-null  int64 \n",
      " 21  predicted_amount                   176506 non-null  object\n",
      " 22  predicted_pan                      154076 non-null  object\n",
      " 23  predicted_balance                  97586 non-null   object\n",
      " 24  predicted_date                     143932 non-null  object\n",
      " 25  is_predicted_amount_numeric_flag   182332 non-null  int64 \n",
      " 26  is_Predicted_balance_numeric_flag  182332 non-null  int64 \n",
      "dtypes: int64(7), object(20)\n",
      "memory usage: 37.6+ MB\n"
     ]
    }
   ],
   "source": [
    "test_data.info()"
   ]
  },
  {
   "cell_type": "code",
   "execution_count": 299,
   "metadata": {},
   "outputs": [],
   "source": [
    "balance_df = test_data[\n",
    "                     (~test_data['balance'].isin([-1, -1.0, -2, -2.0, '-1', '-1.0', '-2', '-2.0'])) &\n",
    "                     (test_data['is_Predicted_balance_numeric_flag'] == 1)\n",
    "                     ]"
   ]
  },
  {
   "cell_type": "code",
   "execution_count": 300,
   "metadata": {},
   "outputs": [
    {
     "data": {
      "text/plain": [
       "(90867, 27)"
      ]
     },
     "execution_count": 300,
     "metadata": {},
     "output_type": "execute_result"
    }
   ],
   "source": [
    "balance_df.shape"
   ]
  },
  {
   "cell_type": "code",
   "execution_count": 301,
   "metadata": {},
   "outputs": [
    {
     "data": {
      "text/plain": [
       "'-1005000.0'"
      ]
     },
     "execution_count": 301,
     "metadata": {},
     "output_type": "execute_result"
    }
   ],
   "source": [
    "balance_df['balance'].min()"
   ]
  },
  {
   "cell_type": "code",
   "execution_count": 302,
   "metadata": {},
   "outputs": [
    {
     "data": {
      "text/html": [
       "<div>\n",
       "<style scoped>\n",
       "    .dataframe tbody tr th:only-of-type {\n",
       "        vertical-align: middle;\n",
       "    }\n",
       "\n",
       "    .dataframe tbody tr th {\n",
       "        vertical-align: top;\n",
       "    }\n",
       "\n",
       "    .dataframe thead th {\n",
       "        text-align: right;\n",
       "    }\n",
       "</style>\n",
       "<table border=\"1\" class=\"dataframe\">\n",
       "  <thead>\n",
       "    <tr style=\"text-align: right;\">\n",
       "      <th></th>\n",
       "      <th>smsbody</th>\n",
       "      <th>templatehash</th>\n",
       "      <th>hash</th>\n",
       "      <th>smstype</th>\n",
       "      <th>amount</th>\n",
       "      <th>balance</th>\n",
       "      <th>pan</th>\n",
       "      <th>date</th>\n",
       "      <th>smsbody_1</th>\n",
       "      <th>smsbody_2</th>\n",
       "      <th>...</th>\n",
       "      <th>Predicted_amount_flag</th>\n",
       "      <th>Predicted_pan_flag</th>\n",
       "      <th>Predicted_date_flag</th>\n",
       "      <th>Predicted_balance_flag</th>\n",
       "      <th>predicted_amount</th>\n",
       "      <th>predicted_pan</th>\n",
       "      <th>predicted_balance</th>\n",
       "      <th>predicted_date</th>\n",
       "      <th>is_predicted_amount_numeric_flag</th>\n",
       "      <th>is_Predicted_balance_numeric_flag</th>\n",
       "    </tr>\n",
       "  </thead>\n",
       "  <tbody>\n",
       "  </tbody>\n",
       "</table>\n",
       "<p>0 rows × 27 columns</p>\n",
       "</div>"
      ],
      "text/plain": [
       "Empty DataFrame\n",
       "Columns: [smsbody, templatehash, hash, smstype, amount, balance, pan, date, smsbody_1, smsbody_2, smsbody_3, smsbody_4, smsbody_5, smsbody_6, final_smsbody, predicted_entities, length_of_predicted_entities, Predicted_amount_flag, Predicted_pan_flag, Predicted_date_flag, Predicted_balance_flag, predicted_amount, predicted_pan, predicted_balance, predicted_date, is_predicted_amount_numeric_flag, is_Predicted_balance_numeric_flag]\n",
       "Index: []\n",
       "\n",
       "[0 rows x 27 columns]"
      ]
     },
     "execution_count": 302,
     "metadata": {},
     "output_type": "execute_result"
    }
   ],
   "source": [
    "balance_df[balance_df['balance'].isin([-2, -2.0, '-2', '-2.0'])]"
   ]
  },
  {
   "cell_type": "code",
   "execution_count": 372,
   "metadata": {},
   "outputs": [
    {
     "name": "stdout",
     "output_type": "stream",
     "text": [
      "       balance_cleaned  predicted_balance_cleaned\n",
      "count         90867.00                   90867.00\n",
      "mean          51232.41            132838429686.47\n",
      "std          290255.13          39888475504148.61\n",
      "min       -24578817.89           -227316092245.00\n",
      "1%                0.00                       0.00\n",
      "2%                1.15                       1.00\n",
      "3%                6.41                       5.68\n",
      "4%               16.17                      15.11\n",
      "5%               30.86                      29.50\n",
      "25%            1037.37                    1030.55\n",
      "50%            6697.01                    6654.88\n",
      "75%           27026.96                   27009.93\n",
      "95%          203437.03                  206890.98\n",
      "96%          258973.12                  265927.77\n",
      "97%          338908.60                  348961.66\n",
      "98%          475765.42                  490152.28\n",
      "99%          824230.39                  942850.16\n",
      "max         8504894.47       12024043019470588.00\n",
      "Mean Absolute Error of Balance: 132855813089.95\n"
     ]
    }
   ],
   "source": [
    "# Suppress any warnings.\n",
    "import warnings\n",
    "warnings.filterwarnings('ignore')\n",
    "\n",
    "# Convert all values to strings, remove commas, then convert to float, and handle missing values\n",
    "balance_df['balance_cleaned'] = balance_df['balance'].astype(str).str.replace(',', '').replace('None', np.nan).astype(float)\n",
    "balance_df['predicted_balance_cleaned'] = balance_df['predicted_balance'].astype(str).str.replace(',', '').replace('None', np.nan).astype(float)\n",
    "\n",
    "pd.options.display.float_format = '{:.2f}'.format\n",
    "print(balance_df[['balance_cleaned', 'predicted_balance_cleaned']].describe(percentiles = [0.01, 0.02, 0.03, 0.04, 0.05, 0.25, 0.50, 0.75, 0.95, 0.96, 0.97, 0.98, 0.99]))\n",
    "\n",
    "# Calculate Mean Squared Error, skipping rows with NaN values\n",
    "mae = np.mean(np.abs(balance_df['balance_cleaned'] - balance_df['predicted_balance_cleaned']))\n",
    "print(\"Mean Absolute Error of Balance:\", round(mae, 2))"
   ]
  },
  {
   "cell_type": "code",
   "execution_count": 304,
   "metadata": {},
   "outputs": [
    {
     "data": {
      "text/plain": [
       "array(['9a2915937ca0fca9c13730f3caf247f9',\n",
       "       'f10d170187479be3493ff0586a2be96c',\n",
       "       'ac3cb5b816bce0e4934bf1908eb87b8c'], dtype=object)"
      ]
     },
     "execution_count": 304,
     "metadata": {},
     "output_type": "execute_result"
    }
   ],
   "source": [
    "balance_df[(balance_df['predicted_balance_cleaned'] > 5202308186)]['templatehash'].unique()"
   ]
  },
  {
   "cell_type": "markdown",
   "metadata": {},
   "source": [
    "##### For Balance"
   ]
  },
  {
   "cell_type": "code",
   "execution_count": 4,
   "metadata": {},
   "outputs": [],
   "source": [
    "# test_data[(~test_data['balance'].isin([-1, -1.0, -2, -2.0, '-1', '-1.0', '-2', '-2.0'])) &\n",
    "#           (test_data['Predicted_balance_flag'] == 1) &\n",
    "#           (test_data['is_Predicted_balance_numeric_flag'] == 0)\n",
    "#          ][['templatehash', 'hash', 'smsbody', 'final_smsbody', 'balance',\n",
    "#             'predicted_entities',\n",
    "#             'predicted_balance',\n",
    "#             'length_of_predicted_entities',\n",
    "#             'Predicted_balance_flag', 'is_Predicted_balance_numeric_flag']].groupby(['templatehash'])['hash'].nunique()"
   ]
  },
  {
   "cell_type": "markdown",
   "metadata": {},
   "source": [
    "#### Calculate accuracy metric for date."
   ]
  },
  {
   "cell_type": "code",
   "execution_count": 306,
   "metadata": {},
   "outputs": [
    {
     "data": {
      "text/html": [
       "<div>\n",
       "<style scoped>\n",
       "    .dataframe tbody tr th:only-of-type {\n",
       "        vertical-align: middle;\n",
       "    }\n",
       "\n",
       "    .dataframe tbody tr th {\n",
       "        vertical-align: top;\n",
       "    }\n",
       "\n",
       "    .dataframe thead th {\n",
       "        text-align: right;\n",
       "    }\n",
       "</style>\n",
       "<table border=\"1\" class=\"dataframe\">\n",
       "  <thead>\n",
       "    <tr style=\"text-align: right;\">\n",
       "      <th></th>\n",
       "      <th>smsbody</th>\n",
       "      <th>templatehash</th>\n",
       "      <th>hash</th>\n",
       "      <th>smstype</th>\n",
       "      <th>amount</th>\n",
       "      <th>balance</th>\n",
       "      <th>pan</th>\n",
       "      <th>date</th>\n",
       "      <th>smsbody_1</th>\n",
       "      <th>smsbody_2</th>\n",
       "      <th>...</th>\n",
       "      <th>Predicted_amount_flag</th>\n",
       "      <th>Predicted_pan_flag</th>\n",
       "      <th>Predicted_date_flag</th>\n",
       "      <th>Predicted_balance_flag</th>\n",
       "      <th>predicted_amount</th>\n",
       "      <th>predicted_pan</th>\n",
       "      <th>predicted_balance</th>\n",
       "      <th>predicted_date</th>\n",
       "      <th>is_predicted_amount_numeric_flag</th>\n",
       "      <th>is_Predicted_balance_numeric_flag</th>\n",
       "    </tr>\n",
       "  </thead>\n",
       "  <tbody>\n",
       "    <tr>\n",
       "      <th>0</th>\n",
       "      <td>DBGB: Ac XXXXXXXX003338 Debited with Rs.158.00,02-11-2022 17:36:11. Aval Bal Rs.5111.00 CR. Helpline 18001807777</td>\n",
       "      <td>4bb988f625ed5311465b87a3b42984cd</td>\n",
       "      <td>1a2329fdadea93a4e0f929a321fd9e54</td>\n",
       "      <td>debit-transaction</td>\n",
       "      <td>158.0</td>\n",
       "      <td>5111.0</td>\n",
       "      <td>XXXXXXXX003338</td>\n",
       "      <td>02-11-2022</td>\n",
       "      <td>DBGB :  Ac XXXXXXXX003338 Debited with  Rs. 158.00,02-11-2022 17 : 36 : 11. Aval Bal  Rs. 5111.00 CR. Helpline 18001807777</td>\n",
       "      <td>DBGB :  Ac XXXXXXXX003338 Debited with  Rs. 158.00,02-11-2022 17 : 36 : 11. Aval Bal  Rs. 5111.00 CR. Helpline 18001807777</td>\n",
       "      <td>...</td>\n",
       "      <td>1</td>\n",
       "      <td>1</td>\n",
       "      <td>1</td>\n",
       "      <td>1</td>\n",
       "      <td>158.00</td>\n",
       "      <td>XXXXXXXX003338</td>\n",
       "      <td>5111.00</td>\n",
       "      <td>02-11-2022</td>\n",
       "      <td>1</td>\n",
       "      <td>1</td>\n",
       "    </tr>\n",
       "    <tr>\n",
       "      <th>1</th>\n",
       "      <td>DBGB: Ac XXXXXXXX509006 Debited with Rs.17.70,27-06-2024 20:30:29. Aval Bal Rs.152.60 CR. Helpline 18001807777</td>\n",
       "      <td>4bb988f625ed5311465b87a3b42984cd</td>\n",
       "      <td>02d29bf975b65db3c0122bd302b6b780</td>\n",
       "      <td>debit-transaction</td>\n",
       "      <td>17.69</td>\n",
       "      <td>152.59</td>\n",
       "      <td>XXXXXXXX509006</td>\n",
       "      <td>27-06-2024</td>\n",
       "      <td>DBGB :  Ac XXXXXXXX509006 Debited with  Rs. 17.70,27-06-2024 20 : 30 : 29. Aval Bal  Rs. 152.60 CR. Helpline 18001807777</td>\n",
       "      <td>DBGB :  Ac XXXXXXXX509006 Debited with  Rs. 17.70,27-06-2024 20 : 30 : 29. Aval Bal  Rs. 152.60 CR. Helpline 18001807777</td>\n",
       "      <td>...</td>\n",
       "      <td>1</td>\n",
       "      <td>1</td>\n",
       "      <td>1</td>\n",
       "      <td>1</td>\n",
       "      <td>17.70</td>\n",
       "      <td>XXXXXXXX509006</td>\n",
       "      <td>152.60</td>\n",
       "      <td>27-06-2024</td>\n",
       "      <td>1</td>\n",
       "      <td>1</td>\n",
       "    </tr>\n",
       "  </tbody>\n",
       "</table>\n",
       "<p>2 rows × 27 columns</p>\n",
       "</div>"
      ],
      "text/plain": [
       "                                                                                                            smsbody  \\\n",
       "0  DBGB: Ac XXXXXXXX003338 Debited with Rs.158.00,02-11-2022 17:36:11. Aval Bal Rs.5111.00 CR. Helpline 18001807777   \n",
       "1    DBGB: Ac XXXXXXXX509006 Debited with Rs.17.70,27-06-2024 20:30:29. Aval Bal Rs.152.60 CR. Helpline 18001807777   \n",
       "\n",
       "                       templatehash                              hash  \\\n",
       "0  4bb988f625ed5311465b87a3b42984cd  1a2329fdadea93a4e0f929a321fd9e54   \n",
       "1  4bb988f625ed5311465b87a3b42984cd  02d29bf975b65db3c0122bd302b6b780   \n",
       "\n",
       "             smstype amount balance             pan        date  \\\n",
       "0  debit-transaction  158.0  5111.0  XXXXXXXX003338  02-11-2022   \n",
       "1  debit-transaction  17.69  152.59  XXXXXXXX509006  27-06-2024   \n",
       "\n",
       "                                                                                                                    smsbody_1  \\\n",
       "0  DBGB :  Ac XXXXXXXX003338 Debited with  Rs. 158.00,02-11-2022 17 : 36 : 11. Aval Bal  Rs. 5111.00 CR. Helpline 18001807777   \n",
       "1    DBGB :  Ac XXXXXXXX509006 Debited with  Rs. 17.70,27-06-2024 20 : 30 : 29. Aval Bal  Rs. 152.60 CR. Helpline 18001807777   \n",
       "\n",
       "                                                                                                                    smsbody_2  \\\n",
       "0  DBGB :  Ac XXXXXXXX003338 Debited with  Rs. 158.00,02-11-2022 17 : 36 : 11. Aval Bal  Rs. 5111.00 CR. Helpline 18001807777   \n",
       "1    DBGB :  Ac XXXXXXXX509006 Debited with  Rs. 17.70,27-06-2024 20 : 30 : 29. Aval Bal  Rs. 152.60 CR. Helpline 18001807777   \n",
       "\n",
       "   ... Predicted_amount_flag Predicted_pan_flag Predicted_date_flag  \\\n",
       "0  ...                     1                  1                   1   \n",
       "1  ...                     1                  1                   1   \n",
       "\n",
       "  Predicted_balance_flag predicted_amount   predicted_pan  predicted_balance  \\\n",
       "0                      1           158.00  XXXXXXXX003338            5111.00   \n",
       "1                      1            17.70  XXXXXXXX509006             152.60   \n",
       "\n",
       "   predicted_date  is_predicted_amount_numeric_flag  \\\n",
       "0      02-11-2022                                 1   \n",
       "1      27-06-2024                                 1   \n",
       "\n",
       "   is_Predicted_balance_numeric_flag  \n",
       "0                                  1  \n",
       "1                                  1  \n",
       "\n",
       "[2 rows x 27 columns]"
      ]
     },
     "execution_count": 306,
     "metadata": {},
     "output_type": "execute_result"
    }
   ],
   "source": [
    "test_data.head(2)"
   ]
  },
  {
   "cell_type": "code",
   "execution_count": 307,
   "metadata": {},
   "outputs": [],
   "source": [
    "date_df = test_data[(~test_data['date'].isin([-1, -1.0, '-1', '-1.0'])) & (test_data['Predicted_date_flag'] == 1)]"
   ]
  },
  {
   "cell_type": "code",
   "execution_count": 308,
   "metadata": {},
   "outputs": [
    {
     "data": {
      "text/html": [
       "<div>\n",
       "<style scoped>\n",
       "    .dataframe tbody tr th:only-of-type {\n",
       "        vertical-align: middle;\n",
       "    }\n",
       "\n",
       "    .dataframe tbody tr th {\n",
       "        vertical-align: top;\n",
       "    }\n",
       "\n",
       "    .dataframe thead th {\n",
       "        text-align: right;\n",
       "    }\n",
       "</style>\n",
       "<table border=\"1\" class=\"dataframe\">\n",
       "  <thead>\n",
       "    <tr style=\"text-align: right;\">\n",
       "      <th></th>\n",
       "      <th>smsbody</th>\n",
       "      <th>templatehash</th>\n",
       "      <th>hash</th>\n",
       "      <th>smstype</th>\n",
       "      <th>amount</th>\n",
       "      <th>balance</th>\n",
       "      <th>pan</th>\n",
       "      <th>date</th>\n",
       "      <th>smsbody_1</th>\n",
       "      <th>smsbody_2</th>\n",
       "      <th>...</th>\n",
       "      <th>Predicted_amount_flag</th>\n",
       "      <th>Predicted_pan_flag</th>\n",
       "      <th>Predicted_date_flag</th>\n",
       "      <th>Predicted_balance_flag</th>\n",
       "      <th>predicted_amount</th>\n",
       "      <th>predicted_pan</th>\n",
       "      <th>predicted_balance</th>\n",
       "      <th>predicted_date</th>\n",
       "      <th>is_predicted_amount_numeric_flag</th>\n",
       "      <th>is_Predicted_balance_numeric_flag</th>\n",
       "    </tr>\n",
       "  </thead>\n",
       "  <tbody>\n",
       "    <tr>\n",
       "      <th>0</th>\n",
       "      <td>DBGB: Ac XXXXXXXX003338 Debited with Rs.158.00,02-11-2022 17:36:11. Aval Bal Rs.5111.00 CR. Helpline 18001807777</td>\n",
       "      <td>4bb988f625ed5311465b87a3b42984cd</td>\n",
       "      <td>1a2329fdadea93a4e0f929a321fd9e54</td>\n",
       "      <td>debit-transaction</td>\n",
       "      <td>158.0</td>\n",
       "      <td>5111.0</td>\n",
       "      <td>XXXXXXXX003338</td>\n",
       "      <td>02-11-2022</td>\n",
       "      <td>DBGB :  Ac XXXXXXXX003338 Debited with  Rs. 158.00,02-11-2022 17 : 36 : 11. Aval Bal  Rs. 5111.00 CR. Helpline 18001807777</td>\n",
       "      <td>DBGB :  Ac XXXXXXXX003338 Debited with  Rs. 158.00,02-11-2022 17 : 36 : 11. Aval Bal  Rs. 5111.00 CR. Helpline 18001807777</td>\n",
       "      <td>...</td>\n",
       "      <td>1</td>\n",
       "      <td>1</td>\n",
       "      <td>1</td>\n",
       "      <td>1</td>\n",
       "      <td>158.00</td>\n",
       "      <td>XXXXXXXX003338</td>\n",
       "      <td>5111.00</td>\n",
       "      <td>02-11-2022</td>\n",
       "      <td>1</td>\n",
       "      <td>1</td>\n",
       "    </tr>\n",
       "  </tbody>\n",
       "</table>\n",
       "<p>1 rows × 27 columns</p>\n",
       "</div>"
      ],
      "text/plain": [
       "                                                                                                            smsbody  \\\n",
       "0  DBGB: Ac XXXXXXXX003338 Debited with Rs.158.00,02-11-2022 17:36:11. Aval Bal Rs.5111.00 CR. Helpline 18001807777   \n",
       "\n",
       "                       templatehash                              hash  \\\n",
       "0  4bb988f625ed5311465b87a3b42984cd  1a2329fdadea93a4e0f929a321fd9e54   \n",
       "\n",
       "             smstype amount balance             pan        date  \\\n",
       "0  debit-transaction  158.0  5111.0  XXXXXXXX003338  02-11-2022   \n",
       "\n",
       "                                                                                                                    smsbody_1  \\\n",
       "0  DBGB :  Ac XXXXXXXX003338 Debited with  Rs. 158.00,02-11-2022 17 : 36 : 11. Aval Bal  Rs. 5111.00 CR. Helpline 18001807777   \n",
       "\n",
       "                                                                                                                    smsbody_2  \\\n",
       "0  DBGB :  Ac XXXXXXXX003338 Debited with  Rs. 158.00,02-11-2022 17 : 36 : 11. Aval Bal  Rs. 5111.00 CR. Helpline 18001807777   \n",
       "\n",
       "   ... Predicted_amount_flag Predicted_pan_flag Predicted_date_flag  \\\n",
       "0  ...                     1                  1                   1   \n",
       "\n",
       "  Predicted_balance_flag predicted_amount   predicted_pan  predicted_balance  \\\n",
       "0                      1           158.00  XXXXXXXX003338            5111.00   \n",
       "\n",
       "   predicted_date  is_predicted_amount_numeric_flag  \\\n",
       "0      02-11-2022                                 1   \n",
       "\n",
       "   is_Predicted_balance_numeric_flag  \n",
       "0                                  1  \n",
       "\n",
       "[1 rows x 27 columns]"
      ]
     },
     "execution_count": 308,
     "metadata": {},
     "output_type": "execute_result"
    }
   ],
   "source": [
    "date_df.head(1)"
   ]
  },
  {
   "cell_type": "code",
   "execution_count": 309,
   "metadata": {},
   "outputs": [
    {
     "data": {
      "text/plain": [
       "(143087, 27)"
      ]
     },
     "execution_count": 309,
     "metadata": {},
     "output_type": "execute_result"
    }
   ],
   "source": [
    "date_df.shape"
   ]
  },
  {
   "cell_type": "code",
   "execution_count": 310,
   "metadata": {},
   "outputs": [],
   "source": [
    "cnt_unique_date = date_df[(date_df['date'] == date_df['predicted_date'])]['hash'].nunique()"
   ]
  },
  {
   "cell_type": "code",
   "execution_count": 311,
   "metadata": {},
   "outputs": [
    {
     "data": {
      "text/plain": [
       "134913"
      ]
     },
     "execution_count": 311,
     "metadata": {},
     "output_type": "execute_result"
    }
   ],
   "source": [
    "cnt_unique_date"
   ]
  },
  {
   "cell_type": "code",
   "execution_count": 312,
   "metadata": {},
   "outputs": [],
   "source": [
    "date_df_shape = date_df.shape[0]"
   ]
  },
  {
   "cell_type": "code",
   "execution_count": 313,
   "metadata": {},
   "outputs": [
    {
     "data": {
      "text/plain": [
       "143087"
      ]
     },
     "execution_count": 313,
     "metadata": {},
     "output_type": "execute_result"
    }
   ],
   "source": [
    "date_df_shape"
   ]
  },
  {
   "cell_type": "code",
   "execution_count": 314,
   "metadata": {},
   "outputs": [
    {
     "name": "stdout",
     "output_type": "stream",
     "text": [
      "Accuracy metric for predicted date : 94.29\n"
     ]
    }
   ],
   "source": [
    "print(f'Accuracy metric for predicted date : {cnt_unique_date/date_df_shape*100:.2f}')"
   ]
  },
  {
   "cell_type": "markdown",
   "metadata": {},
   "source": [
    "##### Get the templates for which the wrong / mismatched prediction has been made."
   ]
  },
  {
   "cell_type": "markdown",
   "metadata": {},
   "source": [
    "##### For Date"
   ]
  },
  {
   "cell_type": "code",
   "execution_count": 315,
   "metadata": {},
   "outputs": [
    {
     "data": {
      "text/plain": [
       "(8174, 27)"
      ]
     },
     "execution_count": 315,
     "metadata": {},
     "output_type": "execute_result"
    }
   ],
   "source": [
    "date_df[(date_df['date'] != date_df['predicted_date'])].shape"
   ]
  },
  {
   "cell_type": "code",
   "execution_count": 316,
   "metadata": {},
   "outputs": [
    {
     "data": {
      "text/plain": [
       "templatehash\n",
       "1b69b8a864fe51c352e5933988f2e1de     47\n",
       "268d50601d6927ea0420bee0166a68be     17\n",
       "3331cbed8baa995fcd43a3e1f8d6e48e    890\n",
       "3692999a920242a6fa648a21f4505ffb     15\n",
       "3c7d518a746362597ae386ca5e73b09f     37\n",
       "3ed7ad62854743042bff9a22d9626828     23\n",
       "404f60a0bc6c93a7154f40fafb70662a     92\n",
       "42d6d0337f9bfef57dab4fd667947fc8     72\n",
       "4d90ae3fa48e3b38226dfe5d92571831     43\n",
       "534be7405affa3553bffd1ca3d1d164c    831\n",
       "6ff735f39f99f2496c4740b604072ebe      1\n",
       "8c54434ccd0225b39f790294a1895a84      7\n",
       "96b1f2aebee54ac4c32a8d2fe5ab2825    984\n",
       "9beea698a379242a24c5e6ffcfccee68    961\n",
       "a37688252b205e4c55fcf57f777c7e5f    995\n",
       "ad12af9e66f365b7ab8fc29bc962616b    996\n",
       "afae0d16604b91aeb0965f86a9d69704      2\n",
       "b81997d2feac3444a21f47863daefaf6     21\n",
       "c40528cbe9cc2aa5d8b3a21c71067b78     57\n",
       "c6e7a7e27fa67190ef1784157d665d72    956\n",
       "d67847e1a577b14c5e9b03da9202138d    986\n",
       "e31573703233de64bd5c1b33d707f9fa      1\n",
       "eba8feb62ab02b21c5e39e1307203e6b     94\n",
       "ef95df63443b38223d0215751bb92060     45\n",
       "f3005925aacaa6305d6365ea64005b14      1\n",
       "Name: hash, dtype: int64"
      ]
     },
     "execution_count": 316,
     "metadata": {},
     "output_type": "execute_result"
    }
   ],
   "source": [
    "inaccurate_date=pd.DataFrame(date_df[(date_df['date'] != date_df['predicted_date'])].groupby(['templatehash'])['hash'].nunique()"
   ]
  },
  {
   "cell_type": "code",
   "execution_count": 317,
   "metadata": {},
   "outputs": [
    {
     "data": {
      "text/html": [
       "<div>\n",
       "<style scoped>\n",
       "    .dataframe tbody tr th:only-of-type {\n",
       "        vertical-align: middle;\n",
       "    }\n",
       "\n",
       "    .dataframe tbody tr th {\n",
       "        vertical-align: top;\n",
       "    }\n",
       "\n",
       "    .dataframe thead th {\n",
       "        text-align: right;\n",
       "    }\n",
       "</style>\n",
       "<table border=\"1\" class=\"dataframe\">\n",
       "  <thead>\n",
       "    <tr style=\"text-align: right;\">\n",
       "      <th></th>\n",
       "      <th>date</th>\n",
       "      <th>predicted_date</th>\n",
       "    </tr>\n",
       "  </thead>\n",
       "  <tbody>\n",
       "    <tr>\n",
       "      <th>145141</th>\n",
       "      <td>26 NOV</td>\n",
       "      <td>26 NOV 08</td>\n",
       "    </tr>\n",
       "    <tr>\n",
       "      <th>145151</th>\n",
       "      <td>25 NOV</td>\n",
       "      <td>25 NOV 20</td>\n",
       "    </tr>\n",
       "  </tbody>\n",
       "</table>\n",
       "</div>"
      ],
      "text/plain": [
       "          date predicted_date\n",
       "145141  26 NOV      26 NOV 08\n",
       "145151  25 NOV      25 NOV 20"
      ]
     },
     "execution_count": 317,
     "metadata": {},
     "output_type": "execute_result"
    }
   ],
   "source": [
    "date_df[(date_df['templatehash'] == 'afae0d16604b91aeb0965f86a9d69704')][['date', 'predicted_date']]"
   ]
  },
  {
   "cell_type": "markdown",
   "metadata": {},
   "source": [
    "#### Calculate accuracy metric for pan."
   ]
  },
  {
   "cell_type": "code",
   "execution_count": 318,
   "metadata": {},
   "outputs": [
    {
     "data": {
      "text/html": [
       "<div>\n",
       "<style scoped>\n",
       "    .dataframe tbody tr th:only-of-type {\n",
       "        vertical-align: middle;\n",
       "    }\n",
       "\n",
       "    .dataframe tbody tr th {\n",
       "        vertical-align: top;\n",
       "    }\n",
       "\n",
       "    .dataframe thead th {\n",
       "        text-align: right;\n",
       "    }\n",
       "</style>\n",
       "<table border=\"1\" class=\"dataframe\">\n",
       "  <thead>\n",
       "    <tr style=\"text-align: right;\">\n",
       "      <th></th>\n",
       "      <th>smsbody</th>\n",
       "      <th>templatehash</th>\n",
       "      <th>hash</th>\n",
       "      <th>smstype</th>\n",
       "      <th>amount</th>\n",
       "      <th>balance</th>\n",
       "      <th>pan</th>\n",
       "      <th>date</th>\n",
       "      <th>smsbody_1</th>\n",
       "      <th>smsbody_2</th>\n",
       "      <th>...</th>\n",
       "      <th>Predicted_amount_flag</th>\n",
       "      <th>Predicted_pan_flag</th>\n",
       "      <th>Predicted_date_flag</th>\n",
       "      <th>Predicted_balance_flag</th>\n",
       "      <th>predicted_amount</th>\n",
       "      <th>predicted_pan</th>\n",
       "      <th>predicted_balance</th>\n",
       "      <th>predicted_date</th>\n",
       "      <th>is_predicted_amount_numeric_flag</th>\n",
       "      <th>is_Predicted_balance_numeric_flag</th>\n",
       "    </tr>\n",
       "  </thead>\n",
       "  <tbody>\n",
       "    <tr>\n",
       "      <th>0</th>\n",
       "      <td>DBGB: Ac XXXXXXXX003338 Debited with Rs.158.00,02-11-2022 17:36:11. Aval Bal Rs.5111.00 CR. Helpline 18001807777</td>\n",
       "      <td>4bb988f625ed5311465b87a3b42984cd</td>\n",
       "      <td>1a2329fdadea93a4e0f929a321fd9e54</td>\n",
       "      <td>debit-transaction</td>\n",
       "      <td>158.0</td>\n",
       "      <td>5111.0</td>\n",
       "      <td>XXXXXXXX003338</td>\n",
       "      <td>02-11-2022</td>\n",
       "      <td>DBGB :  Ac XXXXXXXX003338 Debited with  Rs. 158.00,02-11-2022 17 : 36 : 11. Aval Bal  Rs. 5111.00 CR. Helpline 18001807777</td>\n",
       "      <td>DBGB :  Ac XXXXXXXX003338 Debited with  Rs. 158.00,02-11-2022 17 : 36 : 11. Aval Bal  Rs. 5111.00 CR. Helpline 18001807777</td>\n",
       "      <td>...</td>\n",
       "      <td>1</td>\n",
       "      <td>1</td>\n",
       "      <td>1</td>\n",
       "      <td>1</td>\n",
       "      <td>158.00</td>\n",
       "      <td>XXXXXXXX003338</td>\n",
       "      <td>5111.00</td>\n",
       "      <td>02-11-2022</td>\n",
       "      <td>1</td>\n",
       "      <td>1</td>\n",
       "    </tr>\n",
       "  </tbody>\n",
       "</table>\n",
       "<p>1 rows × 27 columns</p>\n",
       "</div>"
      ],
      "text/plain": [
       "                                                                                                            smsbody  \\\n",
       "0  DBGB: Ac XXXXXXXX003338 Debited with Rs.158.00,02-11-2022 17:36:11. Aval Bal Rs.5111.00 CR. Helpline 18001807777   \n",
       "\n",
       "                       templatehash                              hash  \\\n",
       "0  4bb988f625ed5311465b87a3b42984cd  1a2329fdadea93a4e0f929a321fd9e54   \n",
       "\n",
       "             smstype amount balance             pan        date  \\\n",
       "0  debit-transaction  158.0  5111.0  XXXXXXXX003338  02-11-2022   \n",
       "\n",
       "                                                                                                                    smsbody_1  \\\n",
       "0  DBGB :  Ac XXXXXXXX003338 Debited with  Rs. 158.00,02-11-2022 17 : 36 : 11. Aval Bal  Rs. 5111.00 CR. Helpline 18001807777   \n",
       "\n",
       "                                                                                                                    smsbody_2  \\\n",
       "0  DBGB :  Ac XXXXXXXX003338 Debited with  Rs. 158.00,02-11-2022 17 : 36 : 11. Aval Bal  Rs. 5111.00 CR. Helpline 18001807777   \n",
       "\n",
       "   ... Predicted_amount_flag Predicted_pan_flag Predicted_date_flag  \\\n",
       "0  ...                     1                  1                   1   \n",
       "\n",
       "  Predicted_balance_flag predicted_amount   predicted_pan  predicted_balance  \\\n",
       "0                      1           158.00  XXXXXXXX003338            5111.00   \n",
       "\n",
       "   predicted_date  is_predicted_amount_numeric_flag  \\\n",
       "0      02-11-2022                                 1   \n",
       "\n",
       "   is_Predicted_balance_numeric_flag  \n",
       "0                                  1  \n",
       "\n",
       "[1 rows x 27 columns]"
      ]
     },
     "execution_count": 318,
     "metadata": {},
     "output_type": "execute_result"
    }
   ],
   "source": [
    "test_data.head(1)"
   ]
  },
  {
   "cell_type": "code",
   "execution_count": 319,
   "metadata": {},
   "outputs": [],
   "source": [
    "pan_df = test_data[(~test_data['pan'].isin([-1, -1.0, '-1', '-1.0'])) & (test_data['Predicted_pan_flag'] == 1)]"
   ]
  },
  {
   "cell_type": "code",
   "execution_count": 320,
   "metadata": {},
   "outputs": [
    {
     "data": {
      "text/html": [
       "<div>\n",
       "<style scoped>\n",
       "    .dataframe tbody tr th:only-of-type {\n",
       "        vertical-align: middle;\n",
       "    }\n",
       "\n",
       "    .dataframe tbody tr th {\n",
       "        vertical-align: top;\n",
       "    }\n",
       "\n",
       "    .dataframe thead th {\n",
       "        text-align: right;\n",
       "    }\n",
       "</style>\n",
       "<table border=\"1\" class=\"dataframe\">\n",
       "  <thead>\n",
       "    <tr style=\"text-align: right;\">\n",
       "      <th></th>\n",
       "      <th>smsbody</th>\n",
       "      <th>templatehash</th>\n",
       "      <th>hash</th>\n",
       "      <th>smstype</th>\n",
       "      <th>amount</th>\n",
       "      <th>balance</th>\n",
       "      <th>pan</th>\n",
       "      <th>date</th>\n",
       "      <th>smsbody_1</th>\n",
       "      <th>smsbody_2</th>\n",
       "      <th>...</th>\n",
       "      <th>Predicted_amount_flag</th>\n",
       "      <th>Predicted_pan_flag</th>\n",
       "      <th>Predicted_date_flag</th>\n",
       "      <th>Predicted_balance_flag</th>\n",
       "      <th>predicted_amount</th>\n",
       "      <th>predicted_pan</th>\n",
       "      <th>predicted_balance</th>\n",
       "      <th>predicted_date</th>\n",
       "      <th>is_predicted_amount_numeric_flag</th>\n",
       "      <th>is_Predicted_balance_numeric_flag</th>\n",
       "    </tr>\n",
       "  </thead>\n",
       "  <tbody>\n",
       "    <tr>\n",
       "      <th>0</th>\n",
       "      <td>DBGB: Ac XXXXXXXX003338 Debited with Rs.158.00,02-11-2022 17:36:11. Aval Bal Rs.5111.00 CR. Helpline 18001807777</td>\n",
       "      <td>4bb988f625ed5311465b87a3b42984cd</td>\n",
       "      <td>1a2329fdadea93a4e0f929a321fd9e54</td>\n",
       "      <td>debit-transaction</td>\n",
       "      <td>158.0</td>\n",
       "      <td>5111.0</td>\n",
       "      <td>XXXXXXXX003338</td>\n",
       "      <td>02-11-2022</td>\n",
       "      <td>DBGB :  Ac XXXXXXXX003338 Debited with  Rs. 158.00,02-11-2022 17 : 36 : 11. Aval Bal  Rs. 5111.00 CR. Helpline 18001807777</td>\n",
       "      <td>DBGB :  Ac XXXXXXXX003338 Debited with  Rs. 158.00,02-11-2022 17 : 36 : 11. Aval Bal  Rs. 5111.00 CR. Helpline 18001807777</td>\n",
       "      <td>...</td>\n",
       "      <td>1</td>\n",
       "      <td>1</td>\n",
       "      <td>1</td>\n",
       "      <td>1</td>\n",
       "      <td>158.00</td>\n",
       "      <td>XXXXXXXX003338</td>\n",
       "      <td>5111.00</td>\n",
       "      <td>02-11-2022</td>\n",
       "      <td>1</td>\n",
       "      <td>1</td>\n",
       "    </tr>\n",
       "  </tbody>\n",
       "</table>\n",
       "<p>1 rows × 27 columns</p>\n",
       "</div>"
      ],
      "text/plain": [
       "                                                                                                            smsbody  \\\n",
       "0  DBGB: Ac XXXXXXXX003338 Debited with Rs.158.00,02-11-2022 17:36:11. Aval Bal Rs.5111.00 CR. Helpline 18001807777   \n",
       "\n",
       "                       templatehash                              hash  \\\n",
       "0  4bb988f625ed5311465b87a3b42984cd  1a2329fdadea93a4e0f929a321fd9e54   \n",
       "\n",
       "             smstype amount balance             pan        date  \\\n",
       "0  debit-transaction  158.0  5111.0  XXXXXXXX003338  02-11-2022   \n",
       "\n",
       "                                                                                                                    smsbody_1  \\\n",
       "0  DBGB :  Ac XXXXXXXX003338 Debited with  Rs. 158.00,02-11-2022 17 : 36 : 11. Aval Bal  Rs. 5111.00 CR. Helpline 18001807777   \n",
       "\n",
       "                                                                                                                    smsbody_2  \\\n",
       "0  DBGB :  Ac XXXXXXXX003338 Debited with  Rs. 158.00,02-11-2022 17 : 36 : 11. Aval Bal  Rs. 5111.00 CR. Helpline 18001807777   \n",
       "\n",
       "   ... Predicted_amount_flag Predicted_pan_flag Predicted_date_flag  \\\n",
       "0  ...                     1                  1                   1   \n",
       "\n",
       "  Predicted_balance_flag predicted_amount   predicted_pan  predicted_balance  \\\n",
       "0                      1           158.00  XXXXXXXX003338            5111.00   \n",
       "\n",
       "   predicted_date  is_predicted_amount_numeric_flag  \\\n",
       "0      02-11-2022                                 1   \n",
       "\n",
       "   is_Predicted_balance_numeric_flag  \n",
       "0                                  1  \n",
       "\n",
       "[1 rows x 27 columns]"
      ]
     },
     "execution_count": 320,
     "metadata": {},
     "output_type": "execute_result"
    }
   ],
   "source": [
    "pan_df.head(1)"
   ]
  },
  {
   "cell_type": "code",
   "execution_count": 321,
   "metadata": {},
   "outputs": [
    {
     "data": {
      "text/plain": [
       "(149684, 27)"
      ]
     },
     "execution_count": 321,
     "metadata": {},
     "output_type": "execute_result"
    }
   ],
   "source": [
    "pan_df.shape"
   ]
  },
  {
   "cell_type": "code",
   "execution_count": 322,
   "metadata": {},
   "outputs": [],
   "source": [
    "cnt_unique_pan = pan_df[(pan_df['pan'] == pan_df['predicted_pan'])]['hash'].nunique()"
   ]
  },
  {
   "cell_type": "code",
   "execution_count": 323,
   "metadata": {},
   "outputs": [
    {
     "data": {
      "text/plain": [
       "144895"
      ]
     },
     "execution_count": 323,
     "metadata": {},
     "output_type": "execute_result"
    }
   ],
   "source": [
    "cnt_unique_pan"
   ]
  },
  {
   "cell_type": "code",
   "execution_count": 324,
   "metadata": {},
   "outputs": [],
   "source": [
    "pan_df_shape = pan_df.shape[0]"
   ]
  },
  {
   "cell_type": "code",
   "execution_count": 325,
   "metadata": {},
   "outputs": [
    {
     "data": {
      "text/plain": [
       "149684"
      ]
     },
     "execution_count": 325,
     "metadata": {},
     "output_type": "execute_result"
    }
   ],
   "source": [
    "pan_df_shape"
   ]
  },
  {
   "cell_type": "code",
   "execution_count": 326,
   "metadata": {},
   "outputs": [
    {
     "name": "stdout",
     "output_type": "stream",
     "text": [
      "Accuracy metric for predicted PAN : 96.80\n"
     ]
    }
   ],
   "source": [
    "print(f'Accuracy metric for predicted PAN : {cnt_unique_pan/pan_df_shape*100:.2f}')"
   ]
  },
  {
   "cell_type": "markdown",
   "metadata": {},
   "source": [
    "##### For Pan"
   ]
  },
  {
   "cell_type": "code",
   "execution_count": 327,
   "metadata": {},
   "outputs": [
    {
     "data": {
      "text/plain": [
       "(17118, 27)"
      ]
     },
     "execution_count": 327,
     "metadata": {},
     "output_type": "execute_result"
    }
   ],
   "source": [
    "date_df[(date_df['pan'] != date_df['predicted_pan'])].shape"
   ]
  },
  {
   "cell_type": "code",
   "execution_count": 328,
   "metadata": {},
   "outputs": [
    {
     "data": {
      "text/plain": [
       "templatehash\n",
       "01cea2e18c8c7c5c2e4cba1420949afb      2\n",
       "06f77e41d0d4dfc50956f870cfd28f7c    448\n",
       "0a3431132fffed9366ad86b0d8e505a7     91\n",
       "0e7f87b5e9c0dbcdcb5cdd8fe892bebf    254\n",
       "14fe676de66cefae7e4ebb2894d139c0      4\n",
       "172d77af05f616a270667b4b629581ab    771\n",
       "1891911a7f106269d66696391eebdc24    950\n",
       "1a95934ad14a7c18e6169eb0c19b866b      6\n",
       "1c575f97d2bf7684e8dd349aedea2bb7    923\n",
       "2e71e66574aa77571114a3df2bc95853     78\n",
       "36bfe2067ec7a280e9ee9005c5c9db4d     81\n",
       "3c601a1c3609b188c765d4bd9aaf690a    640\n",
       "45fa4b8e5a0d11ec3b74aaaac8e2bbfe     62\n",
       "46d936960adb62d1a38145054080c9d1    971\n",
       "480e4ad5973b59cf3d6d6eb93f6e9592     76\n",
       "51594b3e12f22c2b2e69963c462a2c94     11\n",
       "53db68275a64f59dc649c2c49da31d7a     24\n",
       "576eb651a273caf7112d1e9b1f7260fe    983\n",
       "5849c113c495bc4b8399e6e49827b25b     16\n",
       "60f3740d0166d947cefd256727f5e066      5\n",
       "63b3b84dfa9bf16f0a0fcdffdb858224      5\n",
       "668931d929042fc8aab7ce3bfec479ff     24\n",
       "6f306a61f6a8c9317e98300bc97bfb9a     10\n",
       "753e8e012532a7a7e6a23f8bbabaca72    198\n",
       "8513e9ad6205bbf20b9c1c242654dbe0     30\n",
       "8609b6e89d44bc786a6b5eed60112f4a    944\n",
       "865d03d4f1d093cba28ba33dce336dab      1\n",
       "8693df07015fb2271b72eba457fe1e0c     17\n",
       "8a825639438c9ceb52618ebde8676b50     68\n",
       "8c86731aa1d2727dc6af8e7378eb9007    865\n",
       "96b1f2aebee54ac4c32a8d2fe5ab2825    984\n",
       "98a08341ff4f87e5013304bc6e2950b7    496\n",
       "a37688252b205e4c55fcf57f777c7e5f    995\n",
       "ad12af9e66f365b7ab8fc29bc962616b    996\n",
       "b36a0161b2cac0e3bb1e0abeaa5c37c9    241\n",
       "c2298a35b89a8950e71437ae93d77e67    857\n",
       "c6e7a7e27fa67190ef1784157d665d72    956\n",
       "ca0b1f28540ade909da0972194087ca6    607\n",
       "cced63febd9b9b23738f3e5dad4674f1     19\n",
       "ce82fba76faea3e7df0b4e07245807e2    181\n",
       "d67847e1a577b14c5e9b03da9202138d      2\n",
       "dced74763fc0c174432c1bd93844b2dd      1\n",
       "dd4d0cd75cf12e2d5159893a6f2188ac     94\n",
       "e2adc4ba6afa38a1b206106dbd0db9e4     19\n",
       "eba8feb62ab02b21c5e39e1307203e6b      1\n",
       "ef49a5c9293a976f93cf527e40b347ea    129\n",
       "ef95df63443b38223d0215751bb92060     45\n",
       "eff7090599a756dedd76bab106db75ad    942\n",
       "f42e98998939e2f7e8b2fc7373514e9d    993\n",
       "f78551e95fab2b3827d5fae6781549cc      2\n",
       "Name: hash, dtype: int64"
      ]
     },
     "execution_count": 328,
     "metadata": {},
     "output_type": "execute_result"
    }
   ],
   "source": [
    "inaccurate_pan=pd.DataFrame(date_df[(date_df['pan'] != date_df['predicted_pan'])].groupby(['templatehash'])['hash'].nunique()).reset_index()"
   ]
  },
  {
   "cell_type": "code",
   "execution_count": 329,
   "metadata": {},
   "outputs": [
    {
     "data": {
      "text/html": [
       "<div>\n",
       "<style scoped>\n",
       "    .dataframe tbody tr th:only-of-type {\n",
       "        vertical-align: middle;\n",
       "    }\n",
       "\n",
       "    .dataframe tbody tr th {\n",
       "        vertical-align: top;\n",
       "    }\n",
       "\n",
       "    .dataframe thead th {\n",
       "        text-align: right;\n",
       "    }\n",
       "</style>\n",
       "<table border=\"1\" class=\"dataframe\">\n",
       "  <thead>\n",
       "    <tr style=\"text-align: right;\">\n",
       "      <th></th>\n",
       "      <th>pan</th>\n",
       "      <th>predicted_pan</th>\n",
       "    </tr>\n",
       "  </thead>\n",
       "  <tbody>\n",
       "    <tr>\n",
       "      <th>177778</th>\n",
       "      <td>0701</td>\n",
       "      <td>XX0701</td>\n",
       "    </tr>\n",
       "    <tr>\n",
       "      <th>177779</th>\n",
       "      <td>0701</td>\n",
       "      <td>XX0701</td>\n",
       "    </tr>\n",
       "  </tbody>\n",
       "</table>\n",
       "</div>"
      ],
      "text/plain": [
       "         pan predicted_pan\n",
       "177778  0701        XX0701\n",
       "177779  0701        XX0701"
      ]
     },
     "execution_count": 329,
     "metadata": {},
     "output_type": "execute_result"
    }
   ],
   "source": [
    "date_df[(date_df['templatehash'] == '01cea2e18c8c7c5c2e4cba1420949afb')][['pan', 'predicted_pan']]"
   ]
  },
  {
   "cell_type": "markdown",
   "metadata": {},
   "source": [
    "#### Improvement\n",
    "#### 3. Identify templates in which actually it is not present but it got predicted by the model."
   ]
  },
  {
   "cell_type": "code",
   "execution_count": 221,
   "metadata": {},
   "outputs": [],
   "source": [
    "templates_missing_pan = list(test_data[test_data['pan'].isin([-1, '-1', '-1.0', -1.0]) & (test_data['Predicted_pan_flag'] == 1)]['templatehash'].unique())"
   ]
  },
  {
   "cell_type": "code",
   "execution_count": 222,
   "metadata": {},
   "outputs": [
    {
     "data": {
      "text/plain": [
       "10"
      ]
     },
     "execution_count": 222,
     "metadata": {},
     "output_type": "execute_result"
    }
   ],
   "source": [
    "len(templates_missing_pan)"
   ]
  },
  {
   "cell_type": "code",
   "execution_count": 223,
   "metadata": {},
   "outputs": [],
   "source": [
    "templates_missing_date = list(test_data[test_data['date'].isin([-1, '-1', '-1.0', -1.0]) &  (test_data['Predicted_date_flag'] == 1)]['templatehash'].unique())"
   ]
  },
  {
   "cell_type": "code",
   "execution_count": 224,
   "metadata": {},
   "outputs": [
    {
     "data": {
      "text/plain": [
       "8"
      ]
     },
     "execution_count": 224,
     "metadata": {},
     "output_type": "execute_result"
    }
   ],
   "source": [
    "len(templates_missing_date)"
   ]
  },
  {
   "cell_type": "code",
   "execution_count": 225,
   "metadata": {},
   "outputs": [
    {
     "data": {
      "text/plain": [
       "['3f3701c543d4f793fe3f15a6d7de5317',\n",
       " '49a92a20081b85a508b49b573881dfac',\n",
       " '741668aab36886592871cb985104b63b',\n",
       " '60c413cd5d488638ee07c516b64bbc2a',\n",
       " '681412b33f018e458b61647e7e9be8c3',\n",
       " '031913f4b646ab9f8374ea56a64c566c',\n",
       " '696b43b97e5aae76b3db04776a987157',\n",
       " '913c764e83caa7927417b9ab0a35ef4a']"
      ]
     },
     "execution_count": 225,
     "metadata": {},
     "output_type": "execute_result"
    }
   ],
   "source": [
    "templates_missing_date"
   ]
  },
  {
   "cell_type": "code",
   "execution_count": 226,
   "metadata": {},
   "outputs": [],
   "source": [
    "templates_missing_amount = list(test_data[test_data['amount'].isin([-1, '-1', '-1.0', -1.0]) & (test_data['Predicted_amount_flag'] == 1)]['templatehash'].unique())"
   ]
  },
  {
   "cell_type": "code",
   "execution_count": 227,
   "metadata": {},
   "outputs": [
    {
     "data": {
      "text/plain": [
       "2"
      ]
     },
     "execution_count": 227,
     "metadata": {},
     "output_type": "execute_result"
    }
   ],
   "source": [
    "len(templates_missing_amount)"
   ]
  },
  {
   "cell_type": "code",
   "execution_count": 228,
   "metadata": {},
   "outputs": [],
   "source": [
    "templates_missing_balance = list(test_data[test_data['balance'].isin([-1, '-1', '-1.0', -1.0]) &  (test_data['Predicted_balance_flag'] == 1)]['templatehash'].unique())"
   ]
  },
  {
   "cell_type": "code",
   "execution_count": 229,
   "metadata": {},
   "outputs": [
    {
     "data": {
      "text/plain": [
       "22"
      ]
     },
     "execution_count": 229,
     "metadata": {},
     "output_type": "execute_result"
    }
   ],
   "source": [
    "len(templates_missing_balance)"
   ]
  },
  {
   "cell_type": "code",
   "execution_count": 230,
   "metadata": {},
   "outputs": [
    {
     "data": {
      "text/plain": [
       "['e01fe3c52ab21d01dcf7953ce0d24785',\n",
       " 'a37688252b205e4c55fcf57f777c7e5f',\n",
       " '06f77e41d0d4dfc50956f870cfd28f7c',\n",
       " '49a92a20081b85a508b49b573881dfac',\n",
       " 'd7ec08bcb6f27e44dabc731ff0864f6f',\n",
       " '1d1f7d72912d60c6a48d5a47fa34b068',\n",
       " '480e4ad5973b59cf3d6d6eb93f6e9592',\n",
       " '780270992b38a288a939f804ec085da6',\n",
       " '6ff735f39f99f2496c4740b604072ebe',\n",
       " '8513e9ad6205bbf20b9c1c242654dbe0',\n",
       " '741668aab36886592871cb985104b63b',\n",
       " '955d4e33183f4a77d576e7fe7de4625d',\n",
       " '7fe3847f2d446b87ff420c62348cfda3',\n",
       " '1be8de1e3e5dc4e0f2925dba3b3ddbf7',\n",
       " '681412b33f018e458b61647e7e9be8c3',\n",
       " '1a95934ad14a7c18e6169eb0c19b866b',\n",
       " '696b43b97e5aae76b3db04776a987157',\n",
       " '590ba0c0e71392674460b0a85eed5d82',\n",
       " '913c764e83caa7927417b9ab0a35ef4a',\n",
       " 'c29f5649e513714eecff76fc31f7c9b2',\n",
       " 'df1c5a7fbeb8ce5cd01d9a4d307e4b35',\n",
       " 'bcb36d37788b55f744b42624fc1ed159']"
      ]
     },
     "execution_count": 230,
     "metadata": {},
     "output_type": "execute_result"
    }
   ],
   "source": [
    "templates_missing_balance"
   ]
  },
  {
   "cell_type": "code",
   "execution_count": 231,
   "metadata": {},
   "outputs": [],
   "source": [
    "# unique templates to correct.\n",
    "unique_templates_to_correct = set(templates_missing_pan + templates_missing_date + templates_missing_amount + templates_missing_balance)"
   ]
  },
  {
   "cell_type": "code",
   "execution_count": 232,
   "metadata": {},
   "outputs": [
    {
     "data": {
      "text/plain": [
       "34"
      ]
     },
     "execution_count": 232,
     "metadata": {},
     "output_type": "execute_result"
    }
   ],
   "source": [
    "len(unique_templates_to_correct)"
   ]
  },
  {
   "cell_type": "code",
   "execution_count": null,
   "metadata": {},
   "outputs": [],
   "source": []
  },
  {
   "cell_type": "code",
   "execution_count": null,
   "metadata": {},
   "outputs": [],
   "source": []
  },
  {
   "cell_type": "code",
   "execution_count": null,
   "metadata": {},
   "outputs": [],
   "source": []
  },
  {
   "cell_type": "code",
   "execution_count": null,
   "metadata": {},
   "outputs": [],
   "source": []
  },
  {
   "cell_type": "code",
   "execution_count": null,
   "metadata": {},
   "outputs": [],
   "source": []
  },
  {
   "cell_type": "code",
   "execution_count": null,
   "metadata": {},
   "outputs": [],
   "source": []
  },
  {
   "cell_type": "code",
   "execution_count": null,
   "metadata": {},
   "outputs": [],
   "source": [
    "!pip freeze > requirements.txt"
   ]
  }
 ],
 "metadata": {
  "kernelspec": {
   "display_name": "Python 3",
   "language": "python",
   "name": "python3"
  },
  "language_info": {
   "codemirror_mode": {
    "name": "ipython",
    "version": 3
   },
   "file_extension": ".py",
   "mimetype": "text/x-python",
   "name": "python",
   "nbconvert_exporter": "python",
   "pygments_lexer": "ipython3",
   "version": "3.7.6"
  }
 },
 "nbformat": 4,
 "nbformat_minor": 4
}
