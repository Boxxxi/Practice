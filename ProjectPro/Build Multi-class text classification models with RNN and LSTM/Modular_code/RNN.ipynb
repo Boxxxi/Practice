{
 "cells": [
  {
   "cell_type": "code",
   "execution_count": 1,
   "id": "6ccf15cd",
   "metadata": {
    "id": "6ccf15cd"
   },
   "outputs": [],
   "source": [
    "# import the required libraries\n",
    "import re\n",
    "import torch\n",
    "import pickle\n",
    "import numpy as np\n",
    "import pandas as pd\n",
    "from tqdm import tqdm\n",
    "from nltk.tokenize import word_tokenize\n",
    "from sklearn.metrics import accuracy_score\n",
    "from sklearn.preprocessing import LabelEncoder\n",
    "from sklearn.model_selection import train_test_split"
   ]
  },
  {
   "cell_type": "code",
   "execution_count": 2,
   "id": "e7abfdfb",
   "metadata": {},
   "outputs": [
    {
     "name": "stderr",
     "output_type": "stream",
     "text": [
      "[nltk_data] Downloading package punkt_tab to\n",
      "[nltk_data]     /Users/abhishek/nltk_data...\n",
      "[nltk_data]   Package punkt_tab is already up-to-date!\n"
     ]
    },
    {
     "data": {
      "text/plain": [
       "True"
      ]
     },
     "execution_count": 2,
     "metadata": {},
     "output_type": "execute_result"
    }
   ],
   "source": [
    "import nltk\n",
    "nltk.download('punkt_tab')"
   ]
  },
  {
   "cell_type": "code",
   "execution_count": 3,
   "id": "5547d608",
   "metadata": {
    "id": "5547d608"
   },
   "outputs": [],
   "source": [
    "# define configuration file paths\n",
    "lr = 0.0001\n",
    "input_size = 50\n",
    "num_epochs = 50\n",
    "hidden_size = 50\n",
    "label_col = \"Product\"\n",
    "tokens_path = \"Output/tokens.pkl\"\n",
    "labels_path = \"Output/labels.pkl\"\n",
    "data_path = \"Input/complaints.csv\"\n",
    "rnn_model_path = \"Output/model_rnn.pth\"\n",
    "lstm_model_path = \"Output/model_lstm.pth\"\n",
    "vocabulary_path = \"Output/vocabulary.pkl\"\n",
    "embeddings_path = \"Output/embeddings.pkl\"\n",
    "glove_vector_path = \"Input/glove.6B.50d.txt\"\n",
    "text_col_name = \"Consumer complaint narrative\"\n",
    "label_encoder_path = \"Output/label_encoder.pkl\"\n",
    "product_map = {'Vehicle loan or lease': 'vehicle_loan',\n",
    "               'Credit reporting, credit repair services, or other personal consumer reports': 'credit_report',\n",
    "               'Credit card or prepaid card': 'card',\n",
    "               'Money transfer, virtual currency, or money service': 'money_transfer',\n",
    "               'virtual currency': 'money_transfer',\n",
    "               'Mortgage': 'mortgage',\n",
    "               'Payday loan, title loan, or personal loan': 'loan',\n",
    "               'Debt collection': 'debt_collection',\n",
    "               'Checking or savings account': 'savings_account',\n",
    "               'Credit card': 'card',\n",
    "               'Bank account or service': 'savings_account',\n",
    "               'Credit reporting': 'credit_report',\n",
    "               'Prepaid card': 'card',\n",
    "               'Payday loan': 'loan',\n",
    "               'Other financial service': 'others',\n",
    "               'Virtual currency': 'money_transfer',\n",
    "               'Student loan': 'loan',\n",
    "               'Consumer Loan': 'loan',\n",
    "               'Money transfers': 'money_transfer'}"
   ]
  },
  {
   "cell_type": "code",
   "execution_count": 4,
   "id": "9935336a",
   "metadata": {
    "id": "9935336a"
   },
   "outputs": [],
   "source": [
    "# define function for saving a file\n",
    "def save_file(name, obj):\n",
    "    \"\"\"\n",
    "    Function to save an object as pickle file\n",
    "    \"\"\"\n",
    "    with open(name, 'wb') as f:\n",
    "        pickle.dump(obj, f)\n",
    "\n",
    "# define function for loading a file\n",
    "def load_file(name):\n",
    "    \"\"\"\n",
    "    Function to load a pickle object\n",
    "    \"\"\"\n",
    "    return pickle.load(open(name, \"rb\"))"
   ]
  },
  {
   "cell_type": "markdown",
   "id": "cde95503",
   "metadata": {
    "id": "cde95503"
   },
   "source": [
    "## Process glove embeddings\n",
    "---"
   ]
  },
  {
   "cell_type": "code",
   "execution_count": 5,
   "id": "531f3f24",
   "metadata": {
    "id": "531f3f24"
   },
   "outputs": [],
   "source": [
    "# open the glove embeddings file and read\n",
    "with open(glove_vector_path, \"rt\") as f:\n",
    "    emb = f.readlines()"
   ]
  },
  {
   "cell_type": "markdown",
   "id": "03d4e03a",
   "metadata": {
    "id": "03d4e03a"
   },
   "source": [
    "### 400000 unique words are there in the embeddings"
   ]
  },
  {
   "cell_type": "code",
   "execution_count": 6,
   "id": "b60b0e62",
   "metadata": {
    "id": "b60b0e62"
   },
   "outputs": [
    {
     "data": {
      "text/plain": [
       "400000"
      ]
     },
     "execution_count": 6,
     "metadata": {},
     "output_type": "execute_result"
    }
   ],
   "source": [
    "# length of embeddings\n",
    "len(emb)"
   ]
  },
  {
   "cell_type": "markdown",
   "id": "7fb6e904",
   "metadata": {
    "id": "7fb6e904"
   },
   "source": [
    "### Check the first record"
   ]
  },
  {
   "cell_type": "code",
   "execution_count": 7,
   "id": "e27f3bfd",
   "metadata": {
    "id": "e27f3bfd"
   },
   "outputs": [
    {
     "data": {
      "text/plain": [
       "'the 0.418 0.24968 -0.41242 0.1217 0.34527 -0.044457 -0.49688 -0.17862 -0.00066023 -0.6566 0.27843 -0.14767 -0.55677 0.14658 -0.0095095 0.011658 0.10204 -0.12792 -0.8443 -0.12181 -0.016801 -0.33279 -0.1552 -0.23131 -0.19181 -1.8823 -0.76746 0.099051 -0.42125 -0.19526 4.0071 -0.18594 -0.52287 -0.31681 0.00059213 0.0074449 0.17778 -0.15897 0.012041 -0.054223 -0.29871 -0.15749 -0.34758 -0.045637 -0.44251 0.18785 0.0027849 -0.18411 -0.11514 -0.78581\\n'"
      ]
     },
     "execution_count": 7,
     "metadata": {},
     "output_type": "execute_result"
    }
   ],
   "source": [
    "# check first record\n",
    "emb[0]"
   ]
  },
  {
   "cell_type": "code",
   "execution_count": 8,
   "id": "3d5698d0",
   "metadata": {
    "id": "3d5698d0"
   },
   "outputs": [
    {
     "data": {
      "text/plain": [
       "'the'"
      ]
     },
     "execution_count": 8,
     "metadata": {},
     "output_type": "execute_result"
    }
   ],
   "source": [
    "# split the first record and check for vocabulary\n",
    "emb[0].split()[0]"
   ]
  },
  {
   "cell_type": "code",
   "execution_count": 9,
   "id": "89c86e32",
   "metadata": {
    "id": "89c86e32"
   },
   "outputs": [
    {
     "data": {
      "text/plain": [
       "['0.418',\n",
       " '0.24968',\n",
       " '-0.41242',\n",
       " '0.1217',\n",
       " '0.34527',\n",
       " '-0.044457',\n",
       " '-0.49688',\n",
       " '-0.17862',\n",
       " '-0.00066023',\n",
       " '-0.6566',\n",
       " '0.27843',\n",
       " '-0.14767',\n",
       " '-0.55677',\n",
       " '0.14658',\n",
       " '-0.0095095',\n",
       " '0.011658',\n",
       " '0.10204',\n",
       " '-0.12792',\n",
       " '-0.8443',\n",
       " '-0.12181',\n",
       " '-0.016801',\n",
       " '-0.33279',\n",
       " '-0.1552',\n",
       " '-0.23131',\n",
       " '-0.19181',\n",
       " '-1.8823',\n",
       " '-0.76746',\n",
       " '0.099051',\n",
       " '-0.42125',\n",
       " '-0.19526',\n",
       " '4.0071',\n",
       " '-0.18594',\n",
       " '-0.52287',\n",
       " '-0.31681',\n",
       " '0.00059213',\n",
       " '0.0074449',\n",
       " '0.17778',\n",
       " '-0.15897',\n",
       " '0.012041',\n",
       " '-0.054223',\n",
       " '-0.29871',\n",
       " '-0.15749',\n",
       " '-0.34758',\n",
       " '-0.045637',\n",
       " '-0.44251',\n",
       " '0.18785',\n",
       " '0.0027849',\n",
       " '-0.18411',\n",
       " '-0.11514',\n",
       " '-0.78581']"
      ]
     },
     "execution_count": 9,
     "metadata": {},
     "output_type": "execute_result"
    }
   ],
   "source": [
    "# split the first record and check for embeddings\n",
    "emb[0].split()[1:]"
   ]
  },
  {
   "cell_type": "markdown",
   "id": "84fdfd89",
   "metadata": {
    "id": "84fdfd89"
   },
   "source": [
    "### Separate embeddings and vocabulary"
   ]
  },
  {
   "cell_type": "code",
   "execution_count": 10,
   "id": "242f889d",
   "metadata": {
    "id": "242f889d"
   },
   "outputs": [],
   "source": [
    "vocabulary, embeddings = [], []\n",
    "\n",
    "for item in emb:\n",
    "    vocabulary.append(item.split()[0])\n",
    "    embeddings.append(item.split()[1:])"
   ]
  },
  {
   "cell_type": "markdown",
   "id": "bbcb6c39",
   "metadata": {
    "id": "bbcb6c39"
   },
   "source": [
    "### Convert embeddings to numpy float array"
   ]
  },
  {
   "cell_type": "code",
   "execution_count": 11,
   "id": "8bfab44e",
   "metadata": {
    "id": "8bfab44e"
   },
   "outputs": [],
   "source": [
    "embeddings = np.array(embeddings, dtype=np.float32)"
   ]
  },
  {
   "cell_type": "code",
   "execution_count": 12,
   "id": "01efb524",
   "metadata": {
    "id": "01efb524"
   },
   "outputs": [
    {
     "data": {
      "text/plain": [
       "(400000, 50)"
      ]
     },
     "execution_count": 12,
     "metadata": {},
     "output_type": "execute_result"
    }
   ],
   "source": [
    "embeddings.shape"
   ]
  },
  {
   "cell_type": "markdown",
   "id": "99dbd776",
   "metadata": {
    "id": "99dbd776"
   },
   "source": [
    "### Add embeddings for padding and unknown items"
   ]
  },
  {
   "cell_type": "code",
   "execution_count": 13,
   "id": "85da0e52",
   "metadata": {
    "id": "85da0e52"
   },
   "outputs": [
    {
     "data": {
      "text/plain": [
       "['the', ',', '.', 'of', 'to', 'and', 'in', 'a', '\"', \"'s\"]"
      ]
     },
     "execution_count": 13,
     "metadata": {},
     "output_type": "execute_result"
    }
   ],
   "source": [
    "vocabulary[:10]"
   ]
  },
  {
   "cell_type": "code",
   "execution_count": 14,
   "id": "0fbb2c52",
   "metadata": {
    "id": "0fbb2c52"
   },
   "outputs": [],
   "source": [
    "vocabulary = [\"<pad>\", \"<unk>\"] + vocabulary"
   ]
  },
  {
   "cell_type": "code",
   "execution_count": 15,
   "id": "428314b9",
   "metadata": {
    "id": "428314b9"
   },
   "outputs": [],
   "source": [
    "embeddings = np.vstack([np.ones(50, dtype=np.float32), np.mean(embeddings, axis=0),\n",
    "                            embeddings])"
   ]
  },
  {
   "cell_type": "code",
   "execution_count": 16,
   "id": "5cac06f0",
   "metadata": {
    "id": "5cac06f0"
   },
   "outputs": [
    {
     "name": "stdout",
     "output_type": "stream",
     "text": [
      "400002 (400002, 50)\n"
     ]
    }
   ],
   "source": [
    "print(len(vocabulary), embeddings.shape)"
   ]
  },
  {
   "cell_type": "markdown",
   "id": "42b3b07a",
   "metadata": {
    "id": "42b3b07a"
   },
   "source": [
    "### Save embeddings and vocabulary"
   ]
  },
  {
   "cell_type": "code",
   "execution_count": 17,
   "id": "b173a0ea",
   "metadata": {
    "id": "b173a0ea"
   },
   "outputs": [],
   "source": [
    "save_file(embeddings_path, embeddings)\n",
    "save_file(vocabulary_path, vocabulary)"
   ]
  },
  {
   "cell_type": "markdown",
   "id": "f58d0479",
   "metadata": {
    "id": "f58d0479"
   },
   "source": [
    "## Process text data\n",
    "---"
   ]
  },
  {
   "cell_type": "markdown",
   "id": "f567f06f",
   "metadata": {
    "id": "f567f06f"
   },
   "source": [
    "### Read the data file"
   ]
  },
  {
   "cell_type": "code",
   "execution_count": 18,
   "id": "c71c7dfc",
   "metadata": {
    "id": "c71c7dfc"
   },
   "outputs": [],
   "source": [
    "data = pd.read_csv(data_path)"
   ]
  },
  {
   "cell_type": "markdown",
   "id": "86dffa9a",
   "metadata": {
    "id": "86dffa9a"
   },
   "source": [
    "### Drop rows where the text column is empty"
   ]
  },
  {
   "cell_type": "code",
   "execution_count": 19,
   "id": "216c4a4d",
   "metadata": {
    "id": "216c4a4d"
   },
   "outputs": [],
   "source": [
    "data.dropna(subset=[text_col_name], inplace=True)"
   ]
  },
  {
   "cell_type": "markdown",
   "id": "a70b83e2",
   "metadata": {
    "id": "a70b83e2"
   },
   "source": [
    "### Replace duplicate labels"
   ]
  },
  {
   "cell_type": "code",
   "execution_count": 20,
   "id": "897cb16b",
   "metadata": {},
   "outputs": [
    {
     "data": {
      "text/html": [
       "<div>\n",
       "<style scoped>\n",
       "    .dataframe tbody tr th:only-of-type {\n",
       "        vertical-align: middle;\n",
       "    }\n",
       "\n",
       "    .dataframe tbody tr th {\n",
       "        vertical-align: top;\n",
       "    }\n",
       "\n",
       "    .dataframe thead th {\n",
       "        text-align: right;\n",
       "    }\n",
       "</style>\n",
       "<table border=\"1\" class=\"dataframe\">\n",
       "  <thead>\n",
       "    <tr style=\"text-align: right;\">\n",
       "      <th></th>\n",
       "      <th>Date received</th>\n",
       "      <th>Product</th>\n",
       "      <th>Sub-product</th>\n",
       "      <th>Issue</th>\n",
       "      <th>Sub-issue</th>\n",
       "      <th>Consumer complaint narrative</th>\n",
       "      <th>Company public response</th>\n",
       "      <th>Company</th>\n",
       "      <th>State</th>\n",
       "      <th>ZIP code</th>\n",
       "      <th>Tags</th>\n",
       "      <th>Consumer consent provided?</th>\n",
       "      <th>Submitted via</th>\n",
       "      <th>Date sent to company</th>\n",
       "      <th>Company response to consumer</th>\n",
       "      <th>Timely response?</th>\n",
       "      <th>Consumer disputed?</th>\n",
       "      <th>Complaint ID</th>\n",
       "    </tr>\n",
       "  </thead>\n",
       "  <tbody>\n",
       "    <tr>\n",
       "      <th>1</th>\n",
       "      <td>2019-11-01</td>\n",
       "      <td>Vehicle loan or lease</td>\n",
       "      <td>Loan</td>\n",
       "      <td>Struggling to pay your loan</td>\n",
       "      <td>Denied request to lower payments</td>\n",
       "      <td>I contacted Ally on Friday XX/XX/XXXX after fa...</td>\n",
       "      <td>Company has responded to the consumer and the ...</td>\n",
       "      <td>ALLY FINANCIAL INC.</td>\n",
       "      <td>NJ</td>\n",
       "      <td>088XX</td>\n",
       "      <td>NaN</td>\n",
       "      <td>Consent provided</td>\n",
       "      <td>Web</td>\n",
       "      <td>2019-11-01</td>\n",
       "      <td>Closed with explanation</td>\n",
       "      <td>Yes</td>\n",
       "      <td>NaN</td>\n",
       "      <td>3425257</td>\n",
       "    </tr>\n",
       "    <tr>\n",
       "      <th>7</th>\n",
       "      <td>2019-07-08</td>\n",
       "      <td>Credit reporting, credit repair services, or o...</td>\n",
       "      <td>Credit reporting</td>\n",
       "      <td>Problem with a credit reporting company's inve...</td>\n",
       "      <td>Their investigation did not fix an error on yo...</td>\n",
       "      <td>Hello This complaint is against the three cred...</td>\n",
       "      <td>Company has responded to the consumer and the ...</td>\n",
       "      <td>TRANSUNION INTERMEDIATE HOLDINGS, INC.</td>\n",
       "      <td>NY</td>\n",
       "      <td>109XX</td>\n",
       "      <td>NaN</td>\n",
       "      <td>Consent provided</td>\n",
       "      <td>Web</td>\n",
       "      <td>2019-07-08</td>\n",
       "      <td>Closed with explanation</td>\n",
       "      <td>Yes</td>\n",
       "      <td>NaN</td>\n",
       "      <td>3299394</td>\n",
       "    </tr>\n",
       "    <tr>\n",
       "      <th>8</th>\n",
       "      <td>2020-06-10</td>\n",
       "      <td>Credit reporting, credit repair services, or o...</td>\n",
       "      <td>Credit reporting</td>\n",
       "      <td>Improper use of your report</td>\n",
       "      <td>Credit inquiries on your report that you don't...</td>\n",
       "      <td>I am a victim of Identity Theft &amp; currently ha...</td>\n",
       "      <td>Company has responded to the consumer and the ...</td>\n",
       "      <td>Experian Information Solutions Inc.</td>\n",
       "      <td>MT</td>\n",
       "      <td>NaN</td>\n",
       "      <td>Servicemember</td>\n",
       "      <td>Consent provided</td>\n",
       "      <td>Web</td>\n",
       "      <td>2020-06-10</td>\n",
       "      <td>Closed with explanation</td>\n",
       "      <td>Yes</td>\n",
       "      <td>NaN</td>\n",
       "      <td>3692762</td>\n",
       "    </tr>\n",
       "    <tr>\n",
       "      <th>10</th>\n",
       "      <td>2019-07-03</td>\n",
       "      <td>Credit reporting, credit repair services, or o...</td>\n",
       "      <td>Credit reporting</td>\n",
       "      <td>Incorrect information on your report</td>\n",
       "      <td>Account information incorrect</td>\n",
       "      <td>Two accounts are still on my credit history af...</td>\n",
       "      <td>Company has responded to the consumer and the ...</td>\n",
       "      <td>Experian Information Solutions Inc.</td>\n",
       "      <td>FL</td>\n",
       "      <td>328XX</td>\n",
       "      <td>NaN</td>\n",
       "      <td>Consent provided</td>\n",
       "      <td>Web</td>\n",
       "      <td>2019-07-03</td>\n",
       "      <td>Closed with non-monetary relief</td>\n",
       "      <td>Yes</td>\n",
       "      <td>NaN</td>\n",
       "      <td>3294745</td>\n",
       "    </tr>\n",
       "    <tr>\n",
       "      <th>13</th>\n",
       "      <td>2019-03-21</td>\n",
       "      <td>Credit reporting, credit repair services, or o...</td>\n",
       "      <td>Other personal consumer report</td>\n",
       "      <td>Identity theft protection or other monitoring ...</td>\n",
       "      <td>Received unwanted marketing or advertising</td>\n",
       "      <td>Receiving daily telephone call ( s ) from XXXX...</td>\n",
       "      <td>Company has responded to the consumer and the ...</td>\n",
       "      <td>NRA Group, LLC</td>\n",
       "      <td>MA</td>\n",
       "      <td>NaN</td>\n",
       "      <td>NaN</td>\n",
       "      <td>Consent provided</td>\n",
       "      <td>Web</td>\n",
       "      <td>2019-03-27</td>\n",
       "      <td>Closed with explanation</td>\n",
       "      <td>Yes</td>\n",
       "      <td>NaN</td>\n",
       "      <td>3186954</td>\n",
       "    </tr>\n",
       "  </tbody>\n",
       "</table>\n",
       "</div>"
      ],
      "text/plain": [
       "   Date received                                            Product  \\\n",
       "1     2019-11-01                              Vehicle loan or lease   \n",
       "7     2019-07-08  Credit reporting, credit repair services, or o...   \n",
       "8     2020-06-10  Credit reporting, credit repair services, or o...   \n",
       "10    2019-07-03  Credit reporting, credit repair services, or o...   \n",
       "13    2019-03-21  Credit reporting, credit repair services, or o...   \n",
       "\n",
       "                       Sub-product  \\\n",
       "1                             Loan   \n",
       "7                 Credit reporting   \n",
       "8                 Credit reporting   \n",
       "10                Credit reporting   \n",
       "13  Other personal consumer report   \n",
       "\n",
       "                                                Issue  \\\n",
       "1                         Struggling to pay your loan   \n",
       "7   Problem with a credit reporting company's inve...   \n",
       "8                         Improper use of your report   \n",
       "10               Incorrect information on your report   \n",
       "13  Identity theft protection or other monitoring ...   \n",
       "\n",
       "                                            Sub-issue  \\\n",
       "1                    Denied request to lower payments   \n",
       "7   Their investigation did not fix an error on yo...   \n",
       "8   Credit inquiries on your report that you don't...   \n",
       "10                      Account information incorrect   \n",
       "13         Received unwanted marketing or advertising   \n",
       "\n",
       "                         Consumer complaint narrative  \\\n",
       "1   I contacted Ally on Friday XX/XX/XXXX after fa...   \n",
       "7   Hello This complaint is against the three cred...   \n",
       "8   I am a victim of Identity Theft & currently ha...   \n",
       "10  Two accounts are still on my credit history af...   \n",
       "13  Receiving daily telephone call ( s ) from XXXX...   \n",
       "\n",
       "                              Company public response  \\\n",
       "1   Company has responded to the consumer and the ...   \n",
       "7   Company has responded to the consumer and the ...   \n",
       "8   Company has responded to the consumer and the ...   \n",
       "10  Company has responded to the consumer and the ...   \n",
       "13  Company has responded to the consumer and the ...   \n",
       "\n",
       "                                   Company State ZIP code           Tags  \\\n",
       "1                      ALLY FINANCIAL INC.    NJ    088XX            NaN   \n",
       "7   TRANSUNION INTERMEDIATE HOLDINGS, INC.    NY    109XX            NaN   \n",
       "8      Experian Information Solutions Inc.    MT      NaN  Servicemember   \n",
       "10     Experian Information Solutions Inc.    FL    328XX            NaN   \n",
       "13                          NRA Group, LLC    MA      NaN            NaN   \n",
       "\n",
       "   Consumer consent provided? Submitted via Date sent to company  \\\n",
       "1            Consent provided           Web           2019-11-01   \n",
       "7            Consent provided           Web           2019-07-08   \n",
       "8            Consent provided           Web           2020-06-10   \n",
       "10           Consent provided           Web           2019-07-03   \n",
       "13           Consent provided           Web           2019-03-27   \n",
       "\n",
       "       Company response to consumer Timely response? Consumer disputed?  \\\n",
       "1           Closed with explanation              Yes                NaN   \n",
       "7           Closed with explanation              Yes                NaN   \n",
       "8           Closed with explanation              Yes                NaN   \n",
       "10  Closed with non-monetary relief              Yes                NaN   \n",
       "13          Closed with explanation              Yes                NaN   \n",
       "\n",
       "    Complaint ID  \n",
       "1        3425257  \n",
       "7        3299394  \n",
       "8        3692762  \n",
       "10       3294745  \n",
       "13       3186954  "
      ]
     },
     "execution_count": 20,
     "metadata": {},
     "output_type": "execute_result"
    }
   ],
   "source": [
    "data.head(5)"
   ]
  },
  {
   "cell_type": "code",
   "execution_count": 21,
   "id": "542e737c",
   "metadata": {},
   "outputs": [
    {
     "data": {
      "text/plain": [
       "Product\n",
       "Credit reporting, credit repair services, or other personal consumer reports    316465\n",
       "Debt collection                                                                 157381\n",
       "Mortgage                                                                         84461\n",
       "Credit card or prepaid card                                                      60754\n",
       "Checking or savings account                                                      37389\n",
       "Credit reporting                                                                 31588\n",
       "Student loan                                                                     29094\n",
       "Credit card                                                                      18838\n",
       "Money transfer, virtual currency, or money service                               18583\n",
       "Vehicle loan or lease                                                            15034\n",
       "Bank account or service                                                          14885\n",
       "Payday loan, title loan, or personal loan                                        10400\n",
       "Consumer Loan                                                                     9470\n",
       "Payday loan                                                                       1746\n",
       "Money transfers                                                                   1497\n",
       "Prepaid card                                                                      1450\n",
       "Other financial service                                                            292\n",
       "Virtual currency                                                                    16\n",
       "Name: count, dtype: int64"
      ]
     },
     "execution_count": 21,
     "metadata": {},
     "output_type": "execute_result"
    }
   ],
   "source": [
    "data[label_col].value_counts(dropna=False)"
   ]
  },
  {
   "cell_type": "code",
   "execution_count": 22,
   "id": "64801543",
   "metadata": {
    "id": "64801543"
   },
   "outputs": [],
   "source": [
    "data.replace({label_col: product_map}, inplace=True)"
   ]
  },
  {
   "cell_type": "code",
   "execution_count": 23,
   "id": "35c25ffa",
   "metadata": {},
   "outputs": [
    {
     "data": {
      "text/plain": [
       "Product\n",
       "credit_report      348053\n",
       "debt_collection    157381\n",
       "mortgage            84461\n",
       "card                81042\n",
       "savings_account     52274\n",
       "loan                50710\n",
       "money_transfer      20096\n",
       "vehicle_loan        15034\n",
       "others                292\n",
       "Name: count, dtype: int64"
      ]
     },
     "execution_count": 23,
     "metadata": {},
     "output_type": "execute_result"
    }
   ],
   "source": [
    "data[label_col].value_counts(dropna=False)"
   ]
  },
  {
   "cell_type": "markdown",
   "id": "6b1714dc",
   "metadata": {
    "id": "6b1714dc"
   },
   "source": [
    "### Encode the label column and save the encoder and encoded labels"
   ]
  },
  {
   "cell_type": "code",
   "execution_count": 24,
   "id": "900db623",
   "metadata": {
    "id": "900db623"
   },
   "outputs": [],
   "source": [
    "label_encoder = LabelEncoder()\n",
    "label_encoder.fit(data[label_col])\n",
    "labels = label_encoder.transform(data[label_col])"
   ]
  },
  {
   "cell_type": "code",
   "execution_count": 25,
   "id": "edd80694",
   "metadata": {
    "id": "edd80694"
   },
   "outputs": [
    {
     "data": {
      "text/plain": [
       "np.int64(8)"
      ]
     },
     "execution_count": 25,
     "metadata": {},
     "output_type": "execute_result"
    }
   ],
   "source": [
    "labels[0]"
   ]
  },
  {
   "cell_type": "code",
   "execution_count": 26,
   "id": "52c367c8",
   "metadata": {
    "id": "52c367c8"
   },
   "outputs": [
    {
     "data": {
      "text/plain": [
       "array(['card', 'credit_report', 'debt_collection', 'loan',\n",
       "       'money_transfer', 'mortgage', 'others', 'savings_account',\n",
       "       'vehicle_loan'], dtype=object)"
      ]
     },
     "execution_count": 26,
     "metadata": {},
     "output_type": "execute_result"
    }
   ],
   "source": [
    "label_encoder.classes_"
   ]
  },
  {
   "cell_type": "code",
   "execution_count": 27,
   "id": "f7ccce6f",
   "metadata": {
    "id": "f7ccce6f"
   },
   "outputs": [
    {
     "data": {
      "text/plain": [
       "1             vehicle_loan\n",
       "7            credit_report\n",
       "8            credit_report\n",
       "10           credit_report\n",
       "13           credit_report\n",
       "                ...       \n",
       "2326240               card\n",
       "2326241    debt_collection\n",
       "2326242           mortgage\n",
       "2326243      credit_report\n",
       "2326244      credit_report\n",
       "Name: Product, Length: 809343, dtype: object"
      ]
     },
     "execution_count": 27,
     "metadata": {},
     "output_type": "execute_result"
    }
   ],
   "source": [
    "data[label_col]"
   ]
  },
  {
   "cell_type": "code",
   "execution_count": 28,
   "id": "0544906f",
   "metadata": {
    "id": "0544906f"
   },
   "outputs": [],
   "source": [
    "save_file(labels_path, labels)\n",
    "save_file(label_encoder_path, label_encoder)"
   ]
  },
  {
   "cell_type": "markdown",
   "id": "fc16fc63",
   "metadata": {
    "id": "fc16fc63"
   },
   "source": [
    "### Process the text column"
   ]
  },
  {
   "cell_type": "code",
   "execution_count": 29,
   "id": "06b2e29d",
   "metadata": {
    "id": "06b2e29d"
   },
   "outputs": [],
   "source": [
    "input_text = data[text_col_name]"
   ]
  },
  {
   "cell_type": "markdown",
   "id": "e2fd241b",
   "metadata": {
    "id": "e2fd241b"
   },
   "source": [
    "### Convert text to lower case"
   ]
  },
  {
   "cell_type": "code",
   "execution_count": 30,
   "id": "857dec2b",
   "metadata": {
    "id": "857dec2b"
   },
   "outputs": [
    {
     "name": "stderr",
     "output_type": "stream",
     "text": [
      "100%|██████████| 809343/809343 [00:01<00:00, 630184.03it/s]\n"
     ]
    }
   ],
   "source": [
    "input_text = [i.lower() for i in tqdm(input_text)]"
   ]
  },
  {
   "cell_type": "markdown",
   "id": "54188fc7",
   "metadata": {
    "id": "54188fc7"
   },
   "source": [
    "### Remove punctuations except apostrophe"
   ]
  },
  {
   "cell_type": "code",
   "execution_count": 31,
   "id": "eee07ba3",
   "metadata": {
    "id": "eee07ba3"
   },
   "outputs": [
    {
     "name": "stderr",
     "output_type": "stream",
     "text": [
      "100%|██████████| 809343/809343 [00:17<00:00, 47316.18it/s]\n"
     ]
    }
   ],
   "source": [
    "input_text = [re.sub(r\"[^\\w\\d'\\s]+\", \" \", i) for i in tqdm(input_text)]"
   ]
  },
  {
   "cell_type": "markdown",
   "id": "03cce62f",
   "metadata": {
    "id": "03cce62f"
   },
   "source": [
    "### Remove digits"
   ]
  },
  {
   "cell_type": "code",
   "execution_count": 32,
   "id": "c239f6ec",
   "metadata": {
    "id": "c239f6ec"
   },
   "outputs": [
    {
     "name": "stderr",
     "output_type": "stream",
     "text": [
      "100%|██████████| 809343/809343 [00:11<00:00, 71491.47it/s]\n"
     ]
    }
   ],
   "source": [
    "input_text = [re.sub(\"\\d+\", \"\", i) for i in tqdm(input_text)]"
   ]
  },
  {
   "cell_type": "markdown",
   "id": "7fa2608b",
   "metadata": {
    "id": "7fa2608b"
   },
   "source": [
    "### Remove more than one consecutive instance of 'x'"
   ]
  },
  {
   "cell_type": "code",
   "execution_count": 33,
   "id": "264dc356",
   "metadata": {
    "id": "264dc356"
   },
   "outputs": [
    {
     "name": "stderr",
     "output_type": "stream",
     "text": [
      "100%|██████████| 809343/809343 [00:07<00:00, 111013.65it/s]\n"
     ]
    }
   ],
   "source": [
    "input_text = [re.sub(r'[x]{2,}', \"\", i) for i in tqdm(input_text)]"
   ]
  },
  {
   "cell_type": "markdown",
   "id": "6dea776b",
   "metadata": {
    "id": "6dea776b"
   },
   "source": [
    "### Replace multiple spaces with single space"
   ]
  },
  {
   "cell_type": "code",
   "execution_count": 34,
   "id": "1cd744c4",
   "metadata": {
    "id": "1cd744c4"
   },
   "outputs": [
    {
     "name": "stderr",
     "output_type": "stream",
     "text": [
      "100%|██████████| 809343/809343 [00:18<00:00, 44019.91it/s]\n"
     ]
    }
   ],
   "source": [
    "input_text = [re.sub(' +', ' ', i) for i in tqdm(input_text)]"
   ]
  },
  {
   "cell_type": "markdown",
   "id": "934505ad",
   "metadata": {
    "id": "934505ad"
   },
   "source": [
    "### Tokenize the text"
   ]
  },
  {
   "cell_type": "code",
   "execution_count": 35,
   "id": "d0c315fb",
   "metadata": {
    "id": "d0c315fb"
   },
   "outputs": [
    {
     "name": "stderr",
     "output_type": "stream",
     "text": [
      "100%|██████████| 809343/809343 [04:43<00:00, 2858.91it/s] \n"
     ]
    }
   ],
   "source": [
    "tokens = [word_tokenize(t) for t in tqdm(input_text)]"
   ]
  },
  {
   "cell_type": "markdown",
   "id": "5c312593",
   "metadata": {
    "id": "5c312593"
   },
   "source": [
    "### Take the first 20 tokens in each complaint text"
   ]
  },
  {
   "cell_type": "code",
   "execution_count": 36,
   "id": "7627e35b",
   "metadata": {
    "id": "7627e35b"
   },
   "outputs": [
    {
     "name": "stderr",
     "output_type": "stream",
     "text": [
      "100%|██████████| 809343/809343 [01:01<00:00, 13171.74it/s] \n"
     ]
    }
   ],
   "source": [
    "tokens = [i[:20] if len(i) > 19 else ['<pad>'] * (20 - len(i)) + i for i in tqdm(tokens)]"
   ]
  },
  {
   "cell_type": "code",
   "execution_count": 1,
   "id": "797f4870",
   "metadata": {},
   "outputs": [],
   "source": [
    "# tokens[:2]"
   ]
  },
  {
   "cell_type": "markdown",
   "id": "be6561df",
   "metadata": {
    "id": "be6561df"
   },
   "source": [
    "### Convert tokens to integer indices from vocabulary"
   ]
  },
  {
   "cell_type": "code",
   "execution_count": 38,
   "id": "288a4e01",
   "metadata": {
    "id": "288a4e01"
   },
   "outputs": [],
   "source": [
    "def token_index(tokens, vocabulary, missing='<unk>'):\n",
    "    \"\"\"\n",
    "    :param tokens: List of word tokens\n",
    "    :param vocabulary: All words in the embeddings\n",
    "    :param missing: Token for words not present in the vocabulary\n",
    "    :return: List of integers representing the word tokens\n",
    "    \"\"\"\n",
    "    idx_token = []\n",
    "    for text in tqdm(tokens):\n",
    "        idx_text = []\n",
    "        for token in text:\n",
    "            if token in vocabulary:\n",
    "                idx_text.append(vocabulary.index(token))\n",
    "            else:\n",
    "                idx_text.append(vocabulary.index(missing))\n",
    "        idx_token.append(idx_text)\n",
    "    return idx_token"
   ]
  },
  {
   "cell_type": "code",
   "execution_count": 39,
   "id": "618f32df",
   "metadata": {
    "id": "618f32df"
   },
   "outputs": [
    {
     "name": "stderr",
     "output_type": "stream",
     "text": [
      " 52%|█████▏    | 422204/809343 [38:01<23:32, 274.16it/s]IOStream.flush timed out\n",
      " 99%|█████████▊| 798677/809343 [1:08:42<00:59, 179.51it/s]IOStream.flush timed out\n",
      "100%|██████████| 809343/809343 [1:09:37<00:00, 193.75it/s]\n"
     ]
    }
   ],
   "source": [
    "tokens = token_index(tokens, vocabulary)"
   ]
  },
  {
   "cell_type": "code",
   "execution_count": 40,
   "id": "c51657a5",
   "metadata": {
    "id": "c51657a5"
   },
   "outputs": [
    {
     "data": {
      "text/plain": [
       "809343"
      ]
     },
     "execution_count": 40,
     "metadata": {},
     "output_type": "execute_result"
    }
   ],
   "source": [
    "len(tokens)"
   ]
  },
  {
   "cell_type": "code",
   "execution_count": 41,
   "id": "e7fe16b6",
   "metadata": {
    "id": "e7fe16b6"
   },
   "outputs": [
    {
     "data": {
      "text/plain": [
       "[43,\n",
       " 5909,\n",
       " 3660,\n",
       " 15,\n",
       " 187,\n",
       " 51,\n",
       " 2333,\n",
       " 563,\n",
       " 15,\n",
       " 3115,\n",
       " 447,\n",
       " 6,\n",
       " 136,\n",
       " 68,\n",
       " 5,\n",
       " 163,\n",
       " 12,\n",
       " 9,\n",
       " 638,\n",
       " 568]"
      ]
     },
     "execution_count": 41,
     "metadata": {},
     "output_type": "execute_result"
    }
   ],
   "source": [
    "tokens[0]"
   ]
  },
  {
   "cell_type": "code",
   "execution_count": 42,
   "id": "00b35a7e",
   "metadata": {
    "id": "00b35a7e"
   },
   "outputs": [
    {
     "data": {
      "text/html": [
       "<div>\n",
       "<style scoped>\n",
       "    .dataframe tbody tr th:only-of-type {\n",
       "        vertical-align: middle;\n",
       "    }\n",
       "\n",
       "    .dataframe tbody tr th {\n",
       "        vertical-align: top;\n",
       "    }\n",
       "\n",
       "    .dataframe thead th {\n",
       "        text-align: right;\n",
       "    }\n",
       "</style>\n",
       "<table border=\"1\" class=\"dataframe\">\n",
       "  <thead>\n",
       "    <tr style=\"text-align: right;\">\n",
       "      <th></th>\n",
       "      <th>Date received</th>\n",
       "      <th>Product</th>\n",
       "      <th>Sub-product</th>\n",
       "      <th>Issue</th>\n",
       "      <th>Sub-issue</th>\n",
       "      <th>Consumer complaint narrative</th>\n",
       "      <th>Company public response</th>\n",
       "      <th>Company</th>\n",
       "      <th>State</th>\n",
       "      <th>ZIP code</th>\n",
       "      <th>Tags</th>\n",
       "      <th>Consumer consent provided?</th>\n",
       "      <th>Submitted via</th>\n",
       "      <th>Date sent to company</th>\n",
       "      <th>Company response to consumer</th>\n",
       "      <th>Timely response?</th>\n",
       "      <th>Consumer disputed?</th>\n",
       "      <th>Complaint ID</th>\n",
       "    </tr>\n",
       "  </thead>\n",
       "  <tbody>\n",
       "    <tr>\n",
       "      <th>1</th>\n",
       "      <td>2019-11-01</td>\n",
       "      <td>vehicle_loan</td>\n",
       "      <td>Loan</td>\n",
       "      <td>Struggling to pay your loan</td>\n",
       "      <td>Denied request to lower payments</td>\n",
       "      <td>I contacted Ally on Friday XX/XX/XXXX after fa...</td>\n",
       "      <td>Company has responded to the consumer and the ...</td>\n",
       "      <td>ALLY FINANCIAL INC.</td>\n",
       "      <td>NJ</td>\n",
       "      <td>088XX</td>\n",
       "      <td>NaN</td>\n",
       "      <td>Consent provided</td>\n",
       "      <td>Web</td>\n",
       "      <td>2019-11-01</td>\n",
       "      <td>Closed with explanation</td>\n",
       "      <td>Yes</td>\n",
       "      <td>NaN</td>\n",
       "      <td>3425257</td>\n",
       "    </tr>\n",
       "    <tr>\n",
       "      <th>7</th>\n",
       "      <td>2019-07-08</td>\n",
       "      <td>credit_report</td>\n",
       "      <td>Credit reporting</td>\n",
       "      <td>Problem with a credit reporting company's inve...</td>\n",
       "      <td>Their investigation did not fix an error on yo...</td>\n",
       "      <td>Hello This complaint is against the three cred...</td>\n",
       "      <td>Company has responded to the consumer and the ...</td>\n",
       "      <td>TRANSUNION INTERMEDIATE HOLDINGS, INC.</td>\n",
       "      <td>NY</td>\n",
       "      <td>109XX</td>\n",
       "      <td>NaN</td>\n",
       "      <td>Consent provided</td>\n",
       "      <td>Web</td>\n",
       "      <td>2019-07-08</td>\n",
       "      <td>Closed with explanation</td>\n",
       "      <td>Yes</td>\n",
       "      <td>NaN</td>\n",
       "      <td>3299394</td>\n",
       "    </tr>\n",
       "    <tr>\n",
       "      <th>8</th>\n",
       "      <td>2020-06-10</td>\n",
       "      <td>credit_report</td>\n",
       "      <td>Credit reporting</td>\n",
       "      <td>Improper use of your report</td>\n",
       "      <td>Credit inquiries on your report that you don't...</td>\n",
       "      <td>I am a victim of Identity Theft &amp; currently ha...</td>\n",
       "      <td>Company has responded to the consumer and the ...</td>\n",
       "      <td>Experian Information Solutions Inc.</td>\n",
       "      <td>MT</td>\n",
       "      <td>NaN</td>\n",
       "      <td>Servicemember</td>\n",
       "      <td>Consent provided</td>\n",
       "      <td>Web</td>\n",
       "      <td>2020-06-10</td>\n",
       "      <td>Closed with explanation</td>\n",
       "      <td>Yes</td>\n",
       "      <td>NaN</td>\n",
       "      <td>3692762</td>\n",
       "    </tr>\n",
       "    <tr>\n",
       "      <th>10</th>\n",
       "      <td>2019-07-03</td>\n",
       "      <td>credit_report</td>\n",
       "      <td>Credit reporting</td>\n",
       "      <td>Incorrect information on your report</td>\n",
       "      <td>Account information incorrect</td>\n",
       "      <td>Two accounts are still on my credit history af...</td>\n",
       "      <td>Company has responded to the consumer and the ...</td>\n",
       "      <td>Experian Information Solutions Inc.</td>\n",
       "      <td>FL</td>\n",
       "      <td>328XX</td>\n",
       "      <td>NaN</td>\n",
       "      <td>Consent provided</td>\n",
       "      <td>Web</td>\n",
       "      <td>2019-07-03</td>\n",
       "      <td>Closed with non-monetary relief</td>\n",
       "      <td>Yes</td>\n",
       "      <td>NaN</td>\n",
       "      <td>3294745</td>\n",
       "    </tr>\n",
       "    <tr>\n",
       "      <th>13</th>\n",
       "      <td>2019-03-21</td>\n",
       "      <td>credit_report</td>\n",
       "      <td>Other personal consumer report</td>\n",
       "      <td>Identity theft protection or other monitoring ...</td>\n",
       "      <td>Received unwanted marketing or advertising</td>\n",
       "      <td>Receiving daily telephone call ( s ) from XXXX...</td>\n",
       "      <td>Company has responded to the consumer and the ...</td>\n",
       "      <td>NRA Group, LLC</td>\n",
       "      <td>MA</td>\n",
       "      <td>NaN</td>\n",
       "      <td>NaN</td>\n",
       "      <td>Consent provided</td>\n",
       "      <td>Web</td>\n",
       "      <td>2019-03-27</td>\n",
       "      <td>Closed with explanation</td>\n",
       "      <td>Yes</td>\n",
       "      <td>NaN</td>\n",
       "      <td>3186954</td>\n",
       "    </tr>\n",
       "  </tbody>\n",
       "</table>\n",
       "</div>"
      ],
      "text/plain": [
       "   Date received        Product                     Sub-product  \\\n",
       "1     2019-11-01   vehicle_loan                            Loan   \n",
       "7     2019-07-08  credit_report                Credit reporting   \n",
       "8     2020-06-10  credit_report                Credit reporting   \n",
       "10    2019-07-03  credit_report                Credit reporting   \n",
       "13    2019-03-21  credit_report  Other personal consumer report   \n",
       "\n",
       "                                                Issue  \\\n",
       "1                         Struggling to pay your loan   \n",
       "7   Problem with a credit reporting company's inve...   \n",
       "8                         Improper use of your report   \n",
       "10               Incorrect information on your report   \n",
       "13  Identity theft protection or other monitoring ...   \n",
       "\n",
       "                                            Sub-issue  \\\n",
       "1                    Denied request to lower payments   \n",
       "7   Their investigation did not fix an error on yo...   \n",
       "8   Credit inquiries on your report that you don't...   \n",
       "10                      Account information incorrect   \n",
       "13         Received unwanted marketing or advertising   \n",
       "\n",
       "                         Consumer complaint narrative  \\\n",
       "1   I contacted Ally on Friday XX/XX/XXXX after fa...   \n",
       "7   Hello This complaint is against the three cred...   \n",
       "8   I am a victim of Identity Theft & currently ha...   \n",
       "10  Two accounts are still on my credit history af...   \n",
       "13  Receiving daily telephone call ( s ) from XXXX...   \n",
       "\n",
       "                              Company public response  \\\n",
       "1   Company has responded to the consumer and the ...   \n",
       "7   Company has responded to the consumer and the ...   \n",
       "8   Company has responded to the consumer and the ...   \n",
       "10  Company has responded to the consumer and the ...   \n",
       "13  Company has responded to the consumer and the ...   \n",
       "\n",
       "                                   Company State ZIP code           Tags  \\\n",
       "1                      ALLY FINANCIAL INC.    NJ    088XX            NaN   \n",
       "7   TRANSUNION INTERMEDIATE HOLDINGS, INC.    NY    109XX            NaN   \n",
       "8      Experian Information Solutions Inc.    MT      NaN  Servicemember   \n",
       "10     Experian Information Solutions Inc.    FL    328XX            NaN   \n",
       "13                          NRA Group, LLC    MA      NaN            NaN   \n",
       "\n",
       "   Consumer consent provided? Submitted via Date sent to company  \\\n",
       "1            Consent provided           Web           2019-11-01   \n",
       "7            Consent provided           Web           2019-07-08   \n",
       "8            Consent provided           Web           2020-06-10   \n",
       "10           Consent provided           Web           2019-07-03   \n",
       "13           Consent provided           Web           2019-03-27   \n",
       "\n",
       "       Company response to consumer Timely response? Consumer disputed?  \\\n",
       "1           Closed with explanation              Yes                NaN   \n",
       "7           Closed with explanation              Yes                NaN   \n",
       "8           Closed with explanation              Yes                NaN   \n",
       "10  Closed with non-monetary relief              Yes                NaN   \n",
       "13          Closed with explanation              Yes                NaN   \n",
       "\n",
       "    Complaint ID  \n",
       "1        3425257  \n",
       "7        3299394  \n",
       "8        3692762  \n",
       "10       3294745  \n",
       "13       3186954  "
      ]
     },
     "execution_count": 42,
     "metadata": {},
     "output_type": "execute_result"
    }
   ],
   "source": [
    "data.head()"
   ]
  },
  {
   "cell_type": "code",
   "execution_count": 43,
   "id": "a056489b",
   "metadata": {
    "id": "a056489b"
   },
   "outputs": [
    {
     "data": {
      "text/plain": [
       "'i'"
      ]
     },
     "execution_count": 43,
     "metadata": {},
     "output_type": "execute_result"
    }
   ],
   "source": [
    "vocabulary[tokens[0][0]]"
   ]
  },
  {
   "cell_type": "markdown",
   "id": "ab9c8712",
   "metadata": {
    "id": "ab9c8712"
   },
   "source": [
    "### Save the tokens"
   ]
  },
  {
   "cell_type": "code",
   "execution_count": 44,
   "id": "ab83d5fb",
   "metadata": {
    "id": "ab83d5fb"
   },
   "outputs": [],
   "source": [
    "save_file(tokens_path, tokens)"
   ]
  },
  {
   "cell_type": "markdown",
   "id": "8d52e1c1",
   "metadata": {
    "id": "8d52e1c1"
   },
   "source": [
    "## Create PyTorch Dataset\n",
    "---"
   ]
  },
  {
   "cell_type": "code",
   "execution_count": 45,
   "id": "8936a733",
   "metadata": {
    "id": "8936a733"
   },
   "outputs": [],
   "source": [
    "class TextDataset(torch.utils.data.Dataset):\n",
    "\n",
    "    def __init__(self, tokens, embeddings, labels):\n",
    "        \"\"\"\n",
    "        :param tokens: List of word tokens\n",
    "        :param embeddings: Word embeddings (from glove)\n",
    "        :param labels: List of labels\n",
    "        \"\"\"\n",
    "        self.tokens = tokens\n",
    "        self.embeddings = embeddings\n",
    "        self.labels = labels\n",
    "\n",
    "    def __len__(self):\n",
    "        return len(self.tokens)\n",
    "\n",
    "    def __getitem__(self, idx):\n",
    "        return self.labels[idx], self.embeddings[self.tokens[idx], :]"
   ]
  },
  {
   "cell_type": "markdown",
   "id": "8f1c8577",
   "metadata": {
    "id": "8f1c8577"
   },
   "source": [
    "## Create Models\n",
    "---"
   ]
  },
  {
   "cell_type": "markdown",
   "id": "8b77dedc",
   "metadata": {
    "id": "8b77dedc"
   },
   "source": [
    "### RNN Model"
   ]
  },
  {
   "cell_type": "code",
   "execution_count": 46,
   "id": "f4953da5",
   "metadata": {
    "id": "f4953da5"
   },
   "outputs": [],
   "source": [
    "class RNNNetwork(torch.nn.Module):\n",
    "\n",
    "    def __init__(self, input_size, hidden_size, num_classes):\n",
    "        \"\"\"\n",
    "        :param input_size: Size of embedding\n",
    "        :param hidden_size: Hidden vector size\n",
    "        :param num_classes: Number of classes in the dataset\n",
    "        \"\"\"\n",
    "        super(RNNNetwork, self).__init__()\n",
    "        # RNN Layer\n",
    "        self.rnn = torch.nn.RNN(input_size=input_size,\n",
    "                                hidden_size=hidden_size,\n",
    "                                batch_first=True)\n",
    "        # Linear Layer\n",
    "        self.linear = torch.nn.Linear(hidden_size, num_classes)\n",
    "\n",
    "    def forward(self, input_data):\n",
    "        _, hidden = self.rnn(input_data)\n",
    "        output = self.linear(hidden)\n",
    "        return output"
   ]
  },
  {
   "cell_type": "markdown",
   "id": "550fc77e",
   "metadata": {
    "id": "550fc77e"
   },
   "source": [
    "### LSTM Model"
   ]
  },
  {
   "cell_type": "code",
   "execution_count": 47,
   "id": "a1383a39",
   "metadata": {
    "id": "a1383a39"
   },
   "outputs": [],
   "source": [
    "class LSTMNetwork(torch.nn.Module):\n",
    "\n",
    "    def __init__(self, input_size, hidden_size, num_classes):\n",
    "        \"\"\"\n",
    "        :param input_size: Size of embedding\n",
    "        :param hidden_size: Hidden vector size\n",
    "        :param num_classes: Number of classes in the dataset\n",
    "        \"\"\"\n",
    "        super(LSTMNetwork, self).__init__()\n",
    "        # LSTM Layer\n",
    "        self.rnn = torch.nn.LSTM(input_size=input_size,\n",
    "                                 hidden_size=hidden_size,\n",
    "                                 batch_first=True)\n",
    "        # Linear Layer\n",
    "        self.linear = torch.nn.Linear(hidden_size, num_classes)\n",
    "\n",
    "    def forward(self, input_data):\n",
    "        _, (hidden, _) = self.rnn(input_data)\n",
    "        output = self.linear(hidden[-1])\n",
    "        return output"
   ]
  },
  {
   "cell_type": "markdown",
   "id": "e76960f7",
   "metadata": {
    "id": "e76960f7"
   },
   "source": [
    "### Define train function"
   ]
  },
  {
   "cell_type": "code",
   "execution_count": 49,
   "id": "f289dabc",
   "metadata": {
    "id": "f289dabc"
   },
   "outputs": [],
   "source": [
    "def train(train_loader, valid_loader, model, criterion, optimizer, device,\n",
    "          num_epochs, model_path):\n",
    "    \"\"\"\n",
    "    Function to train the model\n",
    "    :param train_loader: Data loader for train dataset\n",
    "    :param valid_loader: Data loader for validation dataset\n",
    "    :param model: Model object\n",
    "    :param criterion: Loss function\n",
    "    :param optimizer: Optimizer\n",
    "    :param device: CUDA or CPU\n",
    "    :param num_epochs: Number of epochs\n",
    "    :param model_path: Path to save the model\n",
    "    \"\"\"\n",
    "    best_loss = 1e8\n",
    "    for i in range(num_epochs):\n",
    "        print(f\"Epoch {i+1} of {num_epochs}\")\n",
    "        valid_loss, train_loss = [], []\n",
    "        model.train()\n",
    "        # Train loop\n",
    "        for batch_labels, batch_data in tqdm(train_loader):\n",
    "            # Move data to GPU if available\n",
    "            batch_labels = batch_labels.to(device)\n",
    "            batch_labels = batch_labels.type(torch.LongTensor)\n",
    "            batch_data = batch_data.to(device)\n",
    "            # Forward pass\n",
    "            batch_output = model(batch_data)\n",
    "            batch_output = torch.squeeze(batch_output)\n",
    "            # Calculate loss\n",
    "            loss = criterion(batch_output, batch_labels)\n",
    "            train_loss.append(loss.item())\n",
    "            optimizer.zero_grad()\n",
    "            # Backward pass\n",
    "            loss.backward()\n",
    "            # Gradient update step\n",
    "            optimizer.step()\n",
    "        model.eval()\n",
    "        # Validation loop\n",
    "        for batch_labels, batch_data in tqdm(valid_loader):\n",
    "            # Move data to GPU if available\n",
    "            batch_labels = batch_labels.to(device)\n",
    "            batch_labels = batch_labels.type(torch.LongTensor)\n",
    "            batch_data = batch_data.to(device)\n",
    "            # Forward pass\n",
    "            batch_output = model(batch_data)\n",
    "            batch_output = torch.squeeze(batch_output)\n",
    "            # Calculate loss\n",
    "            loss = criterion(batch_output, batch_labels)\n",
    "            valid_loss.append(loss.item())\n",
    "        t_loss = np.mean(train_loss)\n",
    "        v_loss = np.mean(valid_loss)\n",
    "        print(f\"Train Loss: {t_loss}, Validation Loss: {v_loss}\")\n",
    "        if v_loss < best_loss:\n",
    "            best_loss = v_loss\n",
    "            # Save model if validation loss improves\n",
    "            torch.save(model.state_dict(), model_path)\n",
    "        print(f\"Best Validation Loss: {best_loss}\")"
   ]
  },
  {
   "cell_type": "markdown",
   "id": "853388ef",
   "metadata": {
    "id": "853388ef"
   },
   "source": [
    "### Define test function"
   ]
  },
  {
   "cell_type": "code",
   "execution_count": 50,
   "id": "6b9e405f",
   "metadata": {
    "id": "6b9e405f"
   },
   "outputs": [],
   "source": [
    "def test(test_loader, model, criterion, device):\n",
    "    \"\"\"\n",
    "    Function to test the model\n",
    "    :param test_loader: Data loader for test dataset\n",
    "    :param model: Model object\n",
    "    :param criterion: Loss function\n",
    "    :param device: CUDA or CPU\n",
    "    \"\"\"\n",
    "    model.eval()\n",
    "    test_loss = []\n",
    "    test_accu = []\n",
    "    for batch_labels, batch_data in tqdm(test_loader):\n",
    "        # Move data to device\n",
    "        batch_labels = batch_labels.to(device)\n",
    "        batch_labels = batch_labels.type(torch.LongTensor)\n",
    "        batch_data = batch_data.to(device)\n",
    "        # Forward pass\n",
    "        batch_output = model(batch_data)\n",
    "        batch_output = torch.squeeze(batch_output)\n",
    "        # Calculate loss\n",
    "        loss = criterion(batch_output, batch_labels)\n",
    "        test_loss.append(loss.item())\n",
    "        batch_preds = torch.argmax(batch_output, axis=1)\n",
    "        # Move predictions to CPU\n",
    "        if torch.cuda.is_available():\n",
    "            batch_labels = batch_labels.cpu()\n",
    "            batch_preds = batch_preds.cpu()\n",
    "        # Compute accuracy\n",
    "        test_accu.append(accuracy_score(batch_labels.detach().numpy(),\n",
    "                                        batch_preds.detach().numpy()))\n",
    "    test_loss = np.mean(test_loss)\n",
    "    test_accu = np.mean(test_accu)\n",
    "    print(f\"Test Loss: {test_loss}, Test Accuracy: {test_accu}\")"
   ]
  },
  {
   "cell_type": "markdown",
   "id": "4163f818",
   "metadata": {
    "id": "4163f818"
   },
   "source": [
    "## Train RNN Model\n",
    "---"
   ]
  },
  {
   "cell_type": "markdown",
   "id": "e752fd29",
   "metadata": {
    "id": "e752fd29"
   },
   "source": [
    "### Load the files"
   ]
  },
  {
   "cell_type": "code",
   "execution_count": 51,
   "id": "c9aaae86",
   "metadata": {
    "id": "c9aaae86"
   },
   "outputs": [],
   "source": [
    "tokens = load_file(tokens_path)\n",
    "labels = load_file(labels_path)\n",
    "embeddings = load_file(embeddings_path)\n",
    "label_encoder = load_file(label_encoder_path)\n",
    "num_classes = len(label_encoder.classes_)"
   ]
  },
  {
   "cell_type": "markdown",
   "id": "2ad46f7e",
   "metadata": {
    "id": "2ad46f7e"
   },
   "source": [
    "### Split data into train, validation and test sets"
   ]
  },
  {
   "cell_type": "code",
   "execution_count": 52,
   "id": "7916b320",
   "metadata": {
    "id": "7916b320"
   },
   "outputs": [],
   "source": [
    "X_train, X_test, y_train, y_test = train_test_split(tokens, labels,\n",
    "                                                    test_size=0.2)\n",
    "X_train, X_valid, y_train, y_valid = train_test_split(X_train, y_train,\n",
    "                                                      test_size=0.25)"
   ]
  },
  {
   "cell_type": "markdown",
   "id": "171cc1be",
   "metadata": {
    "id": "171cc1be"
   },
   "source": [
    "### Create PyTorch datasets"
   ]
  },
  {
   "cell_type": "code",
   "execution_count": 53,
   "id": "af22498f",
   "metadata": {
    "id": "af22498f"
   },
   "outputs": [],
   "source": [
    "train_dataset = TextDataset(X_train, embeddings, y_train)\n",
    "valid_dataset = TextDataset(X_valid, embeddings, y_valid)\n",
    "test_dataset = TextDataset(X_test, embeddings, y_test)"
   ]
  },
  {
   "cell_type": "markdown",
   "id": "030610ea",
   "metadata": {
    "id": "030610ea"
   },
   "source": [
    "### Create data loaders"
   ]
  },
  {
   "cell_type": "code",
   "execution_count": 54,
   "id": "a0dcc6dd",
   "metadata": {
    "id": "a0dcc6dd"
   },
   "outputs": [],
   "source": [
    "train_loader = torch.utils.data.DataLoader(train_dataset, batch_size=16,\n",
    "                                           shuffle=True, drop_last=True)\n",
    "valid_loader = torch.utils.data.DataLoader(valid_dataset, batch_size=16)\n",
    "test_loader = torch.utils.data.DataLoader(test_dataset, batch_size=16)"
   ]
  },
  {
   "cell_type": "markdown",
   "id": "af02c4c2",
   "metadata": {
    "id": "af02c4c2"
   },
   "source": [
    "### Create model object"
   ]
  },
  {
   "cell_type": "code",
   "execution_count": 55,
   "id": "7aaacda1",
   "metadata": {
    "id": "7aaacda1"
   },
   "outputs": [],
   "source": [
    "model = RNNNetwork(input_size, hidden_size, num_classes)"
   ]
  },
  {
   "cell_type": "markdown",
   "id": "7c88a3f8",
   "metadata": {
    "id": "7c88a3f8"
   },
   "source": [
    "### Move the model to GPU if available"
   ]
  },
  {
   "cell_type": "code",
   "execution_count": 57,
   "id": "ca465cd6",
   "metadata": {
    "id": "ca465cd6"
   },
   "outputs": [],
   "source": [
    "if torch.cuda.is_available():\n",
    "    model = model.cuda()"
   ]
  },
  {
   "cell_type": "markdown",
   "id": "1deebde4",
   "metadata": {
    "id": "1deebde4"
   },
   "source": [
    "### Define loss function and optimizer"
   ]
  },
  {
   "cell_type": "code",
   "execution_count": 58,
   "id": "d4becc10",
   "metadata": {
    "id": "d4becc10"
   },
   "outputs": [],
   "source": [
    "criterion = torch.nn.CrossEntropyLoss()\n",
    "optimizer = torch.optim.Adam(model.parameters(), lr=lr)\n",
    "device = torch.device(\"cuda:0\" if torch.cuda.is_available() else \"cpu\")"
   ]
  },
  {
   "cell_type": "markdown",
   "id": "7f90ad48",
   "metadata": {
    "id": "7f90ad48"
   },
   "source": [
    "### Training loop"
   ]
  },
  {
   "cell_type": "code",
   "execution_count": 59,
   "id": "f80daf65",
   "metadata": {
    "id": "f80daf65"
   },
   "outputs": [
    {
     "name": "stdout",
     "output_type": "stream",
     "text": [
      "Epoch 1 of 50\n"
     ]
    },
    {
     "name": "stderr",
     "output_type": "stream",
     "text": [
      "100%|██████████| 30350/30350 [01:00<00:00, 498.73it/s]\n",
      "100%|██████████| 10117/10117 [00:08<00:00, 1127.44it/s]\n"
     ]
    },
    {
     "name": "stdout",
     "output_type": "stream",
     "text": [
      "Train Loss: 1.305462280321357, Validation Loss: 1.12854190928858\n",
      "Best Validation Loss: 1.12854190928858\n",
      "Epoch 2 of 50\n"
     ]
    },
    {
     "name": "stderr",
     "output_type": "stream",
     "text": [
      "100%|██████████| 30350/30350 [01:18<00:00, 388.82it/s]\n",
      "100%|██████████| 10117/10117 [00:08<00:00, 1174.88it/s]\n"
     ]
    },
    {
     "name": "stdout",
     "output_type": "stream",
     "text": [
      "Train Loss: 1.0633383750738776, Validation Loss: 0.9980560378487713\n",
      "Best Validation Loss: 0.9980560378487713\n",
      "Epoch 3 of 50\n"
     ]
    },
    {
     "name": "stderr",
     "output_type": "stream",
     "text": [
      "100%|██████████| 30350/30350 [01:08<00:00, 444.72it/s]\n",
      "100%|██████████| 10117/10117 [00:08<00:00, 1258.69it/s]\n"
     ]
    },
    {
     "name": "stdout",
     "output_type": "stream",
     "text": [
      "Train Loss: 0.9712646309552712, Validation Loss: 0.9311715503967691\n",
      "Best Validation Loss: 0.9311715503967691\n",
      "Epoch 4 of 50\n"
     ]
    },
    {
     "name": "stderr",
     "output_type": "stream",
     "text": [
      "100%|██████████| 30350/30350 [01:06<00:00, 454.52it/s]\n",
      "100%|██████████| 10117/10117 [00:08<00:00, 1144.07it/s]\n"
     ]
    },
    {
     "name": "stdout",
     "output_type": "stream",
     "text": [
      "Train Loss: 0.9317542730107339, Validation Loss: 0.912754468000476\n",
      "Best Validation Loss: 0.912754468000476\n",
      "Epoch 5 of 50\n"
     ]
    },
    {
     "name": "stderr",
     "output_type": "stream",
     "text": [
      "100%|██████████| 30350/30350 [01:03<00:00, 481.40it/s]\n",
      "100%|██████████| 10117/10117 [00:11<00:00, 882.25it/s]\n"
     ]
    },
    {
     "name": "stdout",
     "output_type": "stream",
     "text": [
      "Train Loss: 0.9078958927691474, Validation Loss: 0.8907457286615528\n",
      "Best Validation Loss: 0.8907457286615528\n",
      "Epoch 6 of 50\n"
     ]
    },
    {
     "name": "stderr",
     "output_type": "stream",
     "text": [
      "100%|██████████| 30350/30350 [01:05<00:00, 460.30it/s]\n",
      "100%|██████████| 10117/10117 [00:10<00:00, 964.82it/s]\n"
     ]
    },
    {
     "name": "stdout",
     "output_type": "stream",
     "text": [
      "Train Loss: 0.8897850047928301, Validation Loss: 0.8869621217916567\n",
      "Best Validation Loss: 0.8869621217916567\n",
      "Epoch 7 of 50\n"
     ]
    },
    {
     "name": "stderr",
     "output_type": "stream",
     "text": [
      "100%|██████████| 30350/30350 [01:14<00:00, 408.92it/s]\n",
      "100%|██████████| 10117/10117 [00:08<00:00, 1150.35it/s]\n"
     ]
    },
    {
     "name": "stdout",
     "output_type": "stream",
     "text": [
      "Train Loss: 0.8762083641480182, Validation Loss: 0.8631876677133307\n",
      "Best Validation Loss: 0.8631876677133307\n",
      "Epoch 8 of 50\n"
     ]
    },
    {
     "name": "stderr",
     "output_type": "stream",
     "text": [
      "100%|██████████| 30350/30350 [01:06<00:00, 456.80it/s]\n",
      "100%|██████████| 10117/10117 [00:09<00:00, 1120.85it/s]\n"
     ]
    },
    {
     "name": "stdout",
     "output_type": "stream",
     "text": [
      "Train Loss: 0.865526166506222, Validation Loss: 0.8502649450765788\n",
      "Best Validation Loss: 0.8502649450765788\n",
      "Epoch 9 of 50\n"
     ]
    },
    {
     "name": "stderr",
     "output_type": "stream",
     "text": [
      "100%|██████████| 30350/30350 [01:04<00:00, 473.00it/s]\n",
      "100%|██████████| 10117/10117 [00:08<00:00, 1222.17it/s]\n"
     ]
    },
    {
     "name": "stdout",
     "output_type": "stream",
     "text": [
      "Train Loss: 0.8566508811432408, Validation Loss: 0.8635556861865753\n",
      "Best Validation Loss: 0.8502649450765788\n",
      "Epoch 10 of 50\n"
     ]
    },
    {
     "name": "stderr",
     "output_type": "stream",
     "text": [
      "100%|██████████| 30350/30350 [01:03<00:00, 479.69it/s]\n",
      "100%|██████████| 10117/10117 [00:07<00:00, 1300.95it/s]\n"
     ]
    },
    {
     "name": "stdout",
     "output_type": "stream",
     "text": [
      "Train Loss: 0.8488770872018188, Validation Loss: 0.8394032278641936\n",
      "Best Validation Loss: 0.8394032278641936\n",
      "Epoch 11 of 50\n"
     ]
    },
    {
     "name": "stderr",
     "output_type": "stream",
     "text": [
      "100%|██████████| 30350/30350 [01:13<00:00, 412.29it/s]\n",
      "100%|██████████| 10117/10117 [00:09<00:00, 1026.91it/s]\n"
     ]
    },
    {
     "name": "stdout",
     "output_type": "stream",
     "text": [
      "Train Loss: 0.8419865683995225, Validation Loss: 0.8581462083650434\n",
      "Best Validation Loss: 0.8394032278641936\n",
      "Epoch 12 of 50\n"
     ]
    },
    {
     "name": "stderr",
     "output_type": "stream",
     "text": [
      "100%|██████████| 30350/30350 [01:07<00:00, 450.13it/s]\n",
      "100%|██████████| 10117/10117 [00:08<00:00, 1210.73it/s]\n"
     ]
    },
    {
     "name": "stdout",
     "output_type": "stream",
     "text": [
      "Train Loss: 0.8368503605030612, Validation Loss: 0.8366958250641363\n",
      "Best Validation Loss: 0.8366958250641363\n",
      "Epoch 13 of 50\n"
     ]
    },
    {
     "name": "stderr",
     "output_type": "stream",
     "text": [
      "100%|██████████| 30350/30350 [01:04<00:00, 472.67it/s]\n",
      "100%|██████████| 10117/10117 [00:06<00:00, 1602.06it/s]\n"
     ]
    },
    {
     "name": "stdout",
     "output_type": "stream",
     "text": [
      "Train Loss: 0.8316204664918795, Validation Loss: 0.8316167837456775\n",
      "Best Validation Loss: 0.8316167837456775\n",
      "Epoch 14 of 50\n"
     ]
    },
    {
     "name": "stderr",
     "output_type": "stream",
     "text": [
      "100%|██████████| 30350/30350 [00:50<00:00, 602.81it/s]\n",
      "100%|██████████| 10117/10117 [00:07<00:00, 1394.85it/s]\n"
     ]
    },
    {
     "name": "stdout",
     "output_type": "stream",
     "text": [
      "Train Loss: 0.8280047915159084, Validation Loss: 0.8191775587827683\n",
      "Best Validation Loss: 0.8191775587827683\n",
      "Epoch 15 of 50\n"
     ]
    },
    {
     "name": "stderr",
     "output_type": "stream",
     "text": [
      "100%|██████████| 30350/30350 [00:49<00:00, 614.61it/s]\n",
      "100%|██████████| 10117/10117 [00:06<00:00, 1450.36it/s]\n"
     ]
    },
    {
     "name": "stdout",
     "output_type": "stream",
     "text": [
      "Train Loss: 0.8232801456557958, Validation Loss: 0.8203334696822879\n",
      "Best Validation Loss: 0.8191775587827683\n",
      "Epoch 16 of 50\n"
     ]
    },
    {
     "name": "stderr",
     "output_type": "stream",
     "text": [
      "100%|██████████| 30350/30350 [00:51<00:00, 586.22it/s]\n",
      "100%|██████████| 10117/10117 [00:07<00:00, 1389.55it/s]\n"
     ]
    },
    {
     "name": "stdout",
     "output_type": "stream",
     "text": [
      "Train Loss: 0.8201424082460671, Validation Loss: 0.82231493917416\n",
      "Best Validation Loss: 0.8191775587827683\n",
      "Epoch 17 of 50\n"
     ]
    },
    {
     "name": "stderr",
     "output_type": "stream",
     "text": [
      "100%|██████████| 30350/30350 [01:02<00:00, 483.77it/s]\n",
      "100%|██████████| 10117/10117 [00:08<00:00, 1244.22it/s]\n"
     ]
    },
    {
     "name": "stdout",
     "output_type": "stream",
     "text": [
      "Train Loss: 0.8165044872013505, Validation Loss: 0.8167568667817283\n",
      "Best Validation Loss: 0.8167568667817283\n",
      "Epoch 18 of 50\n"
     ]
    },
    {
     "name": "stderr",
     "output_type": "stream",
     "text": [
      "100%|██████████| 30350/30350 [01:01<00:00, 494.17it/s]\n",
      "100%|██████████| 10117/10117 [00:07<00:00, 1383.71it/s]\n"
     ]
    },
    {
     "name": "stdout",
     "output_type": "stream",
     "text": [
      "Train Loss: 0.8138511769657669, Validation Loss: 0.8220901922167697\n",
      "Best Validation Loss: 0.8167568667817283\n",
      "Epoch 19 of 50\n"
     ]
    },
    {
     "name": "stderr",
     "output_type": "stream",
     "text": [
      "100%|██████████| 30350/30350 [00:50<00:00, 600.85it/s]\n",
      "100%|██████████| 10117/10117 [00:06<00:00, 1593.14it/s]\n"
     ]
    },
    {
     "name": "stdout",
     "output_type": "stream",
     "text": [
      "Train Loss: 0.8112909333007733, Validation Loss: 0.8133508419641761\n",
      "Best Validation Loss: 0.8133508419641761\n",
      "Epoch 20 of 50\n"
     ]
    },
    {
     "name": "stderr",
     "output_type": "stream",
     "text": [
      "100%|██████████| 30350/30350 [00:52<00:00, 573.99it/s]\n",
      "100%|██████████| 10117/10117 [00:06<00:00, 1652.01it/s]\n"
     ]
    },
    {
     "name": "stdout",
     "output_type": "stream",
     "text": [
      "Train Loss: 0.8088636774718271, Validation Loss: 0.8135339990574887\n",
      "Best Validation Loss: 0.8133508419641761\n",
      "Epoch 21 of 50\n"
     ]
    },
    {
     "name": "stderr",
     "output_type": "stream",
     "text": [
      "100%|██████████| 30350/30350 [00:49<00:00, 614.20it/s]\n",
      "100%|██████████| 10117/10117 [00:06<00:00, 1682.13it/s]\n"
     ]
    },
    {
     "name": "stdout",
     "output_type": "stream",
     "text": [
      "Train Loss: 0.8061224449726659, Validation Loss: 0.8023605816205452\n",
      "Best Validation Loss: 0.8023605816205452\n",
      "Epoch 22 of 50\n"
     ]
    },
    {
     "name": "stderr",
     "output_type": "stream",
     "text": [
      "100%|██████████| 30350/30350 [00:50<00:00, 599.91it/s]\n",
      "100%|██████████| 10117/10117 [00:07<00:00, 1345.12it/s]\n"
     ]
    },
    {
     "name": "stdout",
     "output_type": "stream",
     "text": [
      "Train Loss: 0.8044222050554178, Validation Loss: 0.7975513533757846\n",
      "Best Validation Loss: 0.7975513533757846\n",
      "Epoch 23 of 50\n"
     ]
    },
    {
     "name": "stderr",
     "output_type": "stream",
     "text": [
      "100%|██████████| 30350/30350 [00:53<00:00, 572.37it/s]\n",
      "100%|██████████| 10117/10117 [00:06<00:00, 1495.98it/s]\n"
     ]
    },
    {
     "name": "stdout",
     "output_type": "stream",
     "text": [
      "Train Loss: 0.802466705017025, Validation Loss: 0.8099861002252945\n",
      "Best Validation Loss: 0.7975513533757846\n",
      "Epoch 24 of 50\n"
     ]
    },
    {
     "name": "stderr",
     "output_type": "stream",
     "text": [
      "100%|██████████| 30350/30350 [00:49<00:00, 609.86it/s]\n",
      "100%|██████████| 10117/10117 [00:06<00:00, 1522.98it/s]\n"
     ]
    },
    {
     "name": "stdout",
     "output_type": "stream",
     "text": [
      "Train Loss: 0.8005807955911662, Validation Loss: 0.8042048770671801\n",
      "Best Validation Loss: 0.7975513533757846\n",
      "Epoch 25 of 50\n"
     ]
    },
    {
     "name": "stderr",
     "output_type": "stream",
     "text": [
      "100%|██████████| 30350/30350 [00:48<00:00, 629.30it/s]\n",
      "100%|██████████| 10117/10117 [00:06<00:00, 1506.64it/s]\n"
     ]
    },
    {
     "name": "stdout",
     "output_type": "stream",
     "text": [
      "Train Loss: 0.7991783129577287, Validation Loss: 0.8082107726830297\n",
      "Best Validation Loss: 0.7975513533757846\n",
      "Epoch 26 of 50\n"
     ]
    },
    {
     "name": "stderr",
     "output_type": "stream",
     "text": [
      "100%|██████████| 30350/30350 [00:44<00:00, 675.12it/s]\n",
      "100%|██████████| 10117/10117 [00:06<00:00, 1597.20it/s]\n"
     ]
    },
    {
     "name": "stdout",
     "output_type": "stream",
     "text": [
      "Train Loss: 0.797542612376873, Validation Loss: 0.7997976637050381\n",
      "Best Validation Loss: 0.7975513533757846\n",
      "Epoch 27 of 50\n"
     ]
    },
    {
     "name": "stderr",
     "output_type": "stream",
     "text": [
      "100%|██████████| 30350/30350 [00:47<00:00, 643.97it/s]\n",
      "100%|██████████| 10117/10117 [00:05<00:00, 1687.97it/s]\n"
     ]
    },
    {
     "name": "stdout",
     "output_type": "stream",
     "text": [
      "Train Loss: 0.7959651133585015, Validation Loss: 0.8242966694702293\n",
      "Best Validation Loss: 0.7975513533757846\n",
      "Epoch 28 of 50\n"
     ]
    },
    {
     "name": "stderr",
     "output_type": "stream",
     "text": [
      "100%|██████████| 30350/30350 [00:48<00:00, 630.10it/s]\n",
      "100%|██████████| 10117/10117 [00:06<00:00, 1517.31it/s]\n"
     ]
    },
    {
     "name": "stdout",
     "output_type": "stream",
     "text": [
      "Train Loss: 0.7948503118871267, Validation Loss: 0.7944183549406006\n",
      "Best Validation Loss: 0.7944183549406006\n",
      "Epoch 29 of 50\n"
     ]
    },
    {
     "name": "stderr",
     "output_type": "stream",
     "text": [
      "100%|██████████| 30350/30350 [00:49<00:00, 609.17it/s]\n",
      "100%|██████████| 10117/10117 [00:06<00:00, 1611.82it/s]\n"
     ]
    },
    {
     "name": "stdout",
     "output_type": "stream",
     "text": [
      "Train Loss: 0.7933396024604311, Validation Loss: 0.7943687401465233\n",
      "Best Validation Loss: 0.7943687401465233\n",
      "Epoch 30 of 50\n"
     ]
    },
    {
     "name": "stderr",
     "output_type": "stream",
     "text": [
      "100%|██████████| 30350/30350 [00:47<00:00, 640.94it/s]\n",
      "100%|██████████| 10117/10117 [00:06<00:00, 1607.21it/s]\n"
     ]
    },
    {
     "name": "stdout",
     "output_type": "stream",
     "text": [
      "Train Loss: 0.7923236874578125, Validation Loss: 0.8037680365101756\n",
      "Best Validation Loss: 0.7943687401465233\n",
      "Epoch 31 of 50\n"
     ]
    },
    {
     "name": "stderr",
     "output_type": "stream",
     "text": [
      "100%|██████████| 30350/30350 [00:46<00:00, 648.29it/s]\n",
      "100%|██████████| 10117/10117 [00:06<00:00, 1626.51it/s]\n"
     ]
    },
    {
     "name": "stdout",
     "output_type": "stream",
     "text": [
      "Train Loss: 0.7912860986784321, Validation Loss: 0.8062297424550606\n",
      "Best Validation Loss: 0.7943687401465233\n",
      "Epoch 32 of 50\n"
     ]
    },
    {
     "name": "stderr",
     "output_type": "stream",
     "text": [
      "100%|██████████| 30350/30350 [00:47<00:00, 633.16it/s]\n",
      "100%|██████████| 10117/10117 [00:06<00:00, 1662.75it/s]\n"
     ]
    },
    {
     "name": "stdout",
     "output_type": "stream",
     "text": [
      "Train Loss: 0.7896141278247857, Validation Loss: 0.8177321894379534\n",
      "Best Validation Loss: 0.7943687401465233\n",
      "Epoch 33 of 50\n"
     ]
    },
    {
     "name": "stderr",
     "output_type": "stream",
     "text": [
      "100%|██████████| 30350/30350 [00:53<00:00, 564.07it/s]\n",
      "100%|██████████| 10117/10117 [00:07<00:00, 1358.68it/s]\n"
     ]
    },
    {
     "name": "stdout",
     "output_type": "stream",
     "text": [
      "Train Loss: 0.7888575865944488, Validation Loss: 0.7920780800230668\n",
      "Best Validation Loss: 0.7920780800230668\n",
      "Epoch 34 of 50\n"
     ]
    },
    {
     "name": "stderr",
     "output_type": "stream",
     "text": [
      "100%|██████████| 30350/30350 [00:48<00:00, 628.63it/s]\n",
      "100%|██████████| 10117/10117 [00:06<00:00, 1653.78it/s]\n"
     ]
    },
    {
     "name": "stdout",
     "output_type": "stream",
     "text": [
      "Train Loss: 0.7878595198364391, Validation Loss: 0.7818968307568973\n",
      "Best Validation Loss: 0.7818968307568973\n",
      "Epoch 35 of 50\n"
     ]
    },
    {
     "name": "stderr",
     "output_type": "stream",
     "text": [
      "100%|██████████| 30350/30350 [00:46<00:00, 653.17it/s]\n",
      "100%|██████████| 10117/10117 [00:06<00:00, 1587.95it/s]\n"
     ]
    },
    {
     "name": "stdout",
     "output_type": "stream",
     "text": [
      "Train Loss: 0.7866633743644251, Validation Loss: 0.7824568486610184\n",
      "Best Validation Loss: 0.7818968307568973\n",
      "Epoch 36 of 50\n"
     ]
    },
    {
     "name": "stderr",
     "output_type": "stream",
     "text": [
      "100%|██████████| 30350/30350 [00:46<00:00, 648.85it/s]\n",
      "100%|██████████| 10117/10117 [00:06<00:00, 1638.99it/s]\n"
     ]
    },
    {
     "name": "stdout",
     "output_type": "stream",
     "text": [
      "Train Loss: 0.7862598809950925, Validation Loss: 0.7852414665844786\n",
      "Best Validation Loss: 0.7818968307568973\n",
      "Epoch 37 of 50\n"
     ]
    },
    {
     "name": "stderr",
     "output_type": "stream",
     "text": [
      "100%|██████████| 30350/30350 [00:47<00:00, 641.39it/s]\n",
      "100%|██████████| 10117/10117 [00:07<00:00, 1333.70it/s]\n"
     ]
    },
    {
     "name": "stdout",
     "output_type": "stream",
     "text": [
      "Train Loss: 0.7851409801173053, Validation Loss: 0.7908566079439471\n",
      "Best Validation Loss: 0.7818968307568973\n",
      "Epoch 38 of 50\n"
     ]
    },
    {
     "name": "stderr",
     "output_type": "stream",
     "text": [
      "100%|██████████| 30350/30350 [00:47<00:00, 644.58it/s]\n",
      "100%|██████████| 10117/10117 [00:06<00:00, 1585.23it/s]\n"
     ]
    },
    {
     "name": "stdout",
     "output_type": "stream",
     "text": [
      "Train Loss: 0.7842497016894562, Validation Loss: 0.7848858094868175\n",
      "Best Validation Loss: 0.7818968307568973\n",
      "Epoch 39 of 50\n"
     ]
    },
    {
     "name": "stderr",
     "output_type": "stream",
     "text": [
      "100%|██████████| 30350/30350 [00:48<00:00, 619.93it/s]\n",
      "100%|██████████| 10117/10117 [00:06<00:00, 1472.59it/s]\n"
     ]
    },
    {
     "name": "stdout",
     "output_type": "stream",
     "text": [
      "Train Loss: 0.7834718816299022, Validation Loss: 0.785648777098527\n",
      "Best Validation Loss: 0.7818968307568973\n",
      "Epoch 40 of 50\n"
     ]
    },
    {
     "name": "stderr",
     "output_type": "stream",
     "text": [
      "100%|██████████| 30350/30350 [00:47<00:00, 632.31it/s]\n",
      "100%|██████████| 10117/10117 [00:06<00:00, 1561.52it/s]\n"
     ]
    },
    {
     "name": "stdout",
     "output_type": "stream",
     "text": [
      "Train Loss: 0.7830285620164046, Validation Loss: 0.789573162922254\n",
      "Best Validation Loss: 0.7818968307568973\n",
      "Epoch 41 of 50\n"
     ]
    },
    {
     "name": "stderr",
     "output_type": "stream",
     "text": [
      "100%|██████████| 30350/30350 [00:45<00:00, 663.99it/s]\n",
      "100%|██████████| 10117/10117 [00:06<00:00, 1521.90it/s]\n"
     ]
    },
    {
     "name": "stdout",
     "output_type": "stream",
     "text": [
      "Train Loss: 0.7818130693571179, Validation Loss: 0.7865121438841557\n",
      "Best Validation Loss: 0.7818968307568973\n",
      "Epoch 42 of 50\n"
     ]
    },
    {
     "name": "stderr",
     "output_type": "stream",
     "text": [
      "100%|██████████| 30350/30350 [00:47<00:00, 638.55it/s]\n",
      "100%|██████████| 10117/10117 [00:06<00:00, 1581.20it/s]\n"
     ]
    },
    {
     "name": "stdout",
     "output_type": "stream",
     "text": [
      "Train Loss: 0.7812294029276297, Validation Loss: 0.7834890100873364\n",
      "Best Validation Loss: 0.7818968307568973\n",
      "Epoch 43 of 50\n"
     ]
    },
    {
     "name": "stderr",
     "output_type": "stream",
     "text": [
      "100%|██████████| 30350/30350 [00:46<00:00, 650.35it/s]\n",
      "100%|██████████| 10117/10117 [00:06<00:00, 1613.61it/s]\n"
     ]
    },
    {
     "name": "stdout",
     "output_type": "stream",
     "text": [
      "Train Loss: 0.7800910723494148, Validation Loss: 0.7874385960804411\n",
      "Best Validation Loss: 0.7818968307568973\n",
      "Epoch 44 of 50\n"
     ]
    },
    {
     "name": "stderr",
     "output_type": "stream",
     "text": [
      "100%|██████████| 30350/30350 [00:47<00:00, 635.68it/s]\n",
      "100%|██████████| 10117/10117 [00:06<00:00, 1505.76it/s]\n"
     ]
    },
    {
     "name": "stdout",
     "output_type": "stream",
     "text": [
      "Train Loss: 0.7799775541039825, Validation Loss: 0.7782703645529572\n",
      "Best Validation Loss: 0.7782703645529572\n",
      "Epoch 45 of 50\n"
     ]
    },
    {
     "name": "stderr",
     "output_type": "stream",
     "text": [
      "100%|██████████| 30350/30350 [00:48<00:00, 627.07it/s]\n",
      "100%|██████████| 10117/10117 [00:06<00:00, 1533.50it/s]\n"
     ]
    },
    {
     "name": "stdout",
     "output_type": "stream",
     "text": [
      "Train Loss: 0.7793747964440009, Validation Loss: 0.7881875202859522\n",
      "Best Validation Loss: 0.7782703645529572\n",
      "Epoch 46 of 50\n"
     ]
    },
    {
     "name": "stderr",
     "output_type": "stream",
     "text": [
      "100%|██████████| 30350/30350 [00:49<00:00, 614.75it/s]\n",
      "100%|██████████| 10117/10117 [00:08<00:00, 1147.71it/s]\n"
     ]
    },
    {
     "name": "stdout",
     "output_type": "stream",
     "text": [
      "Train Loss: 0.7784560581693146, Validation Loss: 0.7922045113532642\n",
      "Best Validation Loss: 0.7782703645529572\n",
      "Epoch 47 of 50\n"
     ]
    },
    {
     "name": "stderr",
     "output_type": "stream",
     "text": [
      "100%|██████████| 30350/30350 [00:50<00:00, 606.12it/s]\n",
      "100%|██████████| 10117/10117 [00:06<00:00, 1541.03it/s]\n"
     ]
    },
    {
     "name": "stdout",
     "output_type": "stream",
     "text": [
      "Train Loss: 0.7778393973046807, Validation Loss: 0.7960779434700569\n",
      "Best Validation Loss: 0.7782703645529572\n",
      "Epoch 48 of 50\n"
     ]
    },
    {
     "name": "stderr",
     "output_type": "stream",
     "text": [
      "100%|██████████| 30350/30350 [00:49<00:00, 615.21it/s]\n",
      "100%|██████████| 10117/10117 [00:06<00:00, 1514.70it/s]\n"
     ]
    },
    {
     "name": "stdout",
     "output_type": "stream",
     "text": [
      "Train Loss: 0.7771851942836747, Validation Loss: 0.789217439401971\n",
      "Best Validation Loss: 0.7782703645529572\n",
      "Epoch 49 of 50\n"
     ]
    },
    {
     "name": "stderr",
     "output_type": "stream",
     "text": [
      "100%|██████████| 30350/30350 [00:48<00:00, 624.87it/s]\n",
      "100%|██████████| 10117/10117 [00:08<00:00, 1212.90it/s]\n"
     ]
    },
    {
     "name": "stdout",
     "output_type": "stream",
     "text": [
      "Train Loss: 0.7768552448243344, Validation Loss: 0.7854628233310673\n",
      "Best Validation Loss: 0.7782703645529572\n",
      "Epoch 50 of 50\n"
     ]
    },
    {
     "name": "stderr",
     "output_type": "stream",
     "text": [
      "100%|██████████| 30350/30350 [00:47<00:00, 640.64it/s]\n",
      "100%|██████████| 10117/10117 [00:06<00:00, 1606.90it/s]"
     ]
    },
    {
     "name": "stdout",
     "output_type": "stream",
     "text": [
      "Train Loss: 0.7761956553298618, Validation Loss: 0.7895209233247917\n",
      "Best Validation Loss: 0.7782703645529572\n"
     ]
    },
    {
     "name": "stderr",
     "output_type": "stream",
     "text": [
      "\n"
     ]
    }
   ],
   "source": [
    "train(train_loader, valid_loader, model, criterion, optimizer,\n",
    "      device, num_epochs, rnn_model_path)"
   ]
  },
  {
   "cell_type": "markdown",
   "id": "1215b67c",
   "metadata": {
    "id": "1215b67c"
   },
   "source": [
    "## Train LSTM Model\n",
    "---"
   ]
  },
  {
   "cell_type": "code",
   "execution_count": 60,
   "id": "a5e3ceb0",
   "metadata": {
    "id": "a5e3ceb0"
   },
   "outputs": [],
   "source": [
    "model = LSTMNetwork(input_size, hidden_size, num_classes)"
   ]
  },
  {
   "cell_type": "code",
   "execution_count": 61,
   "id": "92a8e560",
   "metadata": {
    "id": "92a8e560"
   },
   "outputs": [],
   "source": [
    "if torch.cuda.is_available():\n",
    "    model = model.cuda()"
   ]
  },
  {
   "cell_type": "code",
   "execution_count": 62,
   "id": "d7aee94f",
   "metadata": {
    "id": "d7aee94f"
   },
   "outputs": [],
   "source": [
    "criterion = torch.nn.CrossEntropyLoss()\n",
    "optimizer = torch.optim.Adam(model.parameters(), lr=lr)\n",
    "device = torch.device(\"cuda:0\" if torch.cuda.is_available() else \"cpu\")"
   ]
  },
  {
   "cell_type": "code",
   "execution_count": 63,
   "id": "9f9d0c17",
   "metadata": {
    "id": "9f9d0c17"
   },
   "outputs": [
    {
     "name": "stdout",
     "output_type": "stream",
     "text": [
      "Epoch 1 of 50\n"
     ]
    },
    {
     "name": "stderr",
     "output_type": "stream",
     "text": [
      "100%|██████████| 30350/30350 [01:58<00:00, 255.51it/s]\n",
      "100%|██████████| 10117/10117 [00:15<00:00, 668.89it/s]\n"
     ]
    },
    {
     "name": "stdout",
     "output_type": "stream",
     "text": [
      "Train Loss: 1.080295099545841, Validation Loss: 0.8992703016628281\n",
      "Best Validation Loss: 0.8992703016628281\n",
      "Epoch 2 of 50\n"
     ]
    },
    {
     "name": "stderr",
     "output_type": "stream",
     "text": [
      "100%|██████████| 30350/30350 [01:44<00:00, 290.49it/s]\n",
      "100%|██████████| 10117/10117 [00:14<00:00, 716.79it/s]\n"
     ]
    },
    {
     "name": "stdout",
     "output_type": "stream",
     "text": [
      "Train Loss: 0.8606255145996956, Validation Loss: 0.8418276267975136\n",
      "Best Validation Loss: 0.8418276267975136\n",
      "Epoch 3 of 50\n"
     ]
    },
    {
     "name": "stderr",
     "output_type": "stream",
     "text": [
      "100%|██████████| 30350/30350 [01:55<00:00, 262.04it/s]\n",
      "100%|██████████| 10117/10117 [00:15<00:00, 671.93it/s]\n"
     ]
    },
    {
     "name": "stdout",
     "output_type": "stream",
     "text": [
      "Train Loss: 0.8105015787253957, Validation Loss: 0.7948699417342967\n",
      "Best Validation Loss: 0.7948699417342967\n",
      "Epoch 4 of 50\n"
     ]
    },
    {
     "name": "stderr",
     "output_type": "stream",
     "text": [
      "100%|██████████| 30350/30350 [01:48<00:00, 279.67it/s]\n",
      "100%|██████████| 10117/10117 [00:14<00:00, 702.01it/s]\n"
     ]
    },
    {
     "name": "stdout",
     "output_type": "stream",
     "text": [
      "Train Loss: 0.7838519688841735, Validation Loss: 0.7778982427098233\n",
      "Best Validation Loss: 0.7778982427098233\n",
      "Epoch 5 of 50\n"
     ]
    },
    {
     "name": "stderr",
     "output_type": "stream",
     "text": [
      "100%|██████████| 30350/30350 [01:49<00:00, 277.65it/s]\n",
      "100%|██████████| 10117/10117 [00:14<00:00, 712.49it/s]\n"
     ]
    },
    {
     "name": "stdout",
     "output_type": "stream",
     "text": [
      "Train Loss: 0.7654530245397099, Validation Loss: 0.7637947960609891\n",
      "Best Validation Loss: 0.7637947960609891\n",
      "Epoch 6 of 50\n"
     ]
    },
    {
     "name": "stderr",
     "output_type": "stream",
     "text": [
      "100%|██████████| 30350/30350 [01:47<00:00, 282.57it/s]\n",
      "100%|██████████| 10117/10117 [00:15<00:00, 671.03it/s]\n"
     ]
    },
    {
     "name": "stdout",
     "output_type": "stream",
     "text": [
      "Train Loss: 0.7520337783860709, Validation Loss: 0.753666719377742\n",
      "Best Validation Loss: 0.753666719377742\n",
      "Epoch 7 of 50\n"
     ]
    },
    {
     "name": "stderr",
     "output_type": "stream",
     "text": [
      "100%|██████████| 30350/30350 [01:47<00:00, 282.35it/s]\n",
      "100%|██████████| 10117/10117 [00:14<00:00, 678.27it/s]\n"
     ]
    },
    {
     "name": "stdout",
     "output_type": "stream",
     "text": [
      "Train Loss: 0.7414386615395251, Validation Loss: 0.7445820605466462\n",
      "Best Validation Loss: 0.7445820605466462\n",
      "Epoch 8 of 50\n"
     ]
    },
    {
     "name": "stderr",
     "output_type": "stream",
     "text": [
      "100%|██████████| 30350/30350 [01:49<00:00, 277.23it/s]\n",
      "100%|██████████| 10117/10117 [00:14<00:00, 689.94it/s]\n"
     ]
    },
    {
     "name": "stdout",
     "output_type": "stream",
     "text": [
      "Train Loss: 0.7326010665908775, Validation Loss: 0.7321363875852857\n",
      "Best Validation Loss: 0.7321363875852857\n",
      "Epoch 9 of 50\n"
     ]
    },
    {
     "name": "stderr",
     "output_type": "stream",
     "text": [
      "100%|██████████| 30350/30350 [01:49<00:00, 276.13it/s]\n",
      "100%|██████████| 10117/10117 [00:17<00:00, 585.02it/s]\n"
     ]
    },
    {
     "name": "stdout",
     "output_type": "stream",
     "text": [
      "Train Loss: 0.7250196981039727, Validation Loss: 0.7269639821465901\n",
      "Best Validation Loss: 0.7269639821465901\n",
      "Epoch 10 of 50\n"
     ]
    },
    {
     "name": "stderr",
     "output_type": "stream",
     "text": [
      "100%|██████████| 30350/30350 [01:47<00:00, 283.41it/s]\n",
      "100%|██████████| 10117/10117 [00:20<00:00, 503.59it/s]\n"
     ]
    },
    {
     "name": "stdout",
     "output_type": "stream",
     "text": [
      "Train Loss: 0.718625591872306, Validation Loss: 0.7217105512005652\n",
      "Best Validation Loss: 0.7217105512005652\n",
      "Epoch 11 of 50\n"
     ]
    },
    {
     "name": "stderr",
     "output_type": "stream",
     "text": [
      "100%|██████████| 30350/30350 [01:51<00:00, 271.90it/s]\n",
      "100%|██████████| 10117/10117 [00:13<00:00, 724.11it/s]\n"
     ]
    },
    {
     "name": "stdout",
     "output_type": "stream",
     "text": [
      "Train Loss: 0.7128806014603258, Validation Loss: 0.7215211406457657\n",
      "Best Validation Loss: 0.7215211406457657\n",
      "Epoch 12 of 50\n"
     ]
    },
    {
     "name": "stderr",
     "output_type": "stream",
     "text": [
      "100%|██████████| 30350/30350 [01:57<00:00, 258.09it/s]\n",
      "100%|██████████| 10117/10117 [00:14<00:00, 701.91it/s]\n"
     ]
    },
    {
     "name": "stdout",
     "output_type": "stream",
     "text": [
      "Train Loss: 0.7083694055696099, Validation Loss: 0.7142648222314295\n",
      "Best Validation Loss: 0.7142648222314295\n",
      "Epoch 13 of 50\n"
     ]
    },
    {
     "name": "stderr",
     "output_type": "stream",
     "text": [
      "100%|██████████| 30350/30350 [01:44<00:00, 290.36it/s]\n",
      "100%|██████████| 10117/10117 [00:15<00:00, 657.20it/s]\n"
     ]
    },
    {
     "name": "stdout",
     "output_type": "stream",
     "text": [
      "Train Loss: 0.7039533184316543, Validation Loss: 0.7108634748908799\n",
      "Best Validation Loss: 0.7108634748908799\n",
      "Epoch 14 of 50\n"
     ]
    },
    {
     "name": "stderr",
     "output_type": "stream",
     "text": [
      "100%|██████████| 30350/30350 [01:50<00:00, 275.83it/s]\n",
      "100%|██████████| 10117/10117 [00:22<00:00, 454.51it/s]\n"
     ]
    },
    {
     "name": "stdout",
     "output_type": "stream",
     "text": [
      "Train Loss: 0.7000626367126795, Validation Loss: 0.7162537941604402\n",
      "Best Validation Loss: 0.7108634748908799\n",
      "Epoch 15 of 50\n"
     ]
    },
    {
     "name": "stderr",
     "output_type": "stream",
     "text": [
      "100%|██████████| 30350/30350 [01:58<00:00, 255.31it/s]\n",
      "100%|██████████| 10117/10117 [00:15<00:00, 672.37it/s]\n"
     ]
    },
    {
     "name": "stdout",
     "output_type": "stream",
     "text": [
      "Train Loss: 0.6966368327858126, Validation Loss: 0.7045715729129448\n",
      "Best Validation Loss: 0.7045715729129448\n",
      "Epoch 16 of 50\n"
     ]
    },
    {
     "name": "stderr",
     "output_type": "stream",
     "text": [
      "100%|██████████| 30350/30350 [01:54<00:00, 264.03it/s]\n",
      "100%|██████████| 10117/10117 [00:15<00:00, 662.68it/s]\n"
     ]
    },
    {
     "name": "stdout",
     "output_type": "stream",
     "text": [
      "Train Loss: 0.6932389963220627, Validation Loss: 0.7018126357430359\n",
      "Best Validation Loss: 0.7018126357430359\n",
      "Epoch 17 of 50\n"
     ]
    },
    {
     "name": "stderr",
     "output_type": "stream",
     "text": [
      "100%|██████████| 30350/30350 [01:52<00:00, 269.16it/s]\n",
      "100%|██████████| 10117/10117 [00:15<00:00, 661.45it/s]\n"
     ]
    },
    {
     "name": "stdout",
     "output_type": "stream",
     "text": [
      "Train Loss: 0.6900495241908894, Validation Loss: 0.7075287903296072\n",
      "Best Validation Loss: 0.7018126357430359\n",
      "Epoch 18 of 50\n"
     ]
    },
    {
     "name": "stderr",
     "output_type": "stream",
     "text": [
      "100%|██████████| 30350/30350 [01:53<00:00, 267.48it/s]\n",
      "100%|██████████| 10117/10117 [00:14<00:00, 693.65it/s]\n"
     ]
    },
    {
     "name": "stdout",
     "output_type": "stream",
     "text": [
      "Train Loss: 0.6874848237081356, Validation Loss: 0.6978744672790127\n",
      "Best Validation Loss: 0.6978744672790127\n",
      "Epoch 19 of 50\n"
     ]
    },
    {
     "name": "stderr",
     "output_type": "stream",
     "text": [
      "100%|██████████| 30350/30350 [02:00<00:00, 251.34it/s]\n",
      "100%|██████████| 10117/10117 [00:15<00:00, 647.99it/s]\n"
     ]
    },
    {
     "name": "stdout",
     "output_type": "stream",
     "text": [
      "Train Loss: 0.6847978833251475, Validation Loss: 0.6992575633478127\n",
      "Best Validation Loss: 0.6978744672790127\n",
      "Epoch 20 of 50\n"
     ]
    },
    {
     "name": "stderr",
     "output_type": "stream",
     "text": [
      "100%|██████████| 30350/30350 [01:49<00:00, 276.03it/s]\n",
      "100%|██████████| 10117/10117 [00:15<00:00, 662.95it/s]\n"
     ]
    },
    {
     "name": "stdout",
     "output_type": "stream",
     "text": [
      "Train Loss: 0.6824158798649146, Validation Loss: 0.69511058771635\n",
      "Best Validation Loss: 0.69511058771635\n",
      "Epoch 21 of 50\n"
     ]
    },
    {
     "name": "stderr",
     "output_type": "stream",
     "text": [
      "100%|██████████| 30350/30350 [01:48<00:00, 280.70it/s]\n",
      "100%|██████████| 10117/10117 [00:15<00:00, 656.02it/s]\n"
     ]
    },
    {
     "name": "stdout",
     "output_type": "stream",
     "text": [
      "Train Loss: 0.6800410522942782, Validation Loss: 0.6992430727823198\n",
      "Best Validation Loss: 0.69511058771635\n",
      "Epoch 22 of 50\n"
     ]
    },
    {
     "name": "stderr",
     "output_type": "stream",
     "text": [
      "100%|██████████| 30350/30350 [01:55<00:00, 262.29it/s]\n",
      "100%|██████████| 10117/10117 [00:14<00:00, 720.94it/s]\n"
     ]
    },
    {
     "name": "stdout",
     "output_type": "stream",
     "text": [
      "Train Loss: 0.677893554907556, Validation Loss: 0.694997925156306\n",
      "Best Validation Loss: 0.694997925156306\n",
      "Epoch 23 of 50\n"
     ]
    },
    {
     "name": "stderr",
     "output_type": "stream",
     "text": [
      "100%|██████████| 30350/30350 [01:48<00:00, 278.79it/s]\n",
      "100%|██████████| 10117/10117 [00:15<00:00, 669.48it/s]\n"
     ]
    },
    {
     "name": "stdout",
     "output_type": "stream",
     "text": [
      "Train Loss: 0.6760322362707415, Validation Loss: 0.6949617177074201\n",
      "Best Validation Loss: 0.6949617177074201\n",
      "Epoch 24 of 50\n"
     ]
    },
    {
     "name": "stderr",
     "output_type": "stream",
     "text": [
      "100%|██████████| 30350/30350 [02:00<00:00, 251.09it/s]\n",
      "100%|██████████| 10117/10117 [00:16<00:00, 605.38it/s]\n"
     ]
    },
    {
     "name": "stdout",
     "output_type": "stream",
     "text": [
      "Train Loss: 0.6740228308249983, Validation Loss: 0.6924516911520557\n",
      "Best Validation Loss: 0.6924516911520557\n",
      "Epoch 25 of 50\n"
     ]
    },
    {
     "name": "stderr",
     "output_type": "stream",
     "text": [
      "100%|██████████| 30350/30350 [01:58<00:00, 255.48it/s]\n",
      "100%|██████████| 10117/10117 [00:15<00:00, 633.44it/s]\n"
     ]
    },
    {
     "name": "stdout",
     "output_type": "stream",
     "text": [
      "Train Loss: 0.6721270323820916, Validation Loss: 0.6940533012752654\n",
      "Best Validation Loss: 0.6924516911520557\n",
      "Epoch 26 of 50\n"
     ]
    },
    {
     "name": "stderr",
     "output_type": "stream",
     "text": [
      "100%|██████████| 30350/30350 [01:50<00:00, 275.06it/s]\n",
      "100%|██████████| 10117/10117 [00:16<00:00, 629.51it/s]\n"
     ]
    },
    {
     "name": "stdout",
     "output_type": "stream",
     "text": [
      "Train Loss: 0.6704298829511912, Validation Loss: 0.6889626992516771\n",
      "Best Validation Loss: 0.6889626992516771\n",
      "Epoch 27 of 50\n"
     ]
    },
    {
     "name": "stderr",
     "output_type": "stream",
     "text": [
      "100%|██████████| 30350/30350 [01:58<00:00, 257.08it/s]\n",
      "100%|██████████| 10117/10117 [00:14<00:00, 693.12it/s]\n"
     ]
    },
    {
     "name": "stdout",
     "output_type": "stream",
     "text": [
      "Train Loss: 0.6688768414728331, Validation Loss: 0.691005371643542\n",
      "Best Validation Loss: 0.6889626992516771\n",
      "Epoch 28 of 50\n"
     ]
    },
    {
     "name": "stderr",
     "output_type": "stream",
     "text": [
      "100%|██████████| 30350/30350 [01:47<00:00, 282.95it/s]\n",
      "100%|██████████| 10117/10117 [00:15<00:00, 646.77it/s]\n"
     ]
    },
    {
     "name": "stdout",
     "output_type": "stream",
     "text": [
      "Train Loss: 0.6674871538228415, Validation Loss: 0.6866893923302065\n",
      "Best Validation Loss: 0.6866893923302065\n",
      "Epoch 29 of 50\n"
     ]
    },
    {
     "name": "stderr",
     "output_type": "stream",
     "text": [
      "100%|██████████| 30350/30350 [01:51<00:00, 271.71it/s]\n",
      "100%|██████████| 10117/10117 [00:14<00:00, 701.18it/s]\n"
     ]
    },
    {
     "name": "stdout",
     "output_type": "stream",
     "text": [
      "Train Loss: 0.6657862885355262, Validation Loss: 0.6852634041570588\n",
      "Best Validation Loss: 0.6852634041570588\n",
      "Epoch 30 of 50\n"
     ]
    },
    {
     "name": "stderr",
     "output_type": "stream",
     "text": [
      "100%|██████████| 30350/30350 [01:42<00:00, 295.92it/s]\n",
      "100%|██████████| 10117/10117 [00:14<00:00, 690.30it/s]\n"
     ]
    },
    {
     "name": "stdout",
     "output_type": "stream",
     "text": [
      "Train Loss: 0.6643395832751738, Validation Loss: 0.6889564336945037\n",
      "Best Validation Loss: 0.6852634041570588\n",
      "Epoch 31 of 50\n"
     ]
    },
    {
     "name": "stderr",
     "output_type": "stream",
     "text": [
      "100%|██████████| 30350/30350 [01:56<00:00, 260.55it/s]\n",
      "100%|██████████| 10117/10117 [00:15<00:00, 662.32it/s]\n"
     ]
    },
    {
     "name": "stdout",
     "output_type": "stream",
     "text": [
      "Train Loss: 0.6629917586290414, Validation Loss: 0.6908648633283507\n",
      "Best Validation Loss: 0.6852634041570588\n",
      "Epoch 32 of 50\n"
     ]
    },
    {
     "name": "stderr",
     "output_type": "stream",
     "text": [
      "100%|██████████| 30350/30350 [01:47<00:00, 282.19it/s]\n",
      "100%|██████████| 10117/10117 [00:16<00:00, 624.24it/s]\n"
     ]
    },
    {
     "name": "stdout",
     "output_type": "stream",
     "text": [
      "Train Loss: 0.6618764971726907, Validation Loss: 0.6869341177289413\n",
      "Best Validation Loss: 0.6852634041570588\n",
      "Epoch 33 of 50\n"
     ]
    },
    {
     "name": "stderr",
     "output_type": "stream",
     "text": [
      "100%|██████████| 30350/30350 [02:00<00:00, 252.68it/s]\n",
      "100%|██████████| 10117/10117 [00:17<00:00, 588.83it/s]\n"
     ]
    },
    {
     "name": "stdout",
     "output_type": "stream",
     "text": [
      "Train Loss: 0.6605769626455016, Validation Loss: 0.6852569230518711\n",
      "Best Validation Loss: 0.6852569230518711\n",
      "Epoch 34 of 50\n"
     ]
    },
    {
     "name": "stderr",
     "output_type": "stream",
     "text": [
      "100%|██████████| 30350/30350 [01:35<00:00, 316.59it/s]\n",
      "100%|██████████| 10117/10117 [00:12<00:00, 778.95it/s]\n"
     ]
    },
    {
     "name": "stdout",
     "output_type": "stream",
     "text": [
      "Train Loss: 0.6595391395167621, Validation Loss: 0.6829724178635769\n",
      "Best Validation Loss: 0.6829724178635769\n",
      "Epoch 35 of 50\n"
     ]
    },
    {
     "name": "stderr",
     "output_type": "stream",
     "text": [
      "100%|██████████| 30350/30350 [01:32<00:00, 327.49it/s]\n",
      "100%|██████████| 10117/10117 [00:14<00:00, 702.58it/s]\n"
     ]
    },
    {
     "name": "stdout",
     "output_type": "stream",
     "text": [
      "Train Loss: 0.6583480152705012, Validation Loss: 0.6890958193986002\n",
      "Best Validation Loss: 0.6829724178635769\n",
      "Epoch 36 of 50\n"
     ]
    },
    {
     "name": "stderr",
     "output_type": "stream",
     "text": [
      "100%|██████████| 30350/30350 [01:39<00:00, 304.90it/s]\n",
      "100%|██████████| 10117/10117 [00:14<00:00, 703.36it/s]\n"
     ]
    },
    {
     "name": "stdout",
     "output_type": "stream",
     "text": [
      "Train Loss: 0.6572570344475536, Validation Loss: 0.6815019263606528\n",
      "Best Validation Loss: 0.6815019263606528\n",
      "Epoch 37 of 50\n"
     ]
    },
    {
     "name": "stderr",
     "output_type": "stream",
     "text": [
      "100%|██████████| 30350/30350 [01:32<00:00, 327.06it/s]\n",
      "100%|██████████| 10117/10117 [00:12<00:00, 822.73it/s]\n"
     ]
    },
    {
     "name": "stdout",
     "output_type": "stream",
     "text": [
      "Train Loss: 0.6561707115366049, Validation Loss: 0.6861804363818476\n",
      "Best Validation Loss: 0.6815019263606528\n",
      "Epoch 38 of 50\n"
     ]
    },
    {
     "name": "stderr",
     "output_type": "stream",
     "text": [
      "100%|██████████| 30350/30350 [01:30<00:00, 333.77it/s]\n",
      "100%|██████████| 10117/10117 [00:12<00:00, 782.22it/s]\n"
     ]
    },
    {
     "name": "stdout",
     "output_type": "stream",
     "text": [
      "Train Loss: 0.6551692431146368, Validation Loss: 0.6813174233487134\n",
      "Best Validation Loss: 0.6813174233487134\n",
      "Epoch 39 of 50\n"
     ]
    },
    {
     "name": "stderr",
     "output_type": "stream",
     "text": [
      "100%|██████████| 30350/30350 [01:32<00:00, 328.76it/s]\n",
      "100%|██████████| 10117/10117 [00:12<00:00, 815.83it/s]\n"
     ]
    },
    {
     "name": "stdout",
     "output_type": "stream",
     "text": [
      "Train Loss: 0.654143845541326, Validation Loss: 0.6807664826926954\n",
      "Best Validation Loss: 0.6807664826926954\n",
      "Epoch 40 of 50\n"
     ]
    },
    {
     "name": "stderr",
     "output_type": "stream",
     "text": [
      "100%|██████████| 30350/30350 [01:32<00:00, 328.72it/s]\n",
      "100%|██████████| 10117/10117 [00:12<00:00, 795.76it/s]\n"
     ]
    },
    {
     "name": "stdout",
     "output_type": "stream",
     "text": [
      "Train Loss: 0.653442825090134, Validation Loss: 0.6813282321225729\n",
      "Best Validation Loss: 0.6807664826926954\n",
      "Epoch 41 of 50\n"
     ]
    },
    {
     "name": "stderr",
     "output_type": "stream",
     "text": [
      "100%|██████████| 30350/30350 [01:33<00:00, 325.43it/s]\n",
      "100%|██████████| 10117/10117 [00:12<00:00, 798.52it/s]\n"
     ]
    },
    {
     "name": "stdout",
     "output_type": "stream",
     "text": [
      "Train Loss: 0.6523578157560682, Validation Loss: 0.6797220424146088\n",
      "Best Validation Loss: 0.6797220424146088\n",
      "Epoch 42 of 50\n"
     ]
    },
    {
     "name": "stderr",
     "output_type": "stream",
     "text": [
      "100%|██████████| 30350/30350 [01:35<00:00, 316.60it/s]\n",
      "100%|██████████| 10117/10117 [00:12<00:00, 807.70it/s]\n"
     ]
    },
    {
     "name": "stdout",
     "output_type": "stream",
     "text": [
      "Train Loss: 0.6514294478172035, Validation Loss: 0.6820602599298329\n",
      "Best Validation Loss: 0.6797220424146088\n",
      "Epoch 43 of 50\n"
     ]
    },
    {
     "name": "stderr",
     "output_type": "stream",
     "text": [
      "100%|██████████| 30350/30350 [01:33<00:00, 323.73it/s]\n",
      "100%|██████████| 10117/10117 [00:12<00:00, 824.67it/s]\n"
     ]
    },
    {
     "name": "stdout",
     "output_type": "stream",
     "text": [
      "Train Loss: 0.6505952295684294, Validation Loss: 0.6796445548924708\n",
      "Best Validation Loss: 0.6796445548924708\n",
      "Epoch 44 of 50\n"
     ]
    },
    {
     "name": "stderr",
     "output_type": "stream",
     "text": [
      "100%|██████████| 30350/30350 [01:31<00:00, 331.47it/s]\n",
      "100%|██████████| 10117/10117 [00:14<00:00, 707.80it/s]\n"
     ]
    },
    {
     "name": "stdout",
     "output_type": "stream",
     "text": [
      "Train Loss: 0.6497122811092773, Validation Loss: 0.6804861786355612\n",
      "Best Validation Loss: 0.6796445548924708\n",
      "Epoch 45 of 50\n"
     ]
    },
    {
     "name": "stderr",
     "output_type": "stream",
     "text": [
      "100%|██████████| 30350/30350 [01:36<00:00, 314.58it/s]\n",
      "100%|██████████| 10117/10117 [00:12<00:00, 816.63it/s]\n"
     ]
    },
    {
     "name": "stdout",
     "output_type": "stream",
     "text": [
      "Train Loss: 0.6488690782572822, Validation Loss: 0.6827470049666353\n",
      "Best Validation Loss: 0.6796445548924708\n",
      "Epoch 46 of 50\n"
     ]
    },
    {
     "name": "stderr",
     "output_type": "stream",
     "text": [
      "100%|██████████| 30350/30350 [01:56<00:00, 259.93it/s]\n",
      "100%|██████████| 10117/10117 [00:13<00:00, 732.59it/s]\n"
     ]
    },
    {
     "name": "stdout",
     "output_type": "stream",
     "text": [
      "Train Loss: 0.6481051689162973, Validation Loss: 0.6779381349296912\n",
      "Best Validation Loss: 0.6779381349296912\n",
      "Epoch 47 of 50\n"
     ]
    },
    {
     "name": "stderr",
     "output_type": "stream",
     "text": [
      "100%|██████████| 30350/30350 [01:39<00:00, 306.38it/s]\n",
      "100%|██████████| 10117/10117 [00:13<00:00, 764.27it/s]\n"
     ]
    },
    {
     "name": "stdout",
     "output_type": "stream",
     "text": [
      "Train Loss: 0.6474209205841851, Validation Loss: 0.6791270566439398\n",
      "Best Validation Loss: 0.6779381349296912\n",
      "Epoch 48 of 50\n"
     ]
    },
    {
     "name": "stderr",
     "output_type": "stream",
     "text": [
      "100%|██████████| 30350/30350 [01:34<00:00, 319.50it/s]\n",
      "100%|██████████| 10117/10117 [00:13<00:00, 775.77it/s]\n"
     ]
    },
    {
     "name": "stdout",
     "output_type": "stream",
     "text": [
      "Train Loss: 0.6468479179420326, Validation Loss: 0.6793247973374242\n",
      "Best Validation Loss: 0.6779381349296912\n",
      "Epoch 49 of 50\n"
     ]
    },
    {
     "name": "stderr",
     "output_type": "stream",
     "text": [
      "100%|██████████| 30350/30350 [01:47<00:00, 282.20it/s]\n",
      "100%|██████████| 10117/10117 [00:14<00:00, 693.36it/s]\n"
     ]
    },
    {
     "name": "stdout",
     "output_type": "stream",
     "text": [
      "Train Loss: 0.6459965191730582, Validation Loss: 0.6807471138376474\n",
      "Best Validation Loss: 0.6779381349296912\n",
      "Epoch 50 of 50\n"
     ]
    },
    {
     "name": "stderr",
     "output_type": "stream",
     "text": [
      "100%|██████████| 30350/30350 [01:49<00:00, 276.58it/s]\n",
      "100%|██████████| 10117/10117 [00:15<00:00, 657.32it/s]"
     ]
    },
    {
     "name": "stdout",
     "output_type": "stream",
     "text": [
      "Train Loss: 0.6454481828606747, Validation Loss: 0.6788011151430835\n",
      "Best Validation Loss: 0.6779381349296912\n"
     ]
    },
    {
     "name": "stderr",
     "output_type": "stream",
     "text": [
      "\n"
     ]
    }
   ],
   "source": [
    "train(train_loader, valid_loader, model, criterion, optimizer,\n",
    "      device, num_epochs, lstm_model_path)"
   ]
  },
  {
   "cell_type": "code",
   "execution_count": 64,
   "id": "f1882978",
   "metadata": {
    "id": "f1882978"
   },
   "outputs": [
    {
     "name": "stderr",
     "output_type": "stream",
     "text": [
      "100%|██████████| 10117/10117 [00:19<00:00, 530.93it/s]"
     ]
    },
    {
     "name": "stdout",
     "output_type": "stream",
     "text": [
      "Test Loss: 0.6795250973896664, Test Accuracy: 0.770104679100676\n"
     ]
    },
    {
     "name": "stderr",
     "output_type": "stream",
     "text": [
      "\n"
     ]
    }
   ],
   "source": [
    "test(test_loader, model, criterion, device)"
   ]
  },
  {
   "cell_type": "markdown",
   "id": "8a74eb71",
   "metadata": {
    "id": "8a74eb71"
   },
   "source": [
    "## Predict on new text\n",
    "---"
   ]
  },
  {
   "cell_type": "code",
   "execution_count": 65,
   "id": "ff13ab78",
   "metadata": {
    "id": "ff13ab78"
   },
   "outputs": [],
   "source": [
    "input_text = '''I am a victim of Identity Theft & currently have an Experian account that \n",
    "I can view my Experian Credit Report and getting notified when there is activity on \n",
    "my Experian Credit Report. For the past 3 days I've spent a total of approximately 9 \n",
    "hours on the phone with Experian. Every time I call I get transferred repeatedly and \n",
    "then my last transfer and automated message states to press 1 and leave a message and \n",
    "someone would call me. Every time I press 1 I get an automatic message stating than you \n",
    "before I even leave a message and get disconnected. I call Experian again, explain what \n",
    "is happening and the process begins again with the same end result. I was trying to have \n",
    "this issue attended and resolved informally but I give up after 9 hours. There are hard \n",
    "hit inquiries on my Experian Credit Report that are fraud, I didn't authorize, or recall \n",
    "and I respectfully request that Experian remove the hard hit inquiries immediately just \n",
    "like they've done in the past when I was able to speak to a live Experian representative \n",
    "in the United States. The following are the hard hit inquiries : BK OF XXXX XX/XX/XXXX \n",
    "XXXX XXXX XXXX  XX/XX/XXXX XXXX  XXXX XXXX  XX/XX/XXXX XXXX  XX/XX/XXXX XXXX  XXXX \n",
    "XX/XX/XXXX'''"
   ]
  },
  {
   "cell_type": "markdown",
   "id": "678d4e28",
   "metadata": {
    "id": "678d4e28"
   },
   "source": [
    "### Process input text"
   ]
  },
  {
   "cell_type": "code",
   "execution_count": 66,
   "id": "1dded0d3",
   "metadata": {
    "id": "1dded0d3"
   },
   "outputs": [
    {
     "name": "stdout",
     "output_type": "stream",
     "text": [
      "i am a victim of identity theft currently have an experian account that \n",
      "i can view my experian credit report and getting notified when there is activity on \n",
      "my experian credit report for the past days i've spent a total of approximately \n",
      "hours on the phone with experian every time i call i get transferred repeatedly and \n",
      "then my last transfer and automated message states to press and leave a message and \n",
      "someone would call me every time i press i get an automatic message stating than you \n",
      "before i even leave a message and get disconnected i call experian again explain what \n",
      "is happening and the process begins again with the same end result i was trying to have \n",
      "this issue attended and resolved informally but i give up after hours there are hard \n",
      "hit inquiries on my experian credit report that are fraud i didn't authorize or recall \n",
      "and i respectfully request that experian remove the hard hit inquiries immediately just \n",
      "like they've done in the past when i was able to speak to a live experian representative \n",
      "in the united states the following are the hard hit inquiries bk of \n",
      " \n",
      " \n",
      "['i', 'am', 'a', 'victim', 'of', 'identity', 'theft', 'currently', 'have', 'an', 'experian', 'account', 'that', 'i', 'can', 'view', 'my', 'experian', 'credit', 'report', 'and', 'getting', 'notified', 'when', 'there', 'is', 'activity', 'on', 'my', 'experian', 'credit', 'report', 'for', 'the', 'past', 'days', 'i', \"'ve\", 'spent', 'a', 'total', 'of', 'approximately', 'hours', 'on', 'the', 'phone', 'with', 'experian', 'every', 'time', 'i', 'call', 'i', 'get', 'transferred', 'repeatedly', 'and', 'then', 'my', 'last', 'transfer', 'and', 'automated', 'message', 'states', 'to', 'press', 'and', 'leave', 'a', 'message', 'and', 'someone', 'would', 'call', 'me', 'every', 'time', 'i', 'press', 'i', 'get', 'an', 'automatic', 'message', 'stating', 'than', 'you', 'before', 'i', 'even', 'leave', 'a', 'message', 'and', 'get', 'disconnected', 'i', 'call', 'experian', 'again', 'explain', 'what', 'is', 'happening', 'and', 'the', 'process', 'begins', 'again', 'with', 'the', 'same', 'end', 'result', 'i', 'was', 'trying', 'to', 'have', 'this', 'issue', 'attended', 'and', 'resolved', 'informally', 'but', 'i', 'give', 'up', 'after', 'hours', 'there', 'are', 'hard', 'hit', 'inquiries', 'on', 'my', 'experian', 'credit', 'report', 'that', 'are', 'fraud', 'i', 'did', \"n't\", 'authorize', 'or', 'recall', 'and', 'i', 'respectfully', 'request', 'that', 'experian', 'remove', 'the', 'hard', 'hit', 'inquiries', 'immediately', 'just', 'like', 'they', \"'ve\", 'done', 'in', 'the', 'past', 'when', 'i', 'was', 'able', 'to', 'speak', 'to', 'a', 'live', 'experian', 'representative', 'in', 'the', 'united', 'states', 'the', 'following', 'are', 'the', 'hard', 'hit', 'inquiries', 'bk', 'of']\n"
     ]
    }
   ],
   "source": [
    "from nltk.corpus import stopwords\n",
    "input_text = input_text.lower()\n",
    "input_text = re.sub(r\"[^\\w\\d'\\s]+\", \" \", input_text)\n",
    "input_text = re.sub(\"\\d+\", \"\", input_text)\n",
    "input_text = re.sub(r'[x]{2,}', \"\", input_text)\n",
    "input_text = re.sub(' +', ' ', input_text)\n",
    "print(input_text)\n",
    "tokens = word_tokenize(input_text)\n",
    "print(tokens)"
   ]
  },
  {
   "cell_type": "markdown",
   "id": "d09d91b1",
   "metadata": {
    "id": "d09d91b1"
   },
   "source": [
    "### Add padding if the length of tokens is less than 20"
   ]
  },
  {
   "cell_type": "code",
   "execution_count": 67,
   "id": "7ba95fe0",
   "metadata": {
    "id": "7ba95fe0"
   },
   "outputs": [],
   "source": [
    "tokens = ['<pad>']*(20-len(tokens))+tokens"
   ]
  },
  {
   "cell_type": "markdown",
   "id": "82fbbab5",
   "metadata": {
    "id": "82fbbab5"
   },
   "source": [
    "### Tokenize the input text"
   ]
  },
  {
   "cell_type": "code",
   "execution_count": 68,
   "id": "821fb5de",
   "metadata": {
    "id": "821fb5de"
   },
   "outputs": [],
   "source": [
    "idx_token = []\n",
    "for token in tokens:\n",
    "    if token in vocabulary:\n",
    "        idx_token.append(vocabulary.index(token))\n",
    "    else:\n",
    "        idx_token.append(vocabulary.index('<unk>'))"
   ]
  },
  {
   "cell_type": "markdown",
   "id": "540cb058",
   "metadata": {
    "id": "540cb058"
   },
   "source": [
    "### Get embeddings for tokens"
   ]
  },
  {
   "cell_type": "code",
   "execution_count": 69,
   "id": "1d6cc01c",
   "metadata": {
    "id": "1d6cc01c"
   },
   "outputs": [],
   "source": [
    "token_emb = embeddings[idx_token,:]"
   ]
  },
  {
   "cell_type": "markdown",
   "id": "de584626",
   "metadata": {
    "id": "de584626"
   },
   "source": [
    "### Convert to torch tensor"
   ]
  },
  {
   "cell_type": "code",
   "execution_count": 70,
   "id": "780d42e4",
   "metadata": {
    "id": "780d42e4"
   },
   "outputs": [],
   "source": [
    "inp = torch.from_numpy(token_emb)"
   ]
  },
  {
   "cell_type": "markdown",
   "id": "e91e281c",
   "metadata": {
    "id": "e91e281c"
   },
   "source": [
    "### Move the tensor to GPU if available"
   ]
  },
  {
   "cell_type": "code",
   "execution_count": 71,
   "id": "f15e636d",
   "metadata": {
    "id": "f15e636d"
   },
   "outputs": [],
   "source": [
    "inp = inp.to(device)"
   ]
  },
  {
   "cell_type": "markdown",
   "id": "ebed4640",
   "metadata": {
    "id": "ebed4640"
   },
   "source": [
    "### Create a batch of one record"
   ]
  },
  {
   "cell_type": "code",
   "execution_count": 72,
   "id": "5c3865b5",
   "metadata": {
    "id": "5c3865b5"
   },
   "outputs": [],
   "source": [
    "inp = torch.unsqueeze(inp, 0)"
   ]
  },
  {
   "cell_type": "markdown",
   "id": "e2cc919d",
   "metadata": {
    "id": "e2cc919d"
   },
   "source": [
    "### Load label encoder"
   ]
  },
  {
   "cell_type": "code",
   "execution_count": 73,
   "id": "92a17e27",
   "metadata": {
    "id": "92a17e27"
   },
   "outputs": [],
   "source": [
    "label_encoder = load_file(label_encoder_path)\n",
    "num_classes = len(label_encoder.classes_)"
   ]
  },
  {
   "cell_type": "code",
   "execution_count": 74,
   "id": "07dd7955",
   "metadata": {
    "id": "07dd7955"
   },
   "outputs": [],
   "source": [
    "device = torch.device(\"cuda:0\" if torch.cuda.is_available() else \"cpu\")"
   ]
  },
  {
   "cell_type": "markdown",
   "id": "cdbe841b",
   "metadata": {
    "id": "cdbe841b"
   },
   "source": [
    "### RNN prediction"
   ]
  },
  {
   "cell_type": "code",
   "execution_count": 75,
   "id": "1a23eb5c",
   "metadata": {
    "id": "1a23eb5c"
   },
   "outputs": [
    {
     "name": "stdout",
     "output_type": "stream",
     "text": [
      "Predicted  Class: credit_report\n"
     ]
    },
    {
     "name": "stderr",
     "output_type": "stream",
     "text": [
      "/var/folders/mt/9c3gnzwj2qv4fxr3pyj11xqc0000gq/T/ipykernel_94240/954759120.py:5: FutureWarning: You are using `torch.load` with `weights_only=False` (the current default value), which uses the default pickle module implicitly. It is possible to construct malicious pickle data which will execute arbitrary code during unpickling (See https://github.com/pytorch/pytorch/blob/main/SECURITY.md#untrusted-models for more details). In a future release, the default value for `weights_only` will be flipped to `True`. This limits the functions that could be executed during unpickling. Arbitrary objects will no longer be allowed to be loaded via this mode unless they are explicitly allowlisted by the user via `torch.serialization.add_safe_globals`. We recommend you start setting `weights_only=True` for any use case where you don't have full control of the loaded file. Please open an issue on GitHub for any issues related to this experimental feature.\n",
      "  model.load_state_dict(torch.load(rnn_model_path))\n"
     ]
    }
   ],
   "source": [
    "# Create model object\n",
    "model = RNNNetwork(input_size, hidden_size, num_classes)\n",
    "\n",
    "# Load trained weights\n",
    "model.load_state_dict(torch.load(rnn_model_path))\n",
    "\n",
    "# Move the model to GPU if available\n",
    "if torch.cuda.is_available():\n",
    "    model = model.cuda()\n",
    "    \n",
    "# Forward pass\n",
    "out = torch.squeeze(model(inp))\n",
    "\n",
    "# Find predicted class\n",
    "prediction = label_encoder.classes_[torch.argmax(out)]\n",
    "print(f\"Predicted  Class: {prediction}\")"
   ]
  },
  {
   "cell_type": "markdown",
   "id": "1426d72f",
   "metadata": {
    "id": "1426d72f"
   },
   "source": [
    "### LSTM prediction"
   ]
  },
  {
   "cell_type": "code",
   "execution_count": 76,
   "id": "db3cce1e",
   "metadata": {
    "id": "db3cce1e"
   },
   "outputs": [
    {
     "name": "stdout",
     "output_type": "stream",
     "text": [
      "Predicted  Class: credit_report\n"
     ]
    },
    {
     "name": "stderr",
     "output_type": "stream",
     "text": [
      "/var/folders/mt/9c3gnzwj2qv4fxr3pyj11xqc0000gq/T/ipykernel_94240/1662956454.py:5: FutureWarning: You are using `torch.load` with `weights_only=False` (the current default value), which uses the default pickle module implicitly. It is possible to construct malicious pickle data which will execute arbitrary code during unpickling (See https://github.com/pytorch/pytorch/blob/main/SECURITY.md#untrusted-models for more details). In a future release, the default value for `weights_only` will be flipped to `True`. This limits the functions that could be executed during unpickling. Arbitrary objects will no longer be allowed to be loaded via this mode unless they are explicitly allowlisted by the user via `torch.serialization.add_safe_globals`. We recommend you start setting `weights_only=True` for any use case where you don't have full control of the loaded file. Please open an issue on GitHub for any issues related to this experimental feature.\n",
      "  model.load_state_dict(torch.load(lstm_model_path))\n"
     ]
    }
   ],
   "source": [
    "# Create model object\n",
    "model = LSTMNetwork(input_size, hidden_size, num_classes)\n",
    "\n",
    "# Load trained weights\n",
    "model.load_state_dict(torch.load(lstm_model_path))\n",
    "\n",
    "# Move the model to GPU if available\n",
    "if torch.cuda.is_available():\n",
    "    model = model.cuda()\n",
    "    \n",
    "# Forward pass\n",
    "out = torch.squeeze(model(inp))\n",
    "\n",
    "# Find predicted class\n",
    "prediction = label_encoder.classes_[torch.argmax(out)]\n",
    "print(f\"Predicted  Class: {prediction}\")"
   ]
  },
  {
   "cell_type": "code",
   "execution_count": null,
   "id": "290e2616",
   "metadata": {
    "id": "290e2616"
   },
   "outputs": [],
   "source": []
  },
  {
   "cell_type": "code",
   "execution_count": null,
   "id": "d84a0c33",
   "metadata": {},
   "outputs": [],
   "source": []
  }
 ],
 "metadata": {
  "colab": {
   "collapsed_sections": [
    "99dbd776",
    "42b3b07a",
    "f567f06f",
    "86dffa9a",
    "a70b83e2",
    "6b1714dc",
    "fc16fc63",
    "e2fd241b",
    "54188fc7",
    "03cce62f",
    "7fa2608b",
    "6dea776b",
    "934505ad",
    "5c312593",
    "be6561df",
    "ab9c8712",
    "8b77dedc",
    "550fc77e",
    "e752fd29",
    "2ad46f7e",
    "171cc1be",
    "030610ea",
    "af02c4c2",
    "7c88a3f8",
    "1deebde4",
    "7f90ad48",
    "678d4e28",
    "d09d91b1",
    "82fbbab5",
    "540cb058",
    "de584626",
    "e91e281c",
    "ebed4640",
    "e2cc919d",
    "cdbe841b",
    "1426d72f"
   ],
   "name": "RNN.ipynb",
   "provenance": []
  },
  "kernelspec": {
   "display_name": ".venv",
   "language": "python",
   "name": "python3"
  },
  "language_info": {
   "codemirror_mode": {
    "name": "ipython",
    "version": 3
   },
   "file_extension": ".py",
   "mimetype": "text/x-python",
   "name": "python",
   "nbconvert_exporter": "python",
   "pygments_lexer": "ipython3",
   "version": "3.11.10"
  }
 },
 "nbformat": 4,
 "nbformat_minor": 5
}
