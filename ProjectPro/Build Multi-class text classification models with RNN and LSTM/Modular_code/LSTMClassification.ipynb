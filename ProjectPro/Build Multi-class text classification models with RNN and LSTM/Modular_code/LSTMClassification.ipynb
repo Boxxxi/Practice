{
 "cells": [
  {
   "cell_type": "code",
   "execution_count": 47,
   "metadata": {},
   "outputs": [
    {
     "name": "stderr",
     "output_type": "stream",
     "text": [
      "[nltk_data] Downloading package punkt_tab to\n",
      "[nltk_data]     /Users/abhishek/nltk_data...\n",
      "[nltk_data]   Package punkt_tab is already up-to-date!\n"
     ]
    }
   ],
   "source": [
    "# import the required libraries\n",
    "import re\n",
    "import torch\n",
    "import pickle\n",
    "from datetime import datetime, timedelta\n",
    "import numpy as np\n",
    "import pandas as pd\n",
    "from tqdm import tqdm\n",
    "from nltk.tokenize import word_tokenize\n",
    "from sklearn.metrics import accuracy_score\n",
    "from sklearn.preprocessing import LabelEncoder\n",
    "from sklearn.model_selection import train_test_split\n",
    "\n",
    "import nltk\n",
    "nltk.download('punkt_tab')\n",
    "\n",
    "from importlib import reload as r\n",
    "import config as cfg\n",
    "import processing as prep\n",
    "import Source.utils as utils\n",
    "import Source.multiplethreading as mt\n",
    "import Source.model as modeller\n",
    "import Source.data as creator"
   ]
  },
  {
   "cell_type": "code",
   "execution_count": 48,
   "metadata": {},
   "outputs": [],
   "source": [
    "acc_labels = 'Output/label_encoder_accounttype_20241108.pkl'\n",
    "sms_labels = 'Output/label_encoder_smstype20241108.pkl'\n",
    "smssub_labels = 'Output/label_encoder_smssubtype_2024110819.pkl'\n",
    "transactiontype_labels = 'Output/label_encoder_transactiontype_2024110915.pkl'\n",
    "transactionchannel_labels = 'Output/label_encoder_transactionchannel_2024111015.pkl'\n"
   ]
  },
  {
   "cell_type": "code",
   "execution_count": 49,
   "metadata": {},
   "outputs": [],
   "source": [
    "import pickle\n",
    "encoders = []\n",
    "\n",
    "for url in [acc_labels, sms_labels, smssub_labels, transactionchannel_labels, transactiontype_labels]:\n",
    "    encoders.append(pickle.load(open(url, 'rb')))"
   ]
  },
  {
   "cell_type": "code",
   "execution_count": 50,
   "metadata": {},
   "outputs": [
    {
     "name": "stdout",
     "output_type": "stream",
     "text": [
      "48\n",
      "8\n",
      "77\n",
      "16\n",
      "37\n"
     ]
    }
   ],
   "source": [
    "for ec in encoders:\n",
    "    print(len(ec.classes_))"
   ]
  },
  {
   "cell_type": "code",
   "execution_count": 51,
   "metadata": {},
   "outputs": [
    {
     "data": {
      "text/plain": [
       "15"
      ]
     },
     "execution_count": 51,
     "metadata": {},
     "output_type": "execute_result"
    }
   ],
   "source": [
    "len(list(set([x.lower() for x in _classes])))"
   ]
  },
  {
   "cell_type": "code",
   "execution_count": 52,
   "metadata": {},
   "outputs": [
    {
     "data": {
      "text/plain": [
       "{'aeps': 0,\n",
       " 'unknown': 1,\n",
       " 'upi': 2,\n",
       " 'imps': 3,\n",
       " 'cheque': 4,\n",
       " 'credit-card': 5,\n",
       " 'debit-card': 6,\n",
       " 'other': 7,\n",
       " 'pos': 8,\n",
       " 'pos-machine': 9,\n",
       " 'cash-pickup': 10,\n",
       " 'online-transfer': 11,\n",
       " 'net-banking': 12,\n",
       " 'netbanking': 13,\n",
       " 'auto-debit': 14}"
      ]
     },
     "execution_count": 52,
     "metadata": {},
     "output_type": "execute_result"
    }
   ],
   "source": [
    "_classes = list(set(encoders[3].classes_))\n",
    "\n",
    "_classes = [x for x in _classes if x != 'nan']\n",
    "\n",
    "{str(_class).lower(): i for i, _class in enumerate(_classes)}"
   ]
  },
  {
   "cell_type": "code",
   "execution_count": 53,
   "metadata": {},
   "outputs": [],
   "source": [
    "r(cfg)\n",
    "RANDOM_STATE = cfg.RANDOM_STATE\n",
    "PADDING_LENGTH = cfg.PADDING_LENGTH\n",
    "LEARNING_RATE = cfg.LEARNING_RATE\n",
    "INPUT_SIZE = cfg.INPUT_SIZE\n",
    "NUM_EPOCHS = cfg.NUM_EPOCHS\n",
    "HIDDEN_SIZE = cfg.HIDDEN_SIZE\n",
    "\n",
    "CURRENT_DATETIME = datetime.now().strftime(\"%Y%m%d%H\")\n",
    "DATA_PATH = \"Input/000.parquet\"\n",
    "GLOVE_VECTOR_PATH = cfg.GLOVE_VECTOR_PATH\n",
    "DATA_S3_PATH = cfg.DATA_S3_PATH\n",
    "PRIMARY_LABEL = cfg.PRIMARY_LABEL\n",
    "SECONDARY_LABEL1 = cfg.SECONDARY_LABEL1\n",
    "TERTIARY_LABEL1 = cfg.TERTIARY_LABEL1\n",
    "TERTIARY_LABEL2 = cfg.TERTIARY_LABEL2\n",
    "TERTIARY_LABEL3 = cfg.TERTIARY_LABEL3\n",
    "\n",
    "TEXT_COLUMN = cfg.TEXT_COLUMN\n",
    "\n",
    "label = PRIMARY_LABEL\n",
    "SUFFIX = f'_{label}_{CURRENT_DATETIME}'\n",
    "\n",
    "EMBEDDINGS_PATH = cfg.EMBEDDINGS_PATH.format(SUFFIX)\n",
    "EMBEDDINGS_V2_PATH = cfg.EMBEDDINGS_V2_PATH.format(SUFFIX)\n",
    "VOCABULARY_PATH = cfg.VOCABULARY_PATH.format(SUFFIX)\n",
    "TOKENS_PATH = cfg.TOKENS_PATH.format(SUFFIX)\n",
    "LABELS_PATH = cfg.LABELS_PATH.format(SUFFIX)\n",
    "RNN_MODEL_PATH = cfg.RNN_MODEL_PATH.format(SUFFIX)\n",
    "LSTM_MODEL_PATH = cfg.LSTM_MODEL_PATH.format(SUFFIX)\n",
    "LABEL_ENCODER_PATH = cfg.LABEL_ENCODER_PATH.format(SUFFIX)"
   ]
  },
  {
   "cell_type": "markdown",
   "metadata": {},
   "source": [
    "## Process glove embeddings\n",
    "---"
   ]
  },
  {
   "cell_type": "code",
   "execution_count": 54,
   "metadata": {},
   "outputs": [
    {
     "data": {
      "text/plain": [
       "400000"
      ]
     },
     "execution_count": 54,
     "metadata": {},
     "output_type": "execute_result"
    }
   ],
   "source": [
    "# open the glove embeddings file and read\n",
    "with open(GLOVE_VECTOR_PATH, \"rt\") as f:\n",
    "    emb = f.readlines()\n",
    "\n",
    "len(emb)"
   ]
  },
  {
   "cell_type": "code",
   "execution_count": 56,
   "metadata": {},
   "outputs": [],
   "source": [
    "# emb"
   ]
  },
  {
   "cell_type": "code",
   "execution_count": 264,
   "metadata": {},
   "outputs": [
    {
     "data": {
      "text/plain": [
       "'the 0.418 0.24968 -0.41242 0.1217 0.34527 -0.044457 -0.49688 -0.17862 -0.00066023 -0.6566 0.27843 -0.14767 -0.55677 0.14658 -0.0095095 0.011658 0.10204 -0.12792 -0.8443 -0.12181 -0.016801 -0.33279 -0.1552 -0.23131 -0.19181 -1.8823 -0.76746 0.099051 -0.42125 -0.19526 4.0071 -0.18594 -0.52287 -0.31681 0.00059213 0.0074449 0.17778 -0.15897 0.012041 -0.054223 -0.29871 -0.15749 -0.34758 -0.045637 -0.44251 0.18785 0.0027849 -0.18411 -0.11514 -0.78581\\n'"
      ]
     },
     "execution_count": 264,
     "metadata": {},
     "output_type": "execute_result"
    }
   ],
   "source": [
    "emb[0]"
   ]
  },
  {
   "cell_type": "code",
   "execution_count": 265,
   "metadata": {},
   "outputs": [
    {
     "name": "stderr",
     "output_type": "stream",
     "text": [
      "400000it [00:05, 73619.40it/s]\n"
     ]
    }
   ],
   "source": [
    "vocabulary, embeddings = {}, {}\n",
    "\n",
    "for i, item in tqdm(enumerate(emb)):\n",
    "    _word, _embedding = item.split()[0], item.split()[1:]\n",
    "    vocabulary[_word] = i\n",
    "    embeddings[i] = np.array(_embedding, dtype=np.float32)\n",
    "\n",
    "vocabulary[\"<unk>\"] = max(vocabulary.values()) + 1\n",
    "embeddings[vocabulary[\"<unk>\"]] = np.mean(np.array(list(embeddings.values()), dtype=np.float32), axis=0)\n",
    "\n",
    "vocabulary[\"<pad>\"] = vocabulary[\"<unk>\"] + 1\n",
    "embeddings[vocabulary[\"<pad>\"]] = np.ones(50, dtype=np.float32)"
   ]
  },
  {
   "cell_type": "code",
   "execution_count": 266,
   "metadata": {},
   "outputs": [],
   "source": [
    "# embeddings = np.array(embeddings, dtype=np.float32)\n",
    "# embeddings.shape"
   ]
  },
  {
   "cell_type": "code",
   "execution_count": 267,
   "metadata": {},
   "outputs": [],
   "source": [
    "# vocabulary = [\"<pad>\", \"<unk>\"] + vocabulary"
   ]
  },
  {
   "cell_type": "code",
   "execution_count": 268,
   "metadata": {},
   "outputs": [],
   "source": [
    "# embeddings = np.vstack([np.ones(50, dtype=np.float32), np.mean(embeddings, axis=0), embeddings])\n",
    "# print(len(vocabulary), embeddings.shape)"
   ]
  },
  {
   "cell_type": "code",
   "execution_count": 269,
   "metadata": {},
   "outputs": [],
   "source": [
    "# EMBEDDINGS[\"<pad>\"] = np.ones(50, dtype=np.float32)\n",
    "# EMBEDDINGS[\"<unk>\"] = np.mean(list(EMBEDDINGS.values()), axis=0)"
   ]
  },
  {
   "cell_type": "code",
   "execution_count": 270,
   "metadata": {},
   "outputs": [],
   "source": [
    "utils.save_file(EMBEDDINGS_PATH, embeddings)\n",
    "utils.save_file(VOCABULARY_PATH, vocabulary)\n",
    "# utils.save_file(EMBEDDINGS_V2_PATH, EMBEDDINGS)"
   ]
  },
  {
   "cell_type": "code",
   "execution_count": 271,
   "metadata": {},
   "outputs": [
    {
     "data": {
      "text/plain": [
       "pandas.io.parsers.readers.TextFileReader"
      ]
     },
     "execution_count": 271,
     "metadata": {},
     "output_type": "execute_result"
    }
   ],
   "source": [
    "SAMPLE_SIZE = 500000\n",
    "\n",
    "chunks = pd.read_csv(DATA_S3_PATH, chunksize=SAMPLE_SIZE, low_memory=False)\n",
    "type(chunks)"
   ]
  },
  {
   "cell_type": "code",
   "execution_count": 272,
   "metadata": {},
   "outputs": [
    {
     "name": "stderr",
     "output_type": "stream",
     "text": [
      "4it [00:57, 14.30s/it]\n"
     ]
    },
    {
     "data": {
      "text/plain": [
       "(16, (325646, 28))"
      ]
     },
     "execution_count": 272,
     "metadata": {},
     "output_type": "execute_result"
    }
   ],
   "source": [
    "all_primary_labels = set()\n",
    "sample_data_list = []\n",
    "\n",
    "for chunk in tqdm(chunks):\n",
    "    all_primary_labels = all_primary_labels.union(set(chunk[label].unique().tolist()))\n",
    "    sample_data_list.append(chunk.sample(frac=0.2))\n",
    "\n",
    "sample_data = pd.concat(sample_data_list)\n",
    "len(all_primary_labels), sample_data.shape"
   ]
  },
  {
   "cell_type": "code",
   "execution_count": 273,
   "metadata": {},
   "outputs": [],
   "source": [
    "sample_data.dropna(subset=[TEXT_COLUMN], inplace=True)"
   ]
  },
  {
   "cell_type": "code",
   "execution_count": 274,
   "metadata": {},
   "outputs": [
    {
     "data": {
      "text/plain": [
       "(325646, 28)"
      ]
     },
     "execution_count": 274,
     "metadata": {},
     "output_type": "execute_result"
    }
   ],
   "source": [
    "sample_data.shape"
   ]
  },
  {
   "cell_type": "code",
   "execution_count": 275,
   "metadata": {},
   "outputs": [
    {
     "data": {
      "text/plain": [
       "15"
      ]
     },
     "execution_count": 275,
     "metadata": {},
     "output_type": "execute_result"
    }
   ],
   "source": [
    "sample_data[label].nunique()"
   ]
  },
  {
   "cell_type": "code",
   "execution_count": 276,
   "metadata": {},
   "outputs": [],
   "source": [
    "label_encoder = LabelEncoder()\n",
    "label_encoder.fit(list(all_primary_labels))\n",
    "labels = label_encoder.transform(sample_data[label])"
   ]
  },
  {
   "cell_type": "code",
   "execution_count": 277,
   "metadata": {},
   "outputs": [
    {
     "data": {
      "text/plain": [
       "np.int64(11)"
      ]
     },
     "execution_count": 277,
     "metadata": {},
     "output_type": "execute_result"
    }
   ],
   "source": [
    "labels[0]"
   ]
  },
  {
   "cell_type": "code",
   "execution_count": 278,
   "metadata": {},
   "outputs": [
    {
     "data": {
      "text/plain": [
       "array(['aeps', 'auto-debit', 'cash-pickup', 'cheque', 'credit-card',\n",
       "       'debit-card', 'imps', 'nan', 'net-banking', 'netbanking',\n",
       "       'online-transfer', 'other', 'pos', 'pos-machine', 'unknown', 'upi'],\n",
       "      dtype='<U32')"
      ]
     },
     "execution_count": 278,
     "metadata": {},
     "output_type": "execute_result"
    }
   ],
   "source": [
    "label_encoder.classes_"
   ]
  },
  {
   "cell_type": "code",
   "execution_count": 279,
   "metadata": {},
   "outputs": [],
   "source": [
    "utils.save_file(LABELS_PATH, labels)\n",
    "utils.save_file(LABEL_ENCODER_PATH, label_encoder)"
   ]
  },
  {
   "cell_type": "code",
   "execution_count": 280,
   "metadata": {},
   "outputs": [
    {
     "name": "stderr",
     "output_type": "stream",
     "text": [
      "100%|██████████| 325646/325646 [00:00<00:00, 1976774.57it/s]\n",
      "100%|██████████| 325646/325646 [00:01<00:00, 174293.41it/s]\n",
      "100%|██████████| 325646/325646 [00:01<00:00, 302666.38it/s]\n",
      "100%|██████████| 325646/325646 [00:00<00:00, 648592.36it/s]\n",
      "100%|██████████| 325646/325646 [00:01<00:00, 236353.18it/s]\n"
     ]
    }
   ],
   "source": [
    "input_text = sample_data[TEXT_COLUMN]\n",
    "input_text = [i.lower() for i in tqdm(input_text)]\n",
    "input_text = [re.sub(r\"[^\\w\\d'\\s]+\", \" \", i) for i in tqdm(input_text)]\n",
    "input_text = [re.sub(\"\\d+\", \"\", i) for i in tqdm(input_text)]\n",
    "input_text = [re.sub(r'[x]{2,}', \"\", i) for i in tqdm(input_text)]\n",
    "input_text = [re.sub(' +', ' ', i) for i in tqdm(input_text)]"
   ]
  },
  {
   "cell_type": "code",
   "execution_count": 281,
   "metadata": {},
   "outputs": [
    {
     "name": "stderr",
     "output_type": "stream",
     "text": [
      "100%|██████████| 325646/325646 [00:26<00:00, 12394.84it/s]\n"
     ]
    }
   ],
   "source": [
    "tokens = [word_tokenize(t) for t in tqdm(input_text)]"
   ]
  },
  {
   "cell_type": "code",
   "execution_count": 282,
   "metadata": {},
   "outputs": [
    {
     "name": "stderr",
     "output_type": "stream",
     "text": [
      "100%|██████████| 325646/325646 [00:03<00:00, 85158.20it/s] \n"
     ]
    }
   ],
   "source": [
    "tokens = [i[:PADDING_LENGTH] if len(i) > PADDING_LENGTH - 1 else ['<pad>'] * (PADDING_LENGTH - len(i)) + i for i in tqdm(tokens)]"
   ]
  },
  {
   "cell_type": "code",
   "execution_count": 283,
   "metadata": {},
   "outputs": [],
   "source": [
    "# def token_index(tokens, vocabulary, missing=0):\n",
    "#     \"\"\"\n",
    "#     :param tokens: List of word tokens\n",
    "#     :param vocabulary: All words in the embeddings\n",
    "#     :param missing: Token for words not present in the vocabulary\n",
    "#     :return: List of integers representing the word tokens\n",
    "#     \"\"\"\n",
    "#     idx_token = []\n",
    "#     for text in tqdm(tokens):\n",
    "#         idx_text = []\n",
    "#         for token in text:\n",
    "#             try:\n",
    "#                 idx_text.append(vocabulary.index(token))\n",
    "#             except:\n",
    "#                 idx_text.append(missing)\n",
    "#         idx_token.append(idx_text)\n",
    "#     return idx_token"
   ]
  },
  {
   "cell_type": "code",
   "execution_count": 284,
   "metadata": {},
   "outputs": [],
   "source": [
    "# missing_index = vocabulary.index('<unk>')\n",
    "# tokens = token_index(tokens, vocabulary, missing_index)"
   ]
  },
  {
   "cell_type": "code",
   "execution_count": 285,
   "metadata": {},
   "outputs": [
    {
     "name": "stderr",
     "output_type": "stream",
     "text": [
      "100%|██████████| 325646/325646 [00:05<00:00, 58418.17it/s] \n"
     ]
    }
   ],
   "source": [
    "r(prep)\n",
    "tokens = prep.token_index(tokens, vocabulary)"
   ]
  },
  {
   "cell_type": "code",
   "execution_count": 286,
   "metadata": {},
   "outputs": [
    {
     "data": {
      "text/plain": [
       "325646"
      ]
     },
     "execution_count": 286,
     "metadata": {},
     "output_type": "execute_result"
    }
   ],
   "source": [
    "len(tokens)"
   ]
  },
  {
   "cell_type": "code",
   "execution_count": 287,
   "metadata": {},
   "outputs": [
    {
     "data": {
      "text/plain": [
       "50"
      ]
     },
     "execution_count": 287,
     "metadata": {},
     "output_type": "execute_result"
    }
   ],
   "source": [
    "len(tokens[0])"
   ]
  },
  {
   "cell_type": "code",
   "execution_count": 288,
   "metadata": {},
   "outputs": [],
   "source": [
    "# vocabulary[tokens[0][0]]"
   ]
  },
  {
   "cell_type": "code",
   "execution_count": 289,
   "metadata": {},
   "outputs": [],
   "source": [
    "r(utils)\n",
    "utils.save_file(TOKENS_PATH, tokens)"
   ]
  },
  {
   "cell_type": "code",
   "execution_count": 290,
   "metadata": {},
   "outputs": [],
   "source": [
    "r(utils)\n",
    "tokens = utils.load_file(TOKENS_PATH)\n",
    "labels = utils.load_file(LABELS_PATH)\n",
    "embeddings = utils.load_file(EMBEDDINGS_PATH)\n",
    "label_encoder = utils.load_file(LABEL_ENCODER_PATH)\n",
    "num_classes = len(label_encoder.classes_)"
   ]
  },
  {
   "cell_type": "code",
   "execution_count": 291,
   "metadata": {},
   "outputs": [],
   "source": [
    "X_train, X_test, y_train, y_test = train_test_split(tokens, labels, test_size=0.2)\n",
    "X_train, X_valid, y_train, y_valid = train_test_split(X_train, y_train, test_size=0.25)"
   ]
  },
  {
   "cell_type": "code",
   "execution_count": 292,
   "metadata": {},
   "outputs": [],
   "source": [
    "r(creator)\n",
    "train_dataset = creator.TextDataset(X_train, embeddings, y_train)\n",
    "valid_dataset = creator.TextDataset(X_valid, embeddings, y_valid)\n",
    "test_dataset = creator.TextDataset(X_test, embeddings, y_test)"
   ]
  },
  {
   "cell_type": "code",
   "execution_count": 293,
   "metadata": {},
   "outputs": [],
   "source": [
    "train_loader = torch.utils.data.DataLoader(train_dataset, batch_size=16, shuffle=True, drop_last=True)\n",
    "valid_loader = torch.utils.data.DataLoader(valid_dataset, batch_size=16)\n",
    "test_loader = torch.utils.data.DataLoader(test_dataset, batch_size=16)"
   ]
  },
  {
   "cell_type": "code",
   "execution_count": 294,
   "metadata": {},
   "outputs": [],
   "source": [
    "# model = modeller.RNNNetwork(INPUT_SIZE, HIDDEN_SIZE, num_classes)\n",
    "# if torch.cuda.is_available():\n",
    "#     model = model.cuda()\n",
    "\n",
    "# criterion = torch.nn.CrossEntropyLoss()\n",
    "# optimizer = torch.optim.Adam(model.parameters(), lr=LEARNING_RATE)\n",
    "# device = torch.device(\"cuda:0\" if torch.cuda.is_available() else \"cpu\")\n",
    "\n",
    "# modeller.train(\n",
    "#     train_loader=train_loader,\n",
    "#     valid_loader=valid_loader,\n",
    "#     model=model,\n",
    "#     criterion=criterion,\n",
    "#     optimizer=optimizer,\n",
    "#     device=device,\n",
    "#     num_epochs=NUM_EPOCHS,\n",
    "#     model_path=RNN_MODEL_PATH\n",
    "# )"
   ]
  },
  {
   "cell_type": "code",
   "execution_count": 113,
   "metadata": {},
   "outputs": [
    {
     "name": "stderr",
     "output_type": "stream",
     "text": [
      "  0%|          | 0/18 [4:31:43<?, ?it/s]\n"
     ]
    }
   ],
   "source": [
    "r(modeller)\n",
    "model = modeller.LSTMNetwork(INPUT_SIZE, HIDDEN_SIZE, num_classes)\n",
    "if torch.cuda.is_available():\n",
    "    model = model.cuda()\n",
    "\n",
    "criterion = torch.nn.CrossEntropyLoss()\n",
    "optimizer = torch.optim.Adam(model.parameters(), lr=LEARNING_RATE)\n",
    "device = torch.device(\"cuda:0\" if torch.cuda.is_available() else \"cpu\")"
   ]
  },
  {
   "cell_type": "code",
   "execution_count": 117,
   "metadata": {},
   "outputs": [
    {
     "data": {
      "text/plain": [
       "torch.nn.modules.loss.CrossEntropyLoss"
      ]
     },
     "execution_count": 117,
     "metadata": {},
     "output_type": "execute_result"
    }
   ],
   "source": [
    "type(criterion)"
   ]
  },
  {
   "cell_type": "code",
   "execution_count": 296,
   "metadata": {},
   "outputs": [
    {
     "name": "stdout",
     "output_type": "stream",
     "text": [
      "Epoch 1 of 50\n"
     ]
    },
    {
     "name": "stderr",
     "output_type": "stream",
     "text": [
      "100%|██████████| 12211/12211 [01:42<00:00, 119.71it/s]\n",
      "100%|██████████| 4071/4071 [00:14<00:00, 274.02it/s]\n"
     ]
    },
    {
     "name": "stdout",
     "output_type": "stream",
     "text": [
      "Train Loss: 0.5335872929630814, Validation Loss: 0.2760382591680633\n",
      "Best Validation Loss: 0.2760382591680633\n",
      "Epoch 2 of 50\n"
     ]
    },
    {
     "name": "stderr",
     "output_type": "stream",
     "text": [
      "100%|██████████| 12211/12211 [01:40<00:00, 122.10it/s]\n",
      "100%|██████████| 4071/4071 [00:14<00:00, 271.72it/s]\n"
     ]
    },
    {
     "name": "stdout",
     "output_type": "stream",
     "text": [
      "Train Loss: 0.21238894085763993, Validation Loss: 0.17143234221328318\n",
      "Best Validation Loss: 0.17143234221328318\n",
      "Epoch 3 of 50\n"
     ]
    },
    {
     "name": "stderr",
     "output_type": "stream",
     "text": [
      "100%|██████████| 12211/12211 [01:45<00:00, 115.48it/s]\n",
      "100%|██████████| 4071/4071 [00:13<00:00, 292.98it/s]\n"
     ]
    },
    {
     "name": "stdout",
     "output_type": "stream",
     "text": [
      "Train Loss: 0.14143542513125765, Validation Loss: 0.1469635749123652\n",
      "Best Validation Loss: 0.1469635749123652\n",
      "Epoch 4 of 50\n"
     ]
    },
    {
     "name": "stderr",
     "output_type": "stream",
     "text": [
      "100%|██████████| 12211/12211 [01:36<00:00, 125.89it/s]\n",
      "100%|██████████| 4071/4071 [00:13<00:00, 292.88it/s]\n"
     ]
    },
    {
     "name": "stdout",
     "output_type": "stream",
     "text": [
      "Train Loss: 0.10795529203356104, Validation Loss: 0.09891105922500874\n",
      "Best Validation Loss: 0.09891105922500874\n",
      "Epoch 5 of 50\n"
     ]
    },
    {
     "name": "stderr",
     "output_type": "stream",
     "text": [
      "100%|██████████| 12211/12211 [01:37<00:00, 125.84it/s]\n",
      "100%|██████████| 4071/4071 [00:14<00:00, 282.48it/s]\n"
     ]
    },
    {
     "name": "stdout",
     "output_type": "stream",
     "text": [
      "Train Loss: 0.08983607938595987, Validation Loss: 0.08390426088976224\n",
      "Best Validation Loss: 0.08390426088976224\n",
      "Epoch 6 of 50\n"
     ]
    },
    {
     "name": "stderr",
     "output_type": "stream",
     "text": [
      "100%|██████████| 12211/12211 [01:36<00:00, 126.41it/s]\n",
      "100%|██████████| 4071/4071 [00:14<00:00, 289.71it/s]\n"
     ]
    },
    {
     "name": "stdout",
     "output_type": "stream",
     "text": [
      "Train Loss: 0.07746460141609351, Validation Loss: 0.0778018577930041\n",
      "Best Validation Loss: 0.0778018577930041\n",
      "Epoch 7 of 50\n"
     ]
    },
    {
     "name": "stderr",
     "output_type": "stream",
     "text": [
      "100%|██████████| 12211/12211 [01:34<00:00, 129.11it/s]\n",
      "100%|██████████| 4071/4071 [00:13<00:00, 297.81it/s]\n"
     ]
    },
    {
     "name": "stdout",
     "output_type": "stream",
     "text": [
      "Train Loss: 0.06750505242992898, Validation Loss: 0.0766873842112304\n",
      "Best Validation Loss: 0.0766873842112304\n",
      "Epoch 8 of 50\n"
     ]
    },
    {
     "name": "stderr",
     "output_type": "stream",
     "text": [
      "100%|██████████| 12211/12211 [01:37<00:00, 125.53it/s]\n",
      "100%|██████████| 4071/4071 [00:13<00:00, 296.42it/s]\n"
     ]
    },
    {
     "name": "stdout",
     "output_type": "stream",
     "text": [
      "Train Loss: 0.061071080403831385, Validation Loss: 0.06471120108023526\n",
      "Best Validation Loss: 0.06471120108023526\n",
      "Epoch 9 of 50\n"
     ]
    },
    {
     "name": "stderr",
     "output_type": "stream",
     "text": [
      "100%|██████████| 12211/12211 [01:34<00:00, 129.10it/s]\n",
      "100%|██████████| 4071/4071 [00:13<00:00, 302.39it/s]\n"
     ]
    },
    {
     "name": "stdout",
     "output_type": "stream",
     "text": [
      "Train Loss: 0.05523650924295041, Validation Loss: 0.05645346983857622\n",
      "Best Validation Loss: 0.05645346983857622\n",
      "Epoch 10 of 50\n"
     ]
    },
    {
     "name": "stderr",
     "output_type": "stream",
     "text": [
      "100%|██████████| 12211/12211 [01:33<00:00, 129.93it/s]\n",
      "100%|██████████| 4071/4071 [00:15<00:00, 258.51it/s]\n"
     ]
    },
    {
     "name": "stdout",
     "output_type": "stream",
     "text": [
      "Train Loss: 0.050517499935472894, Validation Loss: 0.05314093404873891\n",
      "Best Validation Loss: 0.05314093404873891\n",
      "Epoch 11 of 50\n"
     ]
    },
    {
     "name": "stderr",
     "output_type": "stream",
     "text": [
      "100%|██████████| 12211/12211 [01:43<00:00, 118.02it/s]\n",
      "100%|██████████| 4071/4071 [00:13<00:00, 308.04it/s]\n"
     ]
    },
    {
     "name": "stdout",
     "output_type": "stream",
     "text": [
      "Train Loss: 0.04691877668019233, Validation Loss: 0.05022121923714277\n",
      "Best Validation Loss: 0.05022121923714277\n",
      "Epoch 12 of 50\n"
     ]
    },
    {
     "name": "stderr",
     "output_type": "stream",
     "text": [
      "100%|██████████| 12211/12211 [01:33<00:00, 131.13it/s]\n",
      "100%|██████████| 4071/4071 [00:14<00:00, 285.80it/s]\n"
     ]
    },
    {
     "name": "stdout",
     "output_type": "stream",
     "text": [
      "Train Loss: 0.043680064698554476, Validation Loss: 0.0459023918668411\n",
      "Best Validation Loss: 0.0459023918668411\n",
      "Epoch 13 of 50\n"
     ]
    },
    {
     "name": "stderr",
     "output_type": "stream",
     "text": [
      "100%|██████████| 12211/12211 [01:33<00:00, 131.30it/s]\n",
      "100%|██████████| 4071/4071 [00:14<00:00, 278.61it/s]\n"
     ]
    },
    {
     "name": "stdout",
     "output_type": "stream",
     "text": [
      "Train Loss: 0.040517188124642375, Validation Loss: 0.04576312401367706\n",
      "Best Validation Loss: 0.04576312401367706\n",
      "Epoch 14 of 50\n"
     ]
    },
    {
     "name": "stderr",
     "output_type": "stream",
     "text": [
      "100%|██████████| 12211/12211 [01:39<00:00, 123.16it/s]\n",
      "100%|██████████| 4071/4071 [00:12<00:00, 323.83it/s]\n"
     ]
    },
    {
     "name": "stdout",
     "output_type": "stream",
     "text": [
      "Train Loss: 0.037944737842617426, Validation Loss: 0.04352183268712392\n",
      "Best Validation Loss: 0.04352183268712392\n",
      "Epoch 15 of 50\n"
     ]
    },
    {
     "name": "stderr",
     "output_type": "stream",
     "text": [
      "100%|██████████| 12211/12211 [01:27<00:00, 139.98it/s]\n",
      "100%|██████████| 4071/4071 [00:13<00:00, 311.56it/s]\n"
     ]
    },
    {
     "name": "stdout",
     "output_type": "stream",
     "text": [
      "Train Loss: 0.03571404031130348, Validation Loss: 0.04048473517567679\n",
      "Best Validation Loss: 0.04048473517567679\n",
      "Epoch 16 of 50\n"
     ]
    },
    {
     "name": "stderr",
     "output_type": "stream",
     "text": [
      "100%|██████████| 12211/12211 [01:24<00:00, 144.68it/s]\n",
      "100%|██████████| 4071/4071 [00:13<00:00, 305.55it/s]\n"
     ]
    },
    {
     "name": "stdout",
     "output_type": "stream",
     "text": [
      "Train Loss: 0.034142722734742253, Validation Loss: 0.043012255518346615\n",
      "Best Validation Loss: 0.04048473517567679\n",
      "Epoch 17 of 50\n"
     ]
    },
    {
     "name": "stderr",
     "output_type": "stream",
     "text": [
      "100%|██████████| 12211/12211 [01:29<00:00, 136.70it/s]\n",
      "100%|██████████| 4071/4071 [00:12<00:00, 337.39it/s]\n"
     ]
    },
    {
     "name": "stdout",
     "output_type": "stream",
     "text": [
      "Train Loss: 0.032353984793658155, Validation Loss: 0.039101863567137955\n",
      "Best Validation Loss: 0.039101863567137955\n",
      "Epoch 18 of 50\n"
     ]
    },
    {
     "name": "stderr",
     "output_type": "stream",
     "text": [
      "100%|██████████| 12211/12211 [01:24<00:00, 144.55it/s]\n",
      "100%|██████████| 4071/4071 [00:12<00:00, 332.72it/s]\n"
     ]
    },
    {
     "name": "stdout",
     "output_type": "stream",
     "text": [
      "Train Loss: 0.030685686616132322, Validation Loss: 0.03725795186964271\n",
      "Best Validation Loss: 0.03725795186964271\n",
      "Epoch 19 of 50\n"
     ]
    },
    {
     "name": "stderr",
     "output_type": "stream",
     "text": [
      "100%|██████████| 12211/12211 [01:22<00:00, 147.92it/s]\n",
      "100%|██████████| 4071/4071 [00:12<00:00, 330.90it/s]\n"
     ]
    },
    {
     "name": "stdout",
     "output_type": "stream",
     "text": [
      "Train Loss: 0.029434109797984904, Validation Loss: 0.03739811693436233\n",
      "Best Validation Loss: 0.03725795186964271\n",
      "Epoch 20 of 50\n"
     ]
    },
    {
     "name": "stderr",
     "output_type": "stream",
     "text": [
      "100%|██████████| 12211/12211 [01:27<00:00, 140.32it/s]\n",
      "100%|██████████| 4071/4071 [00:13<00:00, 311.93it/s]\n"
     ]
    },
    {
     "name": "stdout",
     "output_type": "stream",
     "text": [
      "Train Loss: 0.028247022056045297, Validation Loss: 0.03795774249661284\n",
      "Best Validation Loss: 0.03725795186964271\n",
      "Epoch 21 of 50\n"
     ]
    },
    {
     "name": "stderr",
     "output_type": "stream",
     "text": [
      "100%|██████████| 12211/12211 [01:25<00:00, 142.48it/s]\n",
      "100%|██████████| 4071/4071 [00:12<00:00, 333.11it/s]\n"
     ]
    },
    {
     "name": "stdout",
     "output_type": "stream",
     "text": [
      "Train Loss: 0.026870114374206912, Validation Loss: 0.03748325455469378\n",
      "Best Validation Loss: 0.03725795186964271\n",
      "Epoch 22 of 50\n"
     ]
    },
    {
     "name": "stderr",
     "output_type": "stream",
     "text": [
      "100%|██████████| 12211/12211 [01:23<00:00, 145.69it/s]\n",
      "100%|██████████| 4071/4071 [00:12<00:00, 327.57it/s]\n"
     ]
    },
    {
     "name": "stdout",
     "output_type": "stream",
     "text": [
      "Train Loss: 0.026225268351504138, Validation Loss: 0.03499671280318807\n",
      "Best Validation Loss: 0.03499671280318807\n",
      "Epoch 23 of 50\n"
     ]
    },
    {
     "name": "stderr",
     "output_type": "stream",
     "text": [
      "100%|██████████| 12211/12211 [01:30<00:00, 135.09it/s]\n",
      "100%|██████████| 4071/4071 [00:11<00:00, 340.65it/s]\n"
     ]
    },
    {
     "name": "stdout",
     "output_type": "stream",
     "text": [
      "Train Loss: 0.02457222778933488, Validation Loss: 0.03328360697138424\n",
      "Best Validation Loss: 0.03328360697138424\n",
      "Epoch 24 of 50\n"
     ]
    },
    {
     "name": "stderr",
     "output_type": "stream",
     "text": [
      "100%|██████████| 12211/12211 [01:22<00:00, 148.31it/s]\n",
      "100%|██████████| 4071/4071 [00:13<00:00, 295.47it/s]\n"
     ]
    },
    {
     "name": "stdout",
     "output_type": "stream",
     "text": [
      "Train Loss: 0.022885863858402255, Validation Loss: 0.03427615483586725\n",
      "Best Validation Loss: 0.03328360697138424\n",
      "Epoch 25 of 50\n"
     ]
    },
    {
     "name": "stderr",
     "output_type": "stream",
     "text": [
      "100%|██████████| 12211/12211 [01:22<00:00, 147.37it/s]\n",
      "100%|██████████| 4071/4071 [00:13<00:00, 307.12it/s]\n"
     ]
    },
    {
     "name": "stdout",
     "output_type": "stream",
     "text": [
      "Train Loss: 0.02227537760211944, Validation Loss: 0.03877328186069244\n",
      "Best Validation Loss: 0.03328360697138424\n",
      "Epoch 26 of 50\n"
     ]
    },
    {
     "name": "stderr",
     "output_type": "stream",
     "text": [
      "100%|██████████| 12211/12211 [01:30<00:00, 135.66it/s]\n",
      "100%|██████████| 4071/4071 [00:12<00:00, 330.38it/s]\n"
     ]
    },
    {
     "name": "stdout",
     "output_type": "stream",
     "text": [
      "Train Loss: 0.021742840844179285, Validation Loss: 0.03837892903152301\n",
      "Best Validation Loss: 0.03328360697138424\n",
      "Epoch 27 of 50\n"
     ]
    },
    {
     "name": "stderr",
     "output_type": "stream",
     "text": [
      "100%|██████████| 12211/12211 [01:27<00:00, 139.35it/s]\n",
      "100%|██████████| 4071/4071 [00:12<00:00, 325.46it/s]\n"
     ]
    },
    {
     "name": "stdout",
     "output_type": "stream",
     "text": [
      "Train Loss: 0.02058540249453419, Validation Loss: 0.034360068910339284\n",
      "Best Validation Loss: 0.03328360697138424\n",
      "Epoch 28 of 50\n"
     ]
    },
    {
     "name": "stderr",
     "output_type": "stream",
     "text": [
      "100%|██████████| 12211/12211 [01:23<00:00, 146.37it/s]\n",
      "100%|██████████| 4071/4071 [00:12<00:00, 313.24it/s]\n"
     ]
    },
    {
     "name": "stdout",
     "output_type": "stream",
     "text": [
      "Train Loss: 0.020021201182460324, Validation Loss: 0.043431834542606795\n",
      "Best Validation Loss: 0.03328360697138424\n",
      "Epoch 29 of 50\n"
     ]
    },
    {
     "name": "stderr",
     "output_type": "stream",
     "text": [
      "100%|██████████| 12211/12211 [01:22<00:00, 147.14it/s]\n",
      "100%|██████████| 4071/4071 [00:11<00:00, 341.35it/s]\n"
     ]
    },
    {
     "name": "stdout",
     "output_type": "stream",
     "text": [
      "Train Loss: 0.018639735906788128, Validation Loss: 0.0354288227310625\n",
      "Best Validation Loss: 0.03328360697138424\n",
      "Epoch 30 of 50\n"
     ]
    },
    {
     "name": "stderr",
     "output_type": "stream",
     "text": [
      "100%|██████████| 12211/12211 [01:25<00:00, 142.66it/s]\n",
      "100%|██████████| 4071/4071 [00:12<00:00, 315.88it/s]\n"
     ]
    },
    {
     "name": "stdout",
     "output_type": "stream",
     "text": [
      "Train Loss: 0.01800189258038065, Validation Loss: 0.0340469064987475\n",
      "Best Validation Loss: 0.03328360697138424\n",
      "Epoch 31 of 50\n"
     ]
    },
    {
     "name": "stderr",
     "output_type": "stream",
     "text": [
      "100%|██████████| 12211/12211 [01:21<00:00, 150.04it/s]\n",
      "100%|██████████| 4071/4071 [00:12<00:00, 337.90it/s]\n"
     ]
    },
    {
     "name": "stdout",
     "output_type": "stream",
     "text": [
      "Train Loss: 0.01722376467244611, Validation Loss: 0.034535516624026256\n",
      "Best Validation Loss: 0.03328360697138424\n",
      "Epoch 32 of 50\n"
     ]
    },
    {
     "name": "stderr",
     "output_type": "stream",
     "text": [
      "100%|██████████| 12211/12211 [01:23<00:00, 145.74it/s]\n",
      "100%|██████████| 4071/4071 [00:12<00:00, 321.67it/s]\n"
     ]
    },
    {
     "name": "stdout",
     "output_type": "stream",
     "text": [
      "Train Loss: 0.01696233781115374, Validation Loss: 0.03020243835408858\n",
      "Best Validation Loss: 0.03020243835408858\n",
      "Epoch 33 of 50\n"
     ]
    },
    {
     "name": "stderr",
     "output_type": "stream",
     "text": [
      "100%|██████████| 12211/12211 [01:27<00:00, 139.41it/s]\n",
      "100%|██████████| 4071/4071 [00:11<00:00, 341.63it/s]\n"
     ]
    },
    {
     "name": "stdout",
     "output_type": "stream",
     "text": [
      "Train Loss: 0.015715328926343242, Validation Loss: 0.03015086593042648\n",
      "Best Validation Loss: 0.03015086593042648\n",
      "Epoch 34 of 50\n"
     ]
    },
    {
     "name": "stderr",
     "output_type": "stream",
     "text": [
      "100%|██████████| 12211/12211 [02:15<00:00, 90.31it/s] \n",
      "100%|██████████| 4071/4071 [00:17<00:00, 226.43it/s]\n"
     ]
    },
    {
     "name": "stdout",
     "output_type": "stream",
     "text": [
      "Train Loss: 0.01592235774849997, Validation Loss: 0.03364165863443967\n",
      "Best Validation Loss: 0.03015086593042648\n",
      "Epoch 35 of 50\n"
     ]
    },
    {
     "name": "stderr",
     "output_type": "stream",
     "text": [
      "100%|██████████| 12211/12211 [02:16<00:00, 89.60it/s] \n",
      "100%|██████████| 4071/4071 [00:17<00:00, 230.82it/s]\n"
     ]
    },
    {
     "name": "stdout",
     "output_type": "stream",
     "text": [
      "Train Loss: 0.014969081042684169, Validation Loss: 0.029824369601622228\n",
      "Best Validation Loss: 0.029824369601622228\n",
      "Epoch 36 of 50\n"
     ]
    },
    {
     "name": "stderr",
     "output_type": "stream",
     "text": [
      "100%|██████████| 12211/12211 [01:50<00:00, 110.34it/s]\n",
      "100%|██████████| 4071/4071 [00:17<00:00, 233.07it/s]\n"
     ]
    },
    {
     "name": "stdout",
     "output_type": "stream",
     "text": [
      "Train Loss: 0.014846290658338517, Validation Loss: 0.029389289093409512\n",
      "Best Validation Loss: 0.029389289093409512\n",
      "Epoch 37 of 50\n"
     ]
    },
    {
     "name": "stderr",
     "output_type": "stream",
     "text": [
      "100%|██████████| 12211/12211 [02:02<00:00, 99.30it/s] \n",
      "100%|██████████| 4071/4071 [00:17<00:00, 237.05it/s]\n"
     ]
    },
    {
     "name": "stdout",
     "output_type": "stream",
     "text": [
      "Train Loss: 0.014655243623619257, Validation Loss: 0.031540311519740974\n",
      "Best Validation Loss: 0.029389289093409512\n",
      "Epoch 38 of 50\n"
     ]
    },
    {
     "name": "stderr",
     "output_type": "stream",
     "text": [
      "100%|██████████| 12211/12211 [01:52<00:00, 108.59it/s]\n",
      "100%|██████████| 4071/4071 [00:15<00:00, 262.07it/s]\n"
     ]
    },
    {
     "name": "stdout",
     "output_type": "stream",
     "text": [
      "Train Loss: 0.013744908851697548, Validation Loss: 0.028736742617540174\n",
      "Best Validation Loss: 0.028736742617540174\n",
      "Epoch 39 of 50\n"
     ]
    },
    {
     "name": "stderr",
     "output_type": "stream",
     "text": [
      "100%|██████████| 12211/12211 [01:53<00:00, 107.74it/s]\n",
      "100%|██████████| 4071/4071 [00:15<00:00, 260.65it/s]\n"
     ]
    },
    {
     "name": "stdout",
     "output_type": "stream",
     "text": [
      "Train Loss: 0.01356321175558361, Validation Loss: 0.028793729088322242\n",
      "Best Validation Loss: 0.028736742617540174\n",
      "Epoch 40 of 50\n"
     ]
    },
    {
     "name": "stderr",
     "output_type": "stream",
     "text": [
      "100%|██████████| 12211/12211 [01:54<00:00, 106.82it/s]\n",
      "100%|██████████| 4071/4071 [00:16<00:00, 251.02it/s]\n"
     ]
    },
    {
     "name": "stdout",
     "output_type": "stream",
     "text": [
      "Train Loss: 0.012976330550930221, Validation Loss: 0.02909985611421343\n",
      "Best Validation Loss: 0.028736742617540174\n",
      "Epoch 41 of 50\n"
     ]
    },
    {
     "name": "stderr",
     "output_type": "stream",
     "text": [
      "100%|██████████| 12211/12211 [01:50<00:00, 110.40it/s]\n",
      "100%|██████████| 4071/4071 [00:15<00:00, 255.93it/s]\n"
     ]
    },
    {
     "name": "stdout",
     "output_type": "stream",
     "text": [
      "Train Loss: 0.012808166261613012, Validation Loss: 0.028884550833689952\n",
      "Best Validation Loss: 0.028736742617540174\n",
      "Epoch 42 of 50\n"
     ]
    },
    {
     "name": "stderr",
     "output_type": "stream",
     "text": [
      "100%|██████████| 12211/12211 [01:48<00:00, 112.33it/s]\n",
      "100%|██████████| 4071/4071 [00:17<00:00, 239.36it/s]\n"
     ]
    },
    {
     "name": "stdout",
     "output_type": "stream",
     "text": [
      "Train Loss: 0.012419917209202032, Validation Loss: 0.029563046435005236\n",
      "Best Validation Loss: 0.028736742617540174\n",
      "Epoch 43 of 50\n"
     ]
    },
    {
     "name": "stderr",
     "output_type": "stream",
     "text": [
      "100%|██████████| 12211/12211 [01:50<00:00, 110.02it/s]\n",
      "100%|██████████| 4071/4071 [00:15<00:00, 257.82it/s]\n"
     ]
    },
    {
     "name": "stdout",
     "output_type": "stream",
     "text": [
      "Train Loss: 0.012006118945537617, Validation Loss: 0.02893095054837497\n",
      "Best Validation Loss: 0.028736742617540174\n",
      "Epoch 44 of 50\n"
     ]
    },
    {
     "name": "stderr",
     "output_type": "stream",
     "text": [
      "100%|██████████| 12211/12211 [01:50<00:00, 110.32it/s]\n",
      "100%|██████████| 4071/4071 [00:16<00:00, 243.57it/s]\n"
     ]
    },
    {
     "name": "stdout",
     "output_type": "stream",
     "text": [
      "Train Loss: 0.011385954638238858, Validation Loss: 0.029446805069122527\n",
      "Best Validation Loss: 0.028736742617540174\n",
      "Epoch 45 of 50\n"
     ]
    },
    {
     "name": "stderr",
     "output_type": "stream",
     "text": [
      "100%|██████████| 12211/12211 [01:51<00:00, 110.00it/s]\n",
      "100%|██████████| 4071/4071 [00:16<00:00, 248.87it/s]\n"
     ]
    },
    {
     "name": "stdout",
     "output_type": "stream",
     "text": [
      "Train Loss: 0.010993294597863742, Validation Loss: 0.03011222234201439\n",
      "Best Validation Loss: 0.028736742617540174\n",
      "Epoch 46 of 50\n"
     ]
    },
    {
     "name": "stderr",
     "output_type": "stream",
     "text": [
      "100%|██████████| 12211/12211 [01:49<00:00, 112.01it/s]\n",
      "100%|██████████| 4071/4071 [00:15<00:00, 259.11it/s]\n"
     ]
    },
    {
     "name": "stdout",
     "output_type": "stream",
     "text": [
      "Train Loss: 0.010875856920528913, Validation Loss: 0.030993710080763334\n",
      "Best Validation Loss: 0.028736742617540174\n",
      "Epoch 47 of 50\n"
     ]
    },
    {
     "name": "stderr",
     "output_type": "stream",
     "text": [
      "100%|██████████| 12211/12211 [01:47<00:00, 114.11it/s]\n",
      "100%|██████████| 4071/4071 [00:16<00:00, 248.41it/s]\n"
     ]
    },
    {
     "name": "stdout",
     "output_type": "stream",
     "text": [
      "Train Loss: 0.010567817865961763, Validation Loss: 0.02866113228846888\n",
      "Best Validation Loss: 0.02866113228846888\n",
      "Epoch 48 of 50\n"
     ]
    },
    {
     "name": "stderr",
     "output_type": "stream",
     "text": [
      "100%|██████████| 12211/12211 [01:52<00:00, 108.86it/s]\n",
      "100%|██████████| 4071/4071 [00:15<00:00, 258.47it/s]\n"
     ]
    },
    {
     "name": "stdout",
     "output_type": "stream",
     "text": [
      "Train Loss: 0.010303393428187901, Validation Loss: 0.029266787578731274\n",
      "Best Validation Loss: 0.02866113228846888\n",
      "Epoch 49 of 50\n"
     ]
    },
    {
     "name": "stderr",
     "output_type": "stream",
     "text": [
      "100%|██████████| 12211/12211 [01:47<00:00, 113.66it/s]\n",
      "100%|██████████| 4071/4071 [00:16<00:00, 253.71it/s]\n"
     ]
    },
    {
     "name": "stdout",
     "output_type": "stream",
     "text": [
      "Train Loss: 0.01024128270721679, Validation Loss: 0.028731678649099916\n",
      "Best Validation Loss: 0.02866113228846888\n",
      "Epoch 50 of 50\n"
     ]
    },
    {
     "name": "stderr",
     "output_type": "stream",
     "text": [
      "100%|██████████| 12211/12211 [01:50<00:00, 110.72it/s]\n",
      "100%|██████████| 4071/4071 [00:16<00:00, 241.00it/s]"
     ]
    },
    {
     "name": "stdout",
     "output_type": "stream",
     "text": [
      "Train Loss: 0.009757814201929884, Validation Loss: 0.030296439191271514\n",
      "Best Validation Loss: 0.02866113228846888\n"
     ]
    },
    {
     "name": "stderr",
     "output_type": "stream",
     "text": [
      "\n"
     ]
    }
   ],
   "source": [
    "r(modeller)\n",
    "modeller.train(\n",
    "    train_loader=train_loader,\n",
    "    valid_loader=valid_loader,\n",
    "    model=model,\n",
    "    criterion=criterion,\n",
    "    optimizer=optimizer,\n",
    "    device=device, \n",
    "    num_epochs=NUM_EPOCHS,\n",
    "    model_path=LSTM_MODEL_PATH\n",
    ")"
   ]
  },
  {
   "cell_type": "code",
   "execution_count": 297,
   "metadata": {},
   "outputs": [
    {
     "name": "stderr",
     "output_type": "stream",
     "text": [
      "100%|██████████| 4071/4071 [00:20<00:00, 202.58it/s]"
     ]
    },
    {
     "name": "stdout",
     "output_type": "stream",
     "text": [
      "Test Loss: 0.030199647056001783, Test Accuracy: 0.9934444853844264\n"
     ]
    },
    {
     "name": "stderr",
     "output_type": "stream",
     "text": [
      "\n"
     ]
    }
   ],
   "source": [
    "r(modeller)\n",
    "modeller.test(\n",
    "    test_loader=test_loader,\n",
    "    model=model,\n",
    "    criterion=criterion,\n",
    "    device=device\n",
    ")"
   ]
  },
  {
   "cell_type": "code",
   "execution_count": 298,
   "metadata": {},
   "outputs": [
    {
     "data": {
      "text/plain": [
       "Index(['subusername', 'created_at', 'smstype', 'accounttype', 'pan', 'pantype',\n",
       "       'smssubtype', 'transactiontype', 'transactionchannel', 'smsbody',\n",
       "       'smsinboxdate', 'templatehash', 'hash', 'user_hash', 'sendername',\n",
       "       'senderaddress', 'servicename', 'servicetype', 'totalamountdue',\n",
       "       'minamountdue', 'outstandingamount', 'amount', 'balance', 'date',\n",
       "       'availablelimit', 'pos', 'duedate', 'rn'],\n",
       "      dtype='object')"
      ]
     },
     "execution_count": 298,
     "metadata": {},
     "output_type": "execute_result"
    }
   ],
   "source": [
    "sample_data.columns"
   ]
  },
  {
   "cell_type": "code",
   "execution_count": null,
   "metadata": {},
   "outputs": [],
   "source": []
  },
  {
   "cell_type": "code",
   "execution_count": 57,
   "metadata": {},
   "outputs": [
    {
     "data": {
      "text/plain": [
       "'Dear 100134275715, your passbook balance against GJAHD001035900A0013723 is Rs. ERROR:ORA-28002: the password will expire within 6 days8814758/-. Contribution of Rs. 59465/- for due month 082019 has been received.'"
      ]
     },
     "execution_count": 57,
     "metadata": {},
     "output_type": "execute_result"
    }
   ],
   "source": [
    "TEST_SMS = 'Dear 100134275715, your passbook balance against GJAHD001035900A0013723 is Rs. ERROR:ORA-28002: the password will expire within 6 days8814758/-. Contribution of Rs. 59465/- for due month 082019 has been received.'\n",
    "TEST_SMS"
   ]
  },
  {
   "cell_type": "code",
   "execution_count": 58,
   "metadata": {},
   "outputs": [],
   "source": [
    "input_text = re.sub(r\"[^\\w\\d'\\s]+\", \" \", TEST_SMS)\n",
    "input_text = re.sub(\"\\d+\", \"\", input_text)\n",
    "input_text = re.sub(r'[x]{2,}', \"\", input_text)\n",
    "input_text = re.sub(' +', ' ', input_text)\n",
    "tokens = word_tokenize(input_text)"
   ]
  },
  {
   "cell_type": "code",
   "execution_count": 59,
   "metadata": {},
   "outputs": [
    {
     "data": {
      "text/plain": [
       "['Dear',\n",
       " 'your',\n",
       " 'passbook',\n",
       " 'balance',\n",
       " 'against',\n",
       " 'GJAHDA',\n",
       " 'is',\n",
       " 'Rs',\n",
       " 'ERROR',\n",
       " 'ORA',\n",
       " 'the',\n",
       " 'password',\n",
       " 'will',\n",
       " 'expire',\n",
       " 'within',\n",
       " 'days',\n",
       " 'Contribution',\n",
       " 'of',\n",
       " 'Rs',\n",
       " 'for',\n",
       " 'due',\n",
       " 'month',\n",
       " 'has',\n",
       " 'been',\n",
       " 'received']"
      ]
     },
     "execution_count": 59,
     "metadata": {},
     "output_type": "execute_result"
    }
   ],
   "source": [
    "tokens"
   ]
  },
  {
   "cell_type": "code",
   "execution_count": 60,
   "metadata": {},
   "outputs": [],
   "source": [
    "tokens = tokens[:PADDING_LENGTH] if len(tokens) > PADDING_LENGTH - 1 else ['<pad>'] * (PADDING_LENGTH - len(tokens)) + tokens"
   ]
  },
  {
   "cell_type": "code",
   "execution_count": 61,
   "metadata": {},
   "outputs": [],
   "source": [
    "OUTPUT_LABEL_ENCODER_PATH = 'Output/label_encoder_smstype20241108.pkl'"
   ]
  },
  {
   "cell_type": "code",
   "execution_count": 62,
   "metadata": {},
   "outputs": [],
   "source": [
    "label_encoder = utils.load_file(OUTPUT_LABEL_ENCODER_PATH)\n",
    "num_classes = len(label_encoder.classes_)"
   ]
  },
  {
   "cell_type": "code",
   "execution_count": 63,
   "metadata": {},
   "outputs": [
    {
     "data": {
      "text/plain": [
       "8"
      ]
     },
     "execution_count": 63,
     "metadata": {},
     "output_type": "execute_result"
    }
   ],
   "source": [
    "num_classes"
   ]
  },
  {
   "cell_type": "code",
   "execution_count": 64,
   "metadata": {},
   "outputs": [],
   "source": [
    "OUTPUT_MODEL_PATH = 'Output/model_lstm_smstype20241108.pth'"
   ]
  },
  {
   "cell_type": "code",
   "execution_count": 76,
   "metadata": {},
   "outputs": [
    {
     "name": "stderr",
     "output_type": "stream",
     "text": [
      "/var/folders/mt/9c3gnzwj2qv4fxr3pyj11xqc0000gq/T/ipykernel_46927/2442280209.py:5: FutureWarning: You are using `torch.load` with `weights_only=False` (the current default value), which uses the default pickle module implicitly. It is possible to construct malicious pickle data which will execute arbitrary code during unpickling (See https://github.com/pytorch/pytorch/blob/main/SECURITY.md#untrusted-models for more details). In a future release, the default value for `weights_only` will be flipped to `True`. This limits the functions that could be executed during unpickling. Arbitrary objects will no longer be allowed to be loaded via this mode unless they are explicitly allowlisted by the user via `torch.serialization.add_safe_globals`. We recommend you start setting `weights_only=True` for any use case where you don't have full control of the loaded file. Please open an issue on GitHub for any issues related to this experimental feature.\n",
      "  model.load_state_dict(torch.load(OUTPUT_MODEL_PATH))\n"
     ]
    },
    {
     "data": {
      "text/plain": [
       "<All keys matched successfully>"
      ]
     },
     "execution_count": 76,
     "metadata": {},
     "output_type": "execute_result"
    }
   ],
   "source": [
    "model = modeller.LSTMNetwork(cfg.INPUT_SIZE, cfg.HIDDEN_SIZE, num_classes)\n",
    "if torch.cuda.is_available():\n",
    "    model = model.cuda()\n",
    "\n",
    "model.load_state_dict(torch.load(OUTPUT_MODEL_PATH))"
   ]
  },
  {
   "cell_type": "code",
   "execution_count": null,
   "metadata": {},
   "outputs": [
    {
     "name": "stdout",
     "output_type": "stream",
     "text": [
      "Engine.py                 README.MD                 config.py\n",
      "\u001b[34mInput\u001b[m\u001b[m/                    RNN.ipynb                 predict.py\n",
      "LSTMClassification.ipynb  \u001b[34mSource\u001b[m\u001b[m/                   processing.py\n",
      "\u001b[34mOutput\u001b[m\u001b[m/                   \u001b[34m__pycache__\u001b[m\u001b[m/              requirements.txt\n"
     ]
    }
   ],
   "source": [
    "ls"
   ]
  },
  {
   "cell_type": "code",
   "execution_count": 77,
   "metadata": {},
   "outputs": [],
   "source": [
    "OUTPUT_VOCABULARY_PATH = 'Output/vocabulary_smstype20241108.pkl'\n",
    "OUTPUT_EMBEDDINGS_PATH = 'Output/embeddings_v2_smstype20241108.pkl'"
   ]
  },
  {
   "cell_type": "code",
   "execution_count": 78,
   "metadata": {},
   "outputs": [],
   "source": [
    "vocabulary = utils.load_file(OUTPUT_VOCABULARY_PATH)\n",
    "embeddings = utils.load_file(OUTPUT_EMBEDDINGS_PATH)"
   ]
  },
  {
   "cell_type": "code",
   "execution_count": 79,
   "metadata": {},
   "outputs": [],
   "source": [
    "device = torch.device(\"cuda:0\" if torch.cuda.is_available() else \"cpu\")"
   ]
  },
  {
   "cell_type": "code",
   "execution_count": 80,
   "metadata": {},
   "outputs": [
    {
     "data": {
      "text/plain": [
       "['<pad>',\n",
       " '<pad>',\n",
       " '<pad>',\n",
       " '<pad>',\n",
       " '<pad>',\n",
       " '<pad>',\n",
       " '<pad>',\n",
       " '<pad>',\n",
       " '<pad>',\n",
       " '<pad>',\n",
       " '<pad>',\n",
       " '<pad>',\n",
       " '<pad>',\n",
       " '<pad>',\n",
       " '<pad>',\n",
       " '<pad>',\n",
       " '<pad>',\n",
       " '<pad>',\n",
       " '<pad>',\n",
       " '<pad>',\n",
       " '<pad>',\n",
       " '<pad>',\n",
       " '<pad>',\n",
       " '<pad>',\n",
       " '<pad>',\n",
       " 'Dear',\n",
       " 'your',\n",
       " 'passbook',\n",
       " 'balance',\n",
       " 'against',\n",
       " 'GJAHDA',\n",
       " 'is',\n",
       " 'Rs',\n",
       " 'ERROR',\n",
       " 'ORA',\n",
       " 'the',\n",
       " 'password',\n",
       " 'will',\n",
       " 'expire',\n",
       " 'within',\n",
       " 'days',\n",
       " 'Contribution',\n",
       " 'of',\n",
       " 'Rs',\n",
       " 'for',\n",
       " 'due',\n",
       " 'month',\n",
       " 'has',\n",
       " 'been',\n",
       " 'received']"
      ]
     },
     "execution_count": 80,
     "metadata": {},
     "output_type": "execute_result"
    }
   ],
   "source": [
    "tokens"
   ]
  },
  {
   "cell_type": "code",
   "execution_count": 81,
   "metadata": {},
   "outputs": [
    {
     "data": {
      "text/plain": [
       "array([[ 1.       ,  1.       ,  1.       , ...,  1.       ,  1.       ,\n",
       "         1.       ],\n",
       "       [ 1.       ,  1.       ,  1.       , ...,  1.       ,  1.       ,\n",
       "         1.       ],\n",
       "       [ 1.       ,  1.       ,  1.       , ...,  1.       ,  1.       ,\n",
       "         1.       ],\n",
       "       ...,\n",
       "       [ 0.54822  ,  0.038847 ,  0.10127  , ...,  0.26588  , -0.40267  ,\n",
       "        -0.17111  ],\n",
       "       [ 0.92884  , -0.72457  ,  0.068095 , ...,  0.047085 , -0.32297  ,\n",
       "        -0.64192  ],\n",
       "       [-0.054145 ,  0.7298   ,  0.0016229, ...,  0.64339  , -0.26776  ,\n",
       "         0.13484  ]], dtype=float32)"
      ]
     },
     "execution_count": 81,
     "metadata": {},
     "output_type": "execute_result"
    }
   ],
   "source": [
    "token_emb = np.array([embeddings.get(token, embeddings.get('<unk>')) for token in tokens], dtype=np.float32)\n",
    "token_emb"
   ]
  },
  {
   "cell_type": "code",
   "execution_count": 82,
   "metadata": {},
   "outputs": [],
   "source": [
    "inp = torch.from_numpy(token_emb)\n",
    "inp = inp.to(device)"
   ]
  },
  {
   "cell_type": "code",
   "execution_count": null,
   "metadata": {},
   "outputs": [],
   "source": []
  },
  {
   "cell_type": "code",
   "execution_count": 83,
   "metadata": {},
   "outputs": [],
   "source": [
    "inp = torch.unsqueeze(inp, 0)\n",
    "out = torch.squeeze(model(inp))"
   ]
  },
  {
   "cell_type": "code",
   "execution_count": 84,
   "metadata": {},
   "outputs": [
    {
     "name": "stdout",
     "output_type": "stream",
     "text": [
      "Predicted  Class: bank-notification\n"
     ]
    }
   ],
   "source": [
    "prediction = label_encoder.classes_[torch.argmax(out)]\n",
    "print(f\"Predicted  Class: {prediction}\")"
   ]
  },
  {
   "cell_type": "code",
   "execution_count": null,
   "metadata": {},
   "outputs": [],
   "source": []
  },
  {
   "cell_type": "code",
   "execution_count": null,
   "metadata": {},
   "outputs": [],
   "source": []
  },
  {
   "cell_type": "code",
   "execution_count": null,
   "metadata": {},
   "outputs": [],
   "source": []
  },
  {
   "cell_type": "code",
   "execution_count": null,
   "metadata": {},
   "outputs": [],
   "source": []
  },
  {
   "cell_type": "code",
   "execution_count": null,
   "metadata": {},
   "outputs": [],
   "source": []
  },
  {
   "cell_type": "code",
   "execution_count": null,
   "metadata": {},
   "outputs": [],
   "source": []
  },
  {
   "cell_type": "code",
   "execution_count": null,
   "metadata": {},
   "outputs": [],
   "source": []
  },
  {
   "cell_type": "code",
   "execution_count": null,
   "metadata": {},
   "outputs": [],
   "source": []
  },
  {
   "cell_type": "code",
   "execution_count": null,
   "metadata": {},
   "outputs": [],
   "source": []
  },
  {
   "cell_type": "code",
   "execution_count": null,
   "metadata": {},
   "outputs": [],
   "source": []
  },
  {
   "cell_type": "code",
   "execution_count": null,
   "metadata": {},
   "outputs": [],
   "source": []
  },
  {
   "cell_type": "code",
   "execution_count": null,
   "metadata": {},
   "outputs": [],
   "source": []
  },
  {
   "cell_type": "code",
   "execution_count": null,
   "metadata": {},
   "outputs": [],
   "source": []
  }
 ],
 "metadata": {
  "kernelspec": {
   "display_name": ".venv",
   "language": "python",
   "name": "python3"
  },
  "language_info": {
   "codemirror_mode": {
    "name": "ipython",
    "version": 3
   },
   "file_extension": ".py",
   "mimetype": "text/x-python",
   "name": "python",
   "nbconvert_exporter": "python",
   "pygments_lexer": "ipython3",
   "version": "3.11.10"
  }
 },
 "nbformat": 4,
 "nbformat_minor": 2
}
