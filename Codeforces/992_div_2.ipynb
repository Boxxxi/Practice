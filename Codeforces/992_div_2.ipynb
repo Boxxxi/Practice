{
 "cells": [
  {
   "cell_type": "code",
   "execution_count": 3,
   "metadata": {},
   "outputs": [],
   "source": [
    "import pandas as pd\n",
    "import numpy as np"
   ]
  },
  {
   "cell_type": "code",
   "execution_count": null,
   "metadata": {},
   "outputs": [],
   "source": [
    "## Problem 1\n",
    "\n",
    "num_tests = int(input())\n",
    "\n",
    "for test in range(num_tests):\n",
    "    n, k = list(map(int, input().split()))\n",
    "    a_list = list(map(int, input().split()))\n",
    "    rem_counter = {}\n",
    "\n",
    "    for a in a_list:\n",
    "        rem_counter[a % k] = [a] if a % k not in rem_counter else rem_counter[a % k] + [a]\n",
    "\n",
    "    for k, v in rem_counter.items():\n",
    "        if len(v) == 1:\n",
    "            print(\"YES\")\n",
    "            print(v[0])\n",
    "            break\n",
    "    else:\n",
    "        print(\"NO\")\n",
    "\n"
   ]
  },
  {
   "cell_type": "code",
   "execution_count": 17,
   "metadata": {},
   "outputs": [
    {
     "name": "stdout",
     "output_type": "stream",
     "text": [
      "YES\n",
      "3\n"
     ]
    }
   ],
   "source": [
    "n, k = 5, 3\n",
    "a_list = [10, 7, 3, 4, 5]\n",
    "rem_counter = {}\n",
    "\n",
    "for a in a_list:\n",
    "    rem_counter[a % k] = [a] if a % k not in rem_counter else rem_counter[a % k] + [a]\n",
    "\n",
    "for k, v in rem_counter.items():\n",
    "    if len(v) == 1:\n",
    "        print(\"YES\")\n",
    "        print(a_list.index(v[0]) + 1)\n",
    "        break\n",
    "else:\n",
    "    print(\"NO\")"
   ]
  },
  {
   "cell_type": "code",
   "execution_count": null,
   "metadata": {},
   "outputs": [],
   "source": [
    "## Problem 2\n",
    "\n",
    "num_tests = int(input())\n",
    "\n",
    "for test in range(num_tests):\n",
    "    n = int(input())\n",
    "    thresh_dict = {\n",
    "        1: 1,\n",
    "        4: 2,\n",
    "        10: 3,\n",
    "        22: 4,\n",
    "        46: 5,\n",
    "        94: 6,\n",
    "        190: 7,\n",
    "        382: 8,\n",
    "        766: 9,\n",
    "        1534: 10,\n",
    "        3070: 11,\n",
    "        6142: 12,\n",
    "        12286: 13,\n",
    "        24574: 14,\n",
    "        49150: 15,\n",
    "        98302: 16,\n",
    "        196606: 17\n",
    "    }\n",
    "    for thresh, k in thresh_dict.items():\n",
    "        if n <= thresh:\n",
    "            print(k)\n",
    "            break\n",
    "\n",
    "    \n",
    "    \n",
    "\n"
   ]
  },
  {
   "cell_type": "code",
   "execution_count": 52,
   "metadata": {},
   "outputs": [],
   "source": [
    "thresh_dict = {t: i+1 for i, t in enumerate(thresh)}"
   ]
  },
  {
   "cell_type": "code",
   "execution_count": 53,
   "metadata": {},
   "outputs": [
    {
     "data": {
      "text/plain": [
       "{1: 1,\n",
       " 4: 2,\n",
       " 10: 3,\n",
       " 22: 4,\n",
       " 46: 5,\n",
       " 94: 6,\n",
       " 190: 7,\n",
       " 382: 8,\n",
       " 766: 9,\n",
       " 1534: 10,\n",
       " 3070: 11,\n",
       " 6142: 12,\n",
       " 12286: 13,\n",
       " 24574: 14,\n",
       " 49150: 15,\n",
       " 98302: 16,\n",
       " 196606: 17}"
      ]
     },
     "execution_count": 53,
     "metadata": {},
     "output_type": "execute_result"
    }
   ],
   "source": [
    "thresh_dict"
   ]
  },
  {
   "cell_type": "code",
   "execution_count": 22,
   "metadata": {},
   "outputs": [],
   "source": [
    "x = {i: 0 for i in range(15)}"
   ]
  },
  {
   "cell_type": "code",
   "execution_count": 23,
   "metadata": {},
   "outputs": [
    {
     "data": {
      "text/plain": [
       "{0: 0,\n",
       " 1: 0,\n",
       " 2: 0,\n",
       " 3: 0,\n",
       " 4: 0,\n",
       " 5: 0,\n",
       " 6: 0,\n",
       " 7: 0,\n",
       " 8: 0,\n",
       " 9: 0,\n",
       " 10: 0,\n",
       " 11: 0,\n",
       " 12: 0,\n",
       " 13: 0,\n",
       " 14: 0}"
      ]
     },
     "execution_count": 23,
     "metadata": {},
     "output_type": "execute_result"
    }
   ],
   "source": [
    "x"
   ]
  },
  {
   "cell_type": "code",
   "execution_count": 24,
   "metadata": {},
   "outputs": [],
   "source": [
    "x[0], x[3] = 1, 1"
   ]
  },
  {
   "cell_type": "code",
   "execution_count": 25,
   "metadata": {},
   "outputs": [
    {
     "data": {
      "text/plain": [
       "{0: 1,\n",
       " 1: 0,\n",
       " 2: 0,\n",
       " 3: 1,\n",
       " 4: 0,\n",
       " 5: 0,\n",
       " 6: 0,\n",
       " 7: 0,\n",
       " 8: 0,\n",
       " 9: 0,\n",
       " 10: 0,\n",
       " 11: 0,\n",
       " 12: 0,\n",
       " 13: 0,\n",
       " 14: 0}"
      ]
     },
     "execution_count": 25,
     "metadata": {},
     "output_type": "execute_result"
    }
   ],
   "source": [
    "x"
   ]
  },
  {
   "cell_type": "code",
   "execution_count": 58,
   "metadata": {},
   "outputs": [
    {
     "name": "stdout",
     "output_type": "stream",
     "text": [
      "4\n"
     ]
    }
   ],
   "source": [
    "n = 11\n",
    "\n",
    "thresh_dict = {\n",
    "        1: 1,\n",
    "        4: 2,\n",
    "        10: 3,\n",
    "        22: 4,\n",
    "        46: 5,\n",
    "        94: 6,\n",
    "        190: 7,\n",
    "        382: 8,\n",
    "        766: 9,\n",
    "        1534: 10,\n",
    "        3070: 11,\n",
    "        6142: 12,\n",
    "        12286: 13,\n",
    "        24574: 14,\n",
    "        49150: 15,\n",
    "        98302: 16,\n",
    "        196606: 17\n",
    "    }\n",
    "for k, thresh in thresh_dict.items():\n",
    "    if n <= k:\n",
    "        print(thresh)\n",
    "        break"
   ]
  },
  {
   "cell_type": "code",
   "execution_count": 56,
   "metadata": {},
   "outputs": [
    {
     "data": {
      "text/plain": [
       "{0: 1,\n",
       " 1: 1,\n",
       " 2: 1,\n",
       " 3: 1,\n",
       " 4: 0,\n",
       " 5: 0,\n",
       " 6: 0,\n",
       " 7: 0,\n",
       " 8: 0,\n",
       " 9: 0,\n",
       " 10: 0,\n",
       " 11: 0,\n",
       " 12: 0,\n",
       " 13: 0,\n",
       " 14: 0}"
      ]
     },
     "execution_count": 56,
     "metadata": {},
     "output_type": "execute_result"
    }
   ],
   "source": [
    "x"
   ]
  },
  {
   "cell_type": "code",
   "execution_count": null,
   "metadata": {},
   "outputs": [],
   "source": [
    "1, 4, 10, 22, 46"
   ]
  },
  {
   "cell_type": "code",
   "execution_count": 47,
   "metadata": {},
   "outputs": [
    {
     "name": "stdout",
     "output_type": "stream",
     "text": [
      "0 1\n",
      "1 4\n",
      "2 10\n",
      "3 22\n",
      "4 46\n",
      "5 94\n",
      "6 190\n",
      "7 382\n",
      "8 766\n",
      "9 1534\n",
      "10 3070\n",
      "11 6142\n",
      "12 12286\n",
      "13 24574\n",
      "14 49150\n",
      "15 98302\n",
      "16 196606\n"
     ]
    }
   ],
   "source": [
    "thresh = []\n",
    "for n in range(17):\n",
    "    thresh.append(3 * 2 ** n - 2)\n",
    "    print(n, 3 * 2 ** n - 2)"
   ]
  },
  {
   "cell_type": "code",
   "execution_count": 48,
   "metadata": {},
   "outputs": [
    {
     "data": {
      "text/plain": [
       "[1,\n",
       " 4,\n",
       " 10,\n",
       " 22,\n",
       " 46,\n",
       " 94,\n",
       " 190,\n",
       " 382,\n",
       " 766,\n",
       " 1534,\n",
       " 3070,\n",
       " 6142,\n",
       " 12286,\n",
       " 24574,\n",
       " 49150,\n",
       " 98302,\n",
       " 196606]"
      ]
     },
     "execution_count": 48,
     "metadata": {},
     "output_type": "execute_result"
    }
   ],
   "source": [
    "thresh"
   ]
  },
  {
   "cell_type": "code",
   "execution_count": 61,
   "metadata": {},
   "outputs": [],
   "source": [
    "# Problem 3\n",
    "def find_max_min(l):\n",
    "    n = len(l)\n",
    "\n",
    "    max_min_sum = 0\n",
    "    for i in range(n):\n",
    "        for j in range(i, n):\n",
    "            max_min_sum += min(l[k] for k in range(n) if i <= k <= j)\n",
    "\n",
    "    return max_min_sum"
   ]
  },
  {
   "cell_type": "code",
   "execution_count": 68,
   "metadata": {},
   "outputs": [
    {
     "data": {
      "text/plain": [
       "19"
      ]
     },
     "execution_count": 68,
     "metadata": {},
     "output_type": "execute_result"
    }
   ],
   "source": [
    "find_max_min([1, 3, 2, 4])"
   ]
  },
  {
   "cell_type": "code",
   "execution_count": 64,
   "metadata": {},
   "outputs": [],
   "source": [
    "n = 4\n",
    "\n",
    "max_sum = 0\n",
    "for i in range(n):\n",
    "    max_sum = max_sum + (i + 1) * (n - i)\n"
   ]
  },
  {
   "cell_type": "code",
   "execution_count": null,
   "metadata": {},
   "outputs": [
    {
     "ename": "ValueError",
     "evalue": "invalid literal for int() with base 10: ''",
     "output_type": "error",
     "traceback": [
      "\u001b[0;31m---------------------------------------------------------------------------\u001b[0m",
      "\u001b[0;31mValueError\u001b[0m                                Traceback (most recent call last)",
      "Cell \u001b[0;32mIn[69], line 3\u001b[0m\n\u001b[1;32m      1\u001b[0m \u001b[38;5;66;03m## Problem 2\u001b[39;00m\n\u001b[1;32m      2\u001b[0m \u001b[38;5;28;01mfrom\u001b[39;00m \u001b[38;5;21;01mitertools\u001b[39;00m \u001b[38;5;28;01mimport\u001b[39;00m permutations\n\u001b[0;32m----> 3\u001b[0m num_tests \u001b[38;5;241m=\u001b[39m \u001b[38;5;28;43mint\u001b[39;49m\u001b[43m(\u001b[49m\u001b[38;5;28;43minput\u001b[39;49m\u001b[43m(\u001b[49m\u001b[43m)\u001b[49m\u001b[43m)\u001b[49m\n\u001b[1;32m      5\u001b[0m \u001b[38;5;28;01mfor\u001b[39;00m test \u001b[38;5;129;01min\u001b[39;00m \u001b[38;5;28mrange\u001b[39m(num_tests):\n\u001b[1;32m      6\u001b[0m     n, k \u001b[38;5;241m=\u001b[39m \u001b[38;5;28mlist\u001b[39m(\u001b[38;5;28mmap\u001b[39m(\u001b[38;5;28mint\u001b[39m, \u001b[38;5;28minput\u001b[39m()\u001b[38;5;241m.\u001b[39msplit()))\n",
      "\u001b[0;31mValueError\u001b[0m: invalid literal for int() with base 10: ''"
     ]
    }
   ],
   "source": [
    "## Problem 2\n",
    "from itertools import permutations\n",
    "num_tests = int(input())\n",
    "\n",
    "for test in range(num_tests):\n",
    "    n, k = list(map(int, input().split()))\n",
    "    \n",
    "    max_sum = 0\n",
    "    for i in range(n):\n",
    "        max_sum = max_sum + (i + 1) * (n - i)\n",
    "\n",
    "    def find_max_min(l):\n",
    "        n = len(l)\n",
    "\n",
    "        max_min_sum = 0\n",
    "        for i in range(n):\n",
    "            for j in range(i, n):\n",
    "                max_min_sum += min(l[k] for k in range(n) if i <= k <= j)\n",
    "\n",
    "        return max_min_sum\n",
    "\n",
    "    counter = 0\n",
    "    for perm in list(permutations(range(1, n + 1))):\n",
    "        if find_max_min(perm) == max_sum:\n",
    "            counter += 1\n",
    "            if counter == k:\n",
    "                print(*perm)\n",
    "                break\n",
    "    else:\n",
    "        print(-1)\n",
    "\n",
    "    \n",
    "    \n",
    "\n"
   ]
  },
  {
   "cell_type": "code",
   "execution_count": 81,
   "metadata": {},
   "outputs": [
    {
     "name": "stdout",
     "output_type": "stream",
     "text": [
      "1 3 2\n"
     ]
    }
   ],
   "source": [
    "n, k = 3, 2\n",
    "\n",
    "max_sum = 0\n",
    "for i in range(n):\n",
    "    max_sum = max_sum + (i + 1) * (n - i)\n",
    "\n",
    "def find_max_min(l):\n",
    "    n = len(l)\n",
    "\n",
    "    max_min_sum = 0\n",
    "    for i in range(n):\n",
    "        for j in range(i, n):\n",
    "            max_min_sum += min(l[k] for k in range(n) if i <= k <= j)\n",
    "\n",
    "    return max_min_sum\n",
    "\n",
    "counter = 0\n",
    "for perm in list(permutations(range(1, n + 1))):\n",
    "    if find_max_min(perm) == max_sum:\n",
    "        counter += 1\n",
    "        if counter == k:\n",
    "            print(*perm)\n",
    "            break\n",
    "else:\n",
    "    print(-1)"
   ]
  },
  {
   "cell_type": "code",
   "execution_count": null,
   "metadata": {},
   "outputs": [],
   "source": []
  },
  {
   "cell_type": "code",
   "execution_count": null,
   "metadata": {},
   "outputs": [],
   "source": []
  },
  {
   "cell_type": "code",
   "execution_count": null,
   "metadata": {},
   "outputs": [],
   "source": []
  },
  {
   "cell_type": "code",
   "execution_count": null,
   "metadata": {},
   "outputs": [],
   "source": []
  },
  {
   "cell_type": "code",
   "execution_count": null,
   "metadata": {},
   "outputs": [],
   "source": []
  },
  {
   "cell_type": "code",
   "execution_count": null,
   "metadata": {},
   "outputs": [],
   "source": []
  },
  {
   "cell_type": "code",
   "execution_count": null,
   "metadata": {},
   "outputs": [],
   "source": []
  },
  {
   "cell_type": "code",
   "execution_count": null,
   "metadata": {},
   "outputs": [],
   "source": []
  },
  {
   "cell_type": "code",
   "execution_count": null,
   "metadata": {},
   "outputs": [],
   "source": []
  },
  {
   "cell_type": "code",
   "execution_count": null,
   "metadata": {},
   "outputs": [],
   "source": []
  },
  {
   "cell_type": "code",
   "execution_count": null,
   "metadata": {},
   "outputs": [],
   "source": []
  },
  {
   "cell_type": "code",
   "execution_count": null,
   "metadata": {},
   "outputs": [],
   "source": []
  },
  {
   "cell_type": "code",
   "execution_count": null,
   "metadata": {},
   "outputs": [],
   "source": []
  },
  {
   "cell_type": "code",
   "execution_count": null,
   "metadata": {},
   "outputs": [],
   "source": []
  },
  {
   "cell_type": "code",
   "execution_count": null,
   "metadata": {},
   "outputs": [],
   "source": []
  },
  {
   "cell_type": "code",
   "execution_count": null,
   "metadata": {},
   "outputs": [],
   "source": []
  },
  {
   "cell_type": "code",
   "execution_count": null,
   "metadata": {},
   "outputs": [],
   "source": []
  },
  {
   "cell_type": "code",
   "execution_count": null,
   "metadata": {},
   "outputs": [],
   "source": []
  },
  {
   "cell_type": "code",
   "execution_count": null,
   "metadata": {},
   "outputs": [],
   "source": []
  },
  {
   "cell_type": "code",
   "execution_count": null,
   "metadata": {},
   "outputs": [],
   "source": []
  },
  {
   "cell_type": "code",
   "execution_count": null,
   "metadata": {},
   "outputs": [],
   "source": []
  },
  {
   "cell_type": "code",
   "execution_count": null,
   "metadata": {},
   "outputs": [],
   "source": []
  },
  {
   "cell_type": "code",
   "execution_count": null,
   "metadata": {},
   "outputs": [],
   "source": []
  },
  {
   "cell_type": "code",
   "execution_count": null,
   "metadata": {},
   "outputs": [],
   "source": []
  },
  {
   "cell_type": "code",
   "execution_count": null,
   "metadata": {},
   "outputs": [],
   "source": []
  }
 ],
 "metadata": {
  "kernelspec": {
   "display_name": "dai",
   "language": "python",
   "name": "python3"
  },
  "language_info": {
   "codemirror_mode": {
    "name": "ipython",
    "version": 3
   },
   "file_extension": ".py",
   "mimetype": "text/x-python",
   "name": "python",
   "nbconvert_exporter": "python",
   "pygments_lexer": "ipython3",
   "version": "3.10.13"
  }
 },
 "nbformat": 4,
 "nbformat_minor": 2
}
